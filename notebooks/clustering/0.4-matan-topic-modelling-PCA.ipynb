{
 "cells": [
  {
   "cell_type": "code",
   "execution_count": 1,
   "metadata": {
    "ExecuteTime": {
     "end_time": "2021-03-23T21:19:58.361143Z",
     "start_time": "2021-03-23T21:19:57.830028Z"
    }
   },
   "outputs": [],
   "source": [
    "# OPTIONAL: Load the \"autoreload\" extension so that code can change\n",
    "%load_ext autoreload\n",
    "\n",
    "# OPTIONAL: always reload modules so that as you change code in src, it gets loaded\n",
    "%autoreload 2"
   ]
  },
  {
   "cell_type": "code",
   "execution_count": 2,
   "metadata": {
    "ExecuteTime": {
     "end_time": "2021-03-23T21:20:22.352777Z",
     "start_time": "2021-03-23T21:19:58.364136Z"
    }
   },
   "outputs": [
    {
     "name": "stderr",
     "output_type": "stream",
     "text": [
      "[nltk_data] Downloading package stopwords to\n",
      "[nltk_data]     C:\\Users\\matan\\AppData\\Roaming\\nltk_data...\n",
      "[nltk_data]   Package stopwords is already up-to-date!\n",
      "[nltk_data] Downloading package averaged_perceptron_tagger to\n",
      "[nltk_data]     C:\\Users\\matan\\AppData\\Roaming\\nltk_data...\n",
      "[nltk_data]   Package averaged_perceptron_tagger is already up-to-\n",
      "[nltk_data]       date!\n",
      "[nltk_data] Downloading package wordnet to\n",
      "[nltk_data]     C:\\Users\\matan\\AppData\\Roaming\\nltk_data...\n",
      "[nltk_data]   Package wordnet is already up-to-date!\n"
     ]
    }
   ],
   "source": [
    "from sklearn.decomposition import PCA \n",
    "from sklearn.metrics import silhouette_score\n",
    "import matplotlib.pyplot as plt \n",
    "\n",
    "from src.features import build_features\n",
    "\n",
    "import logging \n",
    "from pathlib import Path\n",
    "\n",
    "import scipy\n",
    "import pickle\n",
    "import datetime\n",
    "import numpy as np\n",
    "\n",
    "logging.basicConfig(level=logging.INFO)"
   ]
  },
  {
   "cell_type": "markdown",
   "metadata": {},
   "source": [
    "# Build Features\n",
    "Use the build_features functions to build dataset from database (usually takes ~1 min)"
   ]
  },
  {
   "cell_type": "code",
   "execution_count": 3,
   "metadata": {
    "ExecuteTime": {
     "end_time": "2021-03-23T21:20:22.508615Z",
     "start_time": "2021-03-23T21:20:22.355080Z"
    }
   },
   "outputs": [
    {
     "name": "stderr",
     "output_type": "stream",
     "text": [
      "INFO:src.features.build_features:Loading features and pipe from /data/processed/\n"
     ]
    }
   ],
   "source": [
    "load_fresh_features = False\n",
    "\n",
    "proj_path = Path().resolve().parents[1]\n",
    "processed_path = proj_path / \"data\" / \"processed\"\n",
    "\n",
    "if load_fresh_features:\n",
    "    today = str(datetime.date.today())\n",
    "    features, pipe = build_features.bag_of_words_tfid_norm()\n",
    "    scipy.sparse.save_npz(file=str(processed_path / f\"features_{today}.npz\"), matrix=features)\n",
    "    pipe_path = str(processed_path / f\"pipe_{today}.pkl\")\n",
    "    with open(pipe_path, 'wb') as file:\n",
    "        pickle.dump(pipe, file)\n",
    "    print(f\"Date: {today}\")\n",
    "else:\n",
    "    features, pipe = build_features.load_saved_features(date=\"2021-03-23\")"
   ]
  },
  {
   "cell_type": "markdown",
   "metadata": {},
   "source": [
    "# PCA\n",
    "To visualize the clustering algorithms I'll use two or three principal components throughout this notebook."
   ]
  },
  {
   "cell_type": "code",
   "execution_count": 4,
   "metadata": {
    "ExecuteTime": {
     "end_time": "2021-03-23T21:20:29.592659Z",
     "start_time": "2021-03-23T21:20:28.641349Z"
    }
   },
   "outputs": [
    {
     "data": {
      "image/png": "[encoded data removed]",
      "text/plain": [
       "<Figure size 432x288 with 1 Axes>"
      ]
     },
     "metadata": {
      "needs_background": "light"
     },
     "output_type": "display_data"
    }
   ],
   "source": [
    "# initialize PCA:\n",
    "# reduce features:\n",
    "pca = PCA(n_components=5)\n",
    "reduced_features = pca.fit_transform(features.toarray())\n",
    "\n",
    "# display percent explained variance of the first ten components:\n",
    "fig = plt.figure()\n",
    "plt.bar(x=range(len(pca.explained_variance_ratio_)), height=np.cumsum(pca.explained_variance_ratio_)*100)\n",
    "plt.ylim([0, 100])\n",
    "plt.ylabel(\"Cumulative Percent of Variation Explained\")\n",
    "plt.xlabel(\"Cumulative Components Included in Model\")\n",
    "plt.title(\"Cumulative Explained Variance\");"
   ]
  },
  {
   "cell_type": "markdown",
   "metadata": {},
   "source": [
    "Unfortunately the first two components only seem to code for about 5% (if that) of the percent variation. This makes sense since the bog-of-words is massive, however this means that we cannot trust visual cluster, we'll need some empirical measure of clsuter goodness. "
   ]
  },
  {
   "cell_type": "code",
   "execution_count": 44,
   "metadata": {
    "ExecuteTime": {
     "end_time": "2021-03-23T21:31:52.324446Z",
     "start_time": "2021-03-23T21:31:52.219427Z"
    }
   },
   "outputs": [
    {
     "data": {
      "text/html": [
       "<div>\n",
       "<style scoped>\n",
       "    .dataframe tbody tr th:only-of-type {\n",
       "        vertical-align: middle;\n",
       "    }\n",
       "\n",
       "    .dataframe tbody tr th {\n",
       "        vertical-align: top;\n",
       "    }\n",
       "\n",
       "    .dataframe thead th {\n",
       "        text-align: right;\n",
       "    }\n",
       "</style>\n",
       "<table border=\"1\" class=\"dataframe\">\n",
       "  <thead>\n",
       "    <tr style=\"text-align: right;\">\n",
       "      <th></th>\n",
       "      <th>0</th>\n",
       "      <th>1</th>\n",
       "      <th>2</th>\n",
       "      <th>3</th>\n",
       "      <th>4</th>\n",
       "    </tr>\n",
       "  </thead>\n",
       "  <tbody>\n",
       "    <tr>\n",
       "      <th>0</th>\n",
       "      <td>newly</td>\n",
       "      <td>disruptionx</td>\n",
       "      <td>licensed</td>\n",
       "      <td>cut</td>\n",
       "      <td>legitimate</td>\n",
       "    </tr>\n",
       "    <tr>\n",
       "      <th>1</th>\n",
       "      <td>ba</td>\n",
       "      <td>coworking</td>\n",
       "      <td>mitigationoptimization</td>\n",
       "      <td>signa</td>\n",
       "      <td>mitigationoptimization</td>\n",
       "    </tr>\n",
       "    <tr>\n",
       "      <th>2</th>\n",
       "      <td>torch</td>\n",
       "      <td>pst</td>\n",
       "      <td>highreaching</td>\n",
       "      <td>conception</td>\n",
       "      <td>chrl</td>\n",
       "    </tr>\n",
       "    <tr>\n",
       "      <th>3</th>\n",
       "      <td>uxrs</td>\n",
       "      <td>is</td>\n",
       "      <td>ubiquitous</td>\n",
       "      <td>legitimate</td>\n",
       "      <td>pertinente</td>\n",
       "    </tr>\n",
       "    <tr>\n",
       "      <th>4</th>\n",
       "      <td>comprendre</td>\n",
       "      <td>ocr</td>\n",
       "      <td>http</td>\n",
       "      <td>expertise</td>\n",
       "      <td>automated</td>\n",
       "    </tr>\n",
       "    <tr>\n",
       "      <th>5</th>\n",
       "      <td>vicepresident</td>\n",
       "      <td>avanade</td>\n",
       "      <td>talentneuron</td>\n",
       "      <td>wwwesolutionsinccom</td>\n",
       "      <td>forge</td>\n",
       "    </tr>\n",
       "    <tr>\n",
       "      <th>6</th>\n",
       "      <td>tourism</td>\n",
       "      <td>postemployment</td>\n",
       "      <td>faster</td>\n",
       "      <td>downstream</td>\n",
       "      <td>applys</td>\n",
       "    </tr>\n",
       "    <tr>\n",
       "      <th>7</th>\n",
       "      <td>cost</td>\n",
       "      <td>perl</td>\n",
       "      <td>damélioration</td>\n",
       "      <td>scikitlearn</td>\n",
       "      <td>frameworks</td>\n",
       "    </tr>\n",
       "    <tr>\n",
       "      <th>8</th>\n",
       "      <td>consistently</td>\n",
       "      <td>nontraditional</td>\n",
       "      <td>optimum</td>\n",
       "      <td>liberty</td>\n",
       "      <td>bloor</td>\n",
       "    </tr>\n",
       "    <tr>\n",
       "      <th>9</th>\n",
       "      <td>spotlight</td>\n",
       "      <td>personalized</td>\n",
       "      <td>fusion</td>\n",
       "      <td>conservation</td>\n",
       "      <td>productive</td>\n",
       "    </tr>\n",
       "  </tbody>\n",
       "</table>\n",
       "</div>"
      ],
      "text/plain": [
       "               0               1                       2                    3  \\\n",
       "0          newly     disruptionx                licensed                  cut   \n",
       "1             ba       coworking  mitigationoptimization                signa   \n",
       "2          torch             pst            highreaching           conception   \n",
       "3           uxrs              is              ubiquitous           legitimate   \n",
       "4     comprendre             ocr                    http            expertise   \n",
       "5  vicepresident         avanade            talentneuron  wwwesolutionsinccom   \n",
       "6        tourism  postemployment                  faster           downstream   \n",
       "7           cost            perl           damélioration          scikitlearn   \n",
       "8   consistently  nontraditional                 optimum              liberty   \n",
       "9      spotlight    personalized                  fusion         conservation   \n",
       "\n",
       "                        4  \n",
       "0              legitimate  \n",
       "1  mitigationoptimization  \n",
       "2                    chrl  \n",
       "3              pertinente  \n",
       "4               automated  \n",
       "5                   forge  \n",
       "6                  applys  \n",
       "7              frameworks  \n",
       "8                   bloor  \n",
       "9              productive  "
      ]
     },
     "execution_count": 44,
     "metadata": {},
     "output_type": "execute_result"
    }
   ],
   "source": [
    "import pandas as pd\n",
    "pca.components_[0]\n",
    "\n",
    "vocab = pipe.named_steps['tfidf_vec'][0].vocabulary_\n",
    "\n",
    "loadings = pd.DataFrame(data=pca.components_, columns=vocab).T\n",
    "\n",
    "topics = pd.DataFrame()\n",
    "\n",
    "for t in loadings.columns:\n",
    "    topics[str(t)] = loadings[t].sort_values(ascending=False)[:10].index.tolist()\n",
    "    \n",
    "topics"
   ]
  }
 ],
 "metadata": {
  "kernelspec": {
   "display_name": "Python 3",
   "language": "python",
   "name": "python3"
  },
  "language_info": {
   "codemirror_mode": {
    "name": "ipython",
    "version": 3
   },
   "file_extension": ".py",
   "mimetype": "text/x-python",
   "name": "python",
   "nbconvert_exporter": "python",
   "pygments_lexer": "ipython3",
   "version": "3.7.0"
  },
  "toc": {
   "base_numbering": 1,
   "nav_menu": {},
   "number_sections": true,
   "sideBar": true,
   "skip_h1_title": false,
   "title_cell": "Table of Contents",
   "title_sidebar": "Contents",
   "toc_cell": false,
   "toc_position": {},
   "toc_section_display": true,
   "toc_window_display": false
  }
 },
 "nbformat": 4,
 "nbformat_minor": 2
}
