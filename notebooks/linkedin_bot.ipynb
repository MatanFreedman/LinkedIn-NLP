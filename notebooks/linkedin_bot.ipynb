{
 "metadata": {
  "language_info": {
   "codemirror_mode": {
    "name": "ipython",
    "version": 3
   },
   "file_extension": ".py",
   "mimetype": "text/x-python",
   "name": "python",
   "nbconvert_exporter": "python",
   "pygments_lexer": "ipython3",
   "version": "3.9.2-final"
  },
  "orig_nbformat": 2,
  "kernelspec": {
   "name": "python3",
   "display_name": "Python 3.9.2 64-bit ('venv')",
   "metadata": {
    "interpreter": {
     "hash": "d4c285b022849713e53bb29ae7f4144d7ef516fcf418650c677e1a4c62e0827f"
    }
   }
  }
 },
 "nbformat": 4,
 "nbformat_minor": 2,
 "cells": [
  {
   "cell_type": "code",
   "execution_count": 1,
   "metadata": {},
   "outputs": [],
   "source": [
    "%load_ext autoreload\n",
    "%autoreload 2"
   ]
  },
  {
   "cell_type": "code",
   "execution_count": 2,
   "metadata": {},
   "outputs": [],
   "source": [
    "from src.data.LinkedInBot import LinkedInBot\n",
    "from dotenv import load_dotenv, find_dotenv\n",
    "load_dotenv(find_dotenv())\n",
    "bot = LinkedInBot(useProxy=False)"
   ]
  },
  {
   "cell_type": "code",
   "execution_count": 43,
   "metadata": {},
   "outputs": [
    {
     "output_type": "stream",
     "name": "stdout",
     "text": [
      "Logging in...\n"
     ]
    }
   ],
   "source": [
    "# get hidden variables:\n",
    "EMAIL = os.getenv(\"EMAIL\")\n",
    "PASSWORD = os.getenv(\"PASSWORD\")\n",
    "bot.login(\n",
    "    email=EMAIL,\n",
    "    password=PASSWORD\n",
    ")"
   ]
  },
  {
   "cell_type": "code",
   "execution_count": 47,
   "metadata": {},
   "outputs": [],
   "source": [
    "bot.search_linkedin(\n",
    "    keywords = \"Data Analyst\",\n",
    "    location = \"Canada\"\n",
    ")"
   ]
  },
  {
   "cell_type": "code",
   "execution_count": 77,
   "metadata": {},
   "outputs": [
    {
     "output_type": "stream",
     "name": "stdout",
     "text": [
      "['Data Analyst', 'Ludia']\n",
      "['Game Data Analyst', 'Kabam']\n",
      "['Junior Data Analyst', 'Hybrid Financial Ltd.']\n",
      "['Data Science Analyst', 'HelloFresh']\n",
      "['Data Analyst', 'BAE Systems Applied Intelligence']\n",
      "['Jr. Data Analyst, SR&ED', 'Flow Ventures']\n",
      "['Data Analyst', 'PwC Canada']\n",
      "['Client Data Analyst', 'McKinsey & Company']\n"
     ]
    }
   ],
   "source": [
    "for page in range(2,4):\n",
    "    # get the jobs list items to scroll through:\n",
    "    jobs = bot.get_job_page_list_items()\n",
    "    for job in jobs[:4]:\n",
    "        bot.scroll_to(job)\n",
    "        [position, company, location] = job.text.split('\\n')[:3]\n",
    "        details = bot.driver.find_element_by_id(\"job-details\").text\n",
    "        print([position, company])\n",
    "    # go to next page:\n",
    "    bot.driver.find_element_by_xpath(f\"//button[@aria-label='Page {page}']\").click()\n",
    "    bot.wait()\n"
   ]
  },
  {
   "cell_type": "code",
   "execution_count": 55,
   "metadata": {},
   "outputs": [],
   "source": [
    "page = 4\n",
    "bot.driver.find_element_by_xpath(f\"//button[@aria-label='Page {page}']\").click()"
   ]
  },
  {
   "cell_type": "code",
   "execution_count": 72,
   "metadata": {},
   "outputs": [],
   "source": [
    "jobs = bot.get_job_page_list_items()\n",
    "job  = jobs[0]\n",
    "bot.scroll_to(job)\n",
    "[position, company, location] = job.text.split('\\n')[:3]\n",
    "details = bot.driver.find_element_by_id(\"job-details\").text"
   ]
  },
  {
   "cell_type": "code",
   "execution_count": 79,
   "metadata": {},
   "outputs": [
    {
     "output_type": "execute_result",
     "data": {
      "text/plain": [
       "'McKinsey & Company'"
      ]
     },
     "metadata": {},
     "execution_count": 79
    }
   ],
   "source": [
    "company"
   ]
  },
  {
   "cell_type": "code",
   "execution_count": null,
   "metadata": {},
   "outputs": [],
   "source": []
  }
 ]
}