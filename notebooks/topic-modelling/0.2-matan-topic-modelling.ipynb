{
 "cells": [
  {
   "cell_type": "code",
   "execution_count": 2,
   "metadata": {
    "ExecuteTime": {
     "end_time": "2021-03-23T21:37:45.994123Z",
     "start_time": "2021-03-23T21:37:45.931755Z"
    }
   },
   "outputs": [],
   "source": [
    "# OPTIONAL: Load the \"autoreload\" extension so that code can change\n",
    "%load_ext autoreload\n",
    "\n",
    "# OPTIONAL: always reload modules so that as you change code in src, it gets loaded\n",
    "%autoreload 2"
   ]
  },
  {
   "cell_type": "code",
   "execution_count": 3,
   "metadata": {
    "ExecuteTime": {
     "end_time": "2021-03-23T21:37:47.463599Z",
     "start_time": "2021-03-23T21:37:46.601385Z"
    }
   },
   "outputs": [
    {
     "name": "stderr",
     "output_type": "stream",
     "text": [
      "[nltk_data] Downloading package stopwords to\n",
      "[nltk_data]     C:\\Users\\matan\\AppData\\Roaming\\nltk_data...\n",
      "[nltk_data]   Package stopwords is already up-to-date!\n",
      "[nltk_data] Downloading package averaged_perceptron_tagger to\n",
      "[nltk_data]     C:\\Users\\matan\\AppData\\Roaming\\nltk_data...\n",
      "[nltk_data]   Package averaged_perceptron_tagger is already up-to-\n",
      "[nltk_data]       date!\n",
      "[nltk_data] Downloading package wordnet to\n",
      "[nltk_data]     C:\\Users\\matan\\AppData\\Roaming\\nltk_data...\n",
      "[nltk_data]   Package wordnet is already up-to-date!\n"
     ]
    }
   ],
   "source": [
    "from sklearn.decomposition import PCA \n",
    "from sklearn.metrics import silhouette_score\n",
    "import matplotlib.pyplot as plt \n",
    "\n",
    "from src.features import build_features\n",
    "\n",
    "import logging \n",
    "from pathlib import Path\n",
    "\n",
    "import scipy\n",
    "import pickle\n",
    "import datetime\n",
    "import numpy as np\n",
    "\n",
    "logging.basicConfig(level=logging.INFO)"
   ]
  },
  {
   "cell_type": "markdown",
   "metadata": {},
   "source": [
    "# Build Features\n",
    "Use the build_features functions to build dataset from database (usually takes ~1 min)"
   ]
  },
  {
   "cell_type": "code",
   "execution_count": 4,
   "metadata": {
    "ExecuteTime": {
     "end_time": "2021-03-23T21:37:47.588780Z",
     "start_time": "2021-03-23T21:37:47.484215Z"
    }
   },
   "outputs": [
    {
     "name": "stderr",
     "output_type": "stream",
     "text": [
      "INFO:src.features.build_features:Loading features and pipe from /data/processed/\n"
     ]
    }
   ],
   "source": [
    "load_fresh_features = False\n",
    "\n",
    "proj_path = Path().resolve().parents[1]\n",
    "processed_path = proj_path / \"data\" / \"processed\"\n",
    "\n",
    "if load_fresh_features:\n",
    "    today = str(datetime.date.today())\n",
    "    features, pipe = build_features.bag_of_words_tfid_norm()\n",
    "    scipy.sparse.save_npz(file=str(processed_path / f\"features_{today}.npz\"), matrix=features)\n",
    "    pipe_path = str(processed_path / f\"pipe_{today}.pkl\")\n",
    "    with open(pipe_path, 'wb') as file:\n",
    "        pickle.dump(pipe, file)\n",
    "    print(f\"Date: {today}\")\n",
    "else:\n",
    "    features, pipe = build_features.load_saved_features(date=\"2021-03-23\")"
   ]
  },
  {
   "cell_type": "markdown",
   "metadata": {},
   "source": [
    "# PCA\n",
    "To visualize the clustering algorithms I'll use two or three principal components throughout this notebook."
   ]
  },
  {
   "cell_type": "code",
   "execution_count": 5,
   "metadata": {
    "ExecuteTime": {
     "end_time": "2021-03-23T21:37:51.156795Z",
     "start_time": "2021-03-23T21:37:50.533842Z"
    }
   },
   "outputs": [
    {
     "data": {
      "image/png": "[encoded data removed]",
      "text/plain": [
       "<Figure size 432x288 with 1 Axes>"
      ]
     },
     "metadata": {
      "needs_background": "light"
     },
     "output_type": "display_data"
    }
   ],
   "source": [
    "# initialize PCA:\n",
    "# reduce features:\n",
    "pca = PCA(n_components=5)\n",
    "reduced_features = pca.fit_transform(features.toarray())\n",
    "\n",
    "# display percent explained variance of the first ten components:\n",
    "fig = plt.figure()\n",
    "plt.bar(x=range(len(pca.explained_variance_ratio_)), height=np.cumsum(pca.explained_variance_ratio_)*100)\n",
    "plt.ylim([0, 100])\n",
    "plt.ylabel(\"Cumulative Percent of Variation Explained\")\n",
    "plt.xlabel(\"Cumulative Components Included in Model\")\n",
    "plt.title(\"Cumulative Explained Variance\");"
   ]
  },
  {
   "cell_type": "markdown",
   "metadata": {},
   "source": [
    "Unfortunately the first two components only seem to code for about 5% (if that) of the percent variation. This makes sense since the bog-of-words is massive, however this means that we cannot trust visual cluster, we'll need some empirical measure of clsuter goodness. "
   ]
  },
  {
   "cell_type": "code",
   "execution_count": 6,
   "metadata": {
    "ExecuteTime": {
     "end_time": "2021-03-23T21:37:53.344273Z",
     "start_time": "2021-03-23T21:37:52.958392Z"
    }
   },
   "outputs": [
    {
     "data": {
      "text/html": [
       "<div>\n",
       "<style scoped>\n",
       "    .dataframe tbody tr th:only-of-type {\n",
       "        vertical-align: middle;\n",
       "    }\n",
       "\n",
       "    .dataframe tbody tr th {\n",
       "        vertical-align: top;\n",
       "    }\n",
       "\n",
       "    .dataframe thead th {\n",
       "        text-align: right;\n",
       "    }\n",
       "</style>\n",
       "<table border=\"1\" class=\"dataframe\">\n",
       "  <thead>\n",
       "    <tr style=\"text-align: right;\">\n",
       "      <th></th>\n",
       "      <th>0</th>\n",
       "      <th>1</th>\n",
       "      <th>2</th>\n",
       "      <th>3</th>\n",
       "      <th>4</th>\n",
       "    </tr>\n",
       "  </thead>\n",
       "  <tbody>\n",
       "    <tr>\n",
       "      <th>0</th>\n",
       "      <td>newly</td>\n",
       "      <td>disruptionx</td>\n",
       "      <td>licensed</td>\n",
       "      <td>cut</td>\n",
       "      <td>legitimate</td>\n",
       "    </tr>\n",
       "    <tr>\n",
       "      <th>1</th>\n",
       "      <td>ba</td>\n",
       "      <td>coworking</td>\n",
       "      <td>mitigationoptimization</td>\n",
       "      <td>signa</td>\n",
       "      <td>mitigationoptimization</td>\n",
       "    </tr>\n",
       "    <tr>\n",
       "      <th>2</th>\n",
       "      <td>torch</td>\n",
       "      <td>is</td>\n",
       "      <td>highreaching</td>\n",
       "      <td>conception</td>\n",
       "      <td>chrl</td>\n",
       "    </tr>\n",
       "    <tr>\n",
       "      <th>3</th>\n",
       "      <td>uxrs</td>\n",
       "      <td>avanade</td>\n",
       "      <td>ubiquitous</td>\n",
       "      <td>legitimate</td>\n",
       "      <td>automated</td>\n",
       "    </tr>\n",
       "    <tr>\n",
       "      <th>4</th>\n",
       "      <td>comprendre</td>\n",
       "      <td>pst</td>\n",
       "      <td>http</td>\n",
       "      <td>expertise</td>\n",
       "      <td>pertinente</td>\n",
       "    </tr>\n",
       "    <tr>\n",
       "      <th>5</th>\n",
       "      <td>vicepresident</td>\n",
       "      <td>rule</td>\n",
       "      <td>talentneuron</td>\n",
       "      <td>wwwesolutionsinccom</td>\n",
       "      <td>applys</td>\n",
       "    </tr>\n",
       "    <tr>\n",
       "      <th>6</th>\n",
       "      <td>tourism</td>\n",
       "      <td>réussie</td>\n",
       "      <td>faster</td>\n",
       "      <td>downstream</td>\n",
       "      <td>forge</td>\n",
       "    </tr>\n",
       "    <tr>\n",
       "      <th>7</th>\n",
       "      <td>cost</td>\n",
       "      <td>personalized</td>\n",
       "      <td>damélioration</td>\n",
       "      <td>liberty</td>\n",
       "      <td>frameworks</td>\n",
       "    </tr>\n",
       "    <tr>\n",
       "      <th>8</th>\n",
       "      <td>public</td>\n",
       "      <td>perl</td>\n",
       "      <td>optimum</td>\n",
       "      <td>scikitlearn</td>\n",
       "      <td>bloor</td>\n",
       "    </tr>\n",
       "    <tr>\n",
       "      <th>9</th>\n",
       "      <td>consistently</td>\n",
       "      <td>ocr</td>\n",
       "      <td>fusion</td>\n",
       "      <td>conservation</td>\n",
       "      <td>productive</td>\n",
       "    </tr>\n",
       "  </tbody>\n",
       "</table>\n",
       "</div>"
      ],
      "text/plain": [
       "               0             1                       2                    3  \\\n",
       "0          newly   disruptionx                licensed                  cut   \n",
       "1             ba     coworking  mitigationoptimization                signa   \n",
       "2          torch            is            highreaching           conception   \n",
       "3           uxrs       avanade              ubiquitous           legitimate   \n",
       "4     comprendre           pst                    http            expertise   \n",
       "5  vicepresident          rule            talentneuron  wwwesolutionsinccom   \n",
       "6        tourism       réussie                  faster           downstream   \n",
       "7           cost  personalized           damélioration              liberty   \n",
       "8         public          perl                 optimum          scikitlearn   \n",
       "9   consistently           ocr                  fusion         conservation   \n",
       "\n",
       "                        4  \n",
       "0              legitimate  \n",
       "1  mitigationoptimization  \n",
       "2                    chrl  \n",
       "3               automated  \n",
       "4              pertinente  \n",
       "5                  applys  \n",
       "6                   forge  \n",
       "7              frameworks  \n",
       "8                   bloor  \n",
       "9              productive  "
      ]
     },
     "execution_count": 6,
     "metadata": {},
     "output_type": "execute_result"
    }
   ],
   "source": [
    "import pandas as pd\n",
    "pca.components_[0]\n",
    "\n",
    "vocab = pipe.named_steps['tfidf_vec'][0].vocabulary_\n",
    "\n",
    "loadings = pd.DataFrame(data=pca.components_, columns=vocab).T\n",
    "\n",
    "topics = pd.DataFrame()\n",
    "\n",
    "for t in loadings.columns:\n",
    "    topics[str(t)] = loadings[t].sort_values(ascending=False)[:10].index.tolist()\n",
    "    \n",
    "topics"
   ]
  },
  {
   "cell_type": "markdown",
   "metadata": {},
   "source": [
    "# SVD"
   ]
  },
  {
   "cell_type": "code",
   "execution_count": 15,
   "metadata": {
    "ExecuteTime": {
     "end_time": "2021-03-23T21:41:43.170464Z",
     "start_time": "2021-03-23T21:41:42.957027Z"
    }
   },
   "outputs": [],
   "source": [
    "from sklearn.decomposition import TruncatedSVD\n",
    "\n",
    "svd_model = TruncatedSVD(n_components=10,         # num dimensions\n",
    "                         algorithm='randomized',\n",
    "                         n_iter=10)\n",
    "svd_matrix = svd_model.fit_transform(features)"
   ]
  },
  {
   "cell_type": "code",
   "execution_count": 16,
   "metadata": {
    "ExecuteTime": {
     "end_time": "2021-03-23T21:41:43.930281Z",
     "start_time": "2021-03-23T21:41:43.847969Z"
    }
   },
   "outputs": [
    {
     "data": {
      "text/plain": [
       "(10,)"
      ]
     },
     "execution_count": 16,
     "metadata": {},
     "output_type": "execute_result"
    }
   ],
   "source": [
    "svd_matrix[0].shape"
   ]
  },
  {
   "cell_type": "code",
   "execution_count": 17,
   "metadata": {
    "ExecuteTime": {
     "end_time": "2021-03-23T21:41:45.349411Z",
     "start_time": "2021-03-23T21:41:45.154656Z"
    }
   },
   "outputs": [
    {
     "data": {
      "image/png": "[encoded data removed]",
      "text/plain": [
       "<Figure size 432x288 with 1 Axes>"
      ]
     },
     "metadata": {
      "needs_background": "light"
     },
     "output_type": "display_data"
    }
   ],
   "source": [
    "# display percent explained variance of the first ten components:\n",
    "fig = plt.figure()\n",
    "plt.bar(x=range(len(svd_model.explained_variance_ratio_)), height=np.cumsum(svd_model.explained_variance_ratio_)*100)\n",
    "plt.ylim([0, 100])\n",
    "plt.ylabel(\"Cumulative Percent of Variation Explained\")\n",
    "plt.xlabel(\"Cumulative Components Included in Model\")\n",
    "plt.title(\"Cumulative Explained Variance\");"
   ]
  },
  {
   "cell_type": "code",
   "execution_count": 18,
   "metadata": {
    "ExecuteTime": {
     "end_time": "2021-03-23T21:41:47.572797Z",
     "start_time": "2021-03-23T21:41:47.448863Z"
    }
   },
   "outputs": [
    {
     "data": {
      "text/html": [
       "<div>\n",
       "<style scoped>\n",
       "    .dataframe tbody tr th:only-of-type {\n",
       "        vertical-align: middle;\n",
       "    }\n",
       "\n",
       "    .dataframe tbody tr th {\n",
       "        vertical-align: top;\n",
       "    }\n",
       "\n",
       "    .dataframe thead th {\n",
       "        text-align: right;\n",
       "    }\n",
       "</style>\n",
       "<table border=\"1\" class=\"dataframe\">\n",
       "  <thead>\n",
       "    <tr style=\"text-align: right;\">\n",
       "      <th></th>\n",
       "      <th>0</th>\n",
       "      <th>1</th>\n",
       "      <th>2</th>\n",
       "      <th>3</th>\n",
       "      <th>4</th>\n",
       "      <th>5</th>\n",
       "      <th>6</th>\n",
       "      <th>7</th>\n",
       "      <th>8</th>\n",
       "      <th>9</th>\n",
       "    </tr>\n",
       "  </thead>\n",
       "  <tbody>\n",
       "    <tr>\n",
       "      <th>0</th>\n",
       "      <td>amaze</td>\n",
       "      <td>newly</td>\n",
       "      <td>disruptionx</td>\n",
       "      <td>licensed</td>\n",
       "      <td>legitimate</td>\n",
       "      <td>cut</td>\n",
       "      <td>possible</td>\n",
       "      <td>religious</td>\n",
       "      <td>possible</td>\n",
       "      <td>learningbased</td>\n",
       "    </tr>\n",
       "    <tr>\n",
       "      <th>1</th>\n",
       "      <td>newly</td>\n",
       "      <td>torch</td>\n",
       "      <td>coworking</td>\n",
       "      <td>mitigationoptimization</td>\n",
       "      <td>cut</td>\n",
       "      <td>conception</td>\n",
       "      <td>liberty</td>\n",
       "      <td>respectful</td>\n",
       "      <td>mitigationoptimization</td>\n",
       "      <td>possible</td>\n",
       "    </tr>\n",
       "    <tr>\n",
       "      <th>2</th>\n",
       "      <td>creation</td>\n",
       "      <td>ba</td>\n",
       "      <td>is</td>\n",
       "      <td>highreaching</td>\n",
       "      <td>chrl</td>\n",
       "      <td>signa</td>\n",
       "      <td>tenant</td>\n",
       "      <td>sujets</td>\n",
       "      <td>liberty</td>\n",
       "      <td>liberty</td>\n",
       "    </tr>\n",
       "    <tr>\n",
       "      <th>3</th>\n",
       "      <td>latency</td>\n",
       "      <td>uxrs</td>\n",
       "      <td>ocr</td>\n",
       "      <td>ubiquitous</td>\n",
       "      <td>mitigationoptimization</td>\n",
       "      <td>licensed</td>\n",
       "      <td>sunday</td>\n",
       "      <td>différence</td>\n",
       "      <td>rotational</td>\n",
       "      <td>licensed</td>\n",
       "    </tr>\n",
       "    <tr>\n",
       "      <th>4</th>\n",
       "      <td>sqlssis</td>\n",
       "      <td>vicepresident</td>\n",
       "      <td>nontraditional</td>\n",
       "      <td>http</td>\n",
       "      <td>pertinente</td>\n",
       "      <td>expertise</td>\n",
       "      <td>amaze</td>\n",
       "      <td>possible</td>\n",
       "      <td>sunday</td>\n",
       "      <td>completeness</td>\n",
       "    </tr>\n",
       "    <tr>\n",
       "      <th>5</th>\n",
       "      <td>souhaitezvous</td>\n",
       "      <td>cost</td>\n",
       "      <td>pst</td>\n",
       "      <td>talentneuron</td>\n",
       "      <td>automated</td>\n",
       "      <td>liberty</td>\n",
       "      <td>150m</td>\n",
       "      <td>outdoor</td>\n",
       "      <td>httpsrimuhccaen</td>\n",
       "      <td>recreation</td>\n",
       "    </tr>\n",
       "    <tr>\n",
       "      <th>6</th>\n",
       "      <td>crave</td>\n",
       "      <td>tourism</td>\n",
       "      <td>personalized</td>\n",
       "      <td>faster</td>\n",
       "      <td>signa</td>\n",
       "      <td>wwwesolutionsinccom</td>\n",
       "      <td>principally</td>\n",
       "      <td>offboarding</td>\n",
       "      <td>synthesis</td>\n",
       "      <td>children</td>\n",
       "    </tr>\n",
       "    <tr>\n",
       "      <th>7</th>\n",
       "      <td>children</td>\n",
       "      <td>comprendre</td>\n",
       "      <td>avanade</td>\n",
       "      <td>damélioration</td>\n",
       "      <td>forge</td>\n",
       "      <td>downstream</td>\n",
       "      <td>flow</td>\n",
       "      <td>student</td>\n",
       "      <td>hcmc</td>\n",
       "      <td>horowitz</td>\n",
       "    </tr>\n",
       "    <tr>\n",
       "      <th>8</th>\n",
       "      <td>increase</td>\n",
       "      <td>consistently</td>\n",
       "      <td>rule</td>\n",
       "      <td>optimum</td>\n",
       "      <td>applys</td>\n",
       "      <td>conservation</td>\n",
       "      <td>licensed</td>\n",
       "      <td>citymunicipality</td>\n",
       "      <td>comment</td>\n",
       "      <td>nonévidents</td>\n",
       "    </tr>\n",
       "    <tr>\n",
       "      <th>9</th>\n",
       "      <td>presentable</td>\n",
       "      <td>public</td>\n",
       "      <td>perl</td>\n",
       "      <td>nonunionunionjob</td>\n",
       "      <td>frameworks</td>\n",
       "      <td>scikitlearn</td>\n",
       "      <td>hcmc</td>\n",
       "      <td>optimise</td>\n",
       "      <td>na</td>\n",
       "      <td>municipal</td>\n",
       "    </tr>\n",
       "  </tbody>\n",
       "</table>\n",
       "</div>"
      ],
      "text/plain": [
       "               0              1               2                       3  \\\n",
       "0          amaze          newly     disruptionx                licensed   \n",
       "1          newly          torch       coworking  mitigationoptimization   \n",
       "2       creation             ba              is            highreaching   \n",
       "3        latency           uxrs             ocr              ubiquitous   \n",
       "4        sqlssis  vicepresident  nontraditional                    http   \n",
       "5  souhaitezvous           cost             pst            talentneuron   \n",
       "6          crave        tourism    personalized                  faster   \n",
       "7       children     comprendre         avanade           damélioration   \n",
       "8       increase   consistently            rule                 optimum   \n",
       "9    presentable         public            perl        nonunionunionjob   \n",
       "\n",
       "                        4                    5            6                 7  \\\n",
       "0              legitimate                  cut     possible         religious   \n",
       "1                     cut           conception      liberty        respectful   \n",
       "2                    chrl                signa       tenant            sujets   \n",
       "3  mitigationoptimization             licensed       sunday        différence   \n",
       "4              pertinente            expertise        amaze          possible   \n",
       "5               automated              liberty         150m           outdoor   \n",
       "6                   signa  wwwesolutionsinccom  principally       offboarding   \n",
       "7                   forge           downstream         flow           student   \n",
       "8                  applys         conservation     licensed  citymunicipality   \n",
       "9              frameworks          scikitlearn         hcmc          optimise   \n",
       "\n",
       "                        8              9  \n",
       "0                possible  learningbased  \n",
       "1  mitigationoptimization       possible  \n",
       "2                 liberty        liberty  \n",
       "3              rotational       licensed  \n",
       "4                  sunday   completeness  \n",
       "5         httpsrimuhccaen     recreation  \n",
       "6               synthesis       children  \n",
       "7                    hcmc       horowitz  \n",
       "8                 comment    nonévidents  \n",
       "9                      na      municipal  "
      ]
     },
     "execution_count": 18,
     "metadata": {},
     "output_type": "execute_result"
    }
   ],
   "source": [
    "loadings = pd.DataFrame(data=svd_model.components_, columns=vocab).T\n",
    "\n",
    "topics = pd.DataFrame()\n",
    "\n",
    "for t in loadings.columns:\n",
    "    topics[str(t)] = loadings[t].sort_values(ascending=False)[:10].index.tolist()\n",
    "    \n",
    "topics"
   ]
  },
  {
   "cell_type": "code",
   "execution_count": null,
   "metadata": {},
   "outputs": [],
   "source": []
  }
 ],
 "metadata": {
  "kernelspec": {
   "display_name": "Python 3",
   "language": "python",
   "name": "python3"
  },
  "language_info": {
   "codemirror_mode": {
    "name": "ipython",
    "version": 3
   },
   "file_extension": ".py",
   "mimetype": "text/x-python",
   "name": "python",
   "nbconvert_exporter": "python",
   "pygments_lexer": "ipython3",
   "version": "3.7.0"
  },
  "toc": {
   "base_numbering": 1,
   "nav_menu": {},
   "number_sections": true,
   "sideBar": true,
   "skip_h1_title": false,
   "title_cell": "Table of Contents",
   "title_sidebar": "Contents",
   "toc_cell": false,
   "toc_position": {},
   "toc_section_display": true,
   "toc_window_display": false
  }
 },
 "nbformat": 4,
 "nbformat_minor": 2
}
