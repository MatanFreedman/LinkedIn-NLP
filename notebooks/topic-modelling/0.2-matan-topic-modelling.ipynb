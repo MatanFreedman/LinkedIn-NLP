{
 "cells": [
  {
   "cell_type": "code",
   "execution_count": 1,
   "metadata": {
    "ExecuteTime": {
     "end_time": "2021-03-24T02:49:49.824144Z",
     "start_time": "2021-03-24T02:49:49.784237Z"
    }
   },
   "outputs": [],
   "source": [
    "# OPTIONAL: Load the \"autoreload\" extension so that code can change\n",
    "%load_ext autoreload\n",
    "\n",
    "# OPTIONAL: always reload modules so that as you change code in src, it gets loaded\n",
    "%autoreload 2"
   ]
  },
  {
   "cell_type": "code",
   "execution_count": 2,
   "metadata": {
    "ExecuteTime": {
     "end_time": "2021-03-24T02:49:52.935878Z",
     "start_time": "2021-03-24T02:49:49.927271Z"
    }
   },
   "outputs": [
    {
     "name": "stderr",
     "output_type": "stream",
     "text": [
      "[nltk_data] Downloading package stopwords to\n",
      "[nltk_data]     C:\\Users\\matan\\AppData\\Roaming\\nltk_data...\n",
      "[nltk_data]   Package stopwords is already up-to-date!\n",
      "[nltk_data] Downloading package averaged_perceptron_tagger to\n",
      "[nltk_data]     C:\\Users\\matan\\AppData\\Roaming\\nltk_data...\n",
      "[nltk_data]   Package averaged_perceptron_tagger is already up-to-\n",
      "[nltk_data]       date!\n",
      "[nltk_data] Downloading package wordnet to\n",
      "[nltk_data]     C:\\Users\\matan\\AppData\\Roaming\\nltk_data...\n",
      "[nltk_data]   Package wordnet is already up-to-date!\n"
     ]
    }
   ],
   "source": [
    "from sklearn.decomposition import PCA \n",
    "from sklearn.metrics import silhouette_score\n",
    "import matplotlib.pyplot as plt \n",
    "\n",
    "from src.features import build_features\n",
    "\n",
    "import logging \n",
    "from pathlib import Path\n",
    "\n",
    "import scipy\n",
    "import pickle\n",
    "import datetime\n",
    "import numpy as np\n",
    "\n",
    "logging.basicConfig(level=logging.INFO)"
   ]
  },
  {
   "cell_type": "markdown",
   "metadata": {},
   "source": [
    "# Build Features\n",
    "Use the build_features functions to build dataset from database (usually takes ~1 min)"
   ]
  },
  {
   "cell_type": "code",
   "execution_count": 3,
   "metadata": {
    "ExecuteTime": {
     "end_time": "2021-03-24T02:50:12.183968Z",
     "start_time": "2021-03-24T02:49:54.378338Z"
    }
   },
   "outputs": [
    {
     "name": "stderr",
     "output_type": "stream",
     "text": [
      "INFO:src.features.build_features:Building TF-IDF vector + normalizing\n",
      "INFO:src.features.build_features:Feature building took 17.64 seconds\n"
     ]
    },
    {
     "name": "stdout",
     "output_type": "stream",
     "text": [
      "Date: 2021-03-23\n"
     ]
    }
   ],
   "source": [
    "load_fresh_features = True\n",
    "\n",
    "proj_path = Path().resolve().parents[1]\n",
    "processed_path = proj_path / \"data\" / \"processed\"\n",
    "\n",
    "if load_fresh_features:\n",
    "    today = str(datetime.date.today())\n",
    "    features, pipe = build_features.bag_of_words_tfid_norm()\n",
    "    scipy.sparse.save_npz(file=str(processed_path / f\"features_{today}-[2].npz\"), matrix=features)\n",
    "    pipe_path = str(processed_path / f\"pipe_{today}.pkl\")\n",
    "    with open(pipe_path, 'wb') as file:\n",
    "        pickle.dump(pipe, file)\n",
    "    print(f\"Date: {today}\")\n",
    "else:\n",
    "    features, pipe = build_features.load_saved_features(date=\"2021-03-23\")"
   ]
  },
  {
   "cell_type": "markdown",
   "metadata": {},
   "source": [
    "# PCA\n",
    "To visualize the clustering algorithms I'll use two or three principal components throughout this notebook."
   ]
  },
  {
   "cell_type": "code",
   "execution_count": 4,
   "metadata": {
    "ExecuteTime": {
     "end_time": "2021-03-24T02:50:29.754538Z",
     "start_time": "2021-03-24T02:50:29.147490Z"
    }
   },
   "outputs": [
    {
     "data": {
      "image/png": "[encoded data removed]",
      "text/plain": [
       "<Figure size 432x288 with 1 Axes>"
      ]
     },
     "metadata": {
      "needs_background": "light"
     },
     "output_type": "display_data"
    }
   ],
   "source": [
    "# initialize PCA:\n",
    "# reduce features:\n",
    "pca = PCA(n_components=5)\n",
    "reduced_features = pca.fit_transform(features.toarray())\n",
    "\n",
    "# display percent explained variance of the first ten components:\n",
    "fig = plt.figure()\n",
    "plt.bar(x=range(len(pca.explained_variance_ratio_)), height=np.cumsum(pca.explained_variance_ratio_)*100)\n",
    "plt.ylim([0, 100])\n",
    "plt.ylabel(\"Cumulative Percent of Variation Explained\")\n",
    "plt.xlabel(\"Cumulative Components Included in Model\")\n",
    "plt.title(\"Cumulative Explained Variance\");"
   ]
  },
  {
   "cell_type": "markdown",
   "metadata": {},
   "source": [
    "Unfortunately the first two components only seem to code for about 5% (if that) of the percent variation. This makes sense since the bog-of-words is massive, however this means that we cannot trust visual cluster, we'll need some empirical measure of clsuter goodness. "
   ]
  },
  {
   "cell_type": "code",
   "execution_count": 5,
   "metadata": {
    "ExecuteTime": {
     "end_time": "2021-03-24T02:50:32.370753Z",
     "start_time": "2021-03-24T02:50:31.745194Z"
    }
   },
   "outputs": [
    {
     "data": {
      "text/html": [
       "<div>\n",
       "<style scoped>\n",
       "    .dataframe tbody tr th:only-of-type {\n",
       "        vertical-align: middle;\n",
       "    }\n",
       "\n",
       "    .dataframe tbody tr th {\n",
       "        vertical-align: top;\n",
       "    }\n",
       "\n",
       "    .dataframe thead th {\n",
       "        text-align: right;\n",
       "    }\n",
       "</style>\n",
       "<table border=\"1\" class=\"dataframe\">\n",
       "  <thead>\n",
       "    <tr style=\"text-align: right;\">\n",
       "      <th></th>\n",
       "      <th>0</th>\n",
       "      <th>1</th>\n",
       "      <th>2</th>\n",
       "      <th>3</th>\n",
       "      <th>4</th>\n",
       "    </tr>\n",
       "  </thead>\n",
       "  <tbody>\n",
       "    <tr>\n",
       "      <th>0</th>\n",
       "      <td>newly</td>\n",
       "      <td>disruptionx</td>\n",
       "      <td>licensed</td>\n",
       "      <td>cut</td>\n",
       "      <td>delete</td>\n",
       "    </tr>\n",
       "    <tr>\n",
       "      <th>1</th>\n",
       "      <td>ba</td>\n",
       "      <td>coworking</td>\n",
       "      <td>leadsconducts</td>\n",
       "      <td>philanthropic</td>\n",
       "      <td>chrl</td>\n",
       "    </tr>\n",
       "    <tr>\n",
       "      <th>2</th>\n",
       "      <td>sparkr</td>\n",
       "      <td>rule</td>\n",
       "      <td>explorevisualize</td>\n",
       "      <td>conception</td>\n",
       "      <td>leadsconducts</td>\n",
       "    </tr>\n",
       "    <tr>\n",
       "      <th>3</th>\n",
       "      <td>uxrs</td>\n",
       "      <td>ocr</td>\n",
       "      <td>supertalented</td>\n",
       "      <td>delete</td>\n",
       "      <td>pertinente</td>\n",
       "    </tr>\n",
       "    <tr>\n",
       "      <th>4</th>\n",
       "      <td>comprendre</td>\n",
       "      <td>avanade</td>\n",
       "      <td>wwwgoldmansachscomcareersfooterdisabilitystate...</td>\n",
       "      <td>expertise</td>\n",
       "      <td>automated</td>\n",
       "    </tr>\n",
       "    <tr>\n",
       "      <th>5</th>\n",
       "      <td>vicepresident</td>\n",
       "      <td>doit</td>\n",
       "      <td>talentneuron</td>\n",
       "      <td>malaysia</td>\n",
       "      <td>break</td>\n",
       "    </tr>\n",
       "    <tr>\n",
       "      <th>6</th>\n",
       "      <td>tourism</td>\n",
       "      <td>postemployment</td>\n",
       "      <td>faster</td>\n",
       "      <td>downstream</td>\n",
       "      <td>forge</td>\n",
       "    </tr>\n",
       "    <tr>\n",
       "      <th>7</th>\n",
       "      <td>cost</td>\n",
       "      <td>learningcomputer</td>\n",
       "      <td>damélioration</td>\n",
       "      <td>village</td>\n",
       "      <td>frameworks</td>\n",
       "    </tr>\n",
       "    <tr>\n",
       "      <th>8</th>\n",
       "      <td>spotlight</td>\n",
       "      <td>celebrates</td>\n",
       "      <td>systematically</td>\n",
       "      <td>scikitlearn</td>\n",
       "      <td>bloor</td>\n",
       "    </tr>\n",
       "    <tr>\n",
       "      <th>9</th>\n",
       "      <td>consistently</td>\n",
       "      <td>réussie</td>\n",
       "      <td>physician</td>\n",
       "      <td>conservation</td>\n",
       "      <td>productive</td>\n",
       "    </tr>\n",
       "  </tbody>\n",
       "</table>\n",
       "</div>"
      ],
      "text/plain": [
       "               0                 1  \\\n",
       "0          newly       disruptionx   \n",
       "1             ba         coworking   \n",
       "2         sparkr              rule   \n",
       "3           uxrs               ocr   \n",
       "4     comprendre           avanade   \n",
       "5  vicepresident              doit   \n",
       "6        tourism    postemployment   \n",
       "7           cost  learningcomputer   \n",
       "8      spotlight        celebrates   \n",
       "9   consistently           réussie   \n",
       "\n",
       "                                                   2              3  \\\n",
       "0                                           licensed            cut   \n",
       "1                                      leadsconducts  philanthropic   \n",
       "2                                   explorevisualize     conception   \n",
       "3                                      supertalented         delete   \n",
       "4  wwwgoldmansachscomcareersfooterdisabilitystate...      expertise   \n",
       "5                                       talentneuron       malaysia   \n",
       "6                                             faster     downstream   \n",
       "7                                      damélioration        village   \n",
       "8                                     systematically    scikitlearn   \n",
       "9                                          physician   conservation   \n",
       "\n",
       "               4  \n",
       "0         delete  \n",
       "1           chrl  \n",
       "2  leadsconducts  \n",
       "3     pertinente  \n",
       "4      automated  \n",
       "5          break  \n",
       "6          forge  \n",
       "7     frameworks  \n",
       "8          bloor  \n",
       "9     productive  "
      ]
     },
     "execution_count": 5,
     "metadata": {},
     "output_type": "execute_result"
    }
   ],
   "source": [
    "import pandas as pd\n",
    "pca.components_[0]\n",
    "\n",
    "vocab = pipe.named_steps['tfidf_vec'][0].vocabulary_\n",
    "\n",
    "loadings = pd.DataFrame(data=pca.components_, columns=vocab).T\n",
    "\n",
    "topics = pd.DataFrame()\n",
    "\n",
    "for t in loadings.columns:\n",
    "    topics[str(t)] = loadings[t].sort_values(ascending=False)[:10].index.tolist()\n",
    "    \n",
    "topics"
   ]
  },
  {
   "cell_type": "markdown",
   "metadata": {},
   "source": [
    "# SVD"
   ]
  },
  {
   "cell_type": "code",
   "execution_count": 10,
   "metadata": {
    "ExecuteTime": {
     "end_time": "2021-03-24T02:51:55.958471Z",
     "start_time": "2021-03-24T02:51:55.782743Z"
    }
   },
   "outputs": [],
   "source": [
    "from sklearn.decomposition import TruncatedSVD\n",
    "\n",
    "svd_model = TruncatedSVD(n_components=3,         # num dimensions\n",
    "                         algorithm='randomized',\n",
    "                         n_iter=10)\n",
    "svd_matrix = svd_model.fit_transform(features)"
   ]
  },
  {
   "cell_type": "code",
   "execution_count": 11,
   "metadata": {
    "ExecuteTime": {
     "end_time": "2021-03-24T02:51:56.257632Z",
     "start_time": "2021-03-24T02:51:56.180097Z"
    }
   },
   "outputs": [
    {
     "data": {
      "text/plain": [
       "(3,)"
      ]
     },
     "execution_count": 11,
     "metadata": {},
     "output_type": "execute_result"
    }
   ],
   "source": [
    "svd_matrix[0].shape"
   ]
  },
  {
   "cell_type": "code",
   "execution_count": 12,
   "metadata": {
    "ExecuteTime": {
     "end_time": "2021-03-24T02:51:56.713180Z",
     "start_time": "2021-03-24T02:51:56.526012Z"
    }
   },
   "outputs": [
    {
     "data": {
      "image/png": "[encoded data removed]",
      "text/plain": [
       "<Figure size 432x288 with 1 Axes>"
      ]
     },
     "metadata": {
      "needs_background": "light"
     },
     "output_type": "display_data"
    }
   ],
   "source": [
    "# display percent explained variance of the first ten components:\n",
    "fig = plt.figure()\n",
    "plt.bar(x=range(len(svd_model.explained_variance_ratio_)), height=np.cumsum(svd_model.explained_variance_ratio_)*100)\n",
    "plt.ylim([0, 100])\n",
    "plt.ylabel(\"Cumulative Percent of Variation Explained\")\n",
    "plt.xlabel(\"Cumulative Components Included in Model\")\n",
    "plt.title(\"Cumulative Explained Variance\");"
   ]
  },
  {
   "cell_type": "code",
   "execution_count": 13,
   "metadata": {
    "ExecuteTime": {
     "end_time": "2021-03-24T02:51:57.059660Z",
     "start_time": "2021-03-24T02:51:56.958102Z"
    }
   },
   "outputs": [
    {
     "data": {
      "text/html": [
       "<div>\n",
       "<style scoped>\n",
       "    .dataframe tbody tr th:only-of-type {\n",
       "        vertical-align: middle;\n",
       "    }\n",
       "\n",
       "    .dataframe tbody tr th {\n",
       "        vertical-align: top;\n",
       "    }\n",
       "\n",
       "    .dataframe thead th {\n",
       "        text-align: right;\n",
       "    }\n",
       "</style>\n",
       "<table border=\"1\" class=\"dataframe\">\n",
       "  <thead>\n",
       "    <tr style=\"text-align: right;\">\n",
       "      <th></th>\n",
       "      <th>0</th>\n",
       "      <th>1</th>\n",
       "      <th>2</th>\n",
       "    </tr>\n",
       "  </thead>\n",
       "  <tbody>\n",
       "    <tr>\n",
       "      <th>0</th>\n",
       "      <td>amaze</td>\n",
       "      <td>newly</td>\n",
       "      <td>disruptionx</td>\n",
       "    </tr>\n",
       "    <tr>\n",
       "      <th>1</th>\n",
       "      <td>newly</td>\n",
       "      <td>sparkr</td>\n",
       "      <td>coworking</td>\n",
       "    </tr>\n",
       "    <tr>\n",
       "      <th>2</th>\n",
       "      <td>creation</td>\n",
       "      <td>ba</td>\n",
       "      <td>ocr</td>\n",
       "    </tr>\n",
       "    <tr>\n",
       "      <th>3</th>\n",
       "      <td>latency</td>\n",
       "      <td>uxrs</td>\n",
       "      <td>is</td>\n",
       "    </tr>\n",
       "    <tr>\n",
       "      <th>4</th>\n",
       "      <td>sqlssis</td>\n",
       "      <td>vicepresident</td>\n",
       "      <td>learningcomputer</td>\n",
       "    </tr>\n",
       "    <tr>\n",
       "      <th>5</th>\n",
       "      <td>graphique</td>\n",
       "      <td>cost</td>\n",
       "      <td>avanade</td>\n",
       "    </tr>\n",
       "    <tr>\n",
       "      <th>6</th>\n",
       "      <td>crave</td>\n",
       "      <td>tourism</td>\n",
       "      <td>rule</td>\n",
       "    </tr>\n",
       "    <tr>\n",
       "      <th>7</th>\n",
       "      <td>amsterdam</td>\n",
       "      <td>comprendre</td>\n",
       "      <td>postemployment</td>\n",
       "    </tr>\n",
       "    <tr>\n",
       "      <th>8</th>\n",
       "      <td>increase</td>\n",
       "      <td>public</td>\n",
       "      <td>doit</td>\n",
       "    </tr>\n",
       "    <tr>\n",
       "      <th>9</th>\n",
       "      <td>presentable</td>\n",
       "      <td>consistently</td>\n",
       "      <td>relocate</td>\n",
       "    </tr>\n",
       "  </tbody>\n",
       "</table>\n",
       "</div>"
      ],
      "text/plain": [
       "             0              1                 2\n",
       "0        amaze          newly       disruptionx\n",
       "1        newly         sparkr         coworking\n",
       "2     creation             ba               ocr\n",
       "3      latency           uxrs                is\n",
       "4      sqlssis  vicepresident  learningcomputer\n",
       "5    graphique           cost           avanade\n",
       "6        crave        tourism              rule\n",
       "7    amsterdam     comprendre    postemployment\n",
       "8     increase         public              doit\n",
       "9  presentable   consistently          relocate"
      ]
     },
     "execution_count": 13,
     "metadata": {},
     "output_type": "execute_result"
    }
   ],
   "source": [
    "loadings = pd.DataFrame(data=svd_model.components_, columns=vocab).T\n",
    "\n",
    "topics = pd.DataFrame()\n",
    "\n",
    "for t in loadings.columns:\n",
    "    topics[str(t)] = loadings[t].sort_values(ascending=False)[:10].index.tolist()\n",
    "    \n",
    "topics"
   ]
  },
  {
   "cell_type": "markdown",
   "metadata": {},
   "source": [
    "Not great, although there seems to be a lot of random words that could probably be dealt with better during cleaning/preprocessing"
   ]
  },
  {
   "cell_type": "markdown",
   "metadata": {},
   "source": [
    "# LDA"
   ]
  },
  {
   "cell_type": "code",
   "execution_count": 15,
   "metadata": {
    "ExecuteTime": {
     "end_time": "2021-03-24T02:52:24.319708Z",
     "start_time": "2021-03-24T02:52:24.235028Z"
    }
   },
   "outputs": [],
   "source": [
    "from gensim.models import LdaModel\n",
    "from gensim.models.coherencemodel import CoherenceModel"
   ]
  },
  {
   "cell_type": "code",
   "execution_count": null,
   "metadata": {},
   "outputs": [],
   "source": []
  }
 ],
 "metadata": {
  "kernelspec": {
   "display_name": "Python 3",
   "language": "python",
   "name": "python3"
  },
  "language_info": {
   "codemirror_mode": {
    "name": "ipython",
    "version": 3
   },
   "file_extension": ".py",
   "mimetype": "text/x-python",
   "name": "python",
   "nbconvert_exporter": "python",
   "pygments_lexer": "ipython3",
   "version": "3.7.0"
  },
  "toc": {
   "base_numbering": 1,
   "nav_menu": {},
   "number_sections": true,
   "sideBar": true,
   "skip_h1_title": false,
   "title_cell": "Table of Contents",
   "title_sidebar": "Contents",
   "toc_cell": false,
   "toc_position": {},
   "toc_section_display": true,
   "toc_window_display": false
  }
 },
 "nbformat": 4,
 "nbformat_minor": 2
}
