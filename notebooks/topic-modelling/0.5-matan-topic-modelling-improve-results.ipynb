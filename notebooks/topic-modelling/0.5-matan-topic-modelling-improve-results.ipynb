{
 "cells": [
  {
   "cell_type": "code",
   "execution_count": 1,
   "metadata": {
    "ExecuteTime": {
     "end_time": "2021-04-04T21:37:32.707336Z",
     "start_time": "2021-04-04T21:37:32.640516Z"
    }
   },
   "outputs": [],
   "source": [
    "# OPTIONAL: Load the \"autoreload\" extension so that code can change\n",
    "%load_ext autoreload\n",
    "\n",
    "# OPTIONAL: always reload modules so that as you change code in src, it gets loaded\n",
    "%autoreload 2"
   ]
  },
  {
   "cell_type": "markdown",
   "metadata": {},
   "source": [
    "# Load Libraries"
   ]
  },
  {
   "cell_type": "code",
   "execution_count": 159,
   "metadata": {
    "ExecuteTime": {
     "end_time": "2021-04-05T00:04:23.662792Z",
     "start_time": "2021-04-05T00:04:23.563060Z"
    }
   },
   "outputs": [],
   "source": [
    "from sklearn.decomposition import PCA \n",
    "from sklearn.metrics import silhouette_score\n",
    "import matplotlib.pyplot as plt \n",
    "\n",
    "from src.features import build_features\n",
    "\n",
    "import logging \n",
    "from pathlib import Path\n",
    "\n",
    "import scipy\n",
    "import pickle\n",
    "import datetime\n",
    "import numpy as np\n",
    "\n",
    "logging.basicConfig(level=logging.ERROR)\n",
    "\n",
    "import warnings\n",
    "warnings.filterwarnings(\"ignore\", category=DeprecationWarning)"
   ]
  },
  {
   "cell_type": "code",
   "execution_count": 3,
   "metadata": {
    "ExecuteTime": {
     "end_time": "2021-04-04T21:37:40.196952Z",
     "start_time": "2021-04-04T21:37:37.890321Z"
    }
   },
   "outputs": [],
   "source": [
    "from gensim.models import LdaModel\n",
    "from gensim.models.coherencemodel import CoherenceModel\n",
    "from gensim.matutils import Sparse2Corpus\n",
    "from gensim.corpora import Dictionary\n",
    "from gensim import corpora\n",
    "import gensim\n",
    "from gensim.utils import simple_preprocess\n",
    "from gensim import models\n",
    "\n",
    "import pandas as pd\n",
    "\n",
    "import re\n",
    "\n",
    "from nltk.corpus import stopwords\n",
    "from src.data.make_dataset import lematize\n",
    "\n",
    "from sklearn.decomposition import TruncatedSVD\n",
    "\n",
    "import pyLDAvis\n",
    "import pyLDAvis.gensim \n",
    "\n",
    "from src.data.DBConnection import DBConnection\n",
    "db = DBConnection()"
   ]
  },
  {
   "cell_type": "code",
   "execution_count": 4,
   "metadata": {
    "ExecuteTime": {
     "end_time": "2021-04-04T21:37:40.292493Z",
     "start_time": "2021-04-04T21:37:40.199474Z"
    }
   },
   "outputs": [
    {
     "name": "stderr",
     "output_type": "stream",
     "text": [
      "c:\\users\\matan\\github\\linkedin-nlp\\venv\\lib\\site-packages\\ipykernel\\ipkernel.py:283: DeprecationWarning: `should_run_async` will not call `transform_cell` automatically in the future. Please pass the result to `transformed_cell` argument and any exception that happen during thetransform in `preprocessing_exc_tuple` in IPython 7.17 and above.\n",
      "  and should_run_async(code)\n"
     ]
    }
   ],
   "source": [
    "logging.getLogger().setLevel(logging.ERROR)"
   ]
  },
  {
   "cell_type": "markdown",
   "metadata": {},
   "source": [
    "# Build Features"
   ]
  },
  {
   "cell_type": "code",
   "execution_count": 5,
   "metadata": {
    "ExecuteTime": {
     "end_time": "2021-04-04T21:37:40.401616Z",
     "start_time": "2021-04-04T21:37:40.293491Z"
    }
   },
   "outputs": [
    {
     "name": "stderr",
     "output_type": "stream",
     "text": [
      "c:\\users\\matan\\github\\linkedin-nlp\\venv\\lib\\site-packages\\ipykernel\\ipkernel.py:283: DeprecationWarning: `should_run_async` will not call `transform_cell` automatically in the future. Please pass the result to `transformed_cell` argument and any exception that happen during thetransform in `preprocessing_exc_tuple` in IPython 7.17 and above.\n",
      "  and should_run_async(code)\n"
     ]
    }
   ],
   "source": [
    "sql = \"SELECT details FROM positions;\"\n",
    "query = db.cur.execute(sql)\n",
    "documents = query.fetchall()"
   ]
  },
  {
   "cell_type": "code",
   "execution_count": 6,
   "metadata": {
    "ExecuteTime": {
     "end_time": "2021-04-04T21:37:40.497013Z",
     "start_time": "2021-04-04T21:37:40.404195Z"
    },
    "scrolled": false
   },
   "outputs": [
    {
     "name": "stderr",
     "output_type": "stream",
     "text": [
      "c:\\users\\matan\\github\\linkedin-nlp\\venv\\lib\\site-packages\\ipykernel\\ipkernel.py:283: DeprecationWarning: `should_run_async` will not call `transform_cell` automatically in the future. Please pass the result to `transformed_cell` argument and any exception that happen during thetransform in `preprocessing_exc_tuple` in IPython 7.17 and above.\n",
      "  and should_run_async(code)\n"
     ]
    }
   ],
   "source": [
    "def process_documents(documents):\n",
    "    # try new preprocessing steps:\n",
    "    data = list(documents)\n",
    "    # remove \\n\n",
    "    data = [text[0].replace(\"\\n\", \" \") for text in data]\n",
    "    # remove https:// links \n",
    "    data = [re.sub(r\"((https{0,1}\\:/\\/\\w{3}\\S+)|(w{3}\\S+))\", \"\", text) for text in data]\n",
    "    # remove emails:\n",
    "    data = [re.sub(r\"(\\S+@\\S+)\", \"\", text) for text in data]\n",
    "    # remove phone numbers:\n",
    "    data = [re.sub(r\"([\\+\\s01-]*\\(*\\d{3}\\)*[-\\s]\\d{3}[-\\s]\\d{4})\", \"\", text) for text in data]\n",
    "    # remove uf0b7\n",
    "    data = [re.sub(r\"(\\uf0b7)\", \"\", text) for text in data]\n",
    "    # remove handles:\n",
    "    data = [re.sub(r\"(\\@\\S+)\", \"\", text) for text in data]\n",
    "    # remove french documents\n",
    "    data = [doc for doc in data if \"une\" not in doc and \"connaissance\" not in doc]\n",
    "    return data\n",
    "\n",
    "def docs_to_words(documents):\n",
    "    for doc in documents:\n",
    "        yield(gensim.utils.simple_preprocess(str(doc), deacc=True))  # deacc=True removes punctuations\n",
    "        \n",
    "# Define functions for stopwords, bigrams, trigrams and lemmatization\n",
    "def remove_stopwords(texts):\n",
    "    return [[word for word in simple_preprocess(str(doc)) if word not in stop_words] for doc in texts]\n",
    "\n",
    "def make_bigrams(texts):\n",
    "    return [bigram_mod[doc] for doc in texts]\n",
    "\n",
    "def make_trigrams(texts):\n",
    "    return [trigram_mod[bigram_mod[doc]] for doc in texts]"
   ]
  },
  {
   "cell_type": "code",
   "execution_count": 298,
   "metadata": {
    "ExecuteTime": {
     "end_time": "2021-04-05T02:50:26.288156Z",
     "start_time": "2021-04-05T02:50:23.508601Z"
    }
   },
   "outputs": [],
   "source": [
    "# get stop words and add some super-common words amoung the documents\n",
    "stop_words = stopwords.words('english')\n",
    "# stop_words.extend([\"work\", \"experience\", \"team\", \"technology\", \"skill\", \"information\", \"project\", \"projects\", \"skills\"])\n",
    "stop_words.extend([\"data\", \"yelp\", \"agoda\"])\n",
    "\n",
    "\n",
    "# clean all the documents (i.e., use regex to remove emails, urls, phone numbers, french documents, etc.)\n",
    "clean_docs = process_documents(documents)\n",
    "\n",
    "# use simple_preprocess to remove punctuation:\n",
    "data_words = list(docs_to_words(clean_docs))\n",
    "\n",
    "# # Count word frequencies\n",
    "# from collections import defaultdict\n",
    "# frequency = defaultdict(int)\n",
    "# for text in data_words:\n",
    "#     for token in text:\n",
    "#         frequency[token] += 1\n",
    "        \n",
    "# frequency_threshold = 15\n",
    "# processed_corpus = [[token for token in text if frequency[token] > frequency_threshold] for text in data_words]"
   ]
  },
  {
   "cell_type": "code",
   "execution_count": 301,
   "metadata": {
    "ExecuteTime": {
     "end_time": "2021-04-05T02:52:38.179620Z",
     "start_time": "2021-04-05T02:52:04.948445Z"
    }
   },
   "outputs": [
    {
     "name": "stdout",
     "output_type": "stream",
     "text": [
      "Total Vocabulary Size Pre Filter: 4781\n",
      "Total Vocabulary Size Post Filter: 2539\n",
      "Wall time: 33.1 s\n"
     ]
    }
   ],
   "source": [
    "%%time\n",
    "# Build the bigram and trigram models\n",
    "bigram = gensim.models.Phrases(data_words, min_count=5, threshold=35) # higher threshold fewer phrases.\n",
    "trigram = gensim.models.Phrases(bigram[processed_corpus], threshold=20)  \n",
    "\n",
    "# Faster way to get a sentence clubbed as a trigram/bigram\n",
    "bigram_mod = gensim.models.phrases.Phraser(bigram)\n",
    "trigram_mod = gensim.models.phrases.Phraser(trigram)\n",
    "\n",
    "# Remove Stop Words\n",
    "data_words_nostops = remove_stopwords(processed_corpus)\n",
    "\n",
    "# Form Bigrams\n",
    "data_words_bigrams = make_bigrams(data_words_nostops)\n",
    "\n",
    "# Form trigrams:\n",
    "data_words_trigrams = make_trigrams(data_words_bigrams)\n",
    "\n",
    "# Lematize docs:\n",
    "data_lemmatized = [lematize(words).split(\" \") for words in data_words_trigrams]\n",
    "\n",
    "# Create Dictionary\n",
    "id2word = Dictionary(data_lemmatized)\n",
    "\n",
    "# Create Corpus\n",
    "texts = data_lemmatized\n",
    "\n",
    "# Bag of words:\n",
    "print('Total Vocabulary Size Pre Filter:', len(id2word))\n",
    "id2word.filter_extremes(no_below=15, no_above=0.5)\n",
    "print('Total Vocabulary Size Post Filter:', len(id2word))\n",
    "\n",
    "corpus = [id2word.doc2bow(text) for text in texts]\n",
    "\n",
    "# TF-IDF matrix:\n",
    "tfidf = models.TfidfModel(corpus)\n",
    "tfidf_corpus = tfidf[corpus]"
   ]
  },
  {
   "cell_type": "code",
   "execution_count": 302,
   "metadata": {
    "ExecuteTime": {
     "end_time": "2021-04-05T02:55:21.707238Z",
     "start_time": "2021-04-05T02:52:38.181216Z"
    },
    "code_folding": [],
    "scrolled": false
   },
   "outputs": [
    {
     "name": "stdout",
     "output_type": "stream",
     "text": [
      "Wall time: 2min 43s\n"
     ]
    },
    {
     "data": {
      "text/plain": [
       "(0.0, 1.0)"
      ]
     },
     "execution_count": 302,
     "metadata": {},
     "output_type": "execute_result"
    },
    {
     "data": {
      "image/png": "[encoded data removed]",
      "text/plain": [
       "<Figure size 432x288 with 1 Axes>"
      ]
     },
     "metadata": {
      "needs_background": "light"
     },
     "output_type": "display_data"
    }
   ],
   "source": [
    "%%time\n",
    "# determine optimal number of topics using coherence score:\n",
    "coherence_vals = []\n",
    "model_list =[]\n",
    "start = 2\n",
    "stop = 10\n",
    "step = 1\n",
    "random_state = 1\n",
    "for num_topics in range(start, stop, step):\n",
    "    # make LDa model and calc coherence:\n",
    "    model = LdaModel(corpus=tfidf_corpus, id2word=id2word, num_topics=num_topics, passes=5, iterations=150, \n",
    "                     random_state=random_state\n",
    "                    )\n",
    "    model_list.append(model)\n",
    "    coherence_model = CoherenceModel(model=model, texts=texts, dictionary=id2word, coherence='c_v', processes=4)\n",
    "    coherence_vals.append(coherence_model.get_coherence())\n",
    "    \n",
    "x = range(start, stop, step)\n",
    "plt.plot(x, coherence_vals)\n",
    "plt.xlabel(\"Number of Topics\")\n",
    "plt.ylabel(\"Coherence score\")\n",
    "plt.ylim([0, 1]);"
   ]
  },
  {
   "cell_type": "code",
   "execution_count": 303,
   "metadata": {
    "ExecuteTime": {
     "end_time": "2021-04-05T02:55:21.818365Z",
     "start_time": "2021-04-05T02:55:21.709232Z"
    },
    "scrolled": false
   },
   "outputs": [
    {
     "name": "stdout",
     "output_type": "stream",
     "text": [
      "Best model coherence score is 0.466\n"
     ]
    }
   ],
   "source": [
    "best_model = model_list[coherence_vals.index(max(coherence_vals))]\n",
    "print(f\"Best model coherence score is {max(coherence_vals):0.3f}\")"
   ]
  },
  {
   "cell_type": "code",
   "execution_count": 304,
   "metadata": {
    "ExecuteTime": {
     "end_time": "2021-04-05T02:55:28.360595Z",
     "start_time": "2021-04-05T02:55:21.820363Z"
    }
   },
   "outputs": [
    {
     "data": {
      "text/html": [
       "\n",
       "<link rel=\"stylesheet\" type=\"text/css\" href=\"https://cdn.jsdelivr.net/gh/bmabey/pyLDAvis@3.2.2/pyLDAvis/js/ldavis.v1.0.0.css\">\n",
       "\n",
       "\n",
       "<div id=\"ldavis_el106013712605330401000837115\"></div>\n",
       "<script type=\"text/javascript\">\n",
       "\n",
       "var ldavis_el106013712605330401000837115_data = {\"mdsDat\": {\"x\": [0.038461264727782676, -0.0016280527324592843, -0.0016188610882317473, 0.021963664657262173, -0.057178015564353805], \"y\": [-0.021335716276384167, -0.008592249449161225, -0.0005355355351209412, 0.032190188294249675, -0.0017266870335833342], \"topics\": [1, 2, 3, 4, 5], \"cluster\": [1, 1, 1, 1, 1], \"Freq\": [7.481535019089382, 3.656239913750249, 1.763024169340594, 84.27434282964632, 2.824858068173457]}, \"tinfo\": {\"Term\": [\"product\", \"model\", \"machine_learning\", \"restaurant\", \"analytics\", \"science\", \"security\", \"scientist\", \"customer\", \"food\", \"ai\", \"research\", \"tool\", \"engineering\", \"insight\", \"design\", \"analyst\", \"user\", \"client\", \"marketing\", \"partner\", \"etc\", \"engineer\", \"database\", \"employee\", \"system\", \"software\", \"platform\", \"create\", \"python\", \"pytorch\", \"experimental_design\", \"national_origin_physical\", \"need_assistance\", \"ordinance\", \"computer_vision\", \"deep_learning\", \"industry_computer_hardware\", \"ml_models\", \"amazon\", \"threat\", \"computational\", \"may_vary\", \"experimentation\", \"classification\", \"ml\", \"nlp\", \"authenticity\", \"ai\", \"feature_engineering\", \"researcher\", \"benefits_perks\", \"many_others\", \"entrepreneur\", \"tensorflow_keras\", \"machine_learning_deep_learning\", \"prediction\", \"anomaly_detection\", \"batch\", \"quantitative_field\", \"experiment\", \"machine_learning\", \"cluster\", \"microsoft\", \"scientist\", \"scalable\", \"pipeline\", \"user\", \"algorithms\", \"model\", \"science\", \"product\", \"algorithm\", \"research\", \"feature\", \"technique\", \"problem\", \"million\", \"consumer\", \"impact\", \"insight\", \"customer\", \"etc\", \"engineer\", \"engineering\", \"python\", \"analytics\", \"plus\", \"security\", \"prioritize_attracting_diverse\", \"sex_age_race_color\", \"party_resumes\", \"diversity_creativity\", \"talents_coming\", \"online_travel_booking_platform\", \"booking_holdings\", \"deploy_cutting_edge\", \"different_nationalities_foster\", \"accommodation_flights\", \"connects_travelers\", \"work_environment_rich\", \"gender_identity_disability_citizenship\", \"status_pregnancy_sexual_orientation\", \"based_solely\", \"email_protected\", \"always_ask\", \"details_removed\", \"military_status\", \"accept_third\", \"contacting_us\", \"encourages_collaboration\", \"million_accommodations_globally\", \"national_origin_religion_marital\", \"ownership_enabling\", \"company_represented\", \"person_merit\", \"providing_equal\", \"jobs_alias\", \"opportunity_regardless\", \"internet\", \"marketing\", \"revenue\", \"file\", \"experimentation\", \"cultivate\", \"science\", \"characteristic\", \"product\", \"partner\", \"employment\", \"get\", \"send_resumes\", \"everyone\", \"make_difference\", \"open\", \"rds\", \"fraud\", \"national_origin_physical\", \"airflow\", \"lake\", \"redshift\", \"azure\", \"threat\", \"tensorflow_keras\", \"shift\", \"kafka\", \"postgres\", \"bash\", \"ci_cd\", \"stem\", \"afraid\", \"company_wide\", \"answer_questions\", \"large_amounts\", \"amount\", \"sponsor\", \"elasticsearch\", \"apache\", \"image\", \"massive\", \"blog\", \"flex\", \"customers_expect\", \"fuel\", \"nosql\", \"amazon\", \"aws\", \"predictive_models\", \"security\", \"pipeline\", \"large_datasets\", \"languages\", \"datasets\", \"databases\", \"devops\", \"python\", \"analytics\", \"cloud\", \"tool\", \"database\", \"etc\", \"model\", \"risk\", \"scientist\", \"science\", \"source\", \"big\", \"insight\", \"statistical\", \"optimize\", \"product\", \"create\", \"machine_learning\", \"ai\", \"engineer\", \"technique\", \"stakeholder\", \"analyst\", \"accounting\", \"construction\", \"financial\", \"accountant\", \"corporate\", \"water\", \"firm\", \"civil_engineering\", \"prepare\", \"geotechnical\", \"client\", \"account\", \"bank\", \"environmental\", \"budget\", \"policy\", \"consult\", \"position\", \"safety\", \"asset\", \"assist\", \"material\", \"preparation\", \"complete\", \"canadian\", \"reconciliation\", \"audit\", \"transaction\", \"risk\", \"applicant\", \"review\", \"issue\", \"career\", \"group\", \"service\", \"sale\", \"finance\", \"require\", \"ensure\", \"professional\", \"office\", \"information\", \"analyst\", \"plan\", \"canada\", \"design\", \"system\", \"quality\", \"analytics\", \"people\", \"technical\", \"engineering\", \"customer\", \"software\", \"operation\", \"product\", \"research\", \"model\", \"tool\", \"platform\", \"chipotle\", \"food_accessible\", \"cultivating_better_world\", \"order_online_visit\", \"tuition_assistance_coverage\", \"clear_career_path\", \"practices_founder\", \"world_food_served\", \"cook_prep_cook_foh\", \"hand_every_day\", \"feel_confident_working\", \"restaurants\", \"friendly_atmosphere\", \"select_degrees\", \"team_members_desire\", \"old_ability\", \"serving_others\", \"providing_great_guest\", \"chipotle_grill_inc\", \"demonstrated_purpose\", \"exceptional_training\", \"cook_lot\", \"managers_started\", \"directly_supporting_efforts\", \"exceptional_customer_service\", \"denver_colorado\", \"real_food\", \"cashier_server_host\", \"typical_fast_food\", \"always_done_things_differently\", \"crew\", \"learn_evolve\", \"vision_insurance_paid\", \"paycheck\", \"restaurant\", \"food\", \"comes_next\", \"customers_expect\", \"continue\", \"everyone\", \"place\"], \"Freq\": [23.0, 21.0, 17.0, 11.0, 22.0, 17.0, 14.0, 14.0, 20.0, 8.0, 11.0, 19.0, 16.0, 20.0, 16.0, 22.0, 19.0, 12.0, 28.0, 11.0, 14.0, 13.0, 16.0, 12.0, 15.0, 18.0, 17.0, 15.0, 14.0, 11.0, 0.7813083758037399, 0.8818318376866824, 0.6277072106630978, 0.8244691930984288, 0.6195320654530247, 1.1522083257660078, 1.7506556993706621, 0.640027048109365, 1.1887527517851748, 1.5235254020347375, 0.9249404313185987, 0.8808635579392218, 0.589668443293444, 1.2619217753058116, 0.9927738692930788, 2.68626770977894, 1.5470763359576738, 0.6156038668188517, 3.989737692792655, 0.6976677939018165, 0.9683229951813882, 0.5917456598800906, 0.4943344019005001, 0.6010760496303238, 0.46514509738660176, 0.9174233858589328, 1.0945856338569757, 0.608152967932053, 0.5705085810157392, 0.7918855545029971, 1.619812780271634, 4.605062999410273, 0.9680200571375708, 1.6700078801433667, 3.1054160511835547, 1.367156229768138, 2.1399643374612434, 2.4522726527712995, 1.5120303822623187, 3.275363273771677, 2.627557296893723, 2.9694299172961607, 1.2836593649381804, 2.296097789249977, 1.6196641672312833, 1.6629480977309847, 1.7501724264913332, 1.4370200666315838, 1.3711933636988756, 1.5827448936326454, 1.7497279133617185, 1.7829943865478353, 1.5756302355746157, 1.6214243698650057, 1.679661709805029, 1.5036419564294772, 1.6729271012928792, 1.4758929336151487, 1.4831484527635865, 0.6125155229470463, 0.6125217538552435, 0.612499123196671, 0.6125021140326057, 0.6125063510501798, 0.6125002696837792, 0.6125014660181531, 0.6125004690728416, 0.6125014660181531, 0.6124949858736279, 0.6125078963154128, 0.612498525029484, 0.6125002696837792, 0.6124935403029262, 0.6124915962595686, 0.6124935403029262, 0.6124862127548862, 0.6124929421357392, 0.6124955840408149, 0.6124866115330109, 0.6124807295556726, 0.6124817265009842, 0.6124865118384797, 0.6124770408580198, 0.6124777885670035, 0.6124726044513833, 0.6124697631572453, 0.5959470395778085, 0.6052454488042504, 0.6037370207005859, 0.8748945808808329, 1.0579608569967638, 0.9059037672408338, 0.801420110196568, 0.7172829106269836, 0.7067718171235533, 0.8827340603383296, 0.7087556385990378, 0.8685426435227235, 0.7782875893541852, 0.6994495528936969, 0.686473811191014, 0.6160613084894263, 0.6275828060661284, 0.61667881641541, 0.6162531207673715, 0.2244189062007465, 0.33992631148241936, 0.12672189207798562, 0.24283273694399476, 0.18656636727956377, 0.18572940447196484, 0.35526728859676926, 0.17409566711502644, 0.10292423996746275, 0.19429882103354498, 0.16892663279145256, 0.10670146097797797, 0.11083494581590285, 0.1255830111799743, 0.1323462191703352, 0.11765627321893926, 0.10564973516282912, 0.10659055817810832, 0.10950301857260476, 0.12548770784198487, 0.09572632617150091, 0.12894433467290292, 0.11804126024657523, 0.12219318081217674, 0.11376396711831221, 0.10567293004836753, 0.1055103375061659, 0.060625842392337335, 0.11222107457929328, 0.1381616576978308, 0.18432402275177, 0.35230485704472425, 0.21885021077946287, 0.47669114432974613, 0.319228998339254, 0.16747326289615158, 0.14941294384104442, 0.2152626229808184, 0.1594373647561811, 0.16435672356314335, 0.2782855306037586, 0.3747084003897855, 0.2598614844964131, 0.31431399007558963, 0.27184708706516164, 0.27347589682527595, 0.332380522475683, 0.2634361168097672, 0.27537609876426505, 0.29603858352489654, 0.23354548073826478, 0.2269050854605034, 0.2529280645040416, 0.224041610741372, 0.20188511095440798, 0.2550317564958475, 0.22813143391133778, 0.23433131865307594, 0.2126427786863682, 0.21782624671850767, 0.20909655710327976, 0.21283047698809818, 0.2140202664535399, 23.328963332518327, 15.01968917098257, 21.095473439968007, 9.447338493686386, 9.837247547626855, 6.914833169927856, 10.750922054561977, 9.429842246853282, 14.390124161561854, 5.943911536214245, 26.423482733980862, 15.515521868206077, 9.496345334000004, 6.107823955036655, 8.630964167950909, 9.093682334172295, 9.345369544493153, 13.708626504593443, 9.347884026775413, 16.5716354484693, 14.785960086351324, 6.899169502139853, 10.10387458573671, 9.737608099382804, 9.972424092964937, 6.8470535966876485, 8.253169667898556, 7.1811143733715195, 11.630551953543877, 12.103729607750891, 13.821775334914172, 11.58306460275198, 11.993187750378961, 13.450191496948523, 16.52984805043148, 16.57787540884168, 14.515216351866172, 14.796860197574443, 14.635278428653592, 13.808619830170342, 12.658205983370015, 14.618061377248678, 17.778438729096916, 12.968309379515373, 14.726885550813442, 19.783925915674786, 16.693733468872974, 13.648885576675525, 20.047502485217404, 14.551048729721701, 14.911354451131418, 17.570640350715756, 18.07249700526432, 15.33947708673367, 13.915316143928507, 18.927707070375007, 16.060376916600323, 17.489239372541885, 13.960361970914235, 13.865080499045149, 3.583215686792207, 1.0967659565070904, 1.0966869285704877, 0.5919195917684545, 0.5919187059777421, 0.5919205545844463, 0.5919164337320015, 0.5919136608219453, 0.5919143925620991, 0.5919110804750874, 0.5919100406338164, 0.591909848070618, 0.5919110804750874, 0.591905996806651, 0.5919004894991782, 0.591905996806651, 0.5919069211100031, 0.5919091933557437, 0.5919108879118891, 0.5919128135438726, 0.5919038015861898, 0.5919069596226427, 0.5918975625385633, 0.5919009131382146, 0.5919029928207568, 0.5919076528501568, 0.591898294278717, 0.5919033009218742, 0.591901221239332, 0.5918986023798344, 1.0438527476370147, 0.5919009131382146, 0.5919022610806031, 0.6094449225008297, 1.6488572012965375, 1.1804690194646699, 0.5967282029323667, 0.5964544936022322, 0.6071848467544376, 0.601238071550359, 0.5998329764046401], \"Total\": [23.0, 21.0, 17.0, 11.0, 22.0, 17.0, 14.0, 14.0, 20.0, 8.0, 11.0, 19.0, 16.0, 20.0, 16.0, 22.0, 19.0, 12.0, 28.0, 11.0, 14.0, 13.0, 16.0, 12.0, 15.0, 18.0, 17.0, 15.0, 14.0, 11.0, 1.2658906803755898, 1.6323523045215242, 1.174071404396435, 1.5794471131332015, 1.3493995856476717, 2.5735999374675886, 3.9431255555729092, 1.4538942521861624, 2.750742996598066, 3.6662749461879813, 2.300715813057463, 2.2134384173398236, 1.490255124251352, 3.309270156019395, 2.6709840431040686, 7.284552862785832, 4.197785063562667, 1.6796990126254667, 11.295608069918947, 1.992346521681813, 2.8501082034686918, 1.7523034888113442, 1.4661181830743184, 1.783656154313322, 1.4014802933610715, 2.8111895821008672, 3.3540879185861456, 1.8869811345274852, 1.7782307888350888, 2.5032129408998376, 5.534414098387115, 17.875134487321837, 3.166916843699406, 6.351384292061029, 14.543971976400803, 5.096545443149852, 9.274579204787944, 12.528567254017478, 6.465317364829377, 21.73066745520545, 17.686656964728904, 23.205611706868098, 5.1994055697578085, 19.039002221675002, 9.232596022419482, 10.088367149369526, 12.196509191687205, 7.658974792651786, 6.796780869771159, 11.717857085251511, 16.2900114003463, 20.845754163772256, 13.314406792570098, 16.063484569688974, 20.104012093050393, 11.29679650111725, 22.849751216515113, 10.45753703950947, 14.097969734881389, 1.1621455713441808, 1.1621598114957252, 1.1621387360753666, 1.162144908929322, 1.1621554624232817, 1.1621445181145467, 1.162147154675386, 1.1621472587085186, 1.1621523387501804, 1.1621450334309915, 1.1621731392717343, 1.162158167519571, 1.162161949112473, 1.1621491904277008, 1.1621473303667393, 1.1621514917453253, 1.162145416409605, 1.1621597834362036, 1.1621781473406192, 1.1621616473273435, 1.1621536158746635, 1.1621555942227249, 1.162166717857246, 1.1621524053788737, 1.1621545754786702, 1.1621633801824636, 1.1621650293622752, 1.1975837659423267, 1.2267314200251123, 1.258292844695914, 4.2699664537437805, 11.02707698567067, 7.734866863377272, 6.428601921877574, 3.309270156019395, 3.1213876790151027, 17.686656964728904, 3.3264342274121583, 23.205611706868098, 14.198224981146186, 8.858411081973879, 9.334836992023574, 1.4832896786894172, 7.491487721445904, 4.046665284467101, 7.554289520131007, 1.6212009721774199, 3.082470063809769, 1.174071404396435, 2.6076475287825933, 2.318556073134263, 2.3107257344632113, 4.596970515186551, 2.300715813057463, 1.4014802933610715, 2.9649145519645614, 2.672868066272552, 1.7020489822138738, 1.7684285159515203, 2.013552161243894, 2.125698512008508, 1.9158678746442261, 1.7249366119990766, 1.769255701907903, 1.8377260586108917, 2.1305102802373925, 1.6490835839364986, 2.223738091823722, 2.037699296309985, 2.1651770779840804, 2.0196161433540274, 1.980820315899672, 1.9828382986232806, 1.1434949900025955, 2.1176122951825276, 2.634378234431642, 3.6662749461879813, 7.4549916418034305, 4.677146548403042, 14.097969734881389, 9.274579204787944, 3.6873026223872767, 3.1395503610798454, 6.401138688757941, 3.694560224309682, 3.929977678194966, 11.29679650111725, 22.849751216515113, 10.776845589992108, 16.244857487738226, 12.119677138106997, 13.314406792570098, 21.73066745520545, 12.482560781928164, 14.543971976400803, 17.686656964728904, 10.988335062279415, 11.218026941245558, 16.2900114003463, 11.162808542315629, 7.965327947645279, 23.205611706868098, 14.874716680128548, 17.875134487321837, 11.295608069918947, 16.063484569688974, 10.088367149369526, 13.15718680973934, 19.592526675103542, 24.23413334056228, 15.811285794517508, 22.235451833626982, 9.964373543011293, 10.396673797207761, 7.324741620754043, 11.396304958487711, 10.004241164261876, 15.277251961008634, 6.315993362920227, 28.08885260668111, 16.49520578855435, 10.118621369965885, 6.515671662204186, 9.211978958561895, 9.706682723801604, 9.991191615318687, 14.661025068982257, 9.99851134307, 17.727662081339215, 15.822343841712945, 7.387902138453746, 10.826478017935306, 10.438842057887811, 10.695477073546119, 7.343913535203013, 8.854118812297017, 7.704702200403584, 12.482560781928164, 12.990420303680047, 14.847470847034145, 12.4467210674284, 12.904436794786214, 14.492671455579774, 17.85621119503558, 17.940944422839845, 15.69585803836611, 16.016846631028614, 15.83993281175731, 14.927063350869494, 13.692286318781361, 15.94240648535716, 19.592526675103542, 14.06746290988098, 16.11549939689376, 22.104854685394034, 18.58014472990209, 14.90522078593292, 22.849751216515113, 16.10150991839406, 16.57260644716146, 20.104012093050393, 20.845754163772256, 17.363966577465888, 15.42771140172496, 23.205611706868098, 19.039002221675002, 21.73066745520545, 16.244857487738226, 15.936276335945221, 4.158417688667691, 1.5502819617476777, 1.5502521297881218, 1.0300697626199256, 1.0300872829689678, 1.0300926789562246, 1.0300893692663011, 1.0300887596801203, 1.030090234882035, 1.030084899756264, 1.0300844250699948, 1.0300856776313003, 1.0300911432415694, 1.030082971279598, 1.0300744000825643, 1.030084730273506, 1.0300869654324945, 1.03009177215834, 1.0300953660537955, 1.0301008917760113, 1.0300857096026228, 1.0300945576655585, 1.0300786184076598, 1.0300849645451935, 1.0300902764145117, 1.0300990034384014, 1.0300836485132456, 1.030092921832478, 1.030089761483472, 1.0300867863631913, 1.8618683892529155, 1.0300919017363521, 1.0300967046122684, 1.0962394882362467, 11.106561092863839, 8.491206769293377, 1.0877488390210492, 1.1434949900025955, 7.8770900706909295, 7.491487721445904, 7.247811309321443], \"Category\": [\"Default\", \"Default\", \"Default\", \"Default\", \"Default\", \"Default\", \"Default\", \"Default\", \"Default\", \"Default\", \"Default\", \"Default\", \"Default\", \"Default\", \"Default\", \"Default\", \"Default\", \"Default\", \"Default\", \"Default\", \"Default\", \"Default\", \"Default\", \"Default\", \"Default\", \"Default\", \"Default\", \"Default\", \"Default\", \"Default\", \"Topic1\", \"Topic1\", \"Topic1\", \"Topic1\", \"Topic1\", \"Topic1\", \"Topic1\", \"Topic1\", \"Topic1\", \"Topic1\", \"Topic1\", \"Topic1\", \"Topic1\", \"Topic1\", \"Topic1\", \"Topic1\", \"Topic1\", \"Topic1\", \"Topic1\", \"Topic1\", \"Topic1\", \"Topic1\", \"Topic1\", \"Topic1\", \"Topic1\", \"Topic1\", \"Topic1\", \"Topic1\", \"Topic1\", \"Topic1\", \"Topic1\", \"Topic1\", \"Topic1\", \"Topic1\", \"Topic1\", \"Topic1\", \"Topic1\", \"Topic1\", \"Topic1\", \"Topic1\", \"Topic1\", \"Topic1\", \"Topic1\", \"Topic1\", \"Topic1\", \"Topic1\", \"Topic1\", \"Topic1\", \"Topic1\", \"Topic1\", \"Topic1\", \"Topic1\", \"Topic1\", \"Topic1\", \"Topic1\", \"Topic1\", \"Topic1\", \"Topic1\", \"Topic1\", \"Topic2\", \"Topic2\", \"Topic2\", \"Topic2\", \"Topic2\", \"Topic2\", \"Topic2\", \"Topic2\", \"Topic2\", \"Topic2\", \"Topic2\", \"Topic2\", \"Topic2\", \"Topic2\", \"Topic2\", \"Topic2\", \"Topic2\", \"Topic2\", \"Topic2\", \"Topic2\", \"Topic2\", \"Topic2\", \"Topic2\", \"Topic2\", \"Topic2\", \"Topic2\", \"Topic2\", \"Topic2\", \"Topic2\", \"Topic2\", \"Topic2\", \"Topic2\", \"Topic2\", \"Topic2\", \"Topic2\", \"Topic2\", \"Topic2\", \"Topic2\", \"Topic2\", \"Topic2\", \"Topic2\", \"Topic2\", \"Topic2\", \"Topic2\", \"Topic2\", \"Topic2\", \"Topic3\", \"Topic3\", \"Topic3\", \"Topic3\", \"Topic3\", \"Topic3\", \"Topic3\", \"Topic3\", \"Topic3\", \"Topic3\", \"Topic3\", \"Topic3\", \"Topic3\", \"Topic3\", \"Topic3\", \"Topic3\", \"Topic3\", \"Topic3\", \"Topic3\", \"Topic3\", \"Topic3\", \"Topic3\", \"Topic3\", \"Topic3\", \"Topic3\", \"Topic3\", \"Topic3\", \"Topic3\", \"Topic3\", \"Topic3\", \"Topic3\", \"Topic3\", \"Topic3\", \"Topic3\", \"Topic3\", \"Topic3\", \"Topic3\", \"Topic3\", \"Topic3\", \"Topic3\", \"Topic3\", \"Topic3\", \"Topic3\", \"Topic3\", \"Topic3\", \"Topic3\", \"Topic3\", \"Topic3\", \"Topic3\", \"Topic3\", \"Topic3\", \"Topic3\", \"Topic3\", \"Topic3\", \"Topic3\", \"Topic3\", \"Topic3\", \"Topic3\", \"Topic3\", \"Topic3\", \"Topic3\", \"Topic3\", \"Topic3\", \"Topic4\", \"Topic4\", \"Topic4\", \"Topic4\", \"Topic4\", \"Topic4\", \"Topic4\", \"Topic4\", \"Topic4\", \"Topic4\", \"Topic4\", \"Topic4\", \"Topic4\", \"Topic4\", \"Topic4\", \"Topic4\", \"Topic4\", \"Topic4\", \"Topic4\", \"Topic4\", \"Topic4\", \"Topic4\", \"Topic4\", \"Topic4\", \"Topic4\", \"Topic4\", \"Topic4\", \"Topic4\", \"Topic4\", \"Topic4\", \"Topic4\", \"Topic4\", \"Topic4\", \"Topic4\", \"Topic4\", \"Topic4\", \"Topic4\", \"Topic4\", \"Topic4\", \"Topic4\", \"Topic4\", \"Topic4\", \"Topic4\", \"Topic4\", \"Topic4\", \"Topic4\", \"Topic4\", \"Topic4\", \"Topic4\", \"Topic4\", \"Topic4\", \"Topic4\", \"Topic4\", \"Topic4\", \"Topic4\", \"Topic4\", \"Topic4\", \"Topic4\", \"Topic4\", \"Topic4\", \"Topic5\", \"Topic5\", \"Topic5\", \"Topic5\", \"Topic5\", \"Topic5\", \"Topic5\", \"Topic5\", \"Topic5\", \"Topic5\", \"Topic5\", \"Topic5\", \"Topic5\", \"Topic5\", \"Topic5\", \"Topic5\", \"Topic5\", \"Topic5\", \"Topic5\", \"Topic5\", \"Topic5\", \"Topic5\", \"Topic5\", \"Topic5\", \"Topic5\", \"Topic5\", \"Topic5\", \"Topic5\", \"Topic5\", \"Topic5\", \"Topic5\", \"Topic5\", \"Topic5\", \"Topic5\", \"Topic5\", \"Topic5\", \"Topic5\", \"Topic5\", \"Topic5\", \"Topic5\", \"Topic5\"], \"logprob\": [30.0, 29.0, 28.0, 27.0, 26.0, 25.0, 24.0, 23.0, 22.0, 21.0, 20.0, 19.0, 18.0, 17.0, 16.0, 15.0, 14.0, 13.0, 12.0, 11.0, 10.0, 9.0, 8.0, 7.0, 6.0, 5.0, 4.0, 3.0, 2.0, 1.0, -7.0223, -6.9013, -7.2412, -6.9686, -7.2543, -6.6339, -6.2156, -7.2218, -6.6027, -6.3545, -6.8536, -6.9024, -7.3038, -6.5429, -6.7828, -5.7874, -6.3392, -7.2607, -5.3918, -7.1356, -6.8077, -7.3002, -7.4801, -7.2846, -7.541, -6.8617, -6.6852, -7.2729, -7.3368, -7.0089, -6.2932, -5.2484, -6.8081, -6.2627, -5.6424, -6.4628, -6.0148, -5.8785, -6.3621, -5.5891, -5.8095, -5.6872, -6.5258, -5.9443, -6.2933, -6.267, -6.2158, -6.413, -6.4599, -6.3164, -6.2161, -6.1973, -6.3209, -6.2923, -6.257, -6.3677, -6.261, -6.3863, -6.3814, -6.5497, -6.5497, -6.5498, -6.5498, -6.5498, -6.5498, -6.5498, -6.5498, -6.5498, -6.5498, -6.5497, -6.5498, -6.5498, -6.5498, -6.5498, -6.5498, -6.5498, -6.5498, -6.5498, -6.5498, -6.5498, -6.5498, -6.5498, -6.5498, -6.5498, -6.5498, -6.5498, -6.5772, -6.5617, -6.5642, -6.1932, -6.0032, -6.1584, -6.2809, -6.3918, -6.4066, -6.1843, -6.4038, -6.2005, -6.3102, -6.417, -6.4357, -6.544, -6.5254, -6.543, -6.5437, -6.8244, -6.4092, -7.3959, -6.7455, -7.0091, -7.0136, -6.365, -7.0783, -7.6039, -6.9685, -7.1084, -7.5679, -7.5299, -7.4049, -7.3525, -7.4701, -7.5778, -7.5689, -7.542, -7.4057, -7.6764, -7.3785, -7.4669, -7.4323, -7.5038, -7.5776, -7.5791, -8.1332, -7.5174, -7.3095, -7.0212, -6.3734, -6.8495, -6.071, -6.472, -7.1171, -7.2312, -6.866, -7.1663, -7.1359, -6.6093, -6.3118, -6.6778, -6.4875, -6.6327, -6.6267, -6.4316, -6.6641, -6.6198, -6.5474, -6.7845, -6.8134, -6.7048, -6.8261, -6.9302, -6.6965, -6.808, -6.7812, -6.8783, -6.8542, -6.8951, -6.8774, -6.8718, -6.0475, -6.4878, -6.1481, -6.9515, -6.911, -7.2635, -6.8222, -6.9533, -6.5307, -7.4148, -5.9229, -6.4554, -6.9463, -7.3876, -7.0418, -6.9896, -6.9623, -6.5792, -6.962, -6.3895, -6.5035, -7.2658, -6.8843, -6.9212, -6.8974, -7.2734, -7.0866, -7.2257, -6.7436, -6.7037, -6.571, -6.7477, -6.7129, -6.5982, -6.392, -6.3891, -6.522, -6.5028, -6.5138, -6.5719, -6.6589, -6.5149, -6.3192, -6.6347, -6.5075, -6.2123, -6.3822, -6.5835, -6.1991, -6.5195, -6.4951, -6.331, -6.3028, -6.4668, -6.5642, -6.2566, -6.4208, -6.3356, -6.561, -6.5678, -4.5253, -5.7092, -5.7093, -6.326, -6.326, -6.326, -6.326, -6.326, -6.326, -6.326, -6.326, -6.326, -6.326, -6.326, -6.326, -6.326, -6.326, -6.326, -6.326, -6.326, -6.326, -6.326, -6.326, -6.326, -6.326, -6.326, -6.326, -6.326, -6.326, -6.326, -5.7587, -6.326, -6.326, -6.2968, -5.3015, -5.6357, -6.3179, -6.3183, -6.3005, -6.3103, -6.3127], \"loglift\": [30.0, 29.0, 28.0, 27.0, 26.0, 25.0, 24.0, 23.0, 22.0, 21.0, 20.0, 19.0, 18.0, 17.0, 16.0, 15.0, 14.0, 13.0, 12.0, 11.0, 10.0, 9.0, 8.0, 7.0, 6.0, 5.0, 4.0, 3.0, 2.0, 1.0, 2.1102, 1.977, 1.9666, 1.9426, 1.8143, 1.7891, 1.7807, 1.7722, 1.7538, 1.7146, 1.6815, 1.6713, 1.6656, 1.6286, 1.603, 1.5951, 1.5945, 1.589, 1.552, 1.5434, 1.5132, 1.5071, 1.5056, 1.505, 1.4898, 1.4729, 1.4729, 1.4604, 1.4559, 1.4418, 1.3641, 1.2365, 1.4075, 1.2569, 1.0487, 1.2769, 1.1262, 0.9617, 1.1397, 0.7004, 0.686, 0.5367, 1.1939, 0.4775, 0.8522, 0.7899, 0.6513, 0.9194, 0.992, 0.5908, 0.3616, 0.1339, 0.4585, 0.2995, 0.1104, 0.5761, -0.0216, 0.6347, 0.3409, 2.6683, 2.6683, 2.6683, 2.6683, 2.6683, 2.6683, 2.6683, 2.6683, 2.6683, 2.6683, 2.6682, 2.6682, 2.6682, 2.6682, 2.6682, 2.6682, 2.6682, 2.6682, 2.6682, 2.6682, 2.6682, 2.6682, 2.6682, 2.6682, 2.6682, 2.6682, 2.6682, 2.6108, 2.6023, 2.5744, 1.7235, 0.9647, 1.1642, 1.2266, 1.7797, 1.8234, 0.3112, 1.7626, 0.0234, 0.405, 0.7699, 0.6988, 2.4301, 0.8291, 1.4274, 0.8025, 2.0607, 1.8334, 1.8119, 1.6643, 1.5182, 1.5171, 1.4779, 1.4568, 1.4268, 1.3129, 1.2767, 1.2686, 1.2683, 1.2635, 1.2617, 1.248, 1.2453, 1.2288, 1.2178, 1.2062, 1.1917, 1.1906, 1.1896, 1.1635, 1.1616, 1.1072, 1.1047, 1.101, 1.1006, 1.0902, 1.0479, 0.986, 0.9761, 0.6512, 0.669, 0.9463, 0.993, 0.6458, 0.8952, 0.8638, 0.3345, -0.0724, 0.3131, 0.093, 0.2408, 0.1528, -0.1421, 0.1799, 0.0713, -0.0519, 0.1869, 0.1374, -0.1271, 0.1296, 0.363, -0.4726, -0.1394, -0.2963, 0.0656, -0.2625, 0.1618, -0.0861, -0.4787, 0.133, 0.1197, 0.1185, 0.1178, 0.1158, 0.1135, 0.1128, 0.112, 0.1113, 0.1104, 0.11, 0.1099, 0.1076, 0.1065, 0.1059, 0.1059, 0.1043, 0.1039, 0.1038, 0.1037, 0.1033, 0.1026, 0.102, 0.1016, 0.1011, 0.101, 0.1008, 0.1007, 0.1004, 0.1004, 0.0995, 0.0992, 0.0979, 0.0964, 0.0939, 0.0921, 0.0929, 0.0919, 0.092, 0.0932, 0.0926, 0.0844, 0.0739, 0.0897, 0.081, 0.0602, 0.064, 0.083, 0.0403, 0.0698, 0.0655, 0.0364, 0.0283, 0.0471, 0.0679, -0.0327, 0.001, -0.046, 0.0195, 0.0319, 3.4178, 3.2206, 3.2206, 3.0127, 3.0127, 3.0127, 3.0127, 3.0127, 3.0127, 3.0127, 3.0127, 3.0127, 3.0127, 3.0127, 3.0127, 3.0127, 3.0127, 3.0127, 3.0127, 3.0127, 3.0127, 3.0127, 3.0127, 3.0127, 3.0127, 3.0127, 3.0127, 3.0127, 3.0127, 3.0126, 2.9881, 3.0126, 3.0126, 2.9796, 1.6593, 1.5936, 2.9663, 2.9159, 1.0038, 1.0442, 1.0749]}, \"token.table\": {\"Topic\": [2, 2, 4, 4, 4, 4, 1, 4, 4, 1, 4, 1, 4, 2, 5, 1, 4, 4, 1, 2, 4, 1, 2, 4, 1, 4, 4, 4, 4, 1, 4, 1, 4, 4, 1, 4, 1, 4, 1, 4, 4, 2, 4, 1, 4, 1, 4, 1, 4, 4, 2, 4, 1, 4, 4, 4, 5, 2, 4, 5, 5, 4, 4, 1, 4, 5, 1, 4, 1, 4, 1, 4, 5, 2, 4, 4, 1, 4, 1, 4, 2, 4, 4, 1, 4, 2, 4, 5, 5, 5, 4, 1, 4, 4, 5, 2, 4, 5, 1, 2, 4, 5, 1, 2, 4, 4, 4, 1, 4, 5, 5, 2, 1, 4, 2, 4, 2, 5, 2, 4, 2, 1, 4, 1, 2, 4, 2, 1, 4, 1, 4, 1, 4, 1, 4, 4, 1, 4, 1, 2, 4, 5, 5, 5, 1, 2, 4, 1, 1, 2, 4, 1, 4, 1, 4, 5, 2, 4, 4, 1, 4, 4, 4, 4, 5, 5, 1, 4, 5, 4, 2, 4, 1, 2, 4, 4, 5, 1, 4, 1, 4, 1, 4, 1, 4, 1, 4, 2, 4, 4, 2, 1, 4, 4, 4, 1, 4, 4, 5, 1, 4, 1, 4, 2, 4, 5, 4, 1, 2, 4, 4, 4, 1, 4, 1, 4, 2, 1, 4, 2, 1, 4, 1, 4, 1, 4, 1, 2, 1, 4, 1, 4, 1, 4, 4, 5, 2, 2, 4, 1, 4, 2, 1, 4, 5, 1, 2, 1, 2, 4, 2, 5, 1, 4, 2, 1, 4, 4, 5, 1, 4, 1, 4, 1, 4, 4, 4, 4, 5, 1, 4, 1, 4, 4, 4, 2, 1, 4, 1, 2, 4, 4, 2, 5, 1, 4, 1, 1, 4, 1, 4, 4, 5, 4, 4, 1, 4, 1, 4, 1, 4, 4, 5, 5, 2, 4, 1, 4, 4, 4, 1, 4, 1, 4, 1, 2, 4, 1, 2, 4, 1, 4, 5, 2, 4, 1, 4, 5, 2, 4, 5, 1, 4, 1, 4, 4, 1, 4, 1, 4, 2, 4, 1, 4, 2, 5, 1, 4, 1, 4, 4, 1, 4, 1, 4, 4, 5, 5, 1, 2, 4, 5, 4, 2, 5], \"Freq\": [0.8604654974630498, 0.8604777985822544, 0.9699788050599548, 0.9032178451712426, 0.9490745832244544, 0.5219566616438508, 0.35411993539792697, 0.6197098869463722, 0.7669748222965243, 0.19232967818792035, 0.7693187127516814, 0.3093428964337903, 0.7733572410844758, 0.8604775150165408, 0.9707919888290042, 0.5455128241485285, 0.5455128241485285, 0.9387422433733338, 0.05103986926151347, 0.05103986926151347, 0.9187176467072424, 0.08752830527775989, 0.04376415263887994, 0.8752830527775988, 0.5299470046108372, 0.5299470046108372, 0.5652094261567931, 0.49074954376775476, 0.9237576398202088, 0.05640901746726302, 0.9589532969434713, 0.06320176138276483, 0.9480264207414724, 0.9035342951225392, 0.5953447566995602, 0.5953447566995602, 0.13413831269676527, 0.8048298761805915, 0.21753456905942734, 0.652603707178282, 0.8894492313660259, 0.8604760978837593, 0.5654738039902847, 0.5623567009854191, 0.5623567009854191, 0.5706774005673749, 0.5706774005673749, 0.08914223554975419, 0.8022801199477877, 1.009682697590678, 0.8604762279690152, 0.9769887708693825, 0.06205206400198486, 0.9307809600297728, 0.9349746562248923, 0.9299127262065684, 0.9707862065696518, 0.3006222073351989, 0.6012444146703978, 0.9619043346464684, 0.970783903077743, 0.993269525615109, 0.8996184570350699, 0.37439385030464495, 0.37439385030464495, 0.9707864354625674, 0.035601311808733105, 0.9256341070270608, 0.0927915308472683, 0.8351237776254147, 0.31576452725290344, 0.6315290545058069, 0.9193298711308933, 0.8604642144575203, 0.5797314481261271, 0.9579606573742331, 0.45178577915975177, 0.45178577915975177, 0.3885607803456802, 0.3885607803456802, 0.8604569889015343, 0.9486894484698507, 0.9007934535257063, 0.14712847437049548, 0.7356423718524774, 0.8604714439987153, 0.8886530352173571, 0.12695043360247957, 0.970784664920704, 0.9707887388278358, 0.961846086070884, 0.06722817123205589, 0.8739662260167266, 0.5370948912244303, 0.5370948912244303, 0.32037032974882884, 0.6407406594976577, 0.6450563626296539, 0.09594279891661542, 0.04797139945830771, 0.8634851902495387, 0.8745119206842613, 0.08251044880195485, 0.08251044880195485, 0.8251044880195484, 0.8120046278472944, 0.7811110246339915, 0.5072118480156825, 0.5072118480156825, 0.9707786955468858, 0.970780475140804, 0.8604761509408789, 0.04523893118649444, 0.9047786237298888, 0.8604668774918889, 0.7633631144128779, 0.8604723895969054, 0.9707937057808851, 0.8604778907660445, 0.89938649131102, 0.8604730167305423, 0.06616186436969008, 0.9262661011756611, 0.11288706188346981, 0.11288706188346981, 0.7902094331842887, 0.8604699792103327, 0.12450598693722432, 0.8715419085605703, 0.09948263017068942, 0.8953436715362048, 0.06313158091540277, 0.9469737137310417, 0.5606461747583762, 0.5606461747583762, 0.9208567145586125, 0.1502132262562437, 0.8261727444093403, 0.13348483467940514, 0.13348483467940514, 0.8009090080764308, 0.13348483467940514, 0.9707886996863533, 0.970793003609157, 0.3613751996950963, 0.18068759984754815, 0.5420627995426445, 0.612612851545623, 0.3021814336254931, 0.3021814336254931, 0.3021814336254931, 0.21662379629124967, 0.7581832870193739, 0.501920719672732, 0.501920719672732, 0.9707942142043837, 0.15555481769633892, 0.7777740884816946, 0.9556661358260764, 0.04497322597635215, 0.9444377455033951, 0.965225135696939, 0.504327559485974, 0.8243822333138788, 0.11776889047341126, 0.6450439498584316, 0.3244151538536122, 0.6488303077072244, 0.9707878827626104, 0.9444599488536735, 0.8604652740211346, 0.9499693326507668, 0.10712559853530162, 0.10712559853530162, 0.857004788282413, 0.8970050856286343, 0.9707937668405948, 0.4618559886709426, 0.4618559886709426, 0.17067967167113407, 0.8533983583556704, 0.6878079327271156, 0.6878079327271156, 0.06272578740972912, 0.9408868111459368, 0.1227746224878322, 0.8594223574148254, 0.23419387736014402, 0.702581632080432, 0.9641093373099349, 0.8151743598281106, 0.37412995149983214, 0.7482599029996643, 0.8626058360953791, 0.9555508448566988, 0.5441507428783398, 0.5441507428783398, 0.8136028710487844, 0.9707871679355712, 0.2797181751861119, 0.6713236204466685, 0.3557212954854069, 0.7114425909708137, 0.2471170531050453, 0.741351159315136, 0.9707996866742495, 0.6820732540831665, 0.09068586365176082, 0.09068586365176082, 0.7254869092140865, 0.495143596118852, 0.9474949544289806, 0.671026043612742, 0.671026043612742, 0.31489198386246575, 0.6297839677249315, 0.8604532810122725, 0.13056577767554808, 0.7833946660532884, 0.8604617432546665, 0.4118303561672157, 0.5491071415562876, 0.3635381426897143, 0.3635381426897143, 0.1380537439167046, 0.782304548861326, 0.8517369525016909, 0.8604723402641753, 0.6331329436009205, 0.6331329436009205, 0.47644173527612604, 0.47644173527612604, 0.3795962124686118, 0.7591924249372236, 0.9494396843110292, 0.9707939265680425, 0.8604781801340778, 0.1323751224168938, 0.7942507345013627, 0.0648184279547899, 0.9074579913670586, 0.7947275582272467, 0.12554410898996587, 0.7532646539397951, 0.9708080329011457, 0.7410703327880671, 0.8604707334978381, 0.07043133922218442, 0.07043133922218442, 0.845176070666213, 0.8604824613084305, 0.9122094311790504, 0.062105976710769145, 0.9315896506615372, 0.8604629934087232, 0.21564320664462194, 0.6469296199338658, 0.8278361209932953, 0.1379726868322159, 0.07108602357128664, 0.9241183064267264, 0.06274991591005738, 0.8784988227408034, 0.09562481071995389, 0.7649984857596311, 0.9271962683946846, 0.9549127659306196, 0.5875271572380303, 0.9707895546114287, 0.29814364568640517, 0.5962872913728103, 0.2138055734733047, 0.641416720419914, 0.9236614144908297, 0.9163951760258651, 0.8604774002996568, 0.16398134651209406, 0.8199067325604703, 0.1292790742987438, 0.04309302476624794, 0.8187674705587108, 0.9378937886791046, 0.8350146590482073, 0.9707872900534978, 0.17704134086173903, 0.7966860338778257, 0.7899576286502875, 0.06709058620210233, 0.9392682068294326, 0.3994865892793471, 0.3994865892793471, 0.6168266718079433, 0.9707949460641703, 0.953170263572077, 0.8655289419125313, 0.06243426206396654, 0.9365139309594981, 0.10504752175106608, 0.8403801740085286, 0.3508638720393006, 0.7017277440786012, 0.8103318322160636, 0.18007374049245858, 0.9707930337401809, 0.12928470750217547, 0.7757082450130528, 0.06735153820488927, 0.9429215348684499, 0.9613412031105989, 0.9001339990715647, 0.05573842582818232, 0.9475532390790995, 0.19621133788654366, 0.588634013659631, 0.16961939195081704, 0.05653979731693901, 0.7915571624371461, 0.20627102450883641, 0.06875700816961214, 0.6875700816961214, 0.07093219937377128, 0.8511863924852553, 0.9707955843185835, 0.6741771444695583, 0.6741771444695583, 0.05600292184481006, 0.952049671361771, 0.9707918200674813, 0.8604668567165286, 0.6745556962762363, 0.3372778481381182, 0.0575905278058846, 0.863857917088269, 0.09100559769357457, 0.9100559769357456, 0.6063974014057659, 0.07600408920695496, 0.8360449812765046, 0.08958319012721852, 0.8062487111449667, 0.8604747206612726, 0.9408671966892712, 0.053820893999315444, 0.9149551979883626, 0.860470076795783, 0.9708036622595865, 0.06034053865867786, 0.905108079880168, 0.19824813772018499, 0.7929925508807399, 0.7135312602946207, 0.4346473364179133, 0.4346473364179133, 0.06155794230603805, 0.8618111922845327, 0.9085360884724824, 0.9707915208095291, 0.9707891849734157, 0.159635172917212, 0.079817586458606, 0.718358278127454, 0.9707826415932503, 0.955665109082631, 0.8604680739234747, 0.9707901291055113], \"Term\": [\"accept_third\", \"accommodation_flights\", \"account\", \"accountant\", \"accounting\", \"afraid\", \"ai\", \"ai\", \"airflow\", \"algorithm\", \"algorithm\", \"algorithms\", \"algorithms\", \"always_ask\", \"always_done_things_differently\", \"amazon\", \"amazon\", \"amount\", \"analyst\", \"analyst\", \"analyst\", \"analytics\", \"analytics\", \"analytics\", \"anomaly_detection\", \"anomaly_detection\", \"answer_questions\", \"apache\", \"applicant\", \"asset\", \"asset\", \"assist\", \"assist\", \"audit\", \"authenticity\", \"authenticity\", \"aws\", \"aws\", \"azure\", \"azure\", \"bank\", \"based_solely\", \"bash\", \"batch\", \"batch\", \"benefits_perks\", \"benefits_perks\", \"big\", \"big\", \"blog\", \"booking_holdings\", \"budget\", \"canada\", \"canada\", \"canadian\", \"career\", \"cashier_server_host\", \"characteristic\", \"characteristic\", \"chipotle\", \"chipotle_grill_inc\", \"ci_cd\", \"civil_engineering\", \"classification\", \"classification\", \"clear_career_path\", \"client\", \"client\", \"cloud\", \"cloud\", \"cluster\", \"cluster\", \"comes_next\", \"company_represented\", \"company_wide\", \"complete\", \"computational\", \"computational\", \"computer_vision\", \"computer_vision\", \"connects_travelers\", \"construction\", \"consult\", \"consumer\", \"consumer\", \"contacting_us\", \"continue\", \"continue\", \"cook_lot\", \"cook_prep_cook_foh\", \"corporate\", \"create\", \"create\", \"crew\", \"crew\", \"cultivate\", \"cultivate\", \"cultivating_better_world\", \"customer\", \"customer\", \"customer\", \"customers_expect\", \"database\", \"database\", \"database\", \"databases\", \"datasets\", \"deep_learning\", \"deep_learning\", \"demonstrated_purpose\", \"denver_colorado\", \"deploy_cutting_edge\", \"design\", \"design\", \"details_removed\", \"devops\", \"different_nationalities_foster\", \"directly_supporting_efforts\", \"diversity_creativity\", \"elasticsearch\", \"email_protected\", \"employee\", \"employee\", \"employment\", \"employment\", \"employment\", \"encourages_collaboration\", \"engineer\", \"engineer\", \"engineering\", \"engineering\", \"ensure\", \"ensure\", \"entrepreneur\", \"entrepreneur\", \"environmental\", \"etc\", \"etc\", \"everyone\", \"everyone\", \"everyone\", \"everyone\", \"exceptional_customer_service\", \"exceptional_training\", \"experiment\", \"experiment\", \"experiment\", \"experimental_design\", \"experimentation\", \"experimentation\", \"experimentation\", \"feature\", \"feature\", \"feature_engineering\", \"feature_engineering\", \"feel_confident_working\", \"file\", \"file\", \"finance\", \"financial\", \"financial\", \"firm\", \"flex\", \"food\", \"food\", \"food_accessible\", \"fraud\", \"fraud\", \"friendly_atmosphere\", \"fuel\", \"gender_identity_disability_citizenship\", \"geotechnical\", \"get\", \"get\", \"get\", \"group\", \"hand_every_day\", \"image\", \"image\", \"impact\", \"impact\", \"industry_computer_hardware\", \"industry_computer_hardware\", \"information\", \"information\", \"insight\", \"insight\", \"internet\", \"internet\", \"issue\", \"jobs_alias\", \"kafka\", \"kafka\", \"lake\", \"languages\", \"large_amounts\", \"large_amounts\", \"large_datasets\", \"learn_evolve\", \"machine_learning\", \"machine_learning\", \"machine_learning_deep_learning\", \"machine_learning_deep_learning\", \"make_difference\", \"make_difference\", \"managers_started\", \"many_others\", \"marketing\", \"marketing\", \"marketing\", \"massive\", \"material\", \"may_vary\", \"may_vary\", \"microsoft\", \"microsoft\", \"military_status\", \"million\", \"million\", \"million_accommodations_globally\", \"ml\", \"ml\", \"ml_models\", \"ml_models\", \"model\", \"model\", \"national_origin_physical\", \"national_origin_religion_marital\", \"need_assistance\", \"need_assistance\", \"nlp\", \"nlp\", \"nosql\", \"nosql\", \"office\", \"old_ability\", \"online_travel_booking_platform\", \"open\", \"open\", \"operation\", \"operation\", \"opportunity_regardless\", \"optimize\", \"optimize\", \"order_online_visit\", \"ordinance\", \"ownership_enabling\", \"partner\", \"partner\", \"partner\", \"party_resumes\", \"paycheck\", \"people\", \"people\", \"person_merit\", \"pipeline\", \"pipeline\", \"place\", \"place\", \"plan\", \"plan\", \"platform\", \"platform\", \"plus\", \"plus\", \"policy\", \"position\", \"postgres\", \"practices_founder\", \"prediction\", \"prediction\", \"predictive_models\", \"predictive_models\", \"preparation\", \"prepare\", \"prioritize_attracting_diverse\", \"problem\", \"problem\", \"product\", \"product\", \"product\", \"professional\", \"providing_equal\", \"providing_great_guest\", \"python\", \"python\", \"pytorch\", \"quality\", \"quality\", \"quantitative_field\", \"quantitative_field\", \"rds\", \"real_food\", \"reconciliation\", \"redshift\", \"require\", \"require\", \"research\", \"research\", \"researcher\", \"researcher\", \"restaurant\", \"restaurant\", \"restaurants\", \"revenue\", \"revenue\", \"review\", \"review\", \"risk\", \"safety\", \"sale\", \"sale\", \"scalable\", \"scalable\", \"science\", \"science\", \"science\", \"scientist\", \"scientist\", \"scientist\", \"security\", \"security\", \"select_degrees\", \"send_resumes\", \"send_resumes\", \"service\", \"service\", \"serving_others\", \"sex_age_race_color\", \"shift\", \"shift\", \"software\", \"software\", \"source\", \"source\", \"sponsor\", \"stakeholder\", \"stakeholder\", \"statistical\", \"statistical\", \"status_pregnancy_sexual_orientation\", \"stem\", \"system\", \"system\", \"talents_coming\", \"team_members_desire\", \"technical\", \"technical\", \"technique\", \"technique\", \"tensorflow_keras\", \"threat\", \"threat\", \"tool\", \"tool\", \"transaction\", \"tuition_assistance_coverage\", \"typical_fast_food\", \"user\", \"user\", \"user\", \"vision_insurance_paid\", \"water\", \"work_environment_rich\", \"world_food_served\"]}, \"R\": 30, \"lambda.step\": 0.01, \"plot.opts\": {\"xlab\": \"PC1\", \"ylab\": \"PC2\"}, \"topic.order\": [1, 2, 3, 4, 5]};\n",
       "\n",
       "function LDAvis_load_lib(url, callback){\n",
       "  var s = document.createElement('script');\n",
       "  s.src = url;\n",
       "  s.async = true;\n",
       "  s.onreadystatechange = s.onload = callback;\n",
       "  s.onerror = function(){console.warn(\"failed to load library \" + url);};\n",
       "  document.getElementsByTagName(\"head\")[0].appendChild(s);\n",
       "}\n",
       "\n",
       "if(typeof(LDAvis) !== \"undefined\"){\n",
       "   // already loaded: just create the visualization\n",
       "   !function(LDAvis){\n",
       "       new LDAvis(\"#\" + \"ldavis_el106013712605330401000837115\", ldavis_el106013712605330401000837115_data);\n",
       "   }(LDAvis);\n",
       "}else if(typeof define === \"function\" && define.amd){\n",
       "   // require.js is available: use it to load d3/LDAvis\n",
       "   require.config({paths: {d3: \"https://d3js.org/d3.v5\"}});\n",
       "   require([\"d3\"], function(d3){\n",
       "      window.d3 = d3;\n",
       "      LDAvis_load_lib(\"https://cdn.jsdelivr.net/gh/bmabey/pyLDAvis@3.2.2/pyLDAvis/js/ldavis.v3.0.0.js\", function(){\n",
       "        new LDAvis(\"#\" + \"ldavis_el106013712605330401000837115\", ldavis_el106013712605330401000837115_data);\n",
       "      });\n",
       "    });\n",
       "}else{\n",
       "    // require.js not available: dynamically load d3 & LDAvis\n",
       "    LDAvis_load_lib(\"https://d3js.org/d3.v5.js\", function(){\n",
       "         LDAvis_load_lib(\"https://cdn.jsdelivr.net/gh/bmabey/pyLDAvis@3.2.2/pyLDAvis/js/ldavis.v3.0.0.js\", function(){\n",
       "                 new LDAvis(\"#\" + \"ldavis_el106013712605330401000837115\", ldavis_el106013712605330401000837115_data);\n",
       "            })\n",
       "         });\n",
       "}\n",
       "</script>"
      ],
      "text/plain": [
       "PreparedData(topic_coordinates=              x         y  topics  cluster       Freq\n",
       "topic                                                \n",
       "0      0.038461 -0.021336       1        1   7.481535\n",
       "1     -0.001628 -0.008592       2        1   3.656240\n",
       "2     -0.001619 -0.000536       3        1   1.763024\n",
       "3      0.021964  0.032190       4        1  84.274343\n",
       "4     -0.057178 -0.001727       5        1   2.824858, topic_info=                  Term       Freq      Total Category  logprob  loglift\n",
       "118            product  23.000000  23.000000  Default  30.0000  30.0000\n",
       "325              model  21.000000  21.000000  Default  29.0000  29.0000\n",
       "87    machine_learning  17.000000  17.000000  Default  28.0000  28.0000\n",
       "994         restaurant  11.000000  11.000000  Default  27.0000  27.0000\n",
       "9            analytics  22.000000  22.000000  Default  26.0000  26.0000\n",
       "...                ...        ...        ...      ...      ...      ...\n",
       "2488        comes_next   0.596728   1.087749   Topic5  -6.3179   2.9663\n",
       "2337  customers_expect   0.596454   1.143495   Topic5  -6.3183   2.9159\n",
       "1467          continue   0.607185   7.877090   Topic5  -6.3005   1.0038\n",
       "611           everyone   0.601238   7.491488   Topic5  -6.3103   1.0442\n",
       "111              place   0.599833   7.247811   Topic5  -6.3127   1.0749\n",
       "\n",
       "[299 rows x 6 columns], token_table=      Topic      Freq                   Term\n",
       "term                                        \n",
       "2387      2  0.860465           accept_third\n",
       "2388      2  0.860478  accommodation_flights\n",
       "1678      4  0.969979                account\n",
       "2458      4  0.903218             accountant\n",
       "1741      4  0.949075             accounting\n",
       "...     ...       ...                    ...\n",
       "436       4  0.718358                   user\n",
       "2529      5  0.970783  vision_insurance_paid\n",
       "2077      4  0.955665                  water\n",
       "2417      2  0.860468  work_environment_rich\n",
       "2531      5  0.970790      world_food_served\n",
       "\n",
       "[365 rows x 3 columns], R=30, lambda_step=0.01, plot_opts={'xlab': 'PC1', 'ylab': 'PC2'}, topic_order=[1, 2, 3, 4, 5])"
      ]
     },
     "execution_count": 304,
     "metadata": {},
     "output_type": "execute_result"
    }
   ],
   "source": [
    "pyLDAvis.enable_notebook()\n",
    "vis = pyLDAvis.gensim.prepare(best_model, tfidf_corpus, id2word, sort_topics=False)\n",
    "vis"
   ]
  },
  {
   "cell_type": "code",
   "execution_count": 305,
   "metadata": {
    "ExecuteTime": {
     "end_time": "2021-04-05T02:55:28.647469Z",
     "start_time": "2021-04-05T02:55:28.362552Z"
    },
    "code_folding": [],
    "scrolled": false
   },
   "outputs": [
    {
     "data": {
      "text/html": [
       "<div>\n",
       "<style scoped>\n",
       "    .dataframe tbody tr th:only-of-type {\n",
       "        vertical-align: middle;\n",
       "    }\n",
       "\n",
       "    .dataframe tbody tr th {\n",
       "        vertical-align: top;\n",
       "    }\n",
       "\n",
       "    .dataframe thead th {\n",
       "        text-align: right;\n",
       "    }\n",
       "</style>\n",
       "<table border=\"1\" class=\"dataframe\">\n",
       "  <thead>\n",
       "    <tr style=\"text-align: right;\">\n",
       "      <th></th>\n",
       "      <th>topic_1</th>\n",
       "      <th>topic_2</th>\n",
       "      <th>topic_3</th>\n",
       "      <th>topic_4</th>\n",
       "      <th>topic_5</th>\n",
       "    </tr>\n",
       "  </thead>\n",
       "  <tbody>\n",
       "    <tr>\n",
       "      <th>0</th>\n",
       "      <td>0.005*machine_learning</td>\n",
       "      <td>0.002*marketing</td>\n",
       "      <td>0.002*security</td>\n",
       "      <td>0.003*client</td>\n",
       "      <td>0.011*chipotle</td>\n",
       "    </tr>\n",
       "    <tr>\n",
       "      <th>1</th>\n",
       "      <td>0.005*ai</td>\n",
       "      <td>0.002*revenue</td>\n",
       "      <td>0.002*analytics</td>\n",
       "      <td>0.002*accounting</td>\n",
       "      <td>0.005*restaurant</td>\n",
       "    </tr>\n",
       "    <tr>\n",
       "      <th>2</th>\n",
       "      <td>0.004*model</td>\n",
       "      <td>0.002*science</td>\n",
       "      <td>0.002*azure</td>\n",
       "      <td>0.002*financial</td>\n",
       "      <td>0.004*food</td>\n",
       "    </tr>\n",
       "    <tr>\n",
       "      <th>3</th>\n",
       "      <td>0.004*scientist</td>\n",
       "      <td>0.002*internet</td>\n",
       "      <td>0.002*aws</td>\n",
       "      <td>0.002*analytics</td>\n",
       "      <td>0.003*food_accessible</td>\n",
       "    </tr>\n",
       "    <tr>\n",
       "      <th>4</th>\n",
       "      <td>0.003*product</td>\n",
       "      <td>0.002*product</td>\n",
       "      <td>0.002*fraud</td>\n",
       "      <td>0.002*design</td>\n",
       "      <td>0.003*cultivating_better_world</td>\n",
       "    </tr>\n",
       "    <tr>\n",
       "      <th>5</th>\n",
       "      <td>0.003*ml</td>\n",
       "      <td>0.002*file</td>\n",
       "      <td>0.002*model</td>\n",
       "      <td>0.002*product</td>\n",
       "      <td>0.003*crew</td>\n",
       "    </tr>\n",
       "    <tr>\n",
       "      <th>6</th>\n",
       "      <td>0.003*science</td>\n",
       "      <td>0.002*partner</td>\n",
       "      <td>0.002*pipeline</td>\n",
       "      <td>0.002*customer</td>\n",
       "      <td>0.002*paycheck</td>\n",
       "    </tr>\n",
       "    <tr>\n",
       "      <th>7</th>\n",
       "      <td>0.003*user</td>\n",
       "      <td>0.002*experimentation</td>\n",
       "      <td>0.002*tool</td>\n",
       "      <td>0.002*analyst</td>\n",
       "      <td>0.002*continue</td>\n",
       "    </tr>\n",
       "    <tr>\n",
       "      <th>8</th>\n",
       "      <td>0.003*research</td>\n",
       "      <td>0.002*characteristic</td>\n",
       "      <td>0.001*science</td>\n",
       "      <td>0.002*engineering</td>\n",
       "      <td>0.002*everyone</td>\n",
       "    </tr>\n",
       "    <tr>\n",
       "      <th>9</th>\n",
       "      <td>0.002*pipeline</td>\n",
       "      <td>0.002*cultivate</td>\n",
       "      <td>0.001*python</td>\n",
       "      <td>0.002*model</td>\n",
       "      <td>0.002*place</td>\n",
       "    </tr>\n",
       "  </tbody>\n",
       "</table>\n",
       "</div>"
      ],
      "text/plain": [
       "                  topic_1                topic_2          topic_3  \\\n",
       "0  0.005*machine_learning        0.002*marketing   0.002*security   \n",
       "1                0.005*ai          0.002*revenue  0.002*analytics   \n",
       "2             0.004*model          0.002*science      0.002*azure   \n",
       "3         0.004*scientist         0.002*internet        0.002*aws   \n",
       "4           0.003*product          0.002*product      0.002*fraud   \n",
       "5                0.003*ml             0.002*file      0.002*model   \n",
       "6           0.003*science          0.002*partner   0.002*pipeline   \n",
       "7              0.003*user  0.002*experimentation       0.002*tool   \n",
       "8          0.003*research   0.002*characteristic    0.001*science   \n",
       "9          0.002*pipeline        0.002*cultivate     0.001*python   \n",
       "\n",
       "             topic_4                         topic_5  \n",
       "0       0.003*client                  0.011*chipotle  \n",
       "1   0.002*accounting                0.005*restaurant  \n",
       "2    0.002*financial                      0.004*food  \n",
       "3    0.002*analytics           0.003*food_accessible  \n",
       "4       0.002*design  0.003*cultivating_better_world  \n",
       "5      0.002*product                      0.003*crew  \n",
       "6     0.002*customer                  0.002*paycheck  \n",
       "7      0.002*analyst                  0.002*continue  \n",
       "8  0.002*engineering                  0.002*everyone  \n",
       "9        0.002*model                     0.002*place  "
      ]
     },
     "execution_count": 305,
     "metadata": {},
     "output_type": "execute_result"
    },
    {
     "data": {
      "image/png": "[encoded data removed]",
      "text/plain": [
       "<Figure size 432x288 with 1 Axes>"
      ]
     },
     "metadata": {
      "needs_background": "light"
     },
     "output_type": "display_data"
    }
   ],
   "source": [
    "# display topics:\n",
    "topics = best_model.print_topics(num_words=10)\n",
    "topics_df = pd.DataFrame(topics)\n",
    "topics_df = topics_df[1].str.replace(\"\\\\s\\\\+\", \"\", regex=True).str.replace('\\\\\"', \"\").str.split(\" \", expand=True).T\n",
    "topics_df.columns = [f\"topic_{t+1}\" for t in topics_df.columns]\n",
    "\n",
    "doc_topics = np.argmax(best_model.get_topics(), axis=0)\n",
    "plt.bar(height=np.bincount(doc_topics), x=list(range(1, best_model.num_topics+1)));\n",
    "    \n",
    "topics_df"
   ]
  },
  {
   "cell_type": "markdown",
   "metadata": {},
   "source": [
    "## View other models"
   ]
  },
  {
   "cell_type": "code",
   "execution_count": 286,
   "metadata": {
    "ExecuteTime": {
     "end_time": "2021-04-05T02:32:52.862627Z",
     "start_time": "2021-04-05T02:32:52.675015Z"
    }
   },
   "outputs": [
    {
     "data": {
      "text/html": [
       "<div>\n",
       "<style scoped>\n",
       "    .dataframe tbody tr th:only-of-type {\n",
       "        vertical-align: middle;\n",
       "    }\n",
       "\n",
       "    .dataframe tbody tr th {\n",
       "        vertical-align: top;\n",
       "    }\n",
       "\n",
       "    .dataframe thead th {\n",
       "        text-align: right;\n",
       "    }\n",
       "</style>\n",
       "<table border=\"1\" class=\"dataframe\">\n",
       "  <thead>\n",
       "    <tr style=\"text-align: right;\">\n",
       "      <th></th>\n",
       "      <th>topic_1</th>\n",
       "      <th>topic_2</th>\n",
       "      <th>topic_3</th>\n",
       "      <th>topic_4</th>\n",
       "      <th>topic_5</th>\n",
       "    </tr>\n",
       "  </thead>\n",
       "  <tbody>\n",
       "    <tr>\n",
       "      <th>0</th>\n",
       "      <td>0.003*geotechnical</td>\n",
       "      <td>0.003*accounting</td>\n",
       "      <td>0.003*machine_learning</td>\n",
       "      <td>0.004*agoda</td>\n",
       "      <td>0.006*chipotle</td>\n",
       "    </tr>\n",
       "    <tr>\n",
       "      <th>1</th>\n",
       "      <td>0.002*construction</td>\n",
       "      <td>0.002*financial</td>\n",
       "      <td>0.002*model</td>\n",
       "      <td>0.002*bell</td>\n",
       "      <td>0.003*restaurant</td>\n",
       "    </tr>\n",
       "    <tr>\n",
       "      <th>2</th>\n",
       "      <td>0.002*microsoft</td>\n",
       "      <td>0.002*analytics</td>\n",
       "      <td>0.002*client</td>\n",
       "      <td>0.002*rbc</td>\n",
       "      <td>0.002*td</td>\n",
       "    </tr>\n",
       "    <tr>\n",
       "      <th>3</th>\n",
       "      <td>0.002*dam</td>\n",
       "      <td>0.002*client</td>\n",
       "      <td>0.002*game</td>\n",
       "      <td>0.002*financial</td>\n",
       "      <td>0.002*accenture</td>\n",
       "    </tr>\n",
       "    <tr>\n",
       "      <th>4</th>\n",
       "      <td>0.002*robot</td>\n",
       "      <td>0.002*analyst</td>\n",
       "      <td>0.002*product</td>\n",
       "      <td>0.001*marketing</td>\n",
       "      <td>0.002*food</td>\n",
       "    </tr>\n",
       "    <tr>\n",
       "      <th>5</th>\n",
       "      <td>0.002*yelp</td>\n",
       "      <td>0.002*sale</td>\n",
       "      <td>0.002*design</td>\n",
       "      <td>0.001*accounting</td>\n",
       "      <td>0.002*food_accessible</td>\n",
       "    </tr>\n",
       "    <tr>\n",
       "      <th>6</th>\n",
       "      <td>0.002*design</td>\n",
       "      <td>0.002*report</td>\n",
       "      <td>0.002*science</td>\n",
       "      <td>0.001*file</td>\n",
       "      <td>0.002*cultivating_better_world</td>\n",
       "    </tr>\n",
       "    <tr>\n",
       "      <th>7</th>\n",
       "      <td>0.002*robert_half</td>\n",
       "      <td>0.002*customer</td>\n",
       "      <td>0.002*engineer</td>\n",
       "      <td>0.001*account</td>\n",
       "      <td>0.002*crew</td>\n",
       "    </tr>\n",
       "    <tr>\n",
       "      <th>8</th>\n",
       "      <td>0.002*civil_engineering</td>\n",
       "      <td>0.002*account</td>\n",
       "      <td>0.002*engineering</td>\n",
       "      <td>0.001*analyze</td>\n",
       "      <td>0.002*de</td>\n",
       "    </tr>\n",
       "    <tr>\n",
       "      <th>9</th>\n",
       "      <td>0.002*project</td>\n",
       "      <td>0.002*process</td>\n",
       "      <td>0.002*scientist</td>\n",
       "      <td>0.001*analysis</td>\n",
       "      <td>0.001*least_years</td>\n",
       "    </tr>\n",
       "  </tbody>\n",
       "</table>\n",
       "</div>"
      ],
      "text/plain": [
       "                   topic_1           topic_2                 topic_3  \\\n",
       "0       0.003*geotechnical  0.003*accounting  0.003*machine_learning   \n",
       "1       0.002*construction   0.002*financial             0.002*model   \n",
       "2          0.002*microsoft   0.002*analytics            0.002*client   \n",
       "3                0.002*dam      0.002*client              0.002*game   \n",
       "4              0.002*robot     0.002*analyst           0.002*product   \n",
       "5               0.002*yelp        0.002*sale            0.002*design   \n",
       "6             0.002*design      0.002*report           0.002*science   \n",
       "7        0.002*robert_half    0.002*customer          0.002*engineer   \n",
       "8  0.002*civil_engineering     0.002*account       0.002*engineering   \n",
       "9            0.002*project     0.002*process         0.002*scientist   \n",
       "\n",
       "            topic_4                         topic_5  \n",
       "0       0.004*agoda                  0.006*chipotle  \n",
       "1        0.002*bell                0.003*restaurant  \n",
       "2         0.002*rbc                        0.002*td  \n",
       "3   0.002*financial                 0.002*accenture  \n",
       "4   0.001*marketing                      0.002*food  \n",
       "5  0.001*accounting           0.002*food_accessible  \n",
       "6        0.001*file  0.002*cultivating_better_world  \n",
       "7     0.001*account                      0.002*crew  \n",
       "8     0.001*analyze                        0.002*de  \n",
       "9    0.001*analysis               0.001*least_years  "
      ]
     },
     "execution_count": 286,
     "metadata": {},
     "output_type": "execute_result"
    },
    {
     "data": {
      "image/png": "[encoded data removed]",
      "text/plain": [
       "<Figure size 432x288 with 1 Axes>"
      ]
     },
     "metadata": {
      "needs_background": "light"
     },
     "output_type": "display_data"
    }
   ],
   "source": [
    "# display topics:\n",
    "best_model = model_list[3]\n",
    "topics = best_model.print_topics(num_words=10)\n",
    "topics_df = pd.DataFrame(topics)\n",
    "topics_df = topics_df[1].str.replace(\"\\\\s\\\\+\", \"\", regex=True).str.replace('\\\\\"', \"\").str.split(\" \", expand=True).T\n",
    "topics_df.columns = [f\"topic_{t+1}\" for t in topics_df.columns]\n",
    "\n",
    "doc_topics = np.argmax(best_model.get_topics(), axis=0)\n",
    "plt.bar(height=np.bincount(doc_topics), x=list(range(1, best_model.num_topics+1)));\n",
    "    \n",
    "topics_df"
   ]
  },
  {
   "cell_type": "markdown",
   "metadata": {},
   "source": [
    "# Lessons Learned"
   ]
  },
  {
   "cell_type": "markdown",
   "metadata": {},
   "source": [
    "- Using TF-IDF versus just TF increased coherence score and seemed to increase interpretability in topics\n",
    "- Using bi- and tr- grams improved coherence score, as well as tuning the threshold parameters\n",
    "- Increasing LDA passes > 4 increases coherence and interpretability, but passes = 10 seems to overfit the data and the topics end up being specific to companies (i.e., topic words are bell, microsoft, rogers, etc.\n",
    "- Coherence score cannot be relied on completely, sometimes the topics are not great, or the best model may not include a topic I know is there (i.e., Civil Engineering, which I purposely put in, around 11% of total dataset)."
   ]
  },
  {
   "cell_type": "markdown",
   "metadata": {},
   "source": [
    "# Observations"
   ]
  },
  {
   "cell_type": "markdown",
   "metadata": {},
   "source": [
    "Improved model coherence score and subjective results by using TF-IDF, decreasing the bi- and tri-gram model parameters, increasing passes and iterations of LDA model. LDA model seems to be able to tease out the major topics, which seem possible:<br>\n",
    "1. Accountant\n",
    "2. Food/Restaurant Work\n",
    "3. Management Consulting (Deloitte?)\n",
    "4. Health Related Research (this may be a slightly unstable category, probably related to Data Scientist)\n",
    "5. Geotechnical/Civil Engineer\n",
    "6. Data Scientist\n",
    "7. Civil Engineer\n",
    "<br>\n",
    "It appears that this model was reasonably successful, there are some clear topics but at the same time it would appear that some of the topics overlap.\n",
    "\n",
    "<br><br>\n",
    "Further Research<br>\n",
    "Look into whether the job title matches the topics produced using the LDA model."
   ]
  },
  {
   "cell_type": "code",
   "execution_count": null,
   "metadata": {},
   "outputs": [],
   "source": []
  }
 ],
 "metadata": {
  "kernelspec": {
   "display_name": "Python 3",
   "language": "python",
   "name": "python3"
  },
  "language_info": {
   "codemirror_mode": {
    "name": "ipython",
    "version": 3
   },
   "file_extension": ".py",
   "mimetype": "text/x-python",
   "name": "python",
   "nbconvert_exporter": "python",
   "pygments_lexer": "ipython3",
   "version": "3.7.0"
  },
  "toc": {
   "base_numbering": 1,
   "nav_menu": {},
   "number_sections": true,
   "sideBar": true,
   "skip_h1_title": false,
   "title_cell": "Table of Contents",
   "title_sidebar": "Contents",
   "toc_cell": false,
   "toc_position": {},
   "toc_section_display": true,
   "toc_window_display": false
  }
 },
 "nbformat": 4,
 "nbformat_minor": 2
}
