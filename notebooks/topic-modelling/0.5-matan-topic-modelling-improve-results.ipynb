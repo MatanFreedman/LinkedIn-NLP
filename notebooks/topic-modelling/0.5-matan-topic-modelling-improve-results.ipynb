{
 "cells": [
  {
   "cell_type": "code",
   "execution_count": 1,
   "metadata": {
    "ExecuteTime": {
     "end_time": "2021-03-29T19:55:06.838782Z",
     "start_time": "2021-03-29T19:55:06.778908Z"
    }
   },
   "outputs": [],
   "source": [
    "# OPTIONAL: Load the \"autoreload\" extension so that code can change\n",
    "%load_ext autoreload\n",
    "\n",
    "# OPTIONAL: always reload modules so that as you change code in src, it gets loaded\n",
    "%autoreload 2"
   ]
  },
  {
   "cell_type": "markdown",
   "metadata": {},
   "source": [
    "# Load Libraries"
   ]
  },
  {
   "cell_type": "code",
   "execution_count": 2,
   "metadata": {
    "ExecuteTime": {
     "end_time": "2021-03-29T19:55:12.397120Z",
     "start_time": "2021-03-29T19:55:07.658968Z"
    }
   },
   "outputs": [
    {
     "name": "stderr",
     "output_type": "stream",
     "text": [
      "[nltk_data] Downloading package stopwords to\n",
      "[nltk_data]     C:\\Users\\matan\\AppData\\Roaming\\nltk_data...\n",
      "[nltk_data]   Package stopwords is already up-to-date!\n",
      "[nltk_data] Downloading package averaged_perceptron_tagger to\n",
      "[nltk_data]     C:\\Users\\matan\\AppData\\Roaming\\nltk_data...\n",
      "[nltk_data]   Package averaged_perceptron_tagger is already up-to-\n",
      "[nltk_data]       date!\n",
      "[nltk_data] Downloading package wordnet to\n",
      "[nltk_data]     C:\\Users\\matan\\AppData\\Roaming\\nltk_data...\n",
      "[nltk_data]   Package wordnet is already up-to-date!\n"
     ]
    }
   ],
   "source": [
    "from sklearn.decomposition import PCA \n",
    "from sklearn.metrics import silhouette_score\n",
    "import matplotlib.pyplot as plt \n",
    "\n",
    "from src.features import build_features\n",
    "\n",
    "import logging \n",
    "from pathlib import Path\n",
    "\n",
    "import scipy\n",
    "import pickle\n",
    "import datetime\n",
    "import numpy as np\n",
    "\n",
    "logging.basicConfig(level=logging.ERROR)"
   ]
  },
  {
   "cell_type": "code",
   "execution_count": 3,
   "metadata": {
    "ExecuteTime": {
     "end_time": "2021-03-29T19:55:16.227407Z",
     "start_time": "2021-03-29T19:55:14.218021Z"
    }
   },
   "outputs": [],
   "source": [
    "from gensim.models import LdaModel\n",
    "from gensim.models.coherencemodel import CoherenceModel\n",
    "from gensim.matutils import Sparse2Corpus\n",
    "from gensim.corpora import Dictionary\n",
    "from gensim import corpora\n",
    "import gensim\n",
    "from gensim.utils import simple_preprocess\n",
    "from gensim import models\n",
    "\n",
    "import pandas as pd\n",
    "\n",
    "import re\n",
    "\n",
    "from nltk.corpus import stopwords\n",
    "from src.data.make_dataset import lematize\n",
    "\n",
    "from sklearn.decomposition import TruncatedSVD\n",
    "\n",
    "import pyLDAvis\n",
    "import pyLDAvis.gensim \n",
    "\n",
    "from src.data.DBConnection import DBConnection\n",
    "db = DBConnection()"
   ]
  },
  {
   "cell_type": "code",
   "execution_count": 10,
   "metadata": {
    "ExecuteTime": {
     "end_time": "2021-03-29T20:02:29.537409Z",
     "start_time": "2021-03-29T20:02:29.447980Z"
    }
   },
   "outputs": [
    {
     "name": "stderr",
     "output_type": "stream",
     "text": [
      "c:\\users\\matan\\github\\linkedin-nlp\\venv\\lib\\site-packages\\ipykernel\\ipkernel.py:283: DeprecationWarning: `should_run_async` will not call `transform_cell` automatically in the future. Please pass the result to `transformed_cell` argument and any exception that happen during thetransform in `preprocessing_exc_tuple` in IPython 7.17 and above.\n",
      "  and should_run_async(code)\n"
     ]
    }
   ],
   "source": [
    "logging.getLogger().setLevel(logging.ERROR)"
   ]
  },
  {
   "cell_type": "markdown",
   "metadata": {},
   "source": [
    "# Build Features"
   ]
  },
  {
   "cell_type": "code",
   "execution_count": 4,
   "metadata": {
    "ExecuteTime": {
     "end_time": "2021-03-29T19:55:16.346921Z",
     "start_time": "2021-03-29T19:55:16.229077Z"
    }
   },
   "outputs": [
    {
     "name": "stderr",
     "output_type": "stream",
     "text": [
      "c:\\users\\matan\\github\\linkedin-nlp\\venv\\lib\\site-packages\\ipykernel\\ipkernel.py:283: DeprecationWarning: `should_run_async` will not call `transform_cell` automatically in the future. Please pass the result to `transformed_cell` argument and any exception that happen during thetransform in `preprocessing_exc_tuple` in IPython 7.17 and above.\n",
      "  and should_run_async(code)\n"
     ]
    }
   ],
   "source": [
    "sql = \"SELECT details FROM positions;\"\n",
    "query = db.cur.execute(sql)\n",
    "documents = query.fetchall()"
   ]
  },
  {
   "cell_type": "code",
   "execution_count": 5,
   "metadata": {
    "ExecuteTime": {
     "end_time": "2021-03-29T19:56:42.027151Z",
     "start_time": "2021-03-29T19:56:41.927749Z"
    },
    "scrolled": false
   },
   "outputs": [
    {
     "name": "stderr",
     "output_type": "stream",
     "text": [
      "c:\\users\\matan\\github\\linkedin-nlp\\venv\\lib\\site-packages\\ipykernel\\ipkernel.py:283: DeprecationWarning: `should_run_async` will not call `transform_cell` automatically in the future. Please pass the result to `transformed_cell` argument and any exception that happen during thetransform in `preprocessing_exc_tuple` in IPython 7.17 and above.\n",
      "  and should_run_async(code)\n"
     ]
    }
   ],
   "source": [
    "def process_documents(documents):\n",
    "    # try new preprocessing steps:\n",
    "    data = list(documents)\n",
    "    # remove \\n\n",
    "    data = [text[0].replace(\"\\n\", \" \") for text in data]\n",
    "    # remove https:// links \n",
    "    data = [re.sub(r\"((https{0,1}\\:/\\/\\w{3}\\S+)|(w{3}\\S+))\", \"\", text) for text in data]\n",
    "    # remove emails:\n",
    "    data = [re.sub(r\"(\\S+@\\S+)\", \"\", text) for text in data]\n",
    "    # remove phone numbers:\n",
    "    data = [re.sub(r\"([\\+\\s01-]*\\(*\\d{3}\\)*[-\\s]\\d{3}[-\\s]\\d{4})\", \"\", text) for text in data]\n",
    "    # remove uf0b7\n",
    "    data = [re.sub(r\"(\\uf0b7)\", \"\", text) for text in data]\n",
    "    # remove handles:\n",
    "    data = [re.sub(r\"(\\@\\S+)\", \"\", text) for text in data]\n",
    "    # remove french documents\n",
    "    data = [doc for doc in data if \"une\" not in doc and \"connaissance\" not in doc]\n",
    "    return data\n",
    "\n",
    "def docs_to_words(documents):\n",
    "    for doc in documents:\n",
    "        yield(gensim.utils.simple_preprocess(str(doc), deacc=True))  # deacc=True removes punctuations\n",
    "        \n",
    "# Define functions for stopwords, bigrams, trigrams and lemmatization\n",
    "def remove_stopwords(texts):\n",
    "    return [[word for word in simple_preprocess(str(doc)) if word not in stop_words] for doc in texts]\n",
    "\n",
    "def make_bigrams(texts):\n",
    "    return [bigram_mod[doc] for doc in texts]\n",
    "\n",
    "def make_trigrams(texts):\n",
    "    return [trigram_mod[bigram_mod[doc]] for doc in texts]"
   ]
  },
  {
   "cell_type": "code",
   "execution_count": 192,
   "metadata": {
    "ExecuteTime": {
     "end_time": "2021-03-29T21:04:12.074965Z",
     "start_time": "2021-03-29T21:04:09.370249Z"
    }
   },
   "outputs": [
    {
     "name": "stderr",
     "output_type": "stream",
     "text": [
      "c:\\users\\matan\\github\\linkedin-nlp\\venv\\lib\\site-packages\\ipykernel\\ipkernel.py:283: DeprecationWarning: `should_run_async` will not call `transform_cell` automatically in the future. Please pass the result to `transformed_cell` argument and any exception that happen during thetransform in `preprocessing_exc_tuple` in IPython 7.17 and above.\n",
      "  and should_run_async(code)\n"
     ]
    }
   ],
   "source": [
    "# get stop words and add some super-common words amoung the documents\n",
    "stop_words = stopwords.words('english')\n",
    "# stop_words.extend([\"work\", \"experience\", \"team\", \"technology\", \"skill\", \"information\", \"project\", \"projects\", \"skills\"])\n",
    "stop_words.extend([\"data\", \"yelp\", \"agoda\"])\n",
    "\n",
    "\n",
    "# clean all the documents (i.e., use regex to remove emails, urls, phone numbers, french documents, etc.)\n",
    "clean_docs = process_documents(documents)\n",
    "\n",
    "# use simple_preprocess to remove punctuation:\n",
    "data_words = list(docs_to_words(clean_docs))\n",
    "\n",
    "# Count word frequencies\n",
    "from collections import defaultdict\n",
    "frequency = defaultdict(int)\n",
    "for text in data_words:\n",
    "    for token in text:\n",
    "        frequency[token] += 1\n",
    "        \n",
    "frequency_threshold = 15\n",
    "processed_corpus = [[token for token in text if frequency[token] > frequency_threshold] for text in data_words]"
   ]
  },
  {
   "cell_type": "code",
   "execution_count": 193,
   "metadata": {
    "ExecuteTime": {
     "end_time": "2021-03-29T21:04:41.029782Z",
     "start_time": "2021-03-29T21:04:12.074965Z"
    }
   },
   "outputs": [
    {
     "name": "stderr",
     "output_type": "stream",
     "text": [
      "c:\\users\\matan\\github\\linkedin-nlp\\venv\\lib\\site-packages\\ipykernel\\ipkernel.py:283: DeprecationWarning: `should_run_async` will not call `transform_cell` automatically in the future. Please pass the result to `transformed_cell` argument and any exception that happen during thetransform in `preprocessing_exc_tuple` in IPython 7.17 and above.\n",
      "  and should_run_async(code)\n"
     ]
    },
    {
     "name": "stdout",
     "output_type": "stream",
     "text": [
      "Wall time: 28.9 s\n"
     ]
    }
   ],
   "source": [
    "%%time\n",
    "# Build the bigram and trigram models\n",
    "bigram = gensim.models.Phrases(processed_corpus, min_count=5, threshold=10) # higher threshold fewer phrases.\n",
    "trigram = gensim.models.Phrases(bigram[processed_corpus], threshold=25)  \n",
    "\n",
    "# Faster way to get a sentence clubbed as a trigram/bigram\n",
    "bigram_mod = gensim.models.phrases.Phraser(bigram)\n",
    "trigram_mod = gensim.models.phrases.Phraser(trigram)\n",
    "\n",
    "# Remove Stop Words\n",
    "data_words_nostops = remove_stopwords(processed_corpus)\n",
    "\n",
    "# Form Bigrams\n",
    "data_words_bigrams = make_bigrams(data_words_nostops)\n",
    "\n",
    "# Form trigrams:\n",
    "data_words_trigrams = make_trigrams(data_words_bigrams)\n",
    "\n",
    "# Lematize docs:\n",
    "data_lemmatized = [lematize(words).split(\" \") for words in data_words_trigrams]\n",
    "\n",
    "# Create Dictionary\n",
    "id2word = Dictionary(data_lemmatized)\n",
    "\n",
    "# Create Corpus\n",
    "texts = data_lemmatized\n",
    "\n",
    "# Bag of words:\n",
    "corpus = [id2word.doc2bow(text) for text in texts]\n",
    "\n",
    "# TF-IDF matrix:\n",
    "tfidf = models.TfidfModel(corpus)\n",
    "tfidf_corpus = tfidf[corpus]"
   ]
  },
  {
   "cell_type": "code",
   "execution_count": 194,
   "metadata": {
    "ExecuteTime": {
     "end_time": "2021-03-29T21:05:44.055648Z",
     "start_time": "2021-03-29T21:04:41.031838Z"
    },
    "code_folding": [],
    "scrolled": false
   },
   "outputs": [
    {
     "name": "stderr",
     "output_type": "stream",
     "text": [
      "c:\\users\\matan\\github\\linkedin-nlp\\venv\\lib\\site-packages\\ipykernel\\ipkernel.py:283: DeprecationWarning: `should_run_async` will not call `transform_cell` automatically in the future. Please pass the result to `transformed_cell` argument and any exception that happen during thetransform in `preprocessing_exc_tuple` in IPython 7.17 and above.\n",
      "  and should_run_async(code)\n"
     ]
    },
    {
     "name": "stdout",
     "output_type": "stream",
     "text": [
      "Wall time: 1min 2s\n"
     ]
    },
    {
     "data": {
      "text/plain": [
       "<matplotlib.legend.Legend at 0x21bd43a2908>"
      ]
     },
     "execution_count": 194,
     "metadata": {},
     "output_type": "execute_result"
    },
    {
     "data": {
      "image/png": "[encoded data removed]",
      "text/plain": [
       "<Figure size 432x288 with 1 Axes>"
      ]
     },
     "metadata": {
      "needs_background": "light"
     },
     "output_type": "display_data"
    }
   ],
   "source": [
    "%%time\n",
    "# determine optimal number of topics using coherence score:\n",
    "coherence_vals = []\n",
    "model_list =[]\n",
    "start = 2\n",
    "stop = 10\n",
    "step = 1\n",
    "\n",
    "for num_topics in range(start, stop, step):\n",
    "    # make LDa model and calc coherence:\n",
    "    model = LdaModel(corpus=tfidf_corpus, id2word=id2word, num_topics=num_topics)\n",
    "    model_list.append(model)\n",
    "    coherence_model = CoherenceModel(model=model, texts=texts, dictionary=id2word, coherence='c_v', processes=1)\n",
    "    coherence_vals.append(coherence_model.get_coherence())\n",
    "    \n",
    "x = range(start, stop, step)\n",
    "plt.plot(x, coherence_vals)\n",
    "plt.xlabel(\"Number of Topics\")\n",
    "plt.ylabel(\"Coherence score\")\n",
    "plt.legend()"
   ]
  },
  {
   "cell_type": "code",
   "execution_count": 195,
   "metadata": {
    "ExecuteTime": {
     "end_time": "2021-03-29T21:05:44.170307Z",
     "start_time": "2021-03-29T21:05:44.055648Z"
    },
    "scrolled": false
   },
   "outputs": [
    {
     "name": "stderr",
     "output_type": "stream",
     "text": [
      "c:\\users\\matan\\github\\linkedin-nlp\\venv\\lib\\site-packages\\ipykernel\\ipkernel.py:283: DeprecationWarning: `should_run_async` will not call `transform_cell` automatically in the future. Please pass the result to `transformed_cell` argument and any exception that happen during thetransform in `preprocessing_exc_tuple` in IPython 7.17 and above.\n",
      "  and should_run_async(code)\n"
     ]
    }
   ],
   "source": [
    "best_model = model_list[coherence_vals.index(max(coherence_vals))]"
   ]
  },
  {
   "cell_type": "code",
   "execution_count": 196,
   "metadata": {
    "ExecuteTime": {
     "end_time": "2021-03-29T21:05:46.979940Z",
     "start_time": "2021-03-29T21:05:44.170307Z"
    }
   },
   "outputs": [
    {
     "name": "stderr",
     "output_type": "stream",
     "text": [
      "c:\\users\\matan\\github\\linkedin-nlp\\venv\\lib\\site-packages\\ipykernel\\ipkernel.py:283: DeprecationWarning: `should_run_async` will not call `transform_cell` automatically in the future. Please pass the result to `transformed_cell` argument and any exception that happen during thetransform in `preprocessing_exc_tuple` in IPython 7.17 and above.\n",
      "  and should_run_async(code)\n"
     ]
    },
    {
     "data": {
      "text/html": [
       "\n",
       "<link rel=\"stylesheet\" type=\"text/css\" href=\"https://cdn.jsdelivr.net/gh/bmabey/pyLDAvis@3.2.2/pyLDAvis/js/ldavis.v1.0.0.css\">\n",
       "\n",
       "\n",
       "<div id=\"ldavis_el1734823185481613045308362868\"></div>\n",
       "<script type=\"text/javascript\">\n",
       "\n",
       "var ldavis_el1734823185481613045308362868_data = {\"mdsDat\": {\"x\": [-0.006339368056093435, -0.001311678288713248, -0.00690006964803975, 0.016181949902550598, -0.0016308339097041624], \"y\": [0.006375022257956304, -0.013849402800134246, -0.0033164217430385764, 0.0009522440143874262, 0.00983855827082909], \"topics\": [1, 2, 3, 4, 5], \"cluster\": [1, 1, 1, 1, 1], \"Freq\": [27.91639743206355, 27.110906988766736, 18.082259531624093, 14.245027534681325, 12.64540851286429]}, \"tinfo\": {\"Term\": [\"security\", \"chipotle\", \"td\", \"accounting\", \"mozilla\", \"de\", \"netskope\", \"food\", \"render\", \"square\", \"brookfield\", \"fraud_detection\", \"model\", \"crew\", \"climate\", \"car\", \"construction\", \"financial\", \"game\", \"drop\", \"bba\", \"et\", \"teck\", \"catalogue\", \"aws\", \"cultivating_better_world\", \"group\", \"altus_group\", \"client\", \"cloud\", \"catalogue\", \"governance_catalogue\", \"suse\", \"twitter\", \"discuss\", \"sanctuary\", \"entities_systems\", \"shaw\", \"ibm\", \"soti\", \"wsp\", \"react\", \"elite\", \"shopping\", \"live_ops\", \"index_exchange\", \"ux\", \"wireless\", \"customer_behavior\", \"invest_ottawa\", \"privacy\", \"beverage\", \"autonomously_perform\", \"create_general_purpose\", \"sanctuary_mission\", \"robot\", \"telus\", \"mobile_app\", \"couchbase\", \"metadata\", \"ubisoft\", \"content\", \"rbc\", \"rapidly_growing\", \"mobile\", \"marketing\", \"tech\", \"governance\", \"define\", \"product\", \"event\", \"customer\", \"methodology\", \"analytics\", \"solution\", \"bell\", \"technology\", \"machine_learning\", \"quality\", \"across\", \"test\", \"system\", \"user\", \"model\", \"partner\", \"ai\", \"analyst\", \"engineering\", \"client\", \"business\", \"design\", \"build\", \"create\", \"research\", \"project\", \"drive\", \"science\", \"tool\", \"technical\", \"process\", \"use\", \"engineer\", \"sale\", \"fraud_detection\", \"wysdom\", \"realtor_com\", \"rock_mechanics\", \"conversational_ai\", \"injection\", \"wysdom_ai\", \"thinking_capital\", \"meter\", \"robert_half\", \"equitable_life\", \"ai_toolkits\", \"hr\", \"reinsurance\", \"gl\", \"setup\", \"wsib\", \"junior_accountant\", \"earth\", \"iam\", \"protected_status\", \"canadian_small_businesses\", \"sex_sexual_orientation\", \"operational_efficiency\", \"ritual\", \"age_race_colour_national\", \"key_member\", \"requisition_id_job_category\", \"fostering_workforce\", \"origin_citizenship_religion_creed\", \"mcelhanney\", \"sheet\", \"touchbistro\", \"month_end\", \"accounting\", \"drainage\", \"measurement\", \"civil_engineer\", \"reconciliation\", \"account\", \"financial\", \"prepare\", \"tax\", \"energy\", \"financial_services\", \"client\", \"construction\", \"finance\", \"project\", \"design\", \"review\", \"accountant\", \"software\", \"assist\", \"business\", \"engineering\", \"report\", \"asset\", \"proficiency\", \"solution\", \"engineer\", \"research\", \"analytics\", \"operation\", \"ability\", \"technical\", \"product\", \"management\", \"science\", \"analysis\", \"model\", \"customer\", \"machine_learning\", \"scientist\", \"analyst\", \"render\", \"drop\", \"mobsquad\", \"jll\", \"car\", \"lafarge\", \"php\", \"recipe\", \"dillon\", \"sun_life\", \"express_scripts_canada\", \"matrix\", \"trading\", \"phsa\", \"criminal_record_check\", \"drug\", \"corporation\", \"splunk_datadog\", \"pre_employment\", \"thescore\", \"retirement\", \"good_communication_skills\", \"credit_risk\", \"graphic\", \"capital_markets\", \"apollo\", \"hbc\", \"cyber_security\", \"test_scenarios\", \"contract_document_preparation\", \"regulatory\", \"ml_dl\", \"vehicle\", \"pointclickcare\", \"health\", \"machine_learning\", \"plus\", \"model\", \"ai\", \"environmental\", \"financial\", \"game\", \"disability\", \"security\", \"aws\", \"test\", \"research\", \"canada\", \"ml\", \"benefit\", \"analysis\", \"science\", \"business\", \"accounting\", \"scientist\", \"engineering\", \"product\", \"customer\", \"analyst\", \"sale\", \"use\", \"program\", \"analytics\", \"project\", \"account\", \"software\", \"solution\", \"development\", \"company\", \"client\", \"develop\", \"report\", \"brookfield\", \"nielseniq\", \"uhn\", \"teck\", \"triplelift\", \"personalized_recommendation\", \"cancer\", \"altus_group\", \"ttc\", \"ludia\", \"chipotle\", \"engineering_information\", \"canadian_corporation\", \"north_york_general\", \"cultivating_better_world\", \"tc\", \"holding\", \"tailing\", \"gameplay_engineer\", \"crew\", \"retailer\", \"boldly\", \"mufg\", \"mufg_investor_services\", \"facebook_twitter\", \"microsoft_dynamics\", \"hardware_computer\", \"erp_system\", \"optimize_campaigns\", \"hospital\", \"nation\", \"food_beverage\", \"transportation\", \"food\", \"construction\", \"preparation\", \"functions_information_technology\", \"client\", \"restaurant\", \"game\", \"quality\", \"geotechnical\", \"project\", \"accounting\", \"design\", \"science\", \"report\", \"marketing\", \"analysis\", \"product\", \"database\", \"process\", \"user\", \"analyst\", \"review\", \"business\", \"sale\", \"research\", \"engineering\", \"growth\", \"system\", \"analytics\", \"service\", \"development\", \"insight\", \"financial\", \"ability\", \"netskope\", \"bba\", \"et\", \"mozilla\", \"america_united_states\", \"ciena\", \"climate\", \"cloud_security\", \"td\", \"la\", \"canadian_premier\", \"loblaw\", \"applying_ai_ml\", \"category\", \"de\", \"climate_change\", \"happiness\", \"natural_language\", \"complete_review\", \"org\", \"en\", \"wherever\", \"security_domain_knowledge\", \"harassment_based\", \"spss\", \"hydraulic\", \"managed\", \"growing_rapidly\", \"plant_controller_costing_manager\", \"club\", \"le\", \"square\", \"security\", \"claim\", \"winnipeg\", \"cloud\", \"threat\", \"production\", \"model\", \"group\", \"revenue\", \"like\", \"create\", \"professional\", \"client\", \"business\", \"platform\", \"canada\", \"customer\", \"product\", \"build\", \"management\", \"insight\", \"service\", \"new\", \"analytics\", \"building\", \"machine_learning\", \"scientist\", \"design\", \"people\", \"use\", \"project\", \"engineering\", \"tool\", \"system\", \"solution\", \"report\"], \"Freq\": [8.0, 4.0, 2.0, 14.0, 2.0, 2.0, 1.0, 5.0, 2.0, 3.0, 1.0, 3.0, 14.0, 2.0, 1.0, 2.0, 9.0, 13.0, 8.0, 1.0, 1.0, 1.0, 1.0, 2.0, 5.0, 2.0, 8.0, 1.0, 17.0, 6.0, 2.017939913284559, 1.5257132698555327, 1.0144048021575278, 1.5315944079611095, 0.9376365532424745, 1.3568346388440715, 0.854437263058435, 1.2777397645016324, 2.351793960128883, 1.6514964084712942, 0.9975698804663572, 1.8122077685542675, 1.0834138135349898, 0.9814203228096811, 0.674712634530846, 1.0313680960863865, 1.1094640557472097, 1.1970153784189195, 0.8886999298228377, 1.194444826319013, 1.9438978750904508, 0.6913734477332311, 0.7698244216913215, 0.7695299520916326, 0.7687710798998537, 1.3526997321684062, 1.2565485377218397, 0.803195959843574, 0.704390169294288, 1.1521136439708493, 1.2046327461839978, 2.5206890989167485, 1.4679433352817637, 1.302270223134386, 2.1246321969066027, 3.6722379827254246, 2.2308739153373662, 2.893801939606629, 2.8611021708494784, 5.638603912548285, 2.258884698759057, 4.822737943000435, 2.259948964814322, 4.901052387937202, 4.455694331962578, 1.7928101602331243, 3.7895173830877447, 4.629859529815347, 3.368766789667573, 3.219744100533902, 3.257592936065366, 3.7968514968306324, 3.289035783306152, 4.176282931700813, 3.2099594559360263, 3.2657772973976607, 3.677187208300675, 3.863930554937256, 4.398641903035009, 4.005176916129528, 3.8837930999256076, 3.420068686132296, 3.1380632344653896, 3.529555250776813, 3.8535337631484685, 3.1880563555749246, 3.4568701518031677, 3.2707708026555027, 3.259883827012064, 3.2791004324201585, 3.1958453071100443, 3.2020759245525645, 3.191275954601235, 2.735351999911887, 1.1564025836865008, 1.5572308341133074, 1.3822522808266158, 1.0805338570018754, 1.295878039830876, 1.0170657525761226, 1.6327735562111791, 0.9569429436986765, 1.7805774535137058, 0.8108393248743584, 0.7028072798851869, 2.365748425425076, 0.9920868416882753, 1.353604615977802, 1.2380983712389568, 0.948997465984785, 0.9913934336100575, 1.2035974293594205, 0.9630489520838971, 0.7002573336815952, 0.7014665306193005, 0.7101634125991025, 0.9074055235566953, 1.4908186923158855, 0.640791249114867, 1.0928723337523099, 0.616248865629994, 0.6144414592343564, 0.6311021136604277, 1.8434324957993125, 0.9188899003527684, 1.037453157150853, 2.0390454325478355, 6.59387872867765, 1.397779039056238, 1.703036456265904, 1.667573343487135, 2.443697376344355, 4.506341882026674, 5.564928661367236, 4.059621106824566, 2.091452862407276, 2.4016613622937535, 2.0616013287258053, 5.790754688518553, 3.5030123614757502, 3.6994008439927026, 4.876815870842596, 4.583018311715507, 3.336792835677299, 2.5474047446351675, 3.8995244696025497, 3.433857141454583, 4.355118001402421, 4.0852650406646225, 3.71938887644568, 3.413371567723124, 2.5243641323519292, 3.776905251775749, 3.4084459467872508, 3.5664102103570623, 3.895224264466315, 3.1629581746779434, 3.163760879636707, 3.214047629384226, 3.8627407411937846, 3.2354539751102065, 3.4305784236436923, 3.3385072595671397, 3.571265670051239, 3.493010235213259, 3.506455166061576, 3.183806625369144, 3.177681096315871, 1.468069565896518, 1.193545504335054, 0.9541946986074538, 0.8274017583280292, 1.5224933385736474, 0.9828326586447704, 0.7386757964890255, 0.8898138835030052, 0.8166030223340585, 0.7697481391151697, 0.5807390620895306, 0.8666291316728858, 0.7814692660936681, 0.8921906520351109, 0.5279015628955096, 0.9259178327837186, 1.158031092776671, 0.8090869038295181, 0.5230849082484156, 0.6397102569139745, 0.5915423895967555, 0.8356928362134332, 0.7310855847980021, 0.767152487485474, 1.145418771944796, 0.572928583557197, 0.6388190001631558, 0.5335985615872638, 0.44552591547661247, 0.42592443090790044, 1.428384299175094, 0.6123491778433743, 1.058533503741128, 0.8898560247890355, 1.9749434447296799, 3.6961893030438095, 2.210242523049077, 3.611349208058887, 2.6568146116757507, 1.3046032657954367, 3.21143393860676, 2.2047533375051493, 1.9535214566044614, 2.1111669758482545, 1.5723583046664904, 2.164918626461923, 2.538188778423871, 2.2019808182690106, 1.7439354814821149, 1.9247579532732397, 2.4810545033882527, 2.4982813579378815, 2.728099804765441, 2.6329025138282374, 2.2749159370529473, 2.4468023176926383, 2.6482034487088426, 2.4695888029210513, 2.3190447822452143, 2.1857173009385447, 2.143717408357549, 2.06796888700028, 2.4400451197212933, 2.413072683943799, 2.1119318087409824, 2.1725070770245747, 2.2232414115584773, 2.1246697986616465, 2.120730406084563, 2.306163637746931, 2.0780387674382528, 2.0978182517673614, 1.0567956600960273, 0.7724009616807982, 0.7585318201964174, 0.8477683308170607, 0.5531180726359557, 0.5479294453644931, 0.6499069432822789, 0.7737208743318723, 0.589971125935738, 0.6221670251638256, 1.772037090406697, 0.4047318057205261, 0.4031873325118025, 0.38492204153150344, 0.8411975065562703, 0.4326550588044037, 0.4453603205582838, 0.5210951028752548, 0.4597332367976563, 1.0856696288506067, 0.6725221536172148, 0.385787655093255, 0.5592406676812788, 0.5587950150653257, 0.38448226058944296, 0.4205022298963388, 0.3301642229834297, 0.45761408279731336, 0.38202557205275656, 0.6651137363143884, 0.6482651538919084, 0.5684956644858538, 1.0709230561317031, 1.591539852947163, 1.945351263920905, 1.456957519728412, 0.8537246360937449, 2.741180006233394, 1.5772369508445863, 1.649961868529196, 1.7451036974861391, 1.071285266563393, 2.2688348103142615, 2.1835224112035596, 2.153606307045519, 2.0038878390813326, 1.9206260167839067, 1.5908693424736164, 1.938766862962675, 2.302456460973463, 1.5573132960020426, 1.7738537912640806, 1.6488997149295104, 1.8414163927222655, 1.58582713542454, 2.002964425455482, 1.6887058981223537, 1.7698327104224272, 1.8018091031919121, 1.5081364167764442, 1.6971496129299306, 1.819408070672875, 1.6155495982190997, 1.6269774116638973, 1.5915939615369585, 1.68420081297198, 1.5629111566463267, 0.9802815917257462, 0.7611069707468222, 0.7276584906919961, 1.0069091395395295, 0.5237276994382967, 0.5104623979558405, 0.8807500220416027, 0.610059594552196, 1.1049138718398224, 0.5591513648100682, 0.45630321683658054, 0.6035646855506409, 0.4053114579347404, 0.6608762017352504, 1.1072215463185715, 0.6371177639950384, 0.6479043299655065, 0.5057282871598892, 0.3805340436205976, 0.48980228063741466, 0.4606498121522449, 0.4977483713331388, 0.30219847106150155, 0.37270121653006516, 0.39443450100944927, 0.5747104852234537, 0.2969438095332623, 0.41086207836299227, 0.2883767263800249, 0.45328675411159497, 0.5162734147113681, 1.0376201592180034, 2.203160893927529, 0.9239772199170881, 0.4947810408205801, 1.4105290770077639, 0.6641155848295998, 1.5209592886491827, 2.3078884260016093, 1.5032915737869892, 1.0745571143268686, 1.2273458029884188, 1.521759303581698, 1.4325353817579927, 2.088878576077073, 1.906984879679868, 1.5155337200382357, 1.485802617484601, 1.7995383173073287, 1.8592626781765178, 1.5342799683370512, 1.5130650572895832, 1.4744124774595928, 1.4761661939407555, 1.4364998278690333, 1.6748002071994308, 1.296785146158297, 1.648801217412129, 1.470117169663794, 1.608057637479768, 1.4059746044889398, 1.401795507351361, 1.5169776880503654, 1.4384753210870413, 1.3633546754807464, 1.3843592461165535, 1.3877954219758069, 1.3675628912616795], \"Total\": [8.0, 4.0, 2.0, 14.0, 2.0, 2.0, 1.0, 5.0, 2.0, 3.0, 1.0, 3.0, 14.0, 2.0, 1.0, 2.0, 9.0, 13.0, 8.0, 1.0, 1.0, 1.0, 1.0, 2.0, 5.0, 2.0, 8.0, 1.0, 17.0, 6.0, 2.5407443217828805, 2.0304298064692192, 1.5191110490253794, 2.326398457421264, 1.4583968589160379, 2.1271134772034546, 1.3577393483785427, 2.0481650745664983, 3.8003886391049226, 2.673822454762707, 1.6454667818482058, 3.0093797834378324, 1.8309125200727667, 1.6779951943773845, 1.1778305991912945, 1.8081402985021013, 1.9472454639288568, 2.1009570415000796, 1.5781313461667292, 2.129765867829958, 3.4773487968325205, 1.2542348668007182, 1.4059174000384447, 1.4057650926119232, 1.4056305452938536, 2.4738002438426943, 2.2979890894948896, 1.4729001397511616, 1.3168091128839279, 2.156294699542746, 2.2768481171990254, 5.04103643207395, 2.871830198066171, 2.5497466342475326, 4.525001558997921, 8.682846860239097, 4.849304205174205, 6.660336428084327, 6.714709829152671, 16.311267241600895, 5.063141254619344, 14.113847882688967, 5.167038609183732, 14.730530049997116, 13.213390313846993, 3.786857701953914, 11.036069435386834, 14.769988391196591, 9.39813317309738, 9.091651286377184, 9.41321707337541, 12.022168609371086, 9.866001410877924, 14.967993269914368, 9.754663715468762, 10.075374528716585, 12.366335914904507, 13.636282337573471, 17.32561881161096, 14.99834402743274, 14.227738222576924, 11.106661625236935, 9.635311332089286, 12.375221440796, 14.929234816299491, 10.023499924944915, 12.69278315647302, 10.903435693500827, 10.849603613034088, 11.271660749869099, 10.614567146386308, 11.17165069303408, 11.045209008972495, 3.5804240565866916, 1.6657213402893207, 2.259889739930881, 2.0273763659711, 1.5896580321431024, 1.9339808681513517, 1.5258737439610277, 2.524914868938042, 1.5249109521634903, 2.9121604268115178, 1.3272594588437547, 1.2118097562431955, 4.136151453750347, 1.7367906617144555, 2.433134347969715, 2.237235007791881, 1.7210082119682142, 1.8088353489737408, 2.196220026218068, 1.7606387752214507, 1.2838267755652784, 1.2860794265815558, 1.324633635719659, 1.705883609122311, 2.8067237998778722, 1.2130039713997343, 2.072053256702859, 1.1726664230953447, 1.1766717344711244, 1.2116319587198252, 3.629546048911501, 1.7791837421201608, 2.0273561906613558, 4.128995800641503, 14.502775947092768, 2.7875247599973565, 3.4713857481388435, 3.3922585265030243, 5.300125132649694, 10.658261022510294, 13.89071017072637, 9.802992052006758, 4.480501963773288, 5.373405135851717, 4.494777525126371, 17.32561881161096, 9.196766215734234, 9.894996233156364, 14.929234816299491, 14.227738222576924, 9.2487931243805, 6.264847980652947, 11.718833306153044, 10.093661756077115, 14.99834402743274, 13.636282337573471, 11.927139201349316, 10.905678953435551, 6.430242546612958, 13.213390313846993, 11.17165069303408, 12.375221440796, 14.730530049997116, 10.102417803465688, 10.248178021279767, 10.849603613034088, 16.311267241600895, 11.055178142308767, 12.69278315647302, 12.180726057247353, 14.967993269914368, 14.113847882688967, 14.769988391196591, 11.142759891617239, 12.366335914904507, 2.1731223719948987, 1.8228461442496204, 1.5135445937480123, 1.386118972256984, 2.7531216511026058, 1.797679146384852, 1.4492257229864587, 1.7887068297768143, 1.7588869910664673, 1.6814390819695408, 1.2746853023904186, 1.9049056461018608, 1.7228028355456233, 1.9777786962646648, 1.1816864312397115, 2.0968529762455232, 2.6316927859960124, 1.8989361270018523, 1.2342793044620979, 1.5284583126783258, 1.4353214963212721, 2.0279927303054426, 1.7767034073365988, 1.871037272537548, 2.8076521798628655, 1.40796243926871, 1.5736489294155498, 1.3182563771943476, 1.1047496129632939, 1.0664560866077577, 3.607829867845216, 1.537987048490203, 2.8468436407015094, 2.3852561173920876, 6.602363366833771, 14.769988391196591, 7.656105837534994, 14.967993269914368, 10.075374528716585, 4.018298994570146, 13.89071017072637, 8.601091450071264, 7.3805749787258765, 8.558820721495302, 5.488176091972216, 9.41321707337541, 12.375221440796, 9.817429031380076, 6.614420628171882, 7.830636874812989, 12.180726057247353, 12.69278315647302, 14.99834402743274, 14.502775947092768, 11.142759891617239, 13.636282337573471, 16.311267241600895, 14.113847882688967, 12.366335914904507, 11.045209008972495, 10.614567146386308, 9.843602909693784, 14.730530049997116, 14.929234816299491, 10.658261022510294, 11.718833306153044, 13.213390313846993, 11.119174946061953, 11.106438113426515, 17.32561881161096, 10.239510291329694, 11.927139201349316, 1.7940610909884012, 1.3559727438862141, 1.3421899859671524, 1.5268819715713093, 1.1366287475061108, 1.130679904353957, 1.4123959580981738, 1.7843330123929273, 1.3707255403871188, 1.4675972452008708, 4.34714774941955, 0.9990237757931442, 0.9959616631604189, 0.967172114877803, 2.136860316914819, 1.1060030907603187, 1.1452039473965294, 1.342688166562246, 1.1963856877653318, 2.9028305716989333, 1.8159747560387893, 1.0483004715249895, 1.5272049381045383, 1.5269143727698606, 1.0549773359600534, 1.1609536920918084, 0.9132363471834051, 1.2816818049046261, 1.0710573945339439, 1.9007395249990218, 1.910175772235329, 1.700302924075823, 3.6341448176294997, 5.922737085591131, 9.196766215734234, 6.4083776145017035, 3.0617730911179963, 17.32561881161096, 7.698340250442233, 8.601091450071264, 9.39813317309738, 4.482252859320945, 14.929234816299491, 14.502775947092768, 14.227738222576924, 12.69278315647302, 11.927139201349316, 8.682846860239097, 12.180726057247353, 16.311267241600895, 8.632572947720613, 11.271660749869099, 9.866001410877924, 12.366335914904507, 9.2487931243805, 14.99834402743274, 11.045209008972495, 12.375221440796, 13.636282337573471, 8.65611369541007, 12.022168609371086, 14.730530049997116, 10.757727474549633, 11.119174946061953, 10.69436535021914, 13.89071017072637, 10.248178021279767, 1.678522982616938, 1.4547206757450917, 1.3941845484879116, 2.1425850416450567, 1.1167852389278368, 1.100862948225803, 1.9389761371638206, 1.4089557775519126, 2.559156742592899, 1.2984982868686696, 1.068678786654297, 1.47836715881941, 0.9953264115156686, 1.7294645038962986, 2.948199662860926, 1.7251860384881783, 1.7611981645281662, 1.3938348170471824, 1.0880133154865073, 1.4116535490503366, 1.3567656419541088, 1.4685461356060647, 0.8916258572063223, 1.1203572778444357, 1.1862006863770382, 1.7308096397853676, 0.8986103324903938, 1.2656424744053285, 0.8926882814676089, 1.429346318321826, 1.6627528937116693, 3.659664769178775, 8.558820721495302, 3.3815315531909373, 1.6128988312026171, 6.506977033229648, 2.461921045192781, 8.086113933836389, 14.967993269914368, 8.683959198719966, 5.2984590811183025, 6.723028107541793, 9.635311332089286, 8.84739909589497, 17.32561881161096, 14.99834402743274, 10.038851585793203, 9.817429031380076, 14.113847882688967, 16.311267241600895, 11.106661625236935, 11.055178142308767, 10.69436535021914, 10.757727474549633, 10.299055216343636, 14.730530049997116, 8.154658016891565, 14.769988391196591, 11.142759891617239, 14.227738222576924, 10.255749600028157, 10.614567146386308, 14.929234816299491, 13.636282337573471, 10.903435693500827, 12.022168609371086, 13.213390313846993, 11.927139201349316], \"Category\": [\"Default\", \"Default\", \"Default\", \"Default\", \"Default\", \"Default\", \"Default\", \"Default\", \"Default\", \"Default\", \"Default\", \"Default\", \"Default\", \"Default\", \"Default\", \"Default\", \"Default\", \"Default\", \"Default\", \"Default\", \"Default\", \"Default\", \"Default\", \"Default\", \"Default\", \"Default\", \"Default\", \"Default\", \"Default\", \"Default\", \"Topic1\", \"Topic1\", \"Topic1\", \"Topic1\", \"Topic1\", \"Topic1\", \"Topic1\", \"Topic1\", \"Topic1\", \"Topic1\", \"Topic1\", \"Topic1\", \"Topic1\", \"Topic1\", \"Topic1\", \"Topic1\", \"Topic1\", \"Topic1\", \"Topic1\", \"Topic1\", \"Topic1\", \"Topic1\", \"Topic1\", \"Topic1\", \"Topic1\", \"Topic1\", \"Topic1\", \"Topic1\", \"Topic1\", \"Topic1\", \"Topic1\", \"Topic1\", \"Topic1\", \"Topic1\", \"Topic1\", \"Topic1\", \"Topic1\", \"Topic1\", \"Topic1\", \"Topic1\", \"Topic1\", \"Topic1\", \"Topic1\", \"Topic1\", \"Topic1\", \"Topic1\", \"Topic1\", \"Topic1\", \"Topic1\", \"Topic1\", \"Topic1\", \"Topic1\", \"Topic1\", \"Topic1\", \"Topic1\", \"Topic1\", \"Topic1\", \"Topic1\", \"Topic1\", \"Topic1\", \"Topic1\", \"Topic1\", \"Topic1\", \"Topic1\", \"Topic1\", \"Topic1\", \"Topic1\", \"Topic1\", \"Topic1\", \"Topic1\", \"Topic1\", \"Topic1\", \"Topic1\", \"Topic2\", \"Topic2\", \"Topic2\", \"Topic2\", \"Topic2\", \"Topic2\", \"Topic2\", \"Topic2\", \"Topic2\", \"Topic2\", \"Topic2\", \"Topic2\", \"Topic2\", \"Topic2\", \"Topic2\", \"Topic2\", \"Topic2\", \"Topic2\", \"Topic2\", \"Topic2\", \"Topic2\", \"Topic2\", \"Topic2\", \"Topic2\", \"Topic2\", \"Topic2\", \"Topic2\", \"Topic2\", \"Topic2\", \"Topic2\", \"Topic2\", \"Topic2\", \"Topic2\", \"Topic2\", \"Topic2\", \"Topic2\", \"Topic2\", \"Topic2\", \"Topic2\", \"Topic2\", \"Topic2\", \"Topic2\", \"Topic2\", \"Topic2\", \"Topic2\", \"Topic2\", \"Topic2\", \"Topic2\", \"Topic2\", \"Topic2\", \"Topic2\", \"Topic2\", \"Topic2\", \"Topic2\", \"Topic2\", \"Topic2\", \"Topic2\", \"Topic2\", \"Topic2\", \"Topic2\", \"Topic2\", \"Topic2\", \"Topic2\", \"Topic2\", \"Topic2\", \"Topic2\", \"Topic2\", \"Topic2\", \"Topic2\", \"Topic2\", \"Topic2\", \"Topic2\", \"Topic2\", \"Topic2\", \"Topic2\", \"Topic3\", \"Topic3\", \"Topic3\", \"Topic3\", \"Topic3\", \"Topic3\", \"Topic3\", \"Topic3\", \"Topic3\", \"Topic3\", \"Topic3\", \"Topic3\", \"Topic3\", \"Topic3\", \"Topic3\", \"Topic3\", \"Topic3\", \"Topic3\", \"Topic3\", \"Topic3\", \"Topic3\", \"Topic3\", \"Topic3\", \"Topic3\", \"Topic3\", \"Topic3\", \"Topic3\", \"Topic3\", \"Topic3\", \"Topic3\", \"Topic3\", \"Topic3\", \"Topic3\", \"Topic3\", \"Topic3\", \"Topic3\", \"Topic3\", \"Topic3\", \"Topic3\", \"Topic3\", \"Topic3\", \"Topic3\", \"Topic3\", \"Topic3\", \"Topic3\", \"Topic3\", \"Topic3\", \"Topic3\", \"Topic3\", \"Topic3\", \"Topic3\", \"Topic3\", \"Topic3\", \"Topic3\", \"Topic3\", \"Topic3\", \"Topic3\", \"Topic3\", \"Topic3\", \"Topic3\", \"Topic3\", \"Topic3\", \"Topic3\", \"Topic3\", \"Topic3\", \"Topic3\", \"Topic3\", \"Topic3\", \"Topic3\", \"Topic3\", \"Topic3\", \"Topic3\", \"Topic4\", \"Topic4\", \"Topic4\", \"Topic4\", \"Topic4\", \"Topic4\", \"Topic4\", \"Topic4\", \"Topic4\", \"Topic4\", \"Topic4\", \"Topic4\", \"Topic4\", \"Topic4\", \"Topic4\", \"Topic4\", \"Topic4\", \"Topic4\", \"Topic4\", \"Topic4\", \"Topic4\", \"Topic4\", \"Topic4\", \"Topic4\", \"Topic4\", \"Topic4\", \"Topic4\", \"Topic4\", \"Topic4\", \"Topic4\", \"Topic4\", \"Topic4\", \"Topic4\", \"Topic4\", \"Topic4\", \"Topic4\", \"Topic4\", \"Topic4\", \"Topic4\", \"Topic4\", \"Topic4\", \"Topic4\", \"Topic4\", \"Topic4\", \"Topic4\", \"Topic4\", \"Topic4\", \"Topic4\", \"Topic4\", \"Topic4\", \"Topic4\", \"Topic4\", \"Topic4\", \"Topic4\", \"Topic4\", \"Topic4\", \"Topic4\", \"Topic4\", \"Topic4\", \"Topic4\", \"Topic4\", \"Topic4\", \"Topic4\", \"Topic4\", \"Topic4\", \"Topic4\", \"Topic4\", \"Topic5\", \"Topic5\", \"Topic5\", \"Topic5\", \"Topic5\", \"Topic5\", \"Topic5\", \"Topic5\", \"Topic5\", \"Topic5\", \"Topic5\", \"Topic5\", \"Topic5\", \"Topic5\", \"Topic5\", \"Topic5\", \"Topic5\", \"Topic5\", \"Topic5\", \"Topic5\", \"Topic5\", \"Topic5\", \"Topic5\", \"Topic5\", \"Topic5\", \"Topic5\", \"Topic5\", \"Topic5\", \"Topic5\", \"Topic5\", \"Topic5\", \"Topic5\", \"Topic5\", \"Topic5\", \"Topic5\", \"Topic5\", \"Topic5\", \"Topic5\", \"Topic5\", \"Topic5\", \"Topic5\", \"Topic5\", \"Topic5\", \"Topic5\", \"Topic5\", \"Topic5\", \"Topic5\", \"Topic5\", \"Topic5\", \"Topic5\", \"Topic5\", \"Topic5\", \"Topic5\", \"Topic5\", \"Topic5\", \"Topic5\", \"Topic5\", \"Topic5\", \"Topic5\", \"Topic5\", \"Topic5\", \"Topic5\", \"Topic5\", \"Topic5\", \"Topic5\", \"Topic5\", \"Topic5\", \"Topic5\"], \"logprob\": [30.0, 29.0, 28.0, 27.0, 26.0, 25.0, 24.0, 23.0, 22.0, 21.0, 20.0, 19.0, 18.0, 17.0, 16.0, 15.0, 14.0, 13.0, 12.0, 11.0, 10.0, 9.0, 8.0, 7.0, 6.0, 5.0, 4.0, 3.0, 2.0, 1.0, -7.4106, -7.6902, -8.0984, -7.6864, -8.1771, -7.8075, -8.27, -7.8676, -7.2575, -7.611, -8.1151, -7.5181, -8.0326, -8.1314, -8.5061, -8.0818, -8.0088, -7.9328, -8.2307, -7.935, -7.448, -8.4817, -8.3743, -8.3746, -8.3756, -7.8106, -7.8843, -8.3318, -8.4631, -7.9711, -7.9265, -7.1881, -7.7288, -7.8486, -7.3591, -6.8119, -7.3103, -7.0501, -7.0615, -6.383, -7.2978, -6.5393, -7.2973, -6.5232, -6.6185, -7.5289, -6.7804, -6.5801, -6.8981, -6.9434, -6.9317, -6.7785, -6.9221, -6.6833, -6.9464, -6.9292, -6.8105, -6.761, -6.6314, -6.7251, -6.7559, -6.883, -6.9691, -6.8515, -6.7637, -6.9533, -6.8723, -6.9276, -6.931, -6.9251, -6.9508, -6.9489, -6.9523, -7.0771, -7.9381, -7.6405, -7.7597, -8.0059, -7.8242, -8.0665, -7.5931, -8.1274, -7.5065, -8.2931, -8.4361, -7.2223, -8.0913, -7.7806, -7.8698, -8.1357, -8.092, -7.8981, -8.121, -8.4397, -8.438, -8.4257, -8.1806, -7.6841, -8.5284, -7.9946, -8.5675, -8.5704, -8.5437, -7.4718, -8.168, -8.0466, -7.3709, -6.1973, -7.7485, -7.551, -7.572, -7.1899, -6.5779, -6.3669, -6.6823, -7.3455, -7.2072, -7.3599, -6.3271, -6.8298, -6.7752, -6.4989, -6.561, -6.8784, -7.1483, -6.7225, -6.8497, -6.612, -6.676, -6.7698, -6.8557, -7.1574, -6.7545, -6.8571, -6.8118, -6.7236, -6.9319, -6.9316, -6.9159, -6.732, -6.9092, -6.8507, -6.8779, -6.8105, -6.8326, -6.8288, -6.9253, -6.9272, -7.2944, -7.5015, -7.7253, -7.8679, -7.258, -7.6957, -7.9813, -7.7951, -7.881, -7.9401, -8.2218, -7.8215, -7.925, -7.7925, -8.3172, -7.7554, -7.5317, -7.8902, -8.3264, -8.1251, -8.2034, -7.8579, -7.9916, -7.9435, -7.5426, -8.2354, -8.1265, -8.3065, -8.4869, -8.5319, -7.3218, -8.1688, -7.6215, -7.7951, -6.9979, -6.3711, -6.8853, -6.3943, -6.7013, -7.4125, -6.5117, -6.8878, -7.0088, -6.9312, -7.2258, -6.906, -6.7469, -6.889, -7.1222, -7.0236, -6.7697, -6.7628, -6.6748, -6.7103, -6.8564, -6.7836, -6.7045, -6.7743, -6.8372, -6.8964, -6.9158, -6.9518, -6.7864, -6.7975, -6.9308, -6.9025, -6.8794, -6.9248, -6.9266, -6.8428, -6.947, -6.9375, -7.3846, -7.6981, -7.7162, -7.605, -8.0321, -8.0415, -7.8708, -7.6964, -7.9675, -7.9144, -6.8677, -8.3444, -8.3482, -8.3946, -7.6128, -8.2777, -8.2487, -8.0917, -8.217, -7.3577, -7.8366, -8.3923, -8.021, -8.0218, -8.3957, -8.3062, -8.548, -8.2216, -8.4021, -7.8477, -7.8733, -8.0046, -7.3713, -6.9752, -6.7744, -7.0635, -7.598, -6.4315, -6.9842, -6.9391, -6.8831, -7.371, -6.6206, -6.6589, -6.6727, -6.7448, -6.7872, -6.9756, -6.7778, -6.6059, -6.9969, -6.8667, -6.9398, -6.8293, -6.9788, -6.7452, -6.9159, -6.869, -6.8511, -7.029, -6.9109, -6.8414, -6.9602, -6.9531, -6.9751, -6.9186, -6.9933, -7.3407, -7.5937, -7.6387, -7.3139, -7.9675, -7.9932, -7.4477, -7.815, -7.221, -7.9021, -8.1054, -7.8257, -8.2239, -7.7349, -7.2189, -7.7716, -7.7548, -8.0025, -8.2869, -8.0345, -8.0959, -8.0184, -8.5174, -8.3077, -8.2511, -7.8746, -8.535, -8.2103, -8.5642, -8.112, -7.9819, -7.2838, -6.5309, -7.3998, -8.0244, -6.9768, -7.7301, -6.9014, -6.4844, -6.9131, -7.2488, -7.1159, -6.9009, -6.9613, -6.5841, -6.6752, -6.905, -6.9248, -6.7332, -6.7006, -6.8927, -6.9066, -6.9325, -6.9313, -6.9585, -6.8051, -7.0609, -6.8207, -6.9354, -6.8457, -6.98, -6.983, -6.904, -6.9572, -7.0108, -6.9955, -6.993, -7.0077], \"loglift\": [30.0, 29.0, 28.0, 27.0, 26.0, 25.0, 24.0, 23.0, 22.0, 21.0, 20.0, 19.0, 18.0, 17.0, 16.0, 15.0, 14.0, 13.0, 12.0, 11.0, 10.0, 9.0, 8.0, 7.0, 6.0, 5.0, 4.0, 3.0, 2.0, 1.0, 1.0456, 0.9902, 0.8721, 0.8579, 0.8342, 0.8263, 0.8128, 0.8041, 0.796, 0.7941, 0.7755, 0.7688, 0.7513, 0.7396, 0.7188, 0.7145, 0.7134, 0.7134, 0.7017, 0.6976, 0.6944, 0.6804, 0.6737, 0.6734, 0.6725, 0.6723, 0.6723, 0.6696, 0.6503, 0.6492, 0.6393, 0.5829, 0.6049, 0.6041, 0.5199, 0.4154, 0.4995, 0.4424, 0.4229, 0.2137, 0.4688, 0.2021, 0.449, 0.1755, 0.1889, 0.5282, 0.207, 0.1159, 0.25, 0.2379, 0.2148, 0.1234, 0.1775, -0.0005, 0.1645, 0.1494, 0.0631, 0.0149, -0.0949, -0.0444, -0.0224, 0.0981, 0.1541, 0.0214, -0.0784, 0.1304, -0.0247, 0.0719, 0.0735, 0.0412, 0.0756, 0.0264, 0.0344, 1.036, 0.9403, 0.9328, 0.9222, 0.9192, 0.9048, 0.8996, 0.8693, 0.8393, 0.8133, 0.8124, 0.7604, 0.7466, 0.7453, 0.7188, 0.7136, 0.71, 0.7039, 0.7038, 0.7019, 0.6991, 0.6991, 0.6818, 0.674, 0.6725, 0.6671, 0.6655, 0.6618, 0.6555, 0.653, 0.6278, 0.6445, 0.6353, 0.5997, 0.517, 0.615, 0.5931, 0.5951, 0.531, 0.4444, 0.3905, 0.4236, 0.5434, 0.4999, 0.5258, 0.2093, 0.34, 0.3214, 0.1864, 0.1724, 0.2858, 0.4054, 0.2049, 0.227, 0.0686, 0.0999, 0.14, 0.1437, 0.3702, 0.0529, 0.1181, 0.0611, -0.0249, 0.144, 0.1299, 0.0886, -0.1352, 0.0765, -0.0031, 0.0109, -0.1278, -0.0912, -0.1328, 0.0525, -0.0536, 1.318, 1.2868, 1.2489, 1.1943, 1.1179, 1.1064, 1.0363, 1.012, 0.943, 0.9289, 0.9241, 0.9227, 0.9197, 0.9142, 0.9045, 0.8928, 0.8893, 0.8571, 0.8517, 0.8392, 0.8238, 0.8237, 0.8223, 0.8187, 0.8137, 0.8111, 0.8087, 0.8058, 0.8021, 0.7924, 0.7837, 0.7893, 0.7209, 0.7242, 0.5034, 0.3249, 0.4678, 0.2884, 0.3773, 0.5853, 0.2457, 0.349, 0.381, 0.3105, 0.4602, 0.2405, 0.126, 0.2154, 0.3771, 0.307, 0.1191, 0.0848, 0.0059, 0.004, 0.1214, -0.0077, -0.1077, -0.0329, 0.0364, 0.0902, 0.1106, 0.15, -0.0877, -0.1122, 0.0915, 0.0249, -0.072, 0.0552, 0.0545, -0.3064, 0.1154, -0.0277, 1.4195, 1.386, 1.3781, 1.3604, 1.2285, 1.2243, 1.1725, 1.1132, 1.1057, 1.0906, 1.0514, 1.0452, 1.0445, 1.0274, 1.0165, 1.0102, 1.0043, 1.0023, 0.9923, 0.9653, 0.9554, 0.9491, 0.9441, 0.9435, 0.9394, 0.9332, 0.9314, 0.9189, 0.9178, 0.8987, 0.8681, 0.8532, 0.7269, 0.6347, 0.3954, 0.4675, 0.6716, 0.105, 0.3634, 0.2976, 0.2651, 0.5175, 0.0647, 0.0554, 0.0607, 0.1028, 0.1226, 0.2517, 0.111, -0.0091, 0.2362, 0.0996, 0.1598, 0.0443, 0.1854, -0.0645, 0.0707, 0.004, -0.0752, 0.2014, -0.009, -0.1426, 0.0528, 0.0268, 0.0438, -0.1612, 0.0682, 1.53, 1.4201, 1.4176, 1.3127, 1.3106, 1.2993, 1.2787, 1.2308, 1.228, 1.2253, 1.2169, 1.172, 1.1695, 1.1059, 1.0885, 1.0717, 1.0679, 1.0541, 1.0173, 1.0094, 0.9877, 0.9859, 0.9859, 0.9673, 0.9668, 0.9654, 0.9606, 0.9428, 0.9379, 0.9194, 0.8983, 0.8074, 0.7108, 0.7705, 0.8862, 0.539, 0.7576, 0.3971, 0.1983, 0.3141, 0.4724, 0.3672, 0.2223, 0.2472, -0.0477, 0.0055, 0.1772, 0.1797, 0.0082, -0.1038, 0.0884, 0.0791, 0.0864, 0.0817, 0.098, -0.1064, 0.2292, -0.1247, 0.0424, -0.1123, 0.0808, 0.0434, -0.2187, -0.1813, -0.0113, -0.0936, -0.1856, -0.0979]}, \"token.table\": {\"Topic\": [1, 2, 3, 4, 5, 1, 2, 3, 4, 5, 1, 2, 3, 4, 5, 1, 2, 3, 4, 5, 1, 2, 3, 4, 5, 2, 1, 2, 3, 4, 5, 2, 4, 5, 1, 2, 3, 4, 5, 1, 2, 3, 4, 5, 1, 2, 3, 4, 5, 3, 1, 2, 3, 4, 5, 1, 2, 3, 4, 5, 1, 1, 2, 3, 4, 5, 5, 1, 2, 3, 1, 2, 3, 4, 5, 1, 4, 1, 2, 3, 4, 5, 1, 2, 3, 4, 5, 1, 2, 3, 4, 5, 1, 2, 3, 4, 5, 2, 4, 2, 3, 1, 3, 1, 5, 1, 4, 5, 5, 2, 3, 1, 2, 5, 1, 2, 3, 4, 5, 5, 1, 5, 1, 2, 3, 4, 5, 5, 1, 2, 3, 4, 5, 1, 2, 3, 4, 5, 1, 2, 3, 4, 2, 1, 3, 1, 1, 2, 3, 4, 5, 1, 1, 3, 1, 4, 5, 3, 1, 4, 1, 2, 3, 4, 5, 1, 3, 1, 2, 3, 4, 5, 2, 5, 1, 2, 3, 4, 5, 1, 2, 3, 4, 5, 1, 2, 3, 4, 5, 1, 2, 3, 4, 5, 3, 1, 2, 3, 4, 5, 1, 2, 1, 2, 3, 4, 5, 3, 3, 1, 2, 1, 1, 2, 3, 4, 1, 2, 3, 4, 5, 1, 2, 3, 4, 5, 1, 1, 2, 3, 2, 5, 1, 2, 3, 4, 3, 1, 2, 3, 4, 5, 1, 2, 3, 4, 5, 1, 2, 3, 4, 1, 2, 4, 5, 1, 4, 2, 2, 1, 2, 3, 4, 1, 2, 3, 4, 5, 1, 2, 4, 2, 3, 1, 2, 3, 4, 5, 1, 3, 1, 2, 3, 4, 5, 1, 2, 3, 4, 5, 5, 3, 1, 2, 3, 4, 5, 4, 2, 5, 5, 2, 1, 2, 1, 2, 1, 2, 3, 4, 5, 1, 2, 3, 2, 2, 5, 3, 2, 5, 1, 2, 3, 4, 5, 1, 5, 4, 1, 2, 3, 4, 5, 1, 2, 3, 4, 5, 1, 2, 3, 4, 5, 3, 2, 4, 5, 1, 2, 1, 2, 1, 2, 3, 5, 1, 2, 3, 4, 5, 3, 1, 3, 4, 5, 1, 3, 1, 2, 3, 4, 5, 1, 2, 3, 3, 5, 1, 4, 1, 4, 4, 5, 5, 1, 2, 3, 4, 5, 4, 1, 2, 3, 4, 5, 2, 2, 1, 2, 3, 4, 5, 1, 2, 3, 4, 5, 4, 3, 2, 3, 1, 2, 3, 4, 5, 1, 2, 3, 4, 5, 2, 3, 3, 1, 2, 3, 4, 5, 1, 2, 3, 4, 5, 1, 3, 1, 2, 3, 4, 5, 1, 2, 3, 4, 5, 1, 2, 3, 4, 5, 1, 2, 3, 4, 5, 1, 2, 3, 4, 5, 1, 2, 3, 4, 5, 1, 2, 3, 4, 5, 2, 1, 2, 3, 4, 5, 1, 2, 1, 2, 1, 2, 3, 1, 2, 3, 4, 1, 2, 3, 2, 3, 1, 2, 3, 4, 5, 2, 1, 2, 3, 4, 5, 1, 2, 3, 4, 5, 1, 4, 3, 1, 2, 3, 4, 5, 1, 2, 3, 4, 5, 2, 3, 2, 1, 3, 2, 1, 2, 3, 4, 5, 1, 1, 1, 2, 3, 4, 5, 1, 2, 3, 4, 5, 1, 2, 3, 4, 5, 1, 2, 3, 4, 5, 2, 2, 1, 2, 1, 1, 2, 3, 4, 5, 1, 2, 3, 4, 5, 1, 3, 1, 3, 1, 3, 4, 5, 3, 1, 1, 2, 3, 4, 5, 4, 1, 2, 4, 5, 1, 5, 1, 2, 3, 4, 5, 1, 2, 3, 4, 5, 1, 2, 3, 4, 5, 4, 1, 5, 1, 2, 3, 4, 5, 3, 2, 2, 5, 1, 2, 3, 4, 5, 2, 3, 1, 2, 4, 4, 4, 1, 1, 3, 4, 1, 2, 3, 4, 5, 1, 2, 3, 4, 5, 1, 2, 3, 1, 2, 1, 2, 2], \"Freq\": [0.29273496164593044, 0.29273496164593044, 0.19515664109728698, 0.19515664109728698, 0.09757832054864349, 0.18764787199112418, 0.46911967997781046, 0.18764787199112418, 0.09382393599556209, 0.09382393599556209, 0.15962079256961892, 0.47886237770885676, 0.15962079256961892, 0.15962079256961892, 0.15962079256961892, 0.13790463338164724, 0.4826662168357653, 0.20685695007247085, 0.13790463338164724, 0.06895231669082362, 0.32997306050388914, 0.21998204033592608, 0.10999102016796304, 0.10999102016796304, 0.10999102016796304, 0.8243996092164971, 0.2977556805902821, 0.1985037870601881, 0.2977556805902821, 0.09925189353009405, 0.09925189353009405, 0.8252120391406653, 0.5604335026335265, 0.8954273079039299, 0.24629073717777636, 0.24629073717777636, 0.16419382478518424, 0.16419382478518424, 0.08209691239259212, 0.32345878581375154, 0.24259408936031365, 0.16172939290687577, 0.16172939290687577, 0.08086469645343788, 0.33943109874725647, 0.27154487899780516, 0.13577243949890258, 0.13577243949890258, 0.13577243949890258, 0.710246219721171, 0.27508603662451736, 0.27508603662451736, 0.18339069108301156, 0.18339069108301156, 0.09169534554150578, 0.19814414712241127, 0.2972162206836169, 0.19814414712241127, 0.09907207356120563, 0.09907207356120563, 0.7112793397198549, 0.18220989692053463, 0.18220989692053463, 0.36441979384106926, 0.18220989692053463, 0.18220989692053463, 0.6874171905804605, 0.5281423695873376, 0.2640711847936688, 0.2640711847936688, 0.25540706739102415, 0.25540706739102415, 0.25540706739102415, 0.12770353369551207, 0.12770353369551207, 0.7972988365016384, 0.5573946199619493, 0.27010816582214925, 0.27010816582214925, 0.18007211054809952, 0.09003605527404976, 0.18007211054809952, 0.2452585989329287, 0.2452585989329287, 0.12262929946646435, 0.12262929946646435, 0.12262929946646435, 0.2666961094294007, 0.2666961094294007, 0.2000220820720505, 0.13334805471470035, 0.13334805471470035, 0.3055789851305172, 0.2037193234203448, 0.2037193234203448, 0.1018596617101724, 0.1018596617101724, 0.7775569528065891, 0.7080167528562775, 0.3561694739726782, 0.3561694739726782, 0.36322405135984714, 0.7264481027196943, 0.7871709021852967, 0.578213659631121, 0.23003588965512486, 0.46007177931024973, 0.23003588965512486, 0.9083782877892675, 0.5895777059367403, 0.29478885296837015, 0.2957239890476146, 0.2957239890476146, 0.2957239890476146, 0.23087198463118414, 0.34630797694677623, 0.11543599231559207, 0.17315398847338812, 0.11543599231559207, 0.5157361046550681, 0.5796476308585965, 0.5796476308585965, 0.30736238806229926, 0.30736238806229926, 0.15368119403114963, 0.15368119403114963, 0.15368119403114963, 0.7097454838061128, 0.27011360162114584, 0.27011360162114584, 0.18007573441409722, 0.18007573441409722, 0.09003786720704861, 0.10873387194394, 0.43493548777576, 0.21746774388788, 0.21746774388788, 0.10873387194394, 0.5951157148780533, 0.19837190495935111, 0.19837190495935111, 0.19837190495935111, 0.6290661134532481, 0.3799835624132441, 0.3799835624132441, 0.7594115124324375, 0.31135475508807364, 0.20756983672538243, 0.20756983672538243, 0.10378491836269121, 0.20756983672538243, 0.7113564031825486, 0.5628401430822205, 0.5628401430822205, 0.34449134226071354, 0.34449134226071354, 0.34449134226071354, 0.8462481869669066, 0.46797630714757793, 0.46797630714757793, 0.3542620015150256, 0.21255720090901536, 0.14170480060601026, 0.14170480060601026, 0.14170480060601026, 0.6336608181752383, 0.7585777829714017, 0.3475209555908977, 0.23168063706059847, 0.11584031853029923, 0.23168063706059847, 0.11584031853029923, 0.33919005303379024, 0.33919005303379024, 0.44678028929487934, 0.1489267630982931, 0.1489267630982931, 0.1489267630982931, 0.1489267630982931, 0.28114096122830695, 0.3514262015353837, 0.14057048061415348, 0.14057048061415348, 0.14057048061415348, 0.292982761347508, 0.292982761347508, 0.19532184089833868, 0.09766092044916934, 0.09766092044916934, 0.26980419091818514, 0.26980419091818514, 0.17986946061212342, 0.17986946061212342, 0.08993473030606171, 0.5685413588701734, 0.27098159774338665, 0.27098159774338665, 0.27098159774338665, 0.13549079887169332, 0.13549079887169332, 0.6856844170271019, 0.3587412080963716, 0.2992966551068725, 0.2992966551068725, 0.19953110340458163, 0.09976555170229082, 0.09976555170229082, 0.5485926517466194, 0.4769051580290237, 0.45532778504074506, 0.45532778504074506, 0.546175739712707, 0.18610173153107948, 0.37220346306215896, 0.18610173153107948, 0.18610173153107948, 0.26853686016790757, 0.26853686016790757, 0.1790245734452717, 0.08951228672263585, 0.08951228672263585, 0.2933350821710682, 0.2933350821710682, 0.1466675410855341, 0.1466675410855341, 0.07333377054276705, 0.7365183908047102, 0.24886152109419477, 0.24886152109419477, 0.24886152109419477, 0.7534321894161917, 0.7172651576755519, 0.3950116932201536, 0.1975058466100768, 0.1975058466100768, 0.1975058466100768, 0.7845073588945437, 0.20212236092605648, 0.40424472185211296, 0.20212236092605648, 0.10106118046302824, 0.10106118046302824, 0.14398111942576197, 0.4319433582772859, 0.21597167913864296, 0.14398111942576197, 0.07199055971288099, 0.22248042186957517, 0.44496084373915035, 0.22248042186957517, 0.22248042186957517, 0.3376817122045838, 0.1688408561022919, 0.3376817122045838, 0.1688408561022919, 0.5881304947725928, 0.5881304947725928, 0.8498546966877448, 0.8378895774876386, 0.3266081352994233, 0.3266081352994233, 0.3266081352994233, 0.3266081352994233, 0.23252862867577453, 0.23252862867577453, 0.23252862867577453, 0.23252862867577453, 0.11626431433788727, 0.22310209427843358, 0.22310209427843358, 0.22310209427843358, 0.4109925129429996, 0.4930984145339548, 0.4504276972181227, 0.30028513147874847, 0.15014256573937423, 0.15014256573937423, 0.15014256573937423, 0.9850131206839725, 0.5344628964252405, 0.23030969563915088, 0.3454645434587263, 0.11515484781957544, 0.11515484781957544, 0.23030969563915088, 0.3465758544265377, 0.23105056961769183, 0.11552528480884591, 0.23105056961769183, 0.11552528480884591, 0.5677952771816026, 0.6354657517997983, 0.30292183099869585, 0.30292183099869585, 0.30292183099869585, 0.15146091549934793, 0.15146091549934793, 0.5261110146065462, 0.4835412876833976, 0.2417706438416988, 0.5777642884656032, 0.5679756768245783, 0.5262619668474341, 0.26313098342371705, 0.5530544288119785, 0.5170681967272392, 0.280521555207437, 0.280521555207437, 0.18701437013829134, 0.18701437013829134, 0.09350718506914567, 0.4695351799486349, 0.4695351799486349, 0.7214387942268218, 0.5528419159694989, 0.4826130780013075, 0.7701203845339691, 0.5562727931794772, 0.6014122746572141, 0.6014122746572141, 0.2974849975350289, 0.14874249876751444, 0.14874249876751444, 0.14874249876751444, 0.14874249876751444, 0.8490185266765916, 0.676421952445546, 0.6813858524673978, 0.3385243012770523, 0.27081944102164185, 0.27081944102164185, 0.06770486025541046, 0.13540972051082092, 0.2713660477816126, 0.2713660477816126, 0.18091069852107505, 0.09045534926053753, 0.18091069852107505, 0.46067840011286953, 0.11516960002821738, 0.11516960002821738, 0.23033920005643477, 0.11516960002821738, 0.5249603842827432, 0.5510330969901316, 0.2755165484950658, 0.2755165484950658, 0.28806939722447794, 0.5761387944489559, 0.46375850212499037, 0.6557759970057497, 0.38706890953848555, 0.19353445476924278, 0.19353445476924278, 0.19353445476924278, 0.15118482119822244, 0.30236964239644487, 0.30236964239644487, 0.15118482119822244, 0.15118482119822244, 0.6502005338612382, 0.4419887979978746, 0.2209943989989373, 0.2209943989989373, 0.2209943989989373, 0.6789326533494283, 0.6607007181226723, 0.2672368919379454, 0.2672368919379454, 0.2672368919379454, 0.06680922298448635, 0.1336184459689727, 0.24218963842119545, 0.4843792768423909, 0.24218963842119545, 0.46672593178948424, 0.46672593178948424, 0.6547909681598667, 0.6547909681598667, 0.6549155721063619, 0.6549155721063619, 0.5235120319999549, 0.7174451289131123, 0.5957618753845885, 0.2912888548494508, 0.2912888548494508, 0.19419256989963385, 0.09709628494981692, 0.09709628494981692, 0.7374779504298905, 0.2969586150922044, 0.2969586150922044, 0.1979724100614696, 0.0989862050307348, 0.0989862050307348, 0.5862064648798091, 0.8253331325599654, 0.30754519966102534, 0.30754519966102534, 0.20503013310735024, 0.10251506655367512, 0.10251506655367512, 0.29251884230790537, 0.29251884230790537, 0.19501256153860358, 0.09750628076930179, 0.09750628076930179, 0.8844236075561771, 0.6900236340956417, 0.5056177427174495, 0.5056177427174495, 0.29883896323814013, 0.29883896323814013, 0.19922597549209342, 0.09961298774604671, 0.19922597549209342, 0.2612294085845516, 0.2612294085845516, 0.2612294085845516, 0.1306147042922758, 0.1306147042922758, 0.41924219068489255, 0.41924219068489255, 0.8101893926154766, 0.15604573577828357, 0.31209147155656713, 0.15604573577828357, 0.15604573577828357, 0.15604573577828357, 0.20401934321578713, 0.40803868643157426, 0.10200967160789357, 0.10200967160789357, 0.10200967160789357, 0.5751508165708825, 0.28757540828544126, 0.2661542133473845, 0.2661542133473845, 0.17743614223158966, 0.17743614223158966, 0.08871807111579483, 0.36784389043037474, 0.24522926028691647, 0.18392194521518737, 0.12261463014345823, 0.12261463014345823, 0.24733759830305987, 0.24733759830305987, 0.24733759830305987, 0.12366879915152994, 0.24733759830305987, 0.2260551353366622, 0.33908270300499327, 0.1130275676683311, 0.1130275676683311, 0.1130275676683311, 0.15551512913408472, 0.46654538740225415, 0.15551512913408472, 0.15551512913408472, 0.15551512913408472, 0.30476645873693864, 0.30476645873693864, 0.2031776391579591, 0.10158881957897956, 0.10158881957897956, 0.2679306775745041, 0.33491334696813013, 0.13396533878725206, 0.13396533878725206, 0.13396533878725206, 0.7789212836441214, 0.3192123312944371, 0.21280822086295806, 0.10640411043147903, 0.21280822086295806, 0.10640411043147903, 0.3921958309771883, 0.3921958309771883, 0.34821000234393334, 0.34821000234393334, 0.664588767096473, 0.8849989292226135, 0.5590631082483063, 0.18867479068368137, 0.37734958136736274, 0.18867479068368137, 0.18867479068368137, 0.2771749324746436, 0.2771749324746436, 0.2771749324746436, 0.5757746296337521, 0.46016736695872895, 0.2515272060931938, 0.33536960812425837, 0.16768480406212918, 0.16768480406212918, 0.08384240203106459, 0.8527574255604776, 0.3232265393501283, 0.3232265393501283, 0.24241990451259623, 0.16161326967506415, 0.08080663483753207, 0.3896943889726963, 0.2597962593151309, 0.12989812965756545, 0.2597962593151309, 0.12989812965756545, 0.5506684477163734, 0.5506684477163734, 0.6967080215568423, 0.1887341177293641, 0.1887341177293641, 0.1887341177293641, 0.1887341177293641, 0.1887341177293641, 0.21624443028440682, 0.3243666454266102, 0.21624443028440682, 0.21624443028440682, 0.10812221514220341, 0.3562872841437097, 0.3562872841437097, 0.6867753512431906, 0.4042363575996109, 0.4042363575996109, 0.49324832664753226, 0.2716109760859185, 0.2716109760859185, 0.181073984057279, 0.181073984057279, 0.0905369920286395, 0.4701206638560317, 0.7114244944007996, 0.23635478232132806, 0.23635478232132806, 0.15756985488088537, 0.15756985488088537, 0.07878492744044269, 0.26923311901003244, 0.26923311901003244, 0.1794887460066883, 0.08974437300334415, 0.08974437300334415, 0.233677052608082, 0.116838526304041, 0.233677052608082, 0.116838526304041, 0.233677052608082, 0.2788693064680553, 0.2788693064680553, 0.18591287097870354, 0.18591287097870354, 0.09295643548935177, 0.446980311195374, 0.7549257191077674, 0.4882418963284264, 0.5620554956332683, 0.5959492633535505, 0.2559981801622549, 0.3413309068830065, 0.17066545344150325, 0.08533272672075162, 0.08533272672075162, 0.30272321523781776, 0.30272321523781776, 0.15136160761890888, 0.07568080380945444, 0.07568080380945444, 0.7479928207041306, 0.3739964103520653, 0.5266106562409008, 0.5266106562409008, 0.2732490714509895, 0.2732490714509895, 0.2732490714509895, 0.2732490714509895, 0.5947286528089127, 0.6582797226322414, 0.33271867414021, 0.24953900560515752, 0.166359337070105, 0.166359337070105, 0.0831796685350525, 0.7447745685882908, 0.22318927836332036, 0.44637855672664073, 0.22318927836332036, 0.22318927836332036, 0.39075371326682207, 0.39075371326682207, 0.4124303024475143, 0.20621515122375714, 0.20621515122375714, 0.20621515122375714, 0.20621515122375714, 0.27650779761170013, 0.27650779761170013, 0.18433853174113343, 0.09216926587056672, 0.09216926587056672, 0.36244788268313327, 0.27183591201234997, 0.18122394134156664, 0.09061197067078332, 0.09061197067078332, 0.6549294697421197, 0.4351630756522893, 0.4351630756522893, 0.31870081998696054, 0.21246721332464036, 0.21246721332464036, 0.10623360666232018, 0.10623360666232018, 0.6542540229623238, 0.7921059139871846, 0.406186868564542, 0.406186868564542, 0.2751426324996074, 0.2751426324996074, 0.18342842166640494, 0.09171421083320247, 0.09171421083320247, 0.4932532352264079, 0.5804494741751997, 0.2751679006155527, 0.2751679006155527, 0.2751679006155527, 0.8797947458166183, 0.7295406487556809, 0.8596979565645577, 0.43920364843228904, 0.43920364843228904, 0.7450510065305115, 0.2826304604442904, 0.2826304604442904, 0.18842030696286027, 0.09421015348143014, 0.09421015348143014, 0.3040745561512185, 0.20271637076747898, 0.20271637076747898, 0.20271637076747898, 0.10135818538373949, 0.5135459388783742, 0.351266218384085, 0.351266218384085, 0.4759735588339311, 0.5810547521190267, 0.6077302872542886, 0.6003405106320538, 0.655362217193732], \"Term\": [\"ability\", \"ability\", \"ability\", \"ability\", \"ability\", \"account\", \"account\", \"account\", \"account\", \"account\", \"accountant\", \"accountant\", \"accountant\", \"accountant\", \"accountant\", \"accounting\", \"accounting\", \"accounting\", \"accounting\", \"accounting\", \"across\", \"across\", \"across\", \"across\", \"across\", \"age_race_colour_national\", \"ai\", \"ai\", \"ai\", \"ai\", \"ai\", \"ai_toolkits\", \"altus_group\", \"america_united_states\", \"analysis\", \"analysis\", \"analysis\", \"analysis\", \"analysis\", \"analyst\", \"analyst\", \"analyst\", \"analyst\", \"analyst\", \"analytics\", \"analytics\", \"analytics\", \"analytics\", \"analytics\", \"apollo\", \"asset\", \"asset\", \"asset\", \"asset\", \"asset\", \"assist\", \"assist\", \"assist\", \"assist\", \"assist\", \"autonomously_perform\", \"aws\", \"aws\", \"aws\", \"aws\", \"aws\", \"bba\", \"bell\", \"bell\", \"bell\", \"benefit\", \"benefit\", \"benefit\", \"benefit\", \"benefit\", \"beverage\", \"brookfield\", \"build\", \"build\", \"build\", \"build\", \"build\", \"building\", \"building\", \"building\", \"building\", \"building\", \"business\", \"business\", \"business\", \"business\", \"business\", \"canada\", \"canada\", \"canada\", \"canada\", \"canada\", \"canadian_small_businesses\", \"cancer\", \"capital_markets\", \"capital_markets\", \"car\", \"car\", \"catalogue\", \"category\", \"chipotle\", \"chipotle\", \"chipotle\", \"ciena\", \"civil_engineer\", \"civil_engineer\", \"claim\", \"claim\", \"claim\", \"client\", \"client\", \"client\", \"client\", \"client\", \"climate\", \"climate_change\", \"climate_change\", \"cloud\", \"cloud\", \"cloud\", \"cloud\", \"cloud\", \"cloud_security\", \"company\", \"company\", \"company\", \"company\", \"company\", \"construction\", \"construction\", \"construction\", \"construction\", \"construction\", \"content\", \"content\", \"content\", \"content\", \"conversational_ai\", \"corporation\", \"corporation\", \"couchbase\", \"create\", \"create\", \"create\", \"create\", \"create\", \"create_general_purpose\", \"credit_risk\", \"credit_risk\", \"crew\", \"crew\", \"crew\", \"criminal_record_check\", \"cultivating_better_world\", \"cultivating_better_world\", \"customer\", \"customer\", \"customer\", \"customer\", \"customer\", \"customer_behavior\", \"cyber_security\", \"database\", \"database\", \"database\", \"database\", \"database\", \"de\", \"de\", \"define\", \"define\", \"define\", \"define\", \"define\", \"design\", \"design\", \"design\", \"design\", \"design\", \"develop\", \"develop\", \"develop\", \"develop\", \"develop\", \"development\", \"development\", \"development\", \"development\", \"development\", \"dillon\", \"disability\", \"disability\", \"disability\", \"disability\", \"disability\", \"discuss\", \"drainage\", \"drive\", \"drive\", \"drive\", \"drive\", \"drive\", \"drop\", \"drug\", \"earth\", \"earth\", \"elite\", \"energy\", \"energy\", \"energy\", \"energy\", \"engineer\", \"engineer\", \"engineer\", \"engineer\", \"engineer\", \"engineering\", \"engineering\", \"engineering\", \"engineering\", \"engineering\", \"entities_systems\", \"environmental\", \"environmental\", \"environmental\", \"equitable_life\", \"et\", \"event\", \"event\", \"event\", \"event\", \"express_scripts_canada\", \"finance\", \"finance\", \"finance\", \"finance\", \"finance\", \"financial\", \"financial\", \"financial\", \"financial\", \"financial\", \"financial_services\", \"financial_services\", \"financial_services\", \"financial_services\", \"food\", \"food\", \"food\", \"food\", \"food_beverage\", \"food_beverage\", \"fostering_workforce\", \"fraud_detection\", \"functions_information_technology\", \"functions_information_technology\", \"functions_information_technology\", \"functions_information_technology\", \"game\", \"game\", \"game\", \"game\", \"game\", \"geotechnical\", \"geotechnical\", \"geotechnical\", \"gl\", \"good_communication_skills\", \"governance\", \"governance\", \"governance\", \"governance\", \"governance\", \"governance_catalogue\", \"graphic\", \"group\", \"group\", \"group\", \"group\", \"group\", \"growth\", \"growth\", \"growth\", \"growth\", \"growth\", \"happiness\", \"hbc\", \"health\", \"health\", \"health\", \"health\", \"health\", \"hospital\", \"hr\", \"hr\", \"hydraulic\", \"iam\", \"ibm\", \"ibm\", \"index_exchange\", \"injection\", \"insight\", \"insight\", \"insight\", \"insight\", \"insight\", \"invest_ottawa\", \"invest_ottawa\", \"jll\", \"junior_accountant\", \"key_member\", \"la\", \"lafarge\", \"le\", \"le\", \"like\", \"like\", \"like\", \"like\", \"like\", \"live_ops\", \"loblaw\", \"ludia\", \"machine_learning\", \"machine_learning\", \"machine_learning\", \"machine_learning\", \"machine_learning\", \"management\", \"management\", \"management\", \"management\", \"management\", \"marketing\", \"marketing\", \"marketing\", \"marketing\", \"marketing\", \"matrix\", \"mcelhanney\", \"mcelhanney\", \"mcelhanney\", \"measurement\", \"measurement\", \"metadata\", \"meter\", \"methodology\", \"methodology\", \"methodology\", \"methodology\", \"ml\", \"ml\", \"ml\", \"ml\", \"ml\", \"ml_dl\", \"mobile\", \"mobile\", \"mobile\", \"mobile\", \"mobile_app\", \"mobsquad\", \"model\", \"model\", \"model\", \"model\", \"model\", \"month_end\", \"month_end\", \"month_end\", \"mozilla\", \"mozilla\", \"mufg\", \"mufg\", \"mufg_investor_services\", \"mufg_investor_services\", \"nation\", \"natural_language\", \"netskope\", \"new\", \"new\", \"new\", \"new\", \"new\", \"nielseniq\", \"operation\", \"operation\", \"operation\", \"operation\", \"operation\", \"operational_efficiency\", \"origin_citizenship_religion_creed\", \"partner\", \"partner\", \"partner\", \"partner\", \"partner\", \"people\", \"people\", \"people\", \"people\", \"people\", \"personalized_recommendation\", \"php\", \"phsa\", \"phsa\", \"platform\", \"platform\", \"platform\", \"platform\", \"platform\", \"plus\", \"plus\", \"plus\", \"plus\", \"plus\", \"pointclickcare\", \"pointclickcare\", \"pre_employment\", \"preparation\", \"preparation\", \"preparation\", \"preparation\", \"preparation\", \"prepare\", \"prepare\", \"prepare\", \"prepare\", \"prepare\", \"privacy\", \"privacy\", \"process\", \"process\", \"process\", \"process\", \"process\", \"product\", \"product\", \"product\", \"product\", \"product\", \"production\", \"production\", \"production\", \"production\", \"production\", \"professional\", \"professional\", \"professional\", \"professional\", \"professional\", \"proficiency\", \"proficiency\", \"proficiency\", \"proficiency\", \"proficiency\", \"program\", \"program\", \"program\", \"program\", \"program\", \"project\", \"project\", \"project\", \"project\", \"project\", \"protected_status\", \"quality\", \"quality\", \"quality\", \"quality\", \"quality\", \"rapidly_growing\", \"rapidly_growing\", \"rbc\", \"rbc\", \"react\", \"realtor_com\", \"recipe\", \"reconciliation\", \"reconciliation\", \"reconciliation\", \"reconciliation\", \"regulatory\", \"regulatory\", \"regulatory\", \"reinsurance\", \"render\", \"report\", \"report\", \"report\", \"report\", \"report\", \"requisition_id_job_category\", \"research\", \"research\", \"research\", \"research\", \"research\", \"restaurant\", \"restaurant\", \"restaurant\", \"restaurant\", \"restaurant\", \"retailer\", \"retailer\", \"retirement\", \"revenue\", \"revenue\", \"revenue\", \"revenue\", \"revenue\", \"review\", \"review\", \"review\", \"review\", \"review\", \"ritual\", \"ritual\", \"robert_half\", \"robot\", \"robot\", \"rock_mechanics\", \"sale\", \"sale\", \"sale\", \"sale\", \"sale\", \"sanctuary\", \"sanctuary_mission\", \"science\", \"science\", \"science\", \"science\", \"science\", \"scientist\", \"scientist\", \"scientist\", \"scientist\", \"scientist\", \"security\", \"security\", \"security\", \"security\", \"security\", \"service\", \"service\", \"service\", \"service\", \"service\", \"setup\", \"sex_sexual_orientation\", \"shaw\", \"sheet\", \"shopping\", \"software\", \"software\", \"software\", \"software\", \"software\", \"solution\", \"solution\", \"solution\", \"solution\", \"solution\", \"soti\", \"soti\", \"splunk_datadog\", \"splunk_datadog\", \"square\", \"square\", \"square\", \"square\", \"sun_life\", \"suse\", \"system\", \"system\", \"system\", \"system\", \"system\", \"tailing\", \"tax\", \"tax\", \"tax\", \"tax\", \"td\", \"td\", \"tech\", \"tech\", \"tech\", \"tech\", \"tech\", \"technical\", \"technical\", \"technical\", \"technical\", \"technical\", \"technology\", \"technology\", \"technology\", \"technology\", \"technology\", \"teck\", \"telus\", \"telus\", \"test\", \"test\", \"test\", \"test\", \"test\", \"thescore\", \"thinking_capital\", \"threat\", \"threat\", \"tool\", \"tool\", \"tool\", \"tool\", \"tool\", \"touchbistro\", \"trading\", \"transportation\", \"transportation\", \"transportation\", \"triplelift\", \"ttc\", \"twitter\", \"ubisoft\", \"ubisoft\", \"uhn\", \"use\", \"use\", \"use\", \"use\", \"use\", \"user\", \"user\", \"user\", \"user\", \"user\", \"ux\", \"vehicle\", \"vehicle\", \"wireless\", \"wsib\", \"wsp\", \"wysdom\", \"wysdom_ai\"]}, \"R\": 30, \"lambda.step\": 0.01, \"plot.opts\": {\"xlab\": \"PC1\", \"ylab\": \"PC2\"}, \"topic.order\": [2, 4, 1, 5, 3]};\n",
       "\n",
       "function LDAvis_load_lib(url, callback){\n",
       "  var s = document.createElement('script');\n",
       "  s.src = url;\n",
       "  s.async = true;\n",
       "  s.onreadystatechange = s.onload = callback;\n",
       "  s.onerror = function(){console.warn(\"failed to load library \" + url);};\n",
       "  document.getElementsByTagName(\"head\")[0].appendChild(s);\n",
       "}\n",
       "\n",
       "if(typeof(LDAvis) !== \"undefined\"){\n",
       "   // already loaded: just create the visualization\n",
       "   !function(LDAvis){\n",
       "       new LDAvis(\"#\" + \"ldavis_el1734823185481613045308362868\", ldavis_el1734823185481613045308362868_data);\n",
       "   }(LDAvis);\n",
       "}else if(typeof define === \"function\" && define.amd){\n",
       "   // require.js is available: use it to load d3/LDAvis\n",
       "   require.config({paths: {d3: \"https://d3js.org/d3.v5\"}});\n",
       "   require([\"d3\"], function(d3){\n",
       "      window.d3 = d3;\n",
       "      LDAvis_load_lib(\"https://cdn.jsdelivr.net/gh/bmabey/pyLDAvis@3.2.2/pyLDAvis/js/ldavis.v3.0.0.js\", function(){\n",
       "        new LDAvis(\"#\" + \"ldavis_el1734823185481613045308362868\", ldavis_el1734823185481613045308362868_data);\n",
       "      });\n",
       "    });\n",
       "}else{\n",
       "    // require.js not available: dynamically load d3 & LDAvis\n",
       "    LDAvis_load_lib(\"https://d3js.org/d3.v5.js\", function(){\n",
       "         LDAvis_load_lib(\"https://cdn.jsdelivr.net/gh/bmabey/pyLDAvis@3.2.2/pyLDAvis/js/ldavis.v3.0.0.js\", function(){\n",
       "                 new LDAvis(\"#\" + \"ldavis_el1734823185481613045308362868\", ldavis_el1734823185481613045308362868_data);\n",
       "            })\n",
       "         });\n",
       "}\n",
       "</script>"
      ],
      "text/plain": [
       "PreparedData(topic_coordinates=              x         y  topics  cluster       Freq\n",
       "topic                                                \n",
       "1     -0.006339  0.006375       1        1  27.916397\n",
       "3     -0.001312 -0.013849       2        1  27.110907\n",
       "0     -0.006900 -0.003316       3        1  18.082260\n",
       "4      0.016182  0.000952       4        1  14.245028\n",
       "2     -0.001631  0.009839       5        1  12.645409, topic_info=             Term       Freq      Total Category  logprob  loglift\n",
       "1125     security   8.000000   8.000000  Default  30.0000  30.0000\n",
       "2484     chipotle   4.000000   4.000000  Default  29.0000  29.0000\n",
       "3752           td   2.000000   2.000000  Default  28.0000  28.0000\n",
       "2294   accounting  14.000000  14.000000  Default  27.0000  27.0000\n",
       "4539      mozilla   2.000000   2.000000  Default  26.0000  26.0000\n",
       "...           ...        ...        ...      ...      ...      ...\n",
       "55    engineering   1.438475  13.636282   Topic5  -6.9572  -0.1813\n",
       "168          tool   1.363355  10.903436   Topic5  -7.0108  -0.0113\n",
       "415        system   1.384359  12.022169   Topic5  -6.9955  -0.0936\n",
       "645      solution   1.387795  13.213390   Topic5  -6.9930  -0.1856\n",
       "141        report   1.367563  11.927139   Topic5  -7.0077  -0.0979\n",
       "\n",
       "[385 rows x 6 columns], token_table=      Topic      Freq       Term\n",
       "term                            \n",
       "0         1  0.292735    ability\n",
       "0         2  0.292735    ability\n",
       "0         3  0.195157    ability\n",
       "0         4  0.195157    ability\n",
       "0         5  0.097578    ability\n",
       "...     ...       ...        ...\n",
       "1142      1  0.475974   wireless\n",
       "4743      2  0.581055       wsib\n",
       "5166      1  0.607730        wsp\n",
       "2453      2  0.600341     wysdom\n",
       "2454      2  0.655362  wysdom_ai\n",
       "\n",
       "[653 rows x 3 columns], R=30, lambda_step=0.01, plot_opts={'xlab': 'PC1', 'ylab': 'PC2'}, topic_order=[2, 4, 1, 5, 3])"
      ]
     },
     "execution_count": 196,
     "metadata": {},
     "output_type": "execute_result"
    }
   ],
   "source": [
    "pyLDAvis.enable_notebook()\n",
    "vis = pyLDAvis.gensim.prepare(best_model, tfidf_corpus, id2word)\n",
    "vis"
   ]
  },
  {
   "cell_type": "code",
   "execution_count": 197,
   "metadata": {
    "ExecuteTime": {
     "end_time": "2021-03-29T21:05:47.120044Z",
     "start_time": "2021-03-29T21:05:46.981617Z"
    },
    "scrolled": false
   },
   "outputs": [
    {
     "name": "stderr",
     "output_type": "stream",
     "text": [
      "c:\\users\\matan\\github\\linkedin-nlp\\venv\\lib\\site-packages\\ipykernel\\ipkernel.py:283: DeprecationWarning: `should_run_async` will not call `transform_cell` automatically in the future. Please pass the result to `transformed_cell` argument and any exception that happen during thetransform in `preprocessing_exc_tuple` in IPython 7.17 and above.\n",
      "  and should_run_async(code)\n"
     ]
    },
    {
     "data": {
      "text/html": [
       "<div>\n",
       "<style scoped>\n",
       "    .dataframe tbody tr th:only-of-type {\n",
       "        vertical-align: middle;\n",
       "    }\n",
       "\n",
       "    .dataframe tbody tr th {\n",
       "        vertical-align: top;\n",
       "    }\n",
       "\n",
       "    .dataframe thead th {\n",
       "        text-align: right;\n",
       "    }\n",
       "</style>\n",
       "<table border=\"1\" class=\"dataframe\">\n",
       "  <thead>\n",
       "    <tr style=\"text-align: right;\">\n",
       "      <th></th>\n",
       "      <th>topic_1</th>\n",
       "      <th>topic_2</th>\n",
       "      <th>topic_3</th>\n",
       "      <th>topic_4</th>\n",
       "      <th>topic_5</th>\n",
       "    </tr>\n",
       "  </thead>\n",
       "  <tbody>\n",
       "    <tr>\n",
       "      <th>0</th>\n",
       "      <td>0.002*machine_learning</td>\n",
       "      <td>0.002*product</td>\n",
       "      <td>0.002*model</td>\n",
       "      <td>0.002*accounting</td>\n",
       "      <td>0.002*client</td>\n",
       "    </tr>\n",
       "    <tr>\n",
       "      <th>1</th>\n",
       "      <td>0.002*model</td>\n",
       "      <td>0.001*analytics</td>\n",
       "      <td>0.001*security</td>\n",
       "      <td>0.002*client</td>\n",
       "      <td>0.001*product</td>\n",
       "    </tr>\n",
       "    <tr>\n",
       "      <th>2</th>\n",
       "      <td>0.001*financial</td>\n",
       "      <td>0.001*customer</td>\n",
       "      <td>0.001*client</td>\n",
       "      <td>0.002*financial</td>\n",
       "      <td>0.001*project</td>\n",
       "    </tr>\n",
       "    <tr>\n",
       "      <th>3</th>\n",
       "      <td>0.001*business</td>\n",
       "      <td>0.001*machine_learning</td>\n",
       "      <td>0.001*business</td>\n",
       "      <td>0.002*project</td>\n",
       "      <td>0.001*accounting</td>\n",
       "    </tr>\n",
       "    <tr>\n",
       "      <th>4</th>\n",
       "      <td>0.001*ai</td>\n",
       "      <td>0.001*solution</td>\n",
       "      <td>0.001*product</td>\n",
       "      <td>0.001*design</td>\n",
       "      <td>0.001*design</td>\n",
       "    </tr>\n",
       "  </tbody>\n",
       "</table>\n",
       "</div>"
      ],
      "text/plain": [
       "                  topic_1                 topic_2         topic_3  \\\n",
       "0  0.002*machine_learning           0.002*product     0.002*model   \n",
       "1             0.002*model         0.001*analytics  0.001*security   \n",
       "2         0.001*financial          0.001*customer    0.001*client   \n",
       "3          0.001*business  0.001*machine_learning  0.001*business   \n",
       "4                0.001*ai          0.001*solution   0.001*product   \n",
       "\n",
       "            topic_4           topic_5  \n",
       "0  0.002*accounting      0.002*client  \n",
       "1      0.002*client     0.001*product  \n",
       "2   0.002*financial     0.001*project  \n",
       "3     0.002*project  0.001*accounting  \n",
       "4      0.001*design      0.001*design  "
      ]
     },
     "execution_count": 197,
     "metadata": {},
     "output_type": "execute_result"
    }
   ],
   "source": [
    "# display topics:\n",
    "# topics = model_list[3].print_topics(num_words=5)\n",
    "\n",
    "topics = best_model.print_topics(num_words=5)\n",
    "topics_df = pd.DataFrame(topics)\n",
    "topics_df = topics_df[1].str.replace(\"\\\\s\\\\+\", \"\", regex=True).str.replace('\\\\\"', \"\").str.split(\" \", expand=True).T\n",
    "topics_df.columns = [f\"topic_{t+1}\" for t in topics_df.columns]\n",
    "    \n",
    "topics_df"
   ]
  },
  {
   "cell_type": "markdown",
   "metadata": {},
   "source": [
    "# Observations"
   ]
  },
  {
   "cell_type": "markdown",
   "metadata": {},
   "source": [
    "Improved model coherence score and subjective results by using TF-IDF and decreasing the bi- and tri-gram model parameters. LDA model seems to be able to tease out the major topics, which we expected to be:<br>\n",
    "1. Data Scientist\n",
    "2. Data Analyst\n",
    "3. Accountant\n",
    "4. Consultant\n",
    "5. Engineer (Civil) - only small amount of these in dataset\n",
    "<br>\n",
    "I'm fairly pleased with the results so far. I think the model would have performed better if some of the topics were more distinct (i.e., Data Analysts and Data Scientists are often very similar).  The dataset is also heavily imbalanced since I collected way more Data Analyst + Scientist and only changed the searches at the end. Also I think a lot of the job descriptions were further tailored to my resume, so it was hard to get many different kinds of job descriptions.\n",
    "<br><br>\n",
    "Further Research<br>\n",
    "Look into whether the job title matches the topics produced using the LDA model."
   ]
  },
  {
   "cell_type": "code",
   "execution_count": null,
   "metadata": {},
   "outputs": [],
   "source": []
  }
 ],
 "metadata": {
  "kernelspec": {
   "display_name": "Python 3",
   "language": "python",
   "name": "python3"
  },
  "language_info": {
   "codemirror_mode": {
    "name": "ipython",
    "version": 3
   },
   "file_extension": ".py",
   "mimetype": "text/x-python",
   "name": "python",
   "nbconvert_exporter": "python",
   "pygments_lexer": "ipython3",
   "version": "3.7.0"
  },
  "toc": {
   "base_numbering": 1,
   "nav_menu": {},
   "number_sections": true,
   "sideBar": true,
   "skip_h1_title": false,
   "title_cell": "Table of Contents",
   "title_sidebar": "Contents",
   "toc_cell": false,
   "toc_position": {},
   "toc_section_display": true,
   "toc_window_display": false
  }
 },
 "nbformat": 4,
 "nbformat_minor": 2
}
