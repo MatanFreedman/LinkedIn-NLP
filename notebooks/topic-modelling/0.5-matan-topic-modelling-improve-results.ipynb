{
 "cells": [
  {
   "cell_type": "code",
   "execution_count": 1,
   "metadata": {
    "ExecuteTime": {
     "end_time": "2021-04-04T21:37:32.707336Z",
     "start_time": "2021-04-04T21:37:32.640516Z"
    }
   },
   "outputs": [],
   "source": [
    "# OPTIONAL: Load the \"autoreload\" extension so that code can change\n",
    "%load_ext autoreload\n",
    "\n",
    "# OPTIONAL: always reload modules so that as you change code in src, it gets loaded\n",
    "%autoreload 2"
   ]
  },
  {
   "cell_type": "markdown",
   "metadata": {},
   "source": [
    "# Load Libraries"
   ]
  },
  {
   "cell_type": "code",
   "execution_count": 159,
   "metadata": {
    "ExecuteTime": {
     "end_time": "2021-04-05T00:04:23.662792Z",
     "start_time": "2021-04-05T00:04:23.563060Z"
    }
   },
   "outputs": [],
   "source": [
    "from sklearn.decomposition import PCA \n",
    "from sklearn.metrics import silhouette_score\n",
    "import matplotlib.pyplot as plt \n",
    "\n",
    "from src.features import build_features\n",
    "\n",
    "import logging \n",
    "from pathlib import Path\n",
    "\n",
    "import scipy\n",
    "import pickle\n",
    "import datetime\n",
    "import numpy as np\n",
    "\n",
    "logging.basicConfig(level=logging.ERROR)\n",
    "\n",
    "import warnings\n",
    "warnings.filterwarnings(\"ignore\", category=DeprecationWarning)"
   ]
  },
  {
   "cell_type": "code",
   "execution_count": 3,
   "metadata": {
    "ExecuteTime": {
     "end_time": "2021-04-04T21:37:40.196952Z",
     "start_time": "2021-04-04T21:37:37.890321Z"
    }
   },
   "outputs": [],
   "source": [
    "from gensim.models import LdaModel\n",
    "from gensim.models.coherencemodel import CoherenceModel\n",
    "from gensim.matutils import Sparse2Corpus\n",
    "from gensim.corpora import Dictionary\n",
    "from gensim import corpora\n",
    "import gensim\n",
    "from gensim.utils import simple_preprocess\n",
    "from gensim import models\n",
    "\n",
    "import pandas as pd\n",
    "\n",
    "import re\n",
    "\n",
    "from nltk.corpus import stopwords\n",
    "from src.data.make_dataset import lematize\n",
    "\n",
    "from sklearn.decomposition import TruncatedSVD\n",
    "\n",
    "import pyLDAvis\n",
    "import pyLDAvis.gensim \n",
    "\n",
    "from src.data.DBConnection import DBConnection\n",
    "db = DBConnection()"
   ]
  },
  {
   "cell_type": "code",
   "execution_count": 4,
   "metadata": {
    "ExecuteTime": {
     "end_time": "2021-04-04T21:37:40.292493Z",
     "start_time": "2021-04-04T21:37:40.199474Z"
    }
   },
   "outputs": [
    {
     "name": "stderr",
     "output_type": "stream",
     "text": [
      "c:\\users\\matan\\github\\linkedin-nlp\\venv\\lib\\site-packages\\ipykernel\\ipkernel.py:283: DeprecationWarning: `should_run_async` will not call `transform_cell` automatically in the future. Please pass the result to `transformed_cell` argument and any exception that happen during thetransform in `preprocessing_exc_tuple` in IPython 7.17 and above.\n",
      "  and should_run_async(code)\n"
     ]
    }
   ],
   "source": [
    "logging.getLogger().setLevel(logging.ERROR)"
   ]
  },
  {
   "cell_type": "markdown",
   "metadata": {},
   "source": [
    "# Build Features"
   ]
  },
  {
   "cell_type": "code",
   "execution_count": 5,
   "metadata": {
    "ExecuteTime": {
     "end_time": "2021-04-04T21:37:40.401616Z",
     "start_time": "2021-04-04T21:37:40.293491Z"
    }
   },
   "outputs": [
    {
     "name": "stderr",
     "output_type": "stream",
     "text": [
      "c:\\users\\matan\\github\\linkedin-nlp\\venv\\lib\\site-packages\\ipykernel\\ipkernel.py:283: DeprecationWarning: `should_run_async` will not call `transform_cell` automatically in the future. Please pass the result to `transformed_cell` argument and any exception that happen during thetransform in `preprocessing_exc_tuple` in IPython 7.17 and above.\n",
      "  and should_run_async(code)\n"
     ]
    }
   ],
   "source": [
    "sql = \"SELECT details FROM positions;\"\n",
    "query = db.cur.execute(sql)\n",
    "documents = query.fetchall()"
   ]
  },
  {
   "cell_type": "code",
   "execution_count": 6,
   "metadata": {
    "ExecuteTime": {
     "end_time": "2021-04-04T21:37:40.497013Z",
     "start_time": "2021-04-04T21:37:40.404195Z"
    },
    "scrolled": false
   },
   "outputs": [
    {
     "name": "stderr",
     "output_type": "stream",
     "text": [
      "c:\\users\\matan\\github\\linkedin-nlp\\venv\\lib\\site-packages\\ipykernel\\ipkernel.py:283: DeprecationWarning: `should_run_async` will not call `transform_cell` automatically in the future. Please pass the result to `transformed_cell` argument and any exception that happen during thetransform in `preprocessing_exc_tuple` in IPython 7.17 and above.\n",
      "  and should_run_async(code)\n"
     ]
    }
   ],
   "source": [
    "def process_documents(documents):\n",
    "    # try new preprocessing steps:\n",
    "    data = list(documents)\n",
    "    # remove \\n\n",
    "    data = [text[0].replace(\"\\n\", \" \") for text in data]\n",
    "    # remove https:// links \n",
    "    data = [re.sub(r\"((https{0,1}\\:/\\/\\w{3}\\S+)|(w{3}\\S+))\", \"\", text) for text in data]\n",
    "    # remove emails:\n",
    "    data = [re.sub(r\"(\\S+@\\S+)\", \"\", text) for text in data]\n",
    "    # remove phone numbers:\n",
    "    data = [re.sub(r\"([\\+\\s01-]*\\(*\\d{3}\\)*[-\\s]\\d{3}[-\\s]\\d{4})\", \"\", text) for text in data]\n",
    "    # remove uf0b7\n",
    "    data = [re.sub(r\"(\\uf0b7)\", \"\", text) for text in data]\n",
    "    # remove handles:\n",
    "    data = [re.sub(r\"(\\@\\S+)\", \"\", text) for text in data]\n",
    "    # remove french documents\n",
    "    data = [doc for doc in data if \"une\" not in doc and \"connaissance\" not in doc]\n",
    "    return data\n",
    "\n",
    "def docs_to_words(documents):\n",
    "    for doc in documents:\n",
    "        yield(gensim.utils.simple_preprocess(str(doc), deacc=True))  # deacc=True removes punctuations\n",
    "        \n",
    "# Define functions for stopwords, bigrams, trigrams and lemmatization\n",
    "def remove_stopwords(texts):\n",
    "    return [[word for word in simple_preprocess(str(doc)) if word not in stop_words] for doc in texts]\n",
    "\n",
    "def make_bigrams(texts):\n",
    "    return [bigram_mod[doc] for doc in texts]\n",
    "\n",
    "def make_trigrams(texts):\n",
    "    return [trigram_mod[bigram_mod[doc]] for doc in texts]"
   ]
  },
  {
   "cell_type": "code",
   "execution_count": 315,
   "metadata": {
    "ExecuteTime": {
     "end_time": "2021-04-05T16:26:18.033601Z",
     "start_time": "2021-04-05T16:26:15.307888Z"
    }
   },
   "outputs": [
    {
     "name": "stdout",
     "output_type": "stream",
     "text": [
      "Wall time: 2.63 s\n"
     ]
    }
   ],
   "source": [
    "%%time\n",
    "# get stop words and add some super-common words amoung the documents\n",
    "stop_words = stopwords.words('english')\n",
    "# stop_words.extend([\"work\", \"experience\", \"team\", \"technology\", \"skill\", \"information\", \"project\", \"projects\", \"skills\"])\n",
    "stop_words.extend([\"data\", \"yelp\", \"agoda\"])\n",
    "\n",
    "\n",
    "# clean all the documents (i.e., use regex to remove emails, urls, phone numbers, french documents, etc.)\n",
    "clean_docs = process_documents(documents)\n",
    "\n",
    "# use simple_preprocess to remove punctuation:\n",
    "data_words = list(docs_to_words(clean_docs))\n",
    "\n",
    "# Count word frequencies\n",
    "from collections import defaultdict\n",
    "frequency = defaultdict(int)\n",
    "for text in data_words:\n",
    "    for token in text:\n",
    "        frequency[token] += 1\n",
    "        \n",
    "frequency_threshold = 15\n",
    "processed_corpus = [[token for token in text if frequency[token] > frequency_threshold] for text in data_words]"
   ]
  },
  {
   "cell_type": "code",
   "execution_count": 344,
   "metadata": {
    "ExecuteTime": {
     "end_time": "2021-04-05T16:54:39.315189Z",
     "start_time": "2021-04-05T16:54:10.181397Z"
    }
   },
   "outputs": [
    {
     "name": "stdout",
     "output_type": "stream",
     "text": [
      "Total Vocabulary Size Pre Filter: 4624\n",
      "Total Vocabulary Size Post Filter: 3946\n",
      "Wall time: 29 s\n"
     ]
    }
   ],
   "source": [
    "%%time\n",
    "# Build the bigram and trigram models\n",
    "bigram = gensim.models.Phrases(data_words, min_count=5, threshold=35) # higher threshold fewer phrases.\n",
    "trigram = gensim.models.Phrases(bigram[processed_corpus], threshold=25)  \n",
    "\n",
    "# Faster way to get a sentence clubbed as a trigram/bigram\n",
    "bigram_mod = gensim.models.phrases.Phraser(bigram)\n",
    "trigram_mod = gensim.models.phrases.Phraser(trigram)\n",
    "\n",
    "# Remove Stop Words\n",
    "data_words_nostops = remove_stopwords(processed_corpus)\n",
    "\n",
    "# Form Bigrams\n",
    "data_words_bigrams = make_bigrams(data_words_nostops)\n",
    "\n",
    "# Form trigrams:\n",
    "data_words_trigrams = make_trigrams(data_words_bigrams)\n",
    "\n",
    "# Lematize docs:\n",
    "data_lemmatized = [lematize(words).split(\" \") for words in data_words_trigrams]\n",
    "\n",
    "# Create Dictionary\n",
    "id2word = Dictionary(data_lemmatized)\n",
    "\n",
    "# Create Corpus\n",
    "texts = data_lemmatized\n",
    "\n",
    "# Bag of words:\n",
    "print('Total Vocabulary Size Pre Filter:', len(id2word))\n",
    "id2word.filter_extremes(no_above=0.6)\n",
    "print('Total Vocabulary Size Post Filter:', len(id2word))\n",
    "\n",
    "corpus = [id2word.doc2bow(text) for text in texts]\n",
    "\n",
    "# TF-IDF matrix:\n",
    "tfidf = models.TfidfModel(corpus)\n",
    "tfidf_corpus = tfidf[corpus]"
   ]
  },
  {
   "cell_type": "code",
   "execution_count": 345,
   "metadata": {
    "ExecuteTime": {
     "end_time": "2021-04-05T16:57:11.560870Z",
     "start_time": "2021-04-05T16:54:39.317189Z"
    },
    "code_folding": [],
    "scrolled": false
   },
   "outputs": [
    {
     "name": "stdout",
     "output_type": "stream",
     "text": [
      "Wall time: 2min 32s\n"
     ]
    },
    {
     "data": {
      "text/plain": [
       "(0.0, 1.0)"
      ]
     },
     "execution_count": 345,
     "metadata": {},
     "output_type": "execute_result"
    },
    {
     "data": {
      "image/png": "[encoded data removed]",
      "text/plain": [
       "<Figure size 432x288 with 1 Axes>"
      ]
     },
     "metadata": {
      "needs_background": "light"
     },
     "output_type": "display_data"
    }
   ],
   "source": [
    "%%time\n",
    "# determine optimal number of topics using coherence score:\n",
    "coherence_vals = []\n",
    "model_list =[]\n",
    "start = 2\n",
    "stop = 10\n",
    "step = 1\n",
    "random_state = 20\n",
    "\n",
    "for num_topics in range(start, stop, step):\n",
    "    # make LDa model and calc coherence:\n",
    "    model = LdaModel(corpus=tfidf_corpus, id2word=id2word, num_topics=num_topics, passes=4, iterations=150, \n",
    "                     random_state=random_state\n",
    "                    )\n",
    "    model_list.append(model)\n",
    "    coherence_model = CoherenceModel(model=model, texts=texts, dictionary=id2word, coherence='c_v', processes=4)\n",
    "    coherence_vals.append(coherence_model.get_coherence())\n",
    "    \n",
    "x = range(start, stop, step)\n",
    "plt.plot(x, coherence_vals)\n",
    "plt.xlabel(\"Number of Topics\")\n",
    "plt.ylabel(\"Coherence score\")\n",
    "plt.ylim([0, 1]);"
   ]
  },
  {
   "cell_type": "code",
   "execution_count": 346,
   "metadata": {
    "ExecuteTime": {
     "end_time": "2021-04-05T16:57:11.719480Z",
     "start_time": "2021-04-05T16:57:11.562864Z"
    },
    "scrolled": false
   },
   "outputs": [
    {
     "name": "stdout",
     "output_type": "stream",
     "text": [
      "Best model coherence score is 0.544\n"
     ]
    }
   ],
   "source": [
    "best_model = model_list[coherence_vals.index(max(coherence_vals))]\n",
    "print(f\"Best model coherence score is {max(coherence_vals):0.3f}\")"
   ]
  },
  {
   "cell_type": "code",
   "execution_count": 347,
   "metadata": {
    "ExecuteTime": {
     "end_time": "2021-04-05T16:57:14.916966Z",
     "start_time": "2021-04-05T16:57:11.724438Z"
    }
   },
   "outputs": [
    {
     "data": {
      "text/html": [
       "\n",
       "<link rel=\"stylesheet\" type=\"text/css\" href=\"https://cdn.jsdelivr.net/gh/bmabey/pyLDAvis@3.2.2/pyLDAvis/js/ldavis.v1.0.0.css\">\n",
       "\n",
       "\n",
       "<div id=\"ldavis_el106013716393616082417131620\"></div>\n",
       "<script type=\"text/javascript\">\n",
       "\n",
       "var ldavis_el106013716393616082417131620_data = {\"mdsDat\": {\"x\": [0.009169532572616488, -0.04277688508678099, 0.022179239482916478, -0.02749645409911447, 0.038924567130362436], \"y\": [-0.03203008629461543, 0.00426002349278699, -0.019081307723575348, 0.013919222429942674, 0.03293214809546114], \"topics\": [1, 2, 3, 4, 5], \"cluster\": [1, 1, 1, 1, 1], \"Freq\": [7.062840583421229, 75.42108428923393, 6.405256044995259, 7.847888586072527, 3.26293049627706]}, \"tinfo\": {\"Term\": [\"accounting\", \"restaurant\", \"financial\", \"machine_learning\", \"account\", \"design\", \"model\", \"client\", \"construction\", \"finance\", \"project\", \"engineering\", \"food\", \"assist\", \"security\", \"customer\", \"prepare\", \"chipotle\", \"report\", \"product\", \"science\", \"engineer\", \"software\", \"review\", \"system\", \"scientist\", \"ai\", \"asset\", \"solution\", \"continue\", \"robert_half\", \"bank_reconciliations\", \"account_reconciliations\", \"month_end_close\", \"accounts_payable\", \"month_end\", \"intercompany\", \"accountant\", \"accrual\", \"general_ledger\", \"journal_entries\", \"fixed_assets\", \"gl\", \"financial_statement\", \"inter_company\", \"ap\", \"accounts_receivable\", \"intermediate_accountant\", \"cpa\", \"controller\", \"functional_area\", \"month_end_closing\", \"quickbooks\", \"ap_ar\", \"reconciliation\", \"working_papers\", \"tenant\", \"professional_accounting_designation\", \"property_accounting\", \"iqvia\", \"payroll\", \"cash\", \"accounting\", \"job_functions_accounting_auditing\", \"entry\", \"account\", \"monthly\", \"prepare_monthly\", \"year_end\", \"tax\", \"invoice\", \"preparation\", \"financial\", \"audit\", \"transaction\", \"finance\", \"prepare\", \"assist\", \"corporate\", \"report\", \"reporting\", \"review\", \"must\", \"geotab\", \"bell\", \"mozilla\", \"deloitte\", \"metric\", \"manulife\", \"always\", \"game\", \"loyalty\", \"gameplay\", \"ecommerce\", \"climate\", \"discriminate\", \"decision\", \"insight\", \"fintech\", \"meaningful\", \"square\", \"looker\", \"student\", \"regular\", \"accessible\", \"tim_hortons\", \"impactful\", \"want\", \"thrive\", \"hybrid\", \"million\", \"however\", \"colleague\", \"analyst\", \"user\", \"diversity\", \"connect\", \"product\", \"value\", \"disability\", \"source\", \"share\", \"across\", \"analytics\", \"help\", \"initiative\", \"creative\", \"identify\", \"research\", \"stakeholder\", \"sql\", \"dashboard\", \"analysis\", \"learn\", \"client\", \"marketing\", \"u\", \"drive\", \"solution\", \"tool\", \"make\", \"quality\", \"create\", \"sale\", \"project\", \"science\", \"market\", \"machine_learning\", \"model\", \"new\", \"customer\", \"platform\", \"management\", \"canada\", \"technology\", \"build\", \"scientist\", \"development\", \"engineering\", \"company\", \"design\", \"report\", \"service\", \"system\", \"mcelhanney\", \"dam\", \"catalogue\", \"hydrotechnical\", \"prioritize_attracting_diverse\", \"details_removed\", \"online_travel_booking_platform\", \"military_status\", \"contacting_us\", \"email_protected\", \"gender_identity_disability_citizenship\", \"deploy_cutting_edge\", \"accommodation_flights\", \"million_accommodations_globally\", \"different_nationalities_foster\", \"accept_third\", \"company_represented\", \"based_solely\", \"talents_coming\", \"sex_age_race_color\", \"diversity_creativity\", \"ownership_enabling\", \"encourages_collaboration\", \"party_resumes\", \"national_origin_religion_marital\", \"person_merit\", \"booking_holdings\", \"connects_travelers\", \"work_environment_rich\", \"status_pregnancy_sexual_orientation\", \"drainage\", \"water\", \"plant\", \"registration\", \"land_development\", \"employee_owned\", \"civil\", \"construction\", \"civil_engineering\", \"car\", \"ibm\", \"municipal\", \"inspection\", \"geotechnical\", \"design\", \"civil_engineer\", \"approval\", \"project\", \"file\", \"prodigy_education\", \"staff\", \"client\", \"law\", \"site\", \"contract\", \"engineering\", \"experimentation\", \"utility\", \"review\", \"accounting\", \"assist\", \"safety\", \"asset\", \"engineer\", \"prepare\", \"account\", \"bmo\", \"ml_dl\", \"ip\", \"time_series_forecasting\", \"trial\", \"overview_wood\", \"posted_days_ago_head\", \"render\", \"computer_language\", \"electrical\", \"natural_language\", \"tensorflow_keras\", \"water_infrastructure\", \"energy_demand\", \"neural_networks_etc\", \"fraud_detection\", \"embed\", \"cyber\", \"omers\", \"incident_response\", \"device\", \"hardware\", \"achiever\", \"machine_learning_deep_learning\", \"iot_devices\", \"tree\", \"builds_effective_relationships\", \"toronto_london_new_york\", \"major_cities_across_north\", \"power_economic_growth\", \"iot\", \"cybersecurity\", \"office_toronto\", \"corp\", \"security\", \"artificial_intelligence\", \"threat\", \"machine_learning\", \"distribute\", \"deep_learning\", \"model\", \"ai\", \"nlp\", \"technique\", \"software\", \"test\", \"customer\", \"scientist\", \"cloud\", \"algorithms\", \"science\", \"network\", \"engineer\", \"engineering\", \"design\", \"system\", \"solution\", \"platform\", \"production\", \"etc\", \"product\", \"technology\", \"analytics\", \"technical\", \"develop\", \"project\", \"knowledge\", \"python\", \"tool\", \"development\", \"client\", \"chipotle\", \"real_food\", \"food_accessible\", \"cultivating_better_world\", \"crew\", \"panda_express\", \"boh\", \"eat\", \"panda_service\", \"created_better\", \"holiday_competitive_compensation\", \"clear_career_path\", \"cook_prep_cook_foh\", \"chipotle_grill_inc\", \"welcome_experienced_restaurant_professionals\", \"description_cultivating_better\", \"executive_first_opened\", \"directly_supporting_efforts\", \"serving_others\", \"team_members_desire\", \"ingredients_without_artificial\", \"learn_evolve\", \"fast_food_starting\", \"chipotle_com_primary_location\", \"single_restaurant\", \"year_free_food_yes\", \"old_ability\", \"exceptional_customer_service\", \"providing_great_guest\", \"cook_lot\", \"panda\", \"food\", \"kitchen\", \"restaurant\", \"guest\", \"de\", \"continue\", \"place\", \"shift\", \"everyone\", \"location\", \"mission\"], \"Freq\": [13.0, 8.0, 15.0, 18.0, 9.0, 16.0, 19.0, 22.0, 9.0, 11.0, 19.0, 16.0, 4.0, 10.0, 10.0, 17.0, 9.0, 3.0, 15.0, 22.0, 16.0, 13.0, 13.0, 10.0, 14.0, 14.0, 11.0, 13.0, 16.0, 6.0, 1.4248287134493745, 1.3316901210521053, 1.0864385742336937, 1.0403158453841355, 1.1988034770688798, 1.683064410993575, 0.9134482256684231, 2.7914613707924074, 0.8582720083804981, 1.125509807989638, 1.3706956395420313, 0.76939907789742, 0.8905676523401554, 1.7519436941355324, 0.7272180297595864, 0.650937280674988, 0.7936522109059259, 0.5588517136531908, 1.404545128378183, 1.1943523301106045, 0.559498243168865, 0.5580657985995938, 0.8243668839131163, 0.47370607400270004, 1.9105074171809293, 0.6766655484706895, 0.5488933803527266, 0.4676755866211145, 0.46842770525218785, 0.5773653346196453, 1.566001311327865, 1.2387202143076073, 5.7348327198309175, 1.4028560978115945, 1.5621322138686071, 3.2635782223769074, 2.073521990724755, 0.8964973433738636, 1.0797211893873084, 1.5237496563365427, 1.1089110211730069, 1.771015153713524, 2.885482622973246, 1.6236698665469818, 1.4792836439302828, 2.2357604323899247, 1.9603472584083383, 2.0459488533030505, 1.6660025538964016, 1.5044710701456578, 1.3684546995608398, 1.318375121137401, 1.2258522758417238, 4.8057922197477, 4.536952989940894, 3.34617555576728, 4.0920824836046785, 7.8975457223963295, 2.813207760702766, 5.47497356558781, 12.108457199104562, 2.84023103029046, 2.7794524829405693, 3.3976944920615684, 2.96583476945253, 3.9789877537537692, 9.77344283119219, 14.681978506994149, 3.0703402398730204, 5.35946414529011, 5.108058278763632, 3.3207554844583083, 5.4533545278150966, 4.407583832145911, 5.230663243064053, 2.41887717654, 3.5304663241035428, 8.627775233595356, 6.703317863623832, 2.8955029859550154, 7.386920870991779, 3.891264553417642, 5.913120241986587, 15.947473634058689, 12.138522509066117, 7.836699111008936, 6.969115316870877, 19.75286115820397, 11.08596651477446, 9.443569681987803, 9.780947814676328, 8.206464645357109, 10.920065435826865, 17.819766514636033, 13.167376389460525, 8.568230280971697, 7.498924201915738, 10.974445963651402, 15.340879545030198, 11.271902691645263, 10.024509432787543, 9.310497629501336, 14.717918429308936, 10.58253112519182, 18.631210140910216, 10.272008212510023, 10.897954648573892, 11.318106037661785, 14.058679709226356, 12.4492786334113, 10.981755724702388, 10.963744608545573, 11.267410465170014, 12.577312891866093, 15.549438308505746, 13.810734556048619, 11.238324433143397, 14.85530225942704, 15.265407607630653, 11.758816987101403, 14.241223236785924, 11.783478329062076, 12.687885822746077, 11.483900535713445, 12.358918083528952, 11.895467414024697, 12.104208736856652, 11.987737977982734, 12.733874951714332, 11.902755014691381, 13.006036128653882, 12.270850605793823, 11.740436531206194, 11.814917582850452, 2.0960300872859263, 0.9562896544506284, 0.8394874310845242, 0.5832104576932037, 0.5914466986118637, 0.5914366164366961, 0.5914451750831717, 0.5914365268173613, 0.5914242041588229, 0.5914052496695077, 0.5914213811497759, 0.5914202160984232, 0.5914192302857402, 0.5914383192040578, 0.5914466538021963, 0.5914192750954076, 0.5914323147086245, 0.5914278785515508, 0.5914278785515508, 0.5914376470590466, 0.5914368852947005, 0.591418334092392, 0.5914161832283562, 0.5914377366783814, 0.5914056977661818, 0.5914171690410392, 0.5914096858265815, 0.5914161384186888, 0.5914186925697312, 0.5913928822013019, 0.9491457387944704, 1.8017499453431658, 0.9562564056774088, 0.7818479493184736, 1.2758679007048388, 0.8887283265068812, 1.5082435767372757, 2.276893196996888, 1.5906768748177216, 0.8612806128303434, 1.0247418882018609, 0.9766873735339036, 0.8398996800247145, 1.059097549825965, 1.6348023882276612, 0.8342906747160865, 0.773478847735937, 1.5583449073932776, 0.9298439745567575, 0.6171569622441692, 1.0406757578368888, 1.3952030353310727, 0.8787564727403526, 0.9731963419651706, 0.940781118178675, 1.1995393820932667, 0.8189732964853127, 0.8627494737281083, 0.96219207346147, 0.9802609445100094, 0.9189150759136439, 0.8854080197709878, 0.9096460169708049, 0.9017179321349372, 0.8692959868983298, 0.8678718460486421, 0.8552357960367591, 0.5530669594568142, 0.7285383732416524, 0.4420959360289326, 0.402637686565257, 0.5237382087550374, 0.5792066185003528, 0.6221426617154171, 0.3787993540670446, 0.6059386699723589, 0.4180322583293629, 0.4402617155801217, 0.4200459808212576, 0.34419474212282036, 0.3215444062477213, 0.8867034732094037, 0.541011032360691, 0.36875154946024863, 0.7851061403537548, 0.33998787744892617, 0.8234404638119279, 0.8272380341805187, 0.41971796890616225, 0.7756518536661384, 0.2763200482580023, 0.37096580145584834, 0.27533894976896495, 0.27678635827572134, 0.2767738680739163, 0.27301794086167336, 0.5990337570026188, 0.4884751023912544, 0.5306391687817885, 0.40175848616215437, 2.3670325832948103, 0.9620765979631413, 0.6570591169398726, 2.664515700079351, 0.7534414199535134, 0.8940641275645662, 2.4511079473325363, 1.7191988117611168, 0.9001941539045203, 1.5268520098469618, 1.7108376785158743, 1.512977948583913, 1.9556818692053246, 1.720220098503874, 1.324358222888381, 1.035591674806163, 1.7441674663461955, 1.1809943140205208, 1.5201568224635744, 1.6494966778427533, 1.6615773108325567, 1.5167895738609085, 1.577685978251756, 1.4545520237571228, 1.2221441211225001, 1.3123581860139613, 1.5387315917641935, 1.3314715437968108, 1.4084614771349726, 1.2389319405842167, 1.19952373428074, 1.2354319389795085, 1.139816506905704, 1.102891078211139, 1.1424960532322825, 1.135792410943058, 1.136079548329609, 2.4339974094351255, 0.7514666451659949, 0.7514479729289497, 0.7514024564978151, 0.7303777458519104, 0.4259544498253735, 0.42428874019009216, 0.4491765951551296, 0.4085120694886628, 0.40630381495107143, 0.4063061432740282, 0.4063022170823756, 0.40630180620185385, 0.40630381495107143, 0.40630965858515894, 0.40630979554533286, 0.4063117586411591, 0.40629431904567925, 0.4062988387314188, 0.40629806262376655, 0.4062879732242874, 0.4063008018272451, 0.4062929037905487, 0.4062895710929832, 0.40629034720063545, 0.4062870145030699, 0.4062820382834173, 0.40628281439106956, 0.40628569055472197, 0.4062779294781995, 0.8513564936159144, 1.2486581446018223, 0.7559911701650135, 1.419871053651421, 0.5783866950254445, 0.5493835977144691, 0.5948306356942387, 0.46290698955133003, 0.43036278694351204, 0.43927793554484146, 0.4218788802764825, 0.4186435157412329], \"Total\": [13.0, 8.0, 15.0, 18.0, 9.0, 16.0, 19.0, 22.0, 9.0, 11.0, 19.0, 16.0, 4.0, 10.0, 10.0, 17.0, 9.0, 3.0, 15.0, 22.0, 16.0, 13.0, 13.0, 10.0, 14.0, 14.0, 11.0, 13.0, 16.0, 6.0, 1.8630101810461481, 1.9487180635951076, 1.6253225451652913, 1.5801842667999115, 1.858414980310939, 2.6099409006763987, 1.448682319928503, 4.5493355422238375, 1.401819115117266, 1.8424619309936878, 2.2531401454271176, 1.2813849939742536, 1.5129085932412927, 2.9821290050075824, 1.257303683732979, 1.1938188644989594, 1.4592678621557669, 1.0280034716415851, 2.6134314004915717, 2.2425501648198747, 1.0570676047189262, 1.0803835533169972, 1.605715546490907, 0.9312396724465408, 3.7726542343023657, 1.3583755862590614, 1.102738439872284, 0.9614357555780769, 0.9827503123365678, 1.2231682959634782, 3.326210838330116, 2.669528201660168, 13.262498573193527, 3.0641644518890314, 3.6388501771693056, 9.388967917613543, 5.3761226106928515, 1.954548429712649, 2.5479879102021137, 4.275042988152068, 2.7670798312035116, 6.165701302561903, 15.41045607371627, 5.5051215535884115, 4.637417089635935, 11.655581987044066, 9.31276820273892, 10.716067837200761, 6.748165508411639, 15.37967119464462, 9.25673239165824, 10.350516447103661, 10.983528517637923, 5.096515805653933, 4.877826062903181, 3.673621540854502, 4.507673658556662, 8.773498561921144, 3.128743864281866, 6.101128153699177, 13.508995117300495, 3.171711859099205, 3.106463487435056, 3.7978263230151024, 3.3170934776629464, 4.450697243042795, 10.93733521945557, 16.434383551423174, 3.4395963381068912, 6.0066705060635535, 5.726014487000974, 3.728751856949743, 6.125261158092447, 4.959519287442893, 5.8885214025137875, 2.7243530814876076, 3.9775814413284594, 9.74071154953819, 7.573285706734285, 3.2817082871312553, 8.375084671538879, 4.412056233757322, 6.707580834727657, 18.188027121840957, 13.81979131337804, 8.893818187713595, 7.906899540989146, 22.82497049338397, 12.683227650401804, 10.771657797159458, 11.175352948304734, 9.346353540290307, 12.512994269260309, 20.720588721654135, 15.208981221881578, 9.797775302566215, 8.542491508505549, 12.666474012835467, 17.97804075748514, 13.041662395926904, 11.563746960339103, 10.721052080174621, 17.389821317806398, 12.305030290928883, 22.629742684708255, 11.946925549229942, 12.740270951332645, 13.269267590141151, 16.87917141099043, 14.769559222461842, 12.869034763675229, 12.847938309786223, 13.248192149291949, 15.055941069969517, 19.273333851098425, 16.80919824778617, 13.255587784041737, 18.457602161772172, 19.075154718490857, 13.988436074508746, 17.63589016685773, 14.040208267340097, 15.38307918362816, 13.601751284446916, 14.923326917157473, 14.22096014120337, 14.60306987745599, 14.446261436016725, 16.19002624422399, 14.44869548836921, 16.89534535818247, 15.37967119464462, 14.28201980333051, 14.827405395125602, 2.6080106242251575, 1.704559108189485, 1.5423309063625181, 1.0805002862154502, 1.0998251060071482, 1.099822374149725, 1.0998403149207776, 1.0998250069542597, 1.0998111439947742, 1.0997760770298017, 1.099806744725723, 1.0998052605037254, 1.0998064045987335, 1.0998427980333547, 1.0998606636235462, 1.0998161475371955, 1.099845488946148, 1.0998380657160116, 1.099839191977263, 1.0998587773878685, 1.0998592242718523, 1.0998330404281074, 1.0998406114461716, 1.0998807676221514, 1.0998213509982318, 1.0998507760999232, 1.0998421770913842, 1.0998542763195591, 1.0998763312918178, 1.0998415146449112, 1.7792533805626425, 3.6709992588355536, 2.1142137222607524, 1.6340194148447142, 3.3353609770470967, 2.0186628571892085, 4.481506374027519, 9.386449695850388, 5.909821502829821, 2.0913776068791385, 3.0534320438694533, 2.828617559379213, 2.236738848782749, 3.904386071699517, 16.89534535818247, 2.924761250516651, 2.389495315571113, 19.273333851098425, 4.444898813991696, 1.2534510710790676, 7.146414906628335, 22.629742684708255, 4.671178071284723, 6.943617198912975, 6.198131181177256, 16.19002624422399, 3.935967589120705, 4.955245691685149, 10.350516447103661, 13.262498573193527, 10.716067837200761, 6.736011060122401, 13.764223861834957, 13.280603003459527, 9.31276820273892, 9.388967917613543, 1.5247442081265703, 1.0386538020714593, 1.4468403535958347, 0.9317814019268557, 0.8611243604322193, 1.1225716207860617, 1.303005698461437, 1.4242313481352225, 0.8738607650681726, 1.409093412642978, 0.9882674626806881, 1.0480945525954826, 1.0236200350083982, 0.843728132155914, 0.7986774668384312, 2.2184776824657013, 1.366274117425062, 0.9362168255276985, 2.019911510005856, 0.8749363507399092, 2.1515863863298965, 2.1868456577153985, 1.115805717632199, 2.071675665439898, 0.7444590588728444, 1.0019053885746854, 0.7603577056496369, 0.7667289507948323, 0.7667483964845978, 0.7573127704018654, 1.751820175170343, 1.4324946853933116, 1.6025397141044282, 1.1764190934180447, 10.949136341578228, 3.651208181409383, 2.277038628399122, 18.457602161772172, 2.876228487508709, 3.774898537480407, 19.075154718490857, 11.804646511562867, 4.152183297872397, 10.57506828131627, 13.64655979948682, 10.909186111043958, 17.63589016685773, 14.60306987745599, 9.124659242423975, 5.615173525476853, 16.80919824778617, 7.621815596668304, 13.280603003459527, 16.19002624422399, 16.89534535818247, 14.827405395125602, 16.87917141099043, 14.040208267340097, 9.37746012483063, 11.484591339888299, 22.82497049338397, 14.923326917157473, 20.720588721654135, 13.137870485266614, 13.244023858431603, 19.273333851098425, 12.896635001173689, 10.572499591671862, 14.769559222461842, 14.446261436016725, 22.629742684708255, 3.072343159955066, 1.2503184291617377, 1.2503504430007353, 1.250365312420821, 1.437681098933885, 0.9080508557047269, 0.9081237948070646, 0.9714476378232015, 0.8861641461286753, 0.8862452979459442, 0.8862553141262516, 0.886249939586196, 0.8862509602036587, 0.8862578980507384, 0.8862734130936019, 0.886280564448169, 0.8862859540405346, 0.8862556203024384, 0.8862683524146322, 0.8862714664837531, 0.88625123357825, 0.886279549410625, 0.8862636461387272, 0.8862696092143195, 0.8862713502765902, 0.8862670460053558, 0.8862649947778659, 0.8862668062469701, 0.8862768611559677, 0.8862602385986589, 2.0329800491028602, 4.861680261167601, 2.359565918079423, 8.917552751254542, 2.6610965899319714, 3.7429036898204484, 6.536376155623206, 6.469119739970629, 2.8114100445228596, 7.50646367878606, 7.923834537785047, 8.802773938057287], \"Category\": [\"Default\", \"Default\", \"Default\", \"Default\", \"Default\", \"Default\", \"Default\", \"Default\", \"Default\", \"Default\", \"Default\", \"Default\", \"Default\", \"Default\", \"Default\", \"Default\", \"Default\", \"Default\", \"Default\", \"Default\", \"Default\", \"Default\", \"Default\", \"Default\", \"Default\", \"Default\", \"Default\", \"Default\", \"Default\", \"Default\", \"Topic1\", \"Topic1\", \"Topic1\", \"Topic1\", \"Topic1\", \"Topic1\", \"Topic1\", \"Topic1\", \"Topic1\", \"Topic1\", \"Topic1\", \"Topic1\", \"Topic1\", \"Topic1\", \"Topic1\", \"Topic1\", \"Topic1\", \"Topic1\", \"Topic1\", \"Topic1\", \"Topic1\", \"Topic1\", \"Topic1\", \"Topic1\", \"Topic1\", \"Topic1\", \"Topic1\", \"Topic1\", \"Topic1\", \"Topic1\", \"Topic1\", \"Topic1\", \"Topic1\", \"Topic1\", \"Topic1\", \"Topic1\", \"Topic1\", \"Topic1\", \"Topic1\", \"Topic1\", \"Topic1\", \"Topic1\", \"Topic1\", \"Topic1\", \"Topic1\", \"Topic1\", \"Topic1\", \"Topic1\", \"Topic1\", \"Topic1\", \"Topic1\", \"Topic1\", \"Topic1\", \"Topic2\", \"Topic2\", \"Topic2\", \"Topic2\", \"Topic2\", \"Topic2\", \"Topic2\", \"Topic2\", \"Topic2\", \"Topic2\", \"Topic2\", \"Topic2\", \"Topic2\", \"Topic2\", \"Topic2\", \"Topic2\", \"Topic2\", \"Topic2\", \"Topic2\", \"Topic2\", \"Topic2\", \"Topic2\", \"Topic2\", \"Topic2\", \"Topic2\", \"Topic2\", \"Topic2\", \"Topic2\", \"Topic2\", \"Topic2\", \"Topic2\", \"Topic2\", \"Topic2\", \"Topic2\", \"Topic2\", \"Topic2\", \"Topic2\", \"Topic2\", \"Topic2\", \"Topic2\", \"Topic2\", \"Topic2\", \"Topic2\", \"Topic2\", \"Topic2\", \"Topic2\", \"Topic2\", \"Topic2\", \"Topic2\", \"Topic2\", \"Topic2\", \"Topic2\", \"Topic2\", \"Topic2\", \"Topic2\", \"Topic2\", \"Topic2\", \"Topic2\", \"Topic2\", \"Topic2\", \"Topic2\", \"Topic2\", \"Topic2\", \"Topic2\", \"Topic2\", \"Topic2\", \"Topic2\", \"Topic2\", \"Topic2\", \"Topic2\", \"Topic2\", \"Topic2\", \"Topic2\", \"Topic2\", \"Topic2\", \"Topic2\", \"Topic2\", \"Topic2\", \"Topic2\", \"Topic2\", \"Topic2\", \"Topic3\", \"Topic3\", \"Topic3\", \"Topic3\", \"Topic3\", \"Topic3\", \"Topic3\", \"Topic3\", \"Topic3\", \"Topic3\", \"Topic3\", \"Topic3\", \"Topic3\", \"Topic3\", \"Topic3\", \"Topic3\", \"Topic3\", \"Topic3\", \"Topic3\", \"Topic3\", \"Topic3\", \"Topic3\", \"Topic3\", \"Topic3\", \"Topic3\", \"Topic3\", \"Topic3\", \"Topic3\", \"Topic3\", \"Topic3\", \"Topic3\", \"Topic3\", \"Topic3\", \"Topic3\", \"Topic3\", \"Topic3\", \"Topic3\", \"Topic3\", \"Topic3\", \"Topic3\", \"Topic3\", \"Topic3\", \"Topic3\", \"Topic3\", \"Topic3\", \"Topic3\", \"Topic3\", \"Topic3\", \"Topic3\", \"Topic3\", \"Topic3\", \"Topic3\", \"Topic3\", \"Topic3\", \"Topic3\", \"Topic3\", \"Topic3\", \"Topic3\", \"Topic3\", \"Topic3\", \"Topic3\", \"Topic3\", \"Topic3\", \"Topic3\", \"Topic3\", \"Topic3\", \"Topic4\", \"Topic4\", \"Topic4\", \"Topic4\", \"Topic4\", \"Topic4\", \"Topic4\", \"Topic4\", \"Topic4\", \"Topic4\", \"Topic4\", \"Topic4\", \"Topic4\", \"Topic4\", \"Topic4\", \"Topic4\", \"Topic4\", \"Topic4\", \"Topic4\", \"Topic4\", \"Topic4\", \"Topic4\", \"Topic4\", \"Topic4\", \"Topic4\", \"Topic4\", \"Topic4\", \"Topic4\", \"Topic4\", \"Topic4\", \"Topic4\", \"Topic4\", \"Topic4\", \"Topic4\", \"Topic4\", \"Topic4\", \"Topic4\", \"Topic4\", \"Topic4\", \"Topic4\", \"Topic4\", \"Topic4\", \"Topic4\", \"Topic4\", \"Topic4\", \"Topic4\", \"Topic4\", \"Topic4\", \"Topic4\", \"Topic4\", \"Topic4\", \"Topic4\", \"Topic4\", \"Topic4\", \"Topic4\", \"Topic4\", \"Topic4\", \"Topic4\", \"Topic4\", \"Topic4\", \"Topic4\", \"Topic4\", \"Topic4\", \"Topic4\", \"Topic4\", \"Topic4\", \"Topic4\", \"Topic4\", \"Topic4\", \"Topic4\", \"Topic4\", \"Topic5\", \"Topic5\", \"Topic5\", \"Topic5\", \"Topic5\", \"Topic5\", \"Topic5\", \"Topic5\", \"Topic5\", \"Topic5\", \"Topic5\", \"Topic5\", \"Topic5\", \"Topic5\", \"Topic5\", \"Topic5\", \"Topic5\", \"Topic5\", \"Topic5\", \"Topic5\", \"Topic5\", \"Topic5\", \"Topic5\", \"Topic5\", \"Topic5\", \"Topic5\", \"Topic5\", \"Topic5\", \"Topic5\", \"Topic5\", \"Topic5\", \"Topic5\", \"Topic5\", \"Topic5\", \"Topic5\", \"Topic5\", \"Topic5\", \"Topic5\", \"Topic5\", \"Topic5\", \"Topic5\", \"Topic5\"], \"logprob\": [30.0, 29.0, 28.0, 27.0, 26.0, 25.0, 24.0, 23.0, 22.0, 21.0, 20.0, 19.0, 18.0, 17.0, 16.0, 15.0, 14.0, 13.0, 12.0, 11.0, 10.0, 9.0, 8.0, 7.0, 6.0, 5.0, 4.0, 3.0, 2.0, 1.0, -6.3898, -6.4574, -6.661, -6.7044, -6.5626, -6.2233, -6.8344, -5.7173, -6.8967, -6.6257, -6.4286, -7.006, -6.8598, -6.1832, -7.0624, -7.1732, -6.975, -7.3258, -6.4042, -6.5663, -7.3246, -7.3272, -6.937, -7.4911, -6.0965, -7.1345, -7.3437, -7.5039, -7.5023, -7.2932, -6.2954, -6.5298, -4.9973, -6.4054, -6.2978, -5.5611, -6.0146, -6.8532, -6.6672, -6.3227, -6.6405, -6.1723, -5.6842, -6.2592, -6.3523, -5.9393, -6.0708, -6.028, -6.2335, -6.3354, -6.4302, -6.4675, -6.5403, -7.5423, -7.5999, -7.9043, -7.7031, -7.0456, -8.0778, -7.4119, -6.6182, -8.0682, -8.0899, -7.889, -8.025, -7.7311, -6.8325, -6.4255, -7.9903, -7.4333, -7.4813, -7.9119, -7.4159, -7.6288, -7.4576, -8.2288, -7.8507, -6.9571, -7.2095, -8.049, -7.1124, -7.7534, -7.335, -6.3428, -6.6157, -7.0533, -7.1706, -6.1288, -6.7065, -6.8668, -6.8317, -7.0072, -6.7215, -6.2318, -6.5344, -6.9641, -7.0974, -6.7166, -6.3816, -6.6898, -6.8071, -6.881, -6.4231, -6.7529, -6.1873, -6.7827, -6.7236, -6.6857, -6.4689, -6.5905, -6.7159, -6.7175, -6.6902, -6.5802, -6.3681, -6.4867, -6.6928, -6.4138, -6.3865, -6.6475, -6.456, -6.6454, -6.5715, -6.6712, -6.5978, -6.636, -6.6186, -6.6282, -6.5679, -6.6354, -6.5467, -6.6049, -6.6491, -6.6428, -5.9061, -6.6909, -6.8211, -7.1854, -7.1713, -7.1714, -7.1713, -7.1714, -7.1714, -7.1714, -7.1714, -7.1714, -7.1714, -7.1714, -7.1713, -7.1714, -7.1714, -7.1714, -7.1714, -7.1714, -7.1714, -7.1714, -7.1714, -7.1714, -7.1714, -7.1714, -7.1714, -7.1714, -7.1714, -7.1714, -6.6984, -6.0574, -6.6909, -6.8923, -6.4025, -6.7641, -6.2352, -5.8234, -6.182, -6.7955, -6.6217, -6.6698, -6.8206, -6.5887, -6.1546, -6.8273, -6.903, -6.2025, -6.7189, -7.1288, -6.6063, -6.3131, -6.7754, -6.6733, -6.7072, -6.4642, -6.8459, -6.7938, -6.6847, -6.6661, -6.7307, -6.7679, -6.7409, -6.7496, -6.7862, -6.7879, -7.0057, -7.4416, -7.166, -7.6655, -7.759, -7.4961, -7.3954, -7.3239, -7.82, -7.3503, -7.7215, -7.6697, -7.7167, -7.9158, -7.9839, -6.9695, -7.4636, -7.8469, -7.0912, -7.9281, -7.0436, -7.039, -7.7175, -7.1033, -8.1355, -7.8409, -8.139, -8.1338, -8.1338, -8.1475, -7.3617, -7.5658, -7.483, -7.7612, -5.9877, -6.8879, -7.2693, -5.8693, -7.1324, -6.9613, -5.9527, -6.3074, -6.9544, -6.4261, -6.3123, -6.4352, -6.1785, -6.3068, -6.5684, -6.8143, -6.293, -6.6829, -6.4305, -6.3488, -6.3415, -6.4327, -6.3933, -6.4746, -6.6487, -6.5775, -6.4183, -6.563, -6.5068, -6.635, -6.6674, -6.6379, -6.7184, -6.7514, -6.7161, -6.722, -6.7217, -5.0821, -6.2574, -6.2574, -6.2575, -6.2859, -6.8251, -6.829, -6.772, -6.8669, -6.8723, -6.8723, -6.8723, -6.8723, -6.8723, -6.8723, -6.8723, -6.8723, -6.8723, -6.8723, -6.8723, -6.8724, -6.8723, -6.8723, -6.8724, -6.8724, -6.8724, -6.8724, -6.8724, -6.8724, -6.8724, -6.1326, -5.7496, -6.2514, -5.6211, -6.5192, -6.5706, -6.4911, -6.7419, -6.8148, -6.7943, -6.8347, -6.8424], \"loglift\": [30.0, 29.0, 28.0, 27.0, 26.0, 25.0, 24.0, 23.0, 22.0, 21.0, 20.0, 19.0, 18.0, 17.0, 16.0, 15.0, 14.0, 13.0, 12.0, 11.0, 10.0, 9.0, 8.0, 7.0, 6.0, 5.0, 4.0, 3.0, 2.0, 1.0, 2.3822, 2.2696, 2.2475, 2.2323, 2.2119, 2.2116, 2.1891, 2.1619, 2.1597, 2.1575, 2.1533, 2.1402, 2.1204, 2.1184, 2.1028, 2.0438, 2.0413, 2.0408, 2.0294, 2.0203, 2.0141, 1.9897, 1.9836, 1.9744, 1.9699, 1.9535, 1.9527, 1.9297, 1.9093, 1.8996, 1.897, 1.8825, 1.8119, 1.8691, 1.8047, 1.5936, 1.6976, 1.8709, 1.7917, 1.6187, 1.7359, 1.4029, 0.975, 1.4293, 1.5077, 0.9991, 1.0921, 0.9944, 1.2515, 0.3257, 0.7387, 0.5897, 0.4576, 0.2233, 0.2096, 0.1887, 0.1854, 0.1769, 0.1758, 0.1738, 0.1726, 0.1717, 0.1709, 0.1708, 0.1702, 0.17, 0.1696, 0.1693, 0.1685, 0.1681, 0.1679, 0.1662, 0.1659, 0.1641, 0.1636, 0.1632, 0.1628, 0.1608, 0.1601, 0.1569, 0.1565, 0.1565, 0.156, 0.1506, 0.1524, 0.1555, 0.1558, 0.1375, 0.1475, 0.1505, 0.1488, 0.152, 0.1459, 0.1313, 0.1379, 0.148, 0.1518, 0.1387, 0.1235, 0.1362, 0.1392, 0.141, 0.1153, 0.1313, 0.0877, 0.131, 0.1259, 0.123, 0.0992, 0.1112, 0.1235, 0.1235, 0.1201, 0.1022, 0.0674, 0.0856, 0.117, 0.065, 0.0593, 0.1085, 0.0683, 0.1069, 0.0895, 0.1128, 0.0935, 0.1035, 0.0944, 0.0955, 0.042, 0.0882, 0.0205, 0.0563, 0.0861, 0.055, 2.5295, 2.1701, 2.1398, 2.1314, 2.1277, 2.1277, 2.1277, 2.1277, 2.1277, 2.1277, 2.1277, 2.1277, 2.1277, 2.1277, 2.1277, 2.1277, 2.1277, 2.1277, 2.1277, 2.1277, 2.1277, 2.1277, 2.1277, 2.1277, 2.1277, 2.1276, 2.1276, 2.1276, 2.1276, 2.1276, 2.1197, 2.0363, 1.9546, 2.0109, 1.7871, 1.9277, 1.659, 1.3316, 1.4356, 1.8609, 1.6562, 1.6847, 1.7686, 1.4434, 0.4125, 1.4937, 1.6201, 0.233, 1.1836, 2.0395, 0.8213, -0.0382, 1.0774, 0.7831, 0.8628, 0.1456, 1.1782, 1.0, 0.3725, 0.1432, 0.2917, 0.7189, 0.0313, 0.0583, 0.3766, 0.3668, 1.9667, 1.9147, 1.8588, 1.7994, 1.7847, 1.7825, 1.7342, 1.7167, 1.709, 1.701, 1.6845, 1.6776, 1.6542, 1.6483, 1.6351, 1.6279, 1.6185, 1.6132, 1.5999, 1.5997, 1.5845, 1.5728, 1.5672, 1.5625, 1.5538, 1.5514, 1.5291, 1.526, 1.526, 1.5247, 1.4718, 1.469, 1.4397, 1.4705, 1.0133, 1.2112, 1.3021, 0.6095, 1.2053, 1.1046, 0.4931, 0.6183, 1.0161, 0.6096, 0.4684, 0.5694, 0.3457, 0.4061, 0.6149, 0.8544, 0.2793, 0.6803, 0.3774, 0.261, 0.2257, 0.265, 0.1748, 0.2777, 0.5072, 0.3757, -0.152, 0.1283, -0.1437, 0.1837, 0.1433, -0.2024, 0.1188, 0.2846, -0.0144, 0.0018, -0.4468, 3.1896, 2.9134, 2.9134, 2.9133, 2.7453, 2.6656, 2.6616, 2.6512, 2.6482, 2.6427, 2.6426, 2.6426, 2.6426, 2.6426, 2.6426, 2.6426, 2.6426, 2.6426, 2.6426, 2.6426, 2.6426, 2.6426, 2.6426, 2.6426, 2.6426, 2.6426, 2.6426, 2.6426, 2.6426, 2.6426, 2.5521, 2.0632, 2.2843, 1.5851, 1.8963, 1.5037, 1.0257, 0.7853, 1.5457, 0.5842, 0.4896, 0.3767]}, \"token.table\": {\"Topic\": [3, 2, 3, 1, 2, 3, 1, 1, 2, 1, 2, 3, 1, 1, 1, 2, 4, 2, 4, 2, 4, 2, 1, 2, 3, 4, 1, 2, 3, 4, 1, 2, 3, 4, 1, 2, 3, 2, 4, 1, 2, 3, 4, 1, 2, 3, 4, 1, 2, 1, 3, 2, 4, 3, 2, 3, 4, 1, 2, 3, 4, 2, 3, 1, 2, 3, 5, 2, 3, 2, 3, 2, 3, 1, 2, 3, 4, 2, 2, 4, 2, 1, 2, 3, 4, 3, 2, 3, 2, 3, 4, 3, 2, 5, 1, 2, 3, 4, 1, 2, 1, 2, 1, 2, 2, 4, 2, 5, 5, 1, 2, 3, 4, 2, 3, 2, 4, 2, 5, 2, 2, 4, 2, 3, 2, 3, 4, 3, 2, 4, 2, 3, 4, 2, 4, 3, 2, 2, 2, 4, 2, 3, 3, 2, 4, 2, 4, 3, 2, 4, 2, 3, 3, 2, 3, 4, 2, 3, 4, 1, 2, 2, 4, 2, 2, 3, 1, 2, 3, 1, 2, 1, 2, 3, 4, 1, 2, 2, 1, 2, 5, 5, 2, 4, 1, 2, 4, 2, 3, 1, 2, 2, 3, 1, 2, 5, 2, 4, 2, 4, 2, 2, 3, 2, 3, 1, 2, 4, 2, 2, 2, 4, 2, 3, 4, 1, 1, 1, 1, 2, 2, 4, 4, 1, 1, 2, 1, 2, 5, 1, 2, 3, 4, 2, 3, 2, 3, 2, 4, 2, 3, 4, 2, 2, 2, 4, 2, 4, 2, 4, 1, 2, 3, 4, 2, 2, 4, 2, 3, 4, 3, 2, 2, 3, 2, 3, 2, 4, 1, 2, 3, 4, 1, 1, 1, 1, 2, 3, 2, 2, 3, 1, 2, 4, 3, 2, 4, 1, 2, 3, 4, 2, 4, 2, 4, 2, 4, 3, 4, 3, 2, 5, 3, 1, 2, 3, 2, 3, 2, 4, 4, 1, 2, 3, 1, 2, 3, 4, 1, 3, 3, 1, 2, 3, 4, 2, 3, 4, 1, 2, 3, 4, 2, 4, 1, 2, 3, 4, 1, 5, 1, 2, 3, 2, 4, 1, 2, 3, 4, 1, 2, 3, 1, 2, 4, 2, 5, 1, 2, 3, 4, 1, 2, 3, 1, 2, 3, 4, 1, 2, 3, 4, 2, 4, 1, 2, 4, 1, 2, 3, 4, 3, 2, 2, 2, 3, 4, 1, 2, 3, 4, 1, 2, 4, 1, 2, 4, 2, 4, 2, 2, 3, 4, 2, 4, 3, 2, 1, 2, 3, 4, 3, 1, 2, 2, 3, 4, 2, 4, 2, 3, 4, 1, 2, 3, 4, 2, 4, 2, 2, 1, 2, 4, 1, 2, 2, 4, 2, 3, 4, 2, 3, 2, 4, 2, 4, 2, 3, 3, 1, 1, 2], \"Freq\": [0.909242878675029, 0.8491095910537948, 0.9092509334539218, 0.31952393770267884, 0.5325398961711314, 0.10650797923422628, 0.615262492343206, 0.6594369600035084, 0.21981232000116946, 0.4524034416959215, 0.4524034416959215, 0.07540057361598691, 0.5380929504952042, 0.6852751478557929, 0.7133587987322795, 0.8790861534255503, 0.07991692303868639, 0.7624116479205316, 0.16942481064900702, 0.7123555455323727, 0.17808888638309317, 0.8195205663674592, 0.05750490368616064, 0.8625735552924096, 0.05750490368616064, 0.05750490368616064, 0.054981224368153565, 0.879699589890457, 0.054981224368153565, 0.054981224368153565, 0.04826117700772401, 0.8687011861390322, 0.04826117700772401, 0.04826117700772401, 0.8376480132266093, 0.4184984140724252, 0.4184984140724252, 0.5477638909178799, 0.27388194545893996, 0.07265211682387492, 0.7991732850626241, 0.07265211682387492, 0.07265211682387492, 0.18663562328870417, 0.6532246815104645, 0.09331781164435209, 0.09331781164435209, 0.36329806354527033, 0.5449470953179055, 0.5131578644861239, 0.909224758782089, 1.0250468006692521, 0.6558477118130421, 0.9092213599632772, 0.843824881080397, 0.07031874009003308, 0.07031874009003308, 0.0735199445341617, 0.8087193898757787, 0.0735199445341617, 0.0735199445341617, 0.4781537282940748, 0.4781537282940748, 0.37459802798790603, 0.37459802798790603, 0.6483692934342031, 0.6509689497149955, 0.4462785128658882, 0.4462785128658882, 0.6838164994310921, 0.34190824971554606, 0.6768393932176573, 0.33841969660882865, 0.044189631934071286, 0.8396030067473544, 0.044189631934071286, 0.044189631934071286, 0.9044062279829527, 0.767151935653045, 0.10959313366472072, 0.8945102784204633, 0.06921040039946662, 0.8305248047935995, 0.06921040039946662, 0.06921040039946662, 0.9092186221158954, 0.885302761684551, 0.9092113578412393, 0.6392193208740587, 0.21307310695801956, 0.10653655347900978, 0.9092470152355099, 0.7649498561521019, 0.15298997123042038, 0.16133895375380916, 0.6453558150152366, 0.16133895375380916, 0.16133895375380916, 0.4459209054439688, 0.4459209054439688, 0.29637684456716196, 0.5927536891343239, 0.382638702439982, 0.382638702439982, 0.8303019669433083, 0.0754819969948462, 0.8194330650525402, 0.6955645453929608, 0.799766268358732, 0.056702553176434, 0.793835744470076, 0.056702553176434, 0.113405106352868, 0.6980828691349985, 0.5866619674234472, 0.8394698517175202, 0.09327442796861335, 0.8015167497253752, 0.26717224990845845, 0.9142994888016034, 0.5298155646151272, 0.2649077823075636, 0.8873756848850463, 0.9092518793208779, 0.7694426911317357, 0.11837579863565165, 0.11837579863565165, 0.9092377310227955, 0.8305632878331777, 0.07550575343937979, 0.8306647400193227, 0.0692220616682769, 0.0692220616682769, 0.4647733441489962, 0.4647733441489962, 0.9092060777093799, 0.8355259858304585, 0.8987355871605709, 0.6953550486986281, 0.34767752434931404, 0.8995011851098593, 0.9092072675592071, 0.5620334972660139, 0.8289832068932591, 0.07536210971756901, 0.7899255376212921, 0.7096761584630089, 0.909276007076577, 0.7319175465935359, 0.7319175465935359, 0.49537742096884996, 0.49537742096884996, 0.9092226542581547, 0.7529778578122585, 0.07529778578122584, 0.15059557156245168, 0.8029634914667247, 0.06176642242051729, 0.12353284484103458, 0.549624167696791, 0.549624167696791, 0.7836587070139089, 0.0870731896682121, 0.7993111346101012, 0.7622013982768084, 0.25406713275893616, 0.22497699989304376, 0.4499539997860875, 0.22497699989304376, 0.17159160325268438, 0.6863664130107375, 0.19467301847845586, 0.7138010677543382, 0.06489100615948529, 0.06489100615948529, 0.6706617978771562, 0.3353308989385781, 0.8721953697773619, 0.7804055804481292, 0.617070609098326, 0.20569020303277533, 0.7997757793407779, 0.4507595491736304, 0.4507595491736304, 0.9460132876419948, 0.8882970121613281, 0.07402475101344401, 0.9657283956931485, 0.9092506522583534, 0.5427520553766199, 0.9810623945192398, 0.5122444254416244, 0.2561222127208122, 0.6609784652340267, 0.7515698631785208, 0.3757849315892604, 0.45727964224265455, 0.45727964224265455, 0.8547581070911274, 0.06575062362239442, 0.9066067584078789, 0.9141580352416047, 0.9254972097254969, 0.6550006586901163, 0.3275003293450581, 0.07894856919034123, 0.8684342610937535, 0.07894856919034123, 1.0056362286988278, 0.918575872794586, 0.9127205747063777, 0.06084803831375851, 0.4470794614866228, 0.4470794614866228, 0.4470794614866228, 0.7953527957787929, 0.6902824630657142, 0.9727593608250492, 0.36139181411512106, 0.36139181411512106, 0.5708348460496308, 0.5708348460496308, 0.6911612587488996, 0.8175489859408998, 0.32635324105516217, 0.32635324105516217, 0.44382503326726463, 0.42380676561642894, 0.42380676561642894, 0.07753960625457669, 0.7753960625457669, 0.07753960625457669, 0.07753960625457669, 0.5996352460088638, 0.2998176230044319, 0.6422362740658492, 0.2140787580219497, 0.893943349989887, 0.08126757727180792, 0.7572091480947535, 0.1262015246824589, 0.1262015246824589, 0.8045587679449688, 0.9458614569269314, 0.8126732751379122, 0.16253465502758244, 0.48270104084447063, 0.48270104084447063, 0.8547649611646976, 0.07770590556042706, 0.06500649109732698, 0.8450843842652508, 0.06500649109732698, 0.06500649109732698, 0.958851261123794, 0.8298387200334326, 0.07543988363940296, 0.8370354329900855, 0.08370354329900856, 0.08370354329900856, 0.7668680416492559, 0.8324079030059415, 0.9118369306768576, 0.9092355544536084, 0.8358124454297351, 0.9092208466410971, 0.7952038811012399, 0.9627847103680077, 0.052424214364596024, 0.7863632154689403, 0.052424214364596024, 0.10484842872919205, 0.7663008765760463, 0.6328375880017691, 0.925597207519308, 0.3720153249522426, 0.3720153249522426, 0.1860076624761213, 0.8166328421795419, 0.35352958786675515, 0.35352958786675515, 0.09104542300720099, 0.7283633840576079, 0.09104542300720099, 0.9092385768764801, 0.7872140074633606, 0.13120233457722677, 0.07148761982208354, 0.8578514378650026, 0.07148761982208354, 0.07148761982208354, 0.7225114559699755, 0.24083715198999184, 0.6240094964253946, 0.6240094964253946, 0.4950711924984778, 0.4950711924984778, 0.9092228993915638, 0.8908117588967437, 0.9092289131546297, 0.491888742558636, 0.491888742558636, 0.9091894589282754, 0.6012847943830512, 0.3006423971915256, 0.9092142513605395, 0.7729026824324481, 0.4729890783845111, 0.8546881763794084, 0.07122401469828403, 0.7674563520180916, 0.32437510379702994, 0.4865626556955449, 0.16218755189851497, 0.21475891555120988, 0.6442767466536296, 0.10737945777560494, 0.10737945777560494, 0.5116271281888966, 0.9092354725656723, 0.7977973955849131, 0.04381166671342946, 0.8762333342685892, 0.04381166671342946, 0.08762333342685892, 0.7464707827938036, 0.10663868325625765, 0.10663868325625765, 0.05188515945013883, 0.8301625512022213, 0.10377031890027766, 0.05188515945013883, 0.8512651073630169, 0.0945850119292241, 0.0778334994991612, 0.8561684944907733, 0.0778334994991612, 0.0778334994991612, 0.622775311720296, 0.7997962572385973, 0.530130745037608, 0.265065372518804, 0.6119878325283136, 0.8065297800389003, 0.702133119952262, 0.13004179183599343, 0.7802507510159605, 0.06502089591799672, 0.06502089591799672, 0.10802948142923048, 0.7562063700046133, 0.10802948142923048, 0.05562341377959392, 0.8343512066939088, 0.05562341377959392, 0.784968723511641, 0.11213838907309157, 0.0966135366395003, 0.6762947564765021, 0.0966135366395003, 0.0966135366395003, 0.5367657193577243, 0.7422790662563349, 0.14845581325126697, 0.06641896347446481, 0.8634465251680425, 0.06641896347446481, 0.06641896347446481, 0.059491237193999034, 0.8328773207159864, 0.059491237193999034, 0.11898247438799807, 0.8217450235258703, 0.13695750392097839, 0.091331404487366, 0.639319831411562, 0.182662808974732, 0.07001810764656718, 0.8402172917588063, 0.07001810764656718, 0.07001810764656718, 0.9092076369795129, 0.8559487896015874, 0.7113868017567787, 0.7200857790349894, 0.14401715580699787, 0.14401715580699787, 0.07327854160266861, 0.8060639576293548, 0.07327854160266861, 0.14655708320533722, 0.05924461430309762, 0.8294246002433666, 0.11848922860619523, 0.08948263241669667, 0.8948263241669667, 0.08948263241669667, 0.8647716033823308, 0.08647716033823308, 0.8732077104154818, 0.6996515127273782, 0.13993030254547564, 0.13993030254547564, 0.8434507554370873, 0.07667734140337157, 0.9092219075971637, 0.8162917255200136, 0.06744268288022545, 0.8093121945627054, 0.06744268288022545, 0.1348853657604509, 0.9092238277145093, 0.4678315529324118, 0.4678315529324118, 0.7611583636187037, 0.07611583636187036, 0.07611583636187036, 0.7564962974408566, 0.18912407436021414, 0.8041102407401864, 0.06700918672834887, 0.06700918672834887, 0.9068333558008708, 0.733326933702338, 0.09166586671279225, 0.1833317334255845, 0.43916690192605673, 0.43916690192605673, 0.9243015873249691, 0.7341192349810689, 0.06770682759978239, 0.8124819311973887, 0.06770682759978239, 0.2156372783968211, 0.4312745567936422, 0.8634039293214081, 0.0784912663019462, 0.8683199136577107, 0.07235999280480922, 0.07235999280480922, 0.6054190219132765, 0.20180634063775882, 0.8672871214805894, 0.07884428377096267, 0.9239571415526304, 0.10266190461695894, 0.27240539414252063, 0.5448107882850413, 0.9091931261267239, 0.736173419277933, 0.3924665403615189, 0.3924665403615189], \"Term\": [\"accept_third\", \"accessible\", \"accommodation_flights\", \"account\", \"account\", \"account\", \"account_reconciliations\", \"accountant\", \"accountant\", \"accounting\", \"accounting\", \"accounting\", \"accounts_payable\", \"accounts_receivable\", \"accrual\", \"across\", \"across\", \"ai\", \"ai\", \"algorithms\", \"algorithms\", \"always\", \"analysis\", \"analysis\", \"analysis\", \"analysis\", \"analyst\", \"analyst\", \"analyst\", \"analyst\", \"analytics\", \"analytics\", \"analytics\", \"analytics\", \"ap\", \"approval\", \"approval\", \"artificial_intelligence\", \"artificial_intelligence\", \"asset\", \"asset\", \"asset\", \"asset\", \"assist\", \"assist\", \"assist\", \"assist\", \"audit\", \"audit\", \"bank_reconciliations\", \"based_solely\", \"bell\", \"bmo\", \"booking_holdings\", \"build\", \"build\", \"build\", \"canada\", \"canada\", \"canada\", \"canada\", \"car\", \"car\", \"cash\", \"cash\", \"catalogue\", \"chipotle\", \"civil\", \"civil\", \"civil_engineer\", \"civil_engineer\", \"civil_engineering\", \"civil_engineering\", \"client\", \"client\", \"client\", \"client\", \"climate\", \"cloud\", \"cloud\", \"colleague\", \"company\", \"company\", \"company\", \"company\", \"company_represented\", \"connect\", \"connects_travelers\", \"construction\", \"construction\", \"construction\", \"contacting_us\", \"continue\", \"continue\", \"contract\", \"contract\", \"contract\", \"contract\", \"controller\", \"controller\", \"corporate\", \"corporate\", \"cpa\", \"cpa\", \"create\", \"create\", \"creative\", \"crew\", \"cultivating_better_world\", \"customer\", \"customer\", \"customer\", \"customer\", \"cybersecurity\", \"dam\", \"dashboard\", \"dashboard\", \"de\", \"de\", \"decision\", \"deep_learning\", \"deep_learning\", \"deloitte\", \"deploy_cutting_edge\", \"design\", \"design\", \"design\", \"details_removed\", \"develop\", \"develop\", \"development\", \"development\", \"development\", \"device\", \"device\", \"different_nationalities_foster\", \"disability\", \"discriminate\", \"distribute\", \"distribute\", \"diversity\", \"diversity_creativity\", \"drainage\", \"drive\", \"drive\", \"ecommerce\", \"electrical\", \"email_protected\", \"embed\", \"embed\", \"employee_owned\", \"employee_owned\", \"encourages_collaboration\", \"engineer\", \"engineer\", \"engineer\", \"engineering\", \"engineering\", \"engineering\", \"entry\", \"entry\", \"etc\", \"etc\", \"everyone\", \"experimentation\", \"experimentation\", \"file\", \"file\", \"file\", \"finance\", \"finance\", \"financial\", \"financial\", \"financial\", \"financial\", \"financial_statement\", \"financial_statement\", \"fintech\", \"fixed_assets\", \"food\", \"food\", \"food_accessible\", \"fraud_detection\", \"fraud_detection\", \"functional_area\", \"game\", \"game\", \"gameplay\", \"gender_identity_disability_citizenship\", \"general_ledger\", \"geotab\", \"geotechnical\", \"geotechnical\", \"gl\", \"guest\", \"guest\", \"hardware\", \"hardware\", \"help\", \"help\", \"however\", \"hybrid\", \"hydrotechnical\", \"ibm\", \"ibm\", \"identify\", \"identify\", \"identify\", \"impactful\", \"initiative\", \"insight\", \"insight\", \"inspection\", \"inspection\", \"inspection\", \"inter_company\", \"intercompany\", \"intermediate_accountant\", \"invoice\", \"invoice\", \"iot\", \"iot\", \"ip\", \"iqvia\", \"job_functions_accounting_auditing\", \"job_functions_accounting_auditing\", \"journal_entries\", \"kitchen\", \"kitchen\", \"knowledge\", \"knowledge\", \"knowledge\", \"knowledge\", \"land_development\", \"land_development\", \"law\", \"law\", \"learn\", \"learn\", \"location\", \"location\", \"location\", \"looker\", \"loyalty\", \"machine_learning\", \"machine_learning\", \"machine_learning_deep_learning\", \"machine_learning_deep_learning\", \"make\", \"make\", \"management\", \"management\", \"management\", \"management\", \"manulife\", \"market\", \"market\", \"marketing\", \"marketing\", \"marketing\", \"mcelhanney\", \"meaningful\", \"metric\", \"military_status\", \"million\", \"million_accommodations_globally\", \"mission\", \"ml_dl\", \"model\", \"model\", \"model\", \"model\", \"month_end\", \"month_end_close\", \"month_end_closing\", \"monthly\", \"monthly\", \"monthly\", \"mozilla\", \"municipal\", \"municipal\", \"must\", \"must\", \"must\", \"national_origin_religion_marital\", \"network\", \"network\", \"new\", \"new\", \"new\", \"new\", \"nlp\", \"nlp\", \"office_toronto\", \"office_toronto\", \"omers\", \"omers\", \"online_travel_booking_platform\", \"overview_wood\", \"ownership_enabling\", \"panda\", \"panda\", \"party_resumes\", \"payroll\", \"payroll\", \"person_merit\", \"place\", \"plant\", \"platform\", \"platform\", \"posted_days_ago_head\", \"preparation\", \"preparation\", \"preparation\", \"prepare\", \"prepare\", \"prepare\", \"prepare\", \"prepare_monthly\", \"prioritize_attracting_diverse\", \"prodigy_education\", \"product\", \"product\", \"product\", \"product\", \"production\", \"production\", \"production\", \"project\", \"project\", \"project\", \"project\", \"python\", \"python\", \"quality\", \"quality\", \"quality\", \"quality\", \"quickbooks\", \"real_food\", \"reconciliation\", \"reconciliation\", \"registration\", \"regular\", \"render\", \"report\", \"report\", \"report\", \"report\", \"reporting\", \"reporting\", \"reporting\", \"research\", \"research\", \"research\", \"restaurant\", \"restaurant\", \"review\", \"review\", \"review\", \"review\", \"robert_half\", \"safety\", \"safety\", \"sale\", \"sale\", \"sale\", \"sale\", \"science\", \"science\", \"science\", \"science\", \"scientist\", \"scientist\", \"security\", \"security\", \"security\", \"service\", \"service\", \"service\", \"service\", \"sex_age_race_color\", \"share\", \"shift\", \"site\", \"site\", \"site\", \"software\", \"software\", \"software\", \"software\", \"solution\", \"solution\", \"solution\", \"source\", \"source\", \"source\", \"sql\", \"sql\", \"square\", \"staff\", \"staff\", \"staff\", \"stakeholder\", \"stakeholder\", \"status_pregnancy_sexual_orientation\", \"student\", \"system\", \"system\", \"system\", \"system\", \"talents_coming\", \"tax\", \"tax\", \"technical\", \"technical\", \"technical\", \"technique\", \"technique\", \"technology\", \"technology\", \"technology\", \"tenant\", \"test\", \"test\", \"test\", \"threat\", \"threat\", \"thrive\", \"tim_hortons\", \"tool\", \"tool\", \"tool\", \"transaction\", \"transaction\", \"u\", \"u\", \"user\", \"user\", \"user\", \"utility\", \"utility\", \"value\", \"value\", \"want\", \"want\", \"water\", \"water\", \"work_environment_rich\", \"working_papers\", \"year_end\", \"year_end\"]}, \"R\": 30, \"lambda.step\": 0.01, \"plot.opts\": {\"xlab\": \"PC1\", \"ylab\": \"PC2\"}, \"topic.order\": [1, 2, 3, 4, 5]};\n",
       "\n",
       "function LDAvis_load_lib(url, callback){\n",
       "  var s = document.createElement('script');\n",
       "  s.src = url;\n",
       "  s.async = true;\n",
       "  s.onreadystatechange = s.onload = callback;\n",
       "  s.onerror = function(){console.warn(\"failed to load library \" + url);};\n",
       "  document.getElementsByTagName(\"head\")[0].appendChild(s);\n",
       "}\n",
       "\n",
       "if(typeof(LDAvis) !== \"undefined\"){\n",
       "   // already loaded: just create the visualization\n",
       "   !function(LDAvis){\n",
       "       new LDAvis(\"#\" + \"ldavis_el106013716393616082417131620\", ldavis_el106013716393616082417131620_data);\n",
       "   }(LDAvis);\n",
       "}else if(typeof define === \"function\" && define.amd){\n",
       "   // require.js is available: use it to load d3/LDAvis\n",
       "   require.config({paths: {d3: \"https://d3js.org/d3.v5\"}});\n",
       "   require([\"d3\"], function(d3){\n",
       "      window.d3 = d3;\n",
       "      LDAvis_load_lib(\"https://cdn.jsdelivr.net/gh/bmabey/pyLDAvis@3.2.2/pyLDAvis/js/ldavis.v3.0.0.js\", function(){\n",
       "        new LDAvis(\"#\" + \"ldavis_el106013716393616082417131620\", ldavis_el106013716393616082417131620_data);\n",
       "      });\n",
       "    });\n",
       "}else{\n",
       "    // require.js not available: dynamically load d3 & LDAvis\n",
       "    LDAvis_load_lib(\"https://d3js.org/d3.v5.js\", function(){\n",
       "         LDAvis_load_lib(\"https://cdn.jsdelivr.net/gh/bmabey/pyLDAvis@3.2.2/pyLDAvis/js/ldavis.v3.0.0.js\", function(){\n",
       "                 new LDAvis(\"#\" + \"ldavis_el106013716393616082417131620\", ldavis_el106013716393616082417131620_data);\n",
       "            })\n",
       "         });\n",
       "}\n",
       "</script>"
      ],
      "text/plain": [
       "PreparedData(topic_coordinates=              x         y  topics  cluster       Freq\n",
       "topic                                                \n",
       "0      0.009170 -0.032030       1        1   7.062841\n",
       "1     -0.042777  0.004260       2        1  75.421084\n",
       "2      0.022179 -0.019081       3        1   6.405256\n",
       "3     -0.027496  0.013919       4        1   7.847889\n",
       "4      0.038925  0.032932       5        1   3.262930, topic_info=                  Term       Freq      Total Category  logprob  loglift\n",
       "2067        accounting  13.000000  13.000000  Default  30.0000  30.0000\n",
       "1136        restaurant   8.000000   8.000000  Default  29.0000  29.0000\n",
       "220          financial  15.000000  15.000000  Default  28.0000  28.0000\n",
       "97    machine_learning  18.000000  18.000000  Default  27.0000  27.0000\n",
       "1970           account   9.000000   9.000000  Default  26.0000  26.0000\n",
       "...                ...        ...        ...      ...      ...      ...\n",
       "125              place   0.462907   6.469120   Topic5  -6.7419   0.7853\n",
       "1277             shift   0.430363   2.811410   Topic5  -6.8148   1.5457\n",
       "675           everyone   0.439278   7.506464   Topic5  -6.7943   0.5842\n",
       "453           location   0.421879   7.923835   Topic5  -6.8347   0.4896\n",
       "251            mission   0.418644   8.802774   Topic5  -6.8424   0.3767\n",
       "\n",
       "[343 rows x 6 columns], token_table=      Topic      Freq                   Term\n",
       "term                                        \n",
       "3390      3  0.909243           accept_third\n",
       "914       2  0.849110             accessible\n",
       "3391      3  0.909251  accommodation_flights\n",
       "1970      1  0.319524                account\n",
       "1970      2  0.532540                account\n",
       "...     ...       ...                    ...\n",
       "2640      3  0.544811                  water\n",
       "3433      3  0.909193  work_environment_rich\n",
       "3736      1  0.736173         working_papers\n",
       "3105      1  0.392467               year_end\n",
       "3105      2  0.392467               year_end\n",
       "\n",
       "[452 rows x 3 columns], R=30, lambda_step=0.01, plot_opts={'xlab': 'PC1', 'ylab': 'PC2'}, topic_order=[1, 2, 3, 4, 5])"
      ]
     },
     "execution_count": 347,
     "metadata": {},
     "output_type": "execute_result"
    }
   ],
   "source": [
    "pyLDAvis.enable_notebook()\n",
    "vis = pyLDAvis.gensim.prepare(best_model, tfidf_corpus, id2word, sort_topics=False)\n",
    "vis"
   ]
  },
  {
   "cell_type": "code",
   "execution_count": 360,
   "metadata": {
    "ExecuteTime": {
     "end_time": "2021-04-05T17:13:39.133423Z",
     "start_time": "2021-04-05T17:13:37.790168Z"
    }
   },
   "outputs": [
    {
     "name": "stdout",
     "output_type": "stream",
     "text": [
      "Wall time: 1.17 s\n"
     ]
    },
    {
     "data": {
      "text/html": [
       "<div>\n",
       "<style scoped>\n",
       "    .dataframe tbody tr th:only-of-type {\n",
       "        vertical-align: middle;\n",
       "    }\n",
       "\n",
       "    .dataframe tbody tr th {\n",
       "        vertical-align: top;\n",
       "    }\n",
       "\n",
       "    .dataframe thead th {\n",
       "        text-align: right;\n",
       "    }\n",
       "</style>\n",
       "<table border=\"1\" class=\"dataframe\">\n",
       "  <thead>\n",
       "    <tr style=\"text-align: right;\">\n",
       "      <th></th>\n",
       "      <th>topic_1</th>\n",
       "      <th>topic_2</th>\n",
       "      <th>topic_3</th>\n",
       "      <th>topic_4</th>\n",
       "      <th>topic_5</th>\n",
       "    </tr>\n",
       "  </thead>\n",
       "  <tbody>\n",
       "    <tr>\n",
       "      <th>0</th>\n",
       "      <td>0.007*accounting</td>\n",
       "      <td>0.002*product</td>\n",
       "      <td>0.003*construction</td>\n",
       "      <td>0.003*machine_learning</td>\n",
       "      <td>0.006*chipotle</td>\n",
       "    </tr>\n",
       "    <tr>\n",
       "      <th>1</th>\n",
       "      <td>0.004*account</td>\n",
       "      <td>0.002*client</td>\n",
       "      <td>0.003*mcelhanney</td>\n",
       "      <td>0.003*model</td>\n",
       "      <td>0.004*restaurant</td>\n",
       "    </tr>\n",
       "    <tr>\n",
       "      <th>2</th>\n",
       "      <td>0.003*financial</td>\n",
       "      <td>0.002*analytics</td>\n",
       "      <td>0.002*water</td>\n",
       "      <td>0.003*security</td>\n",
       "      <td>0.003*food</td>\n",
       "    </tr>\n",
       "    <tr>\n",
       "      <th>3</th>\n",
       "      <td>0.003*accountant</td>\n",
       "      <td>0.002*analyst</td>\n",
       "      <td>0.002*design</td>\n",
       "      <td>0.002*customer</td>\n",
       "      <td>0.002*panda</td>\n",
       "    </tr>\n",
       "    <tr>\n",
       "      <th>4</th>\n",
       "      <td>0.003*finance</td>\n",
       "      <td>0.002*project</td>\n",
       "      <td>0.002*civil_engineering</td>\n",
       "      <td>0.002*science</td>\n",
       "      <td>0.002*kitchen</td>\n",
       "    </tr>\n",
       "    <tr>\n",
       "      <th>5</th>\n",
       "      <td>0.002*monthly</td>\n",
       "      <td>0.002*research</td>\n",
       "      <td>0.002*project</td>\n",
       "      <td>0.002*scientist</td>\n",
       "      <td>0.002*real_food</td>\n",
       "    </tr>\n",
       "    <tr>\n",
       "      <th>6</th>\n",
       "      <td>0.002*assist</td>\n",
       "      <td>0.002*model</td>\n",
       "      <td>0.002*civil</td>\n",
       "      <td>0.002*ai</td>\n",
       "      <td>0.002*food_accessible</td>\n",
       "    </tr>\n",
       "    <tr>\n",
       "      <th>7</th>\n",
       "      <td>0.002*prepare</td>\n",
       "      <td>0.002*machine_learning</td>\n",
       "      <td>0.002*client</td>\n",
       "      <td>0.002*software</td>\n",
       "      <td>0.002*cultivating_better_world</td>\n",
       "    </tr>\n",
       "    <tr>\n",
       "      <th>8</th>\n",
       "      <td>0.002*reconciliation</td>\n",
       "      <td>0.002*analysis</td>\n",
       "      <td>0.002*land_development</td>\n",
       "      <td>0.002*design</td>\n",
       "      <td>0.002*crew</td>\n",
       "    </tr>\n",
       "    <tr>\n",
       "      <th>9</th>\n",
       "      <td>0.002*preparation</td>\n",
       "      <td>0.002*insight</td>\n",
       "      <td>0.002*engineering</td>\n",
       "      <td>0.002*engineering</td>\n",
       "      <td>0.002*continue</td>\n",
       "    </tr>\n",
       "  </tbody>\n",
       "</table>\n",
       "</div>"
      ],
      "text/plain": [
       "                topic_1                 topic_2                  topic_3  \\\n",
       "0      0.007*accounting           0.002*product       0.003*construction   \n",
       "1         0.004*account            0.002*client         0.003*mcelhanney   \n",
       "2       0.003*financial         0.002*analytics              0.002*water   \n",
       "3      0.003*accountant           0.002*analyst             0.002*design   \n",
       "4         0.003*finance           0.002*project  0.002*civil_engineering   \n",
       "5         0.002*monthly          0.002*research            0.002*project   \n",
       "6          0.002*assist             0.002*model              0.002*civil   \n",
       "7         0.002*prepare  0.002*machine_learning             0.002*client   \n",
       "8  0.002*reconciliation          0.002*analysis   0.002*land_development   \n",
       "9     0.002*preparation           0.002*insight        0.002*engineering   \n",
       "\n",
       "                  topic_4                         topic_5  \n",
       "0  0.003*machine_learning                  0.006*chipotle  \n",
       "1             0.003*model                0.004*restaurant  \n",
       "2          0.003*security                      0.003*food  \n",
       "3          0.002*customer                     0.002*panda  \n",
       "4           0.002*science                   0.002*kitchen  \n",
       "5         0.002*scientist                 0.002*real_food  \n",
       "6                0.002*ai           0.002*food_accessible  \n",
       "7          0.002*software  0.002*cultivating_better_world  \n",
       "8            0.002*design                      0.002*crew  \n",
       "9       0.002*engineering                  0.002*continue  "
      ]
     },
     "execution_count": 360,
     "metadata": {},
     "output_type": "execute_result"
    },
    {
     "data": {
      "image/png": "[encoded data removed]",
      "text/plain": [
       "<Figure size 432x288 with 1 Axes>"
      ]
     },
     "metadata": {
      "needs_background": "light"
     },
     "output_type": "display_data"
    }
   ],
   "source": [
    "%%time\n",
    "# display topics:\n",
    "topics = best_model.print_topics(num_words=10)\n",
    "topics_df = pd.DataFrame(topics)\n",
    "topics_df = topics_df[1].str.replace(\"\\\\s\\\\+\", \"\", regex=True).str.replace('\\\\\"', \"\").str.split(\" \", expand=True).T\n",
    "topics_df.columns = [f\"topic_{t+1}\" for t in topics_df.columns]\n",
    "\n",
    "doc_topics = np.argmax(gensim.matutils.corpus2csc(best_model.get_document_topics(tfidf_corpus)).toarray(), axis=0)\n",
    "plt.bar(height=np.bincount(doc_topics), x=list(range(1, best_model.num_topics+1)));\n",
    "    \n",
    "topics_df"
   ]
  },
  {
   "cell_type": "markdown",
   "metadata": {},
   "source": [
    "# Lessons Learned"
   ]
  },
  {
   "cell_type": "markdown",
   "metadata": {},
   "source": [
    "- Using TF-IDF versus just TF increased coherence score and seemed to increase interpretability in topics\n",
    "- Using bi- and tr- grams improved coherence score, as well as tuning the threshold parameters\n",
    "- Increasing LDA passes > 4 increases coherence and interpretability, but passes = 10 seems to overfit the data and the topics end up being specific to companies (i.e., topic words are bell, microsoft, rogers, etc.\n",
    "- Coherence score cannot be relied on completely, sometimes the topics are not great, or the best model may not include a topic I know is there (i.e., Civil Engineering, which I purposely put in, around 11% of total dataset)."
   ]
  },
  {
   "cell_type": "markdown",
   "metadata": {},
   "source": [
    "# Observations"
   ]
  },
  {
   "cell_type": "markdown",
   "metadata": {},
   "source": [
    "Improved model coherence score and subjective results by using TF-IDF, decreasing the bi- and tri-gram model parameters, increasing passes and iterations of LDA model. LDA model seems to be able to tease out the major topics, which seem possible:<br>\n",
    "1. Accountant\n",
    "2. Data Analyst (Product or Client)\n",
    "3. Civil Engineer\n",
    "4. Data Scientist (more ML/AI and SWE)\n",
    "5. Restaurant\n",
    "<br>\n",
    "It is interesting that the model seems to seperate Data Analyst and Data Scientist, even though they have a lot of overlap. I was hoping that the model would be able to seperate these two considering the job desctiptions can be very similar but they are actually different roles.\n",
    "\n",
    "<br><br>\n",
    "Further Research<br>\n",
    "Look into whether the job title matches the topics produced using the LDA model."
   ]
  }
 ],
 "metadata": {
  "kernelspec": {
   "display_name": "Python 3",
   "language": "python",
   "name": "python3"
  },
  "language_info": {
   "codemirror_mode": {
    "name": "ipython",
    "version": 3
   },
   "file_extension": ".py",
   "mimetype": "text/x-python",
   "name": "python",
   "nbconvert_exporter": "python",
   "pygments_lexer": "ipython3",
   "version": "3.7.0"
  },
  "toc": {
   "base_numbering": 1,
   "nav_menu": {},
   "number_sections": true,
   "sideBar": true,
   "skip_h1_title": false,
   "title_cell": "Table of Contents",
   "title_sidebar": "Contents",
   "toc_cell": false,
   "toc_position": {},
   "toc_section_display": true,
   "toc_window_display": false
  }
 },
 "nbformat": 4,
 "nbformat_minor": 2
}
