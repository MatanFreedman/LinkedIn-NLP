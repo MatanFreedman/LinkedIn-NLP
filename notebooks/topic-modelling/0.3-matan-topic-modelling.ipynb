{
 "cells": [
  {
   "cell_type": "code",
   "execution_count": 1,
   "metadata": {
    "ExecuteTime": {
     "end_time": "2021-03-25T19:29:14.714233Z",
     "start_time": "2021-03-25T19:29:14.670358Z"
    }
   },
   "outputs": [],
   "source": [
    "# OPTIONAL: Load the \"autoreload\" extension so that code can change\n",
    "%load_ext autoreload\n",
    "\n",
    "# OPTIONAL: always reload modules so that as you change code in src, it gets loaded\n",
    "%autoreload 2"
   ]
  },
  {
   "cell_type": "code",
   "execution_count": 2,
   "metadata": {
    "ExecuteTime": {
     "end_time": "2021-03-25T19:29:19.551772Z",
     "start_time": "2021-03-25T19:29:14.715194Z"
    }
   },
   "outputs": [
    {
     "name": "stderr",
     "output_type": "stream",
     "text": [
      "[nltk_data] Downloading package stopwords to\n",
      "[nltk_data]     C:\\Users\\matan\\AppData\\Roaming\\nltk_data...\n",
      "[nltk_data]   Package stopwords is already up-to-date!\n",
      "[nltk_data] Downloading package averaged_perceptron_tagger to\n",
      "[nltk_data]     C:\\Users\\matan\\AppData\\Roaming\\nltk_data...\n",
      "[nltk_data]   Package averaged_perceptron_tagger is already up-to-\n",
      "[nltk_data]       date!\n",
      "[nltk_data] Downloading package wordnet to\n",
      "[nltk_data]     C:\\Users\\matan\\AppData\\Roaming\\nltk_data...\n",
      "[nltk_data]   Package wordnet is already up-to-date!\n"
     ]
    }
   ],
   "source": [
    "from sklearn.decomposition import PCA \n",
    "from sklearn.metrics import silhouette_score\n",
    "import matplotlib.pyplot as plt \n",
    "\n",
    "from src.features import build_features\n",
    "\n",
    "import logging \n",
    "from pathlib import Path\n",
    "\n",
    "import scipy\n",
    "import pickle\n",
    "import datetime\n",
    "import numpy as np\n",
    "\n",
    "logging.basicConfig(level=logging.INFO)"
   ]
  },
  {
   "cell_type": "code",
   "execution_count": 3,
   "metadata": {
    "ExecuteTime": {
     "end_time": "2021-03-25T19:29:20.049681Z",
     "start_time": "2021-03-25T19:29:19.554765Z"
    }
   },
   "outputs": [],
   "source": [
    "from gensim.models import LdaModel\n",
    "from gensim.models.coherencemodel import CoherenceModel\n",
    "from gensim.matutils import Sparse2Corpus\n",
    "from gensim.corpora import Dictionary\n",
    "\n",
    "from src.data.DBConnection import DBConnection\n",
    "db = DBConnection()"
   ]
  },
  {
   "cell_type": "markdown",
   "metadata": {},
   "source": [
    "# Build Features\n",
    "Use the build_features functions to build dataset from database (usually takes ~1 min)"
   ]
  },
  {
   "cell_type": "code",
   "execution_count": 4,
   "metadata": {
    "ExecuteTime": {
     "end_time": "2021-03-25T19:29:20.144213Z",
     "start_time": "2021-03-25T19:29:20.051824Z"
    }
   },
   "outputs": [],
   "source": [
    "sql = \"SELECT details FROM positions;\"\n",
    "query = db.cur.execute(sql)\n",
    "documents = query.fetchall()"
   ]
  },
  {
   "cell_type": "code",
   "execution_count": 5,
   "metadata": {
    "ExecuteTime": {
     "end_time": "2021-03-25T19:29:21.641201Z",
     "start_time": "2021-03-25T19:29:20.145143Z"
    },
    "scrolled": false
   },
   "outputs": [],
   "source": [
    "import re\n",
    "import gensim\n",
    "from gensim.utils import simple_preprocess\n",
    "from nltk.corpus import stopwords\n",
    "from src.data.make_dataset import lematize\n",
    "\n",
    "def process_documents(documents):\n",
    "    # try new preprocessing steps:\n",
    "    data = list(documents)\n",
    "    # remove \\n\n",
    "    data = [text[0].replace(\"\\n\", \" \") for text in data]\n",
    "    # remove https:// links \n",
    "    data = [re.sub(r\"((https{0,1}\\:/\\/\\w{3}\\S+)|(w{3}\\S+))\", \"\", text) for text in data]\n",
    "    # remove emails:\n",
    "    data = [re.sub(r\"(\\S+@\\S+)\", \"\", text) for text in data]\n",
    "    # remove phone numbers:\n",
    "    data = [re.sub(r\"([\\+\\s01-]*\\(*\\d{3}\\)*[-\\s]\\d{3}[-\\s]\\d{4})\", \"\", text) for text in data]\n",
    "    # remove uf0b7\n",
    "    data = [re.sub(r\"(\\uf0b7)\", \"\", text) for text in data]\n",
    "    # remove handles:\n",
    "    data = [re.sub(r\"(\\@\\S+)\", \"\", text) for text in data]\n",
    "    # remove french documents\n",
    "    data = [doc for doc in data if \"une\" not in doc and \"connaissance\" not in doc]\n",
    "    return data\n",
    "\n",
    "def docs_to_words(documents):\n",
    "    for doc in documents:\n",
    "        yield(gensim.utils.simple_preprocess(str(doc), deacc=True))  # deacc=True removes punctuations\n",
    "        \n",
    "# Define functions for stopwords, bigrams, trigrams and lemmatization\n",
    "def remove_stopwords(texts):\n",
    "    return [[word for word in simple_preprocess(str(doc)) if word not in stop_words] for doc in texts]\n",
    "\n",
    "def make_bigrams(texts):\n",
    "    return [bigram_mod[doc] for doc in texts]\n",
    "\n",
    "def make_trigrams(texts):\n",
    "    return [trigram_mod[bigram_mod[doc]] for doc in texts]\n",
    "\n",
    "\n",
    "stop_words = stopwords.words('english')\n",
    "# remove super common words:\n",
    "stop_words.extend([\"data\", \"analytics\", \"team\", \"experience\", \"work\", \"business\"])\n",
    "\n",
    "clean_docs = process_documents(documents)\n",
    "data_words = list(docs_to_words(clean_docs))"
   ]
  },
  {
   "cell_type": "code",
   "execution_count": 6,
   "metadata": {
    "ExecuteTime": {
     "end_time": "2021-03-25T19:29:40.701116Z",
     "start_time": "2021-03-25T19:29:21.642465Z"
    }
   },
   "outputs": [
    {
     "name": "stderr",
     "output_type": "stream",
     "text": [
      "INFO:gensim.models.phrases:collecting all words and their counts\n",
      "INFO:gensim.models.phrases:PROGRESS: at sentence #0, processed 0 words and 0 word types\n",
      "INFO:gensim.models.phrases:collected 108915 word types from a corpus of 363120 words (unigram + bigrams) and 630 sentences\n",
      "INFO:gensim.models.phrases:using 108915 counts as vocab in Phrases<0 vocab, min_count=5, threshold=100, max_vocab_size=40000000>\n",
      "INFO:gensim.models.phrases:collecting all words and their counts\n",
      "INFO:gensim.models.phrases:PROGRESS: at sentence #0, processed 0 words and 0 word types\n",
      "INFO:gensim.models.phrases:collected 110465 word types from a corpus of 351758 words (unigram + bigrams) and 630 sentences\n",
      "INFO:gensim.models.phrases:using 110465 counts as vocab in Phrases<0 vocab, min_count=5, threshold=100, max_vocab_size=40000000>\n",
      "INFO:gensim.models.phrases:source_vocab length 108915\n",
      "INFO:gensim.models.phrases:Phraser built with 682 phrasegrams\n",
      "INFO:gensim.models.phrases:source_vocab length 110465\n",
      "INFO:gensim.models.phrases:Phraser built with 1217 phrasegrams\n"
     ]
    }
   ],
   "source": [
    "# Build the bigram and trigram models\n",
    "bigram = gensim.models.Phrases(data_words, min_count=5, threshold=100) # higher threshold fewer phrases.\n",
    "trigram = gensim.models.Phrases(bigram[data_words], threshold=100)  \n",
    "\n",
    "# Faster way to get a sentence clubbed as a trigram/bigram\n",
    "bigram_mod = gensim.models.phrases.Phraser(bigram)\n",
    "trigram_mod = gensim.models.phrases.Phraser(trigram)\n",
    "\n",
    "# Remove Stop Words\n",
    "data_words_nostops = remove_stopwords(data_words)\n",
    "\n",
    "# Form Bigrams\n",
    "data_words_bigrams = make_bigrams(data_words_nostops)\n",
    "\n",
    "# Form trigrams:\n",
    "data_words_trigrams = make_trigrams(data_words_bigrams)\n",
    "\n",
    "# Lematize docs:\n",
    "data_lemmatized = [lematize(words).split(\" \") for words in data_words_trigrams]"
   ]
  },
  {
   "cell_type": "code",
   "execution_count": 7,
   "metadata": {
    "ExecuteTime": {
     "end_time": "2021-03-25T19:29:41.105997Z",
     "start_time": "2021-03-25T19:29:40.703117Z"
    }
   },
   "outputs": [
    {
     "name": "stderr",
     "output_type": "stream",
     "text": [
      "INFO:gensim.corpora.dictionary:adding document #0 to Dictionary(0 unique tokens: [])\n",
      "INFO:gensim.corpora.dictionary:built Dictionary(8636 unique tokens: ['ability', 'accept', 'access', 'accuracy', 'actionable']...) from 630 documents (total 209192 corpus positions)\n"
     ]
    }
   ],
   "source": [
    "# Create Dictionary\n",
    "id2word = Dictionary(data_lemmatized)\n",
    "\n",
    "# Create Corpus\n",
    "texts = data_lemmatized\n",
    "\n",
    "# Term Document Frequency\n",
    "corpus = [id2word.doc2bow(text) for text in texts]"
   ]
  },
  {
   "cell_type": "markdown",
   "metadata": {},
   "source": [
    "# PCA\n",
    "To visualize the clustering algorithms I'll use two or three principal components throughout this notebook."
   ]
  },
  {
   "cell_type": "code",
   "execution_count": 8,
   "metadata": {
    "ExecuteTime": {
     "end_time": "2021-03-25T19:29:41.589266Z",
     "start_time": "2021-03-25T19:29:41.108802Z"
    }
   },
   "outputs": [
    {
     "data": {
      "image/png": "[encoded data removed]",
      "text/plain": [
       "<Figure size 432x288 with 1 Axes>"
      ]
     },
     "metadata": {
      "needs_background": "light"
     },
     "output_type": "display_data"
    }
   ],
   "source": [
    "# initialize PCA:\n",
    "# reduce features:\n",
    "pca = PCA(n_components=10)\n",
    "dense_corpus = gensim.matutils.corpus2dense(corpus, len(id2word.keys()))\n",
    "reduced_features = pca.fit_transform(dense_corpus.T)\n",
    "\n",
    "# display percent explained variance of the first ten components:\n",
    "fig = plt.figure()\n",
    "plt.bar(x=range(len(pca.explained_variance_ratio_)), height=np.cumsum(pca.explained_variance_ratio_)*100)\n",
    "plt.ylim([0, 100])\n",
    "plt.ylabel(\"Cumulative Percent of Variation Explained\")\n",
    "plt.xlabel(\"Cumulative Components Included in Model\")\n",
    "plt.title(\"Cumulative Explained Variance\");"
   ]
  },
  {
   "cell_type": "markdown",
   "metadata": {},
   "source": [
    "Unfortunately the first two components only seem to code for about 5% (if that) of the percent variation. This makes sense since the bog-of-words is massive, however this means that we cannot trust visual cluster, we'll need some empirical measure of clsuter goodness. "
   ]
  },
  {
   "cell_type": "code",
   "execution_count": 9,
   "metadata": {
    "ExecuteTime": {
     "end_time": "2021-03-25T19:29:42.696838Z",
     "start_time": "2021-03-25T19:29:41.591261Z"
    }
   },
   "outputs": [
    {
     "data": {
      "text/html": [
       "<div>\n",
       "<style scoped>\n",
       "    .dataframe tbody tr th:only-of-type {\n",
       "        vertical-align: middle;\n",
       "    }\n",
       "\n",
       "    .dataframe tbody tr th {\n",
       "        vertical-align: top;\n",
       "    }\n",
       "\n",
       "    .dataframe thead th {\n",
       "        text-align: right;\n",
       "    }\n",
       "</style>\n",
       "<table border=\"1\" class=\"dataframe\">\n",
       "  <thead>\n",
       "    <tr style=\"text-align: right;\">\n",
       "      <th></th>\n",
       "      <th>0</th>\n",
       "      <th>1</th>\n",
       "      <th>2</th>\n",
       "      <th>3</th>\n",
       "      <th>4</th>\n",
       "      <th>5</th>\n",
       "      <th>6</th>\n",
       "      <th>7</th>\n",
       "      <th>8</th>\n",
       "      <th>9</th>\n",
       "    </tr>\n",
       "  </thead>\n",
       "  <tbody>\n",
       "    <tr>\n",
       "      <th>0</th>\n",
       "      <td>model</td>\n",
       "      <td>management</td>\n",
       "      <td>model</td>\n",
       "      <td>analysis</td>\n",
       "      <td>research</td>\n",
       "      <td>client</td>\n",
       "      <td>product</td>\n",
       "      <td>risk</td>\n",
       "      <td>agoda</td>\n",
       "      <td>agoda</td>\n",
       "    </tr>\n",
       "    <tr>\n",
       "      <th>1</th>\n",
       "      <td>learn</td>\n",
       "      <td>support</td>\n",
       "      <td>machine</td>\n",
       "      <td>analytical</td>\n",
       "      <td>client</td>\n",
       "      <td>solution</td>\n",
       "      <td>research</td>\n",
       "      <td>model</td>\n",
       "      <td>risk</td>\n",
       "      <td>customer</td>\n",
       "    </tr>\n",
       "    <tr>\n",
       "      <th>2</th>\n",
       "      <td>machine</td>\n",
       "      <td>report</td>\n",
       "      <td>solution</td>\n",
       "      <td>model</td>\n",
       "      <td>learn</td>\n",
       "      <td>product</td>\n",
       "      <td>agoda</td>\n",
       "      <td>use</td>\n",
       "      <td>solution</td>\n",
       "      <td>use</td>\n",
       "    </tr>\n",
       "    <tr>\n",
       "      <th>3</th>\n",
       "      <td>use</td>\n",
       "      <td>skill</td>\n",
       "      <td>skill</td>\n",
       "      <td>statistical</td>\n",
       "      <td>analysis</td>\n",
       "      <td>ibm</td>\n",
       "      <td>science</td>\n",
       "      <td>investment</td>\n",
       "      <td>learn</td>\n",
       "      <td>environment</td>\n",
       "    </tr>\n",
       "    <tr>\n",
       "      <th>4</th>\n",
       "      <td>customer</td>\n",
       "      <td>provide</td>\n",
       "      <td>develop</td>\n",
       "      <td>product</td>\n",
       "      <td>health</td>\n",
       "      <td>analysis</td>\n",
       "      <td>management</td>\n",
       "      <td>omers</td>\n",
       "      <td>opportunity</td>\n",
       "      <td>technology</td>\n",
       "    </tr>\n",
       "    <tr>\n",
       "      <th>5</th>\n",
       "      <td>build</td>\n",
       "      <td>project</td>\n",
       "      <td>learn</td>\n",
       "      <td>insight</td>\n",
       "      <td>ability</td>\n",
       "      <td>use</td>\n",
       "      <td>risk</td>\n",
       "      <td>build</td>\n",
       "      <td>development</td>\n",
       "      <td>marketing</td>\n",
       "    </tr>\n",
       "    <tr>\n",
       "      <th>6</th>\n",
       "      <td>solution</td>\n",
       "      <td>process</td>\n",
       "      <td>knowledge</td>\n",
       "      <td>skill</td>\n",
       "      <td>skill</td>\n",
       "      <td>agoda</td>\n",
       "      <td>include</td>\n",
       "      <td>game</td>\n",
       "      <td>machine</td>\n",
       "      <td>tool</td>\n",
       "    </tr>\n",
       "    <tr>\n",
       "      <th>7</th>\n",
       "      <td>help</td>\n",
       "      <td>client</td>\n",
       "      <td>service</td>\n",
       "      <td>stakeholder</td>\n",
       "      <td>project</td>\n",
       "      <td>drive</td>\n",
       "      <td>build</td>\n",
       "      <td>develop</td>\n",
       "      <td>climate</td>\n",
       "      <td>world</td>\n",
       "    </tr>\n",
       "    <tr>\n",
       "      <th>8</th>\n",
       "      <td>develop</td>\n",
       "      <td>analyst</td>\n",
       "      <td>research</td>\n",
       "      <td>customer</td>\n",
       "      <td>apply</td>\n",
       "      <td>market</td>\n",
       "      <td>partner</td>\n",
       "      <td>office</td>\n",
       "      <td>world</td>\n",
       "      <td>skill</td>\n",
       "    </tr>\n",
       "    <tr>\n",
       "      <th>9</th>\n",
       "      <td>technology</td>\n",
       "      <td>ability</td>\n",
       "      <td>technique</td>\n",
       "      <td>report</td>\n",
       "      <td>statistical</td>\n",
       "      <td>insight</td>\n",
       "      <td>analysis</td>\n",
       "      <td>insight</td>\n",
       "      <td>science</td>\n",
       "      <td>build</td>\n",
       "    </tr>\n",
       "  </tbody>\n",
       "</table>\n",
       "</div>"
      ],
      "text/plain": [
       "            0           1          2            3            4         5  \\\n",
       "0       model  management      model     analysis     research    client   \n",
       "1       learn     support    machine   analytical       client  solution   \n",
       "2     machine      report   solution        model        learn   product   \n",
       "3         use       skill      skill  statistical     analysis       ibm   \n",
       "4    customer     provide    develop      product       health  analysis   \n",
       "5       build     project      learn      insight      ability       use   \n",
       "6    solution     process  knowledge        skill        skill     agoda   \n",
       "7        help      client    service  stakeholder      project     drive   \n",
       "8     develop     analyst   research     customer        apply    market   \n",
       "9  technology     ability  technique       report  statistical   insight   \n",
       "\n",
       "            6           7            8            9  \n",
       "0     product        risk        agoda        agoda  \n",
       "1    research       model         risk     customer  \n",
       "2       agoda         use     solution          use  \n",
       "3     science  investment        learn  environment  \n",
       "4  management       omers  opportunity   technology  \n",
       "5        risk       build  development    marketing  \n",
       "6     include        game      machine         tool  \n",
       "7       build     develop      climate        world  \n",
       "8     partner      office        world        skill  \n",
       "9    analysis     insight      science        build  "
      ]
     },
     "execution_count": 9,
     "metadata": {},
     "output_type": "execute_result"
    }
   ],
   "source": [
    "import pandas as pd\n",
    "\n",
    "loadings = pd.DataFrame(data=pca.components_, columns=id2word.values()).T\n",
    "\n",
    "topics = pd.DataFrame()\n",
    "\n",
    "for t in loadings.columns:\n",
    "    topics[str(t)] = loadings[t].sort_values(ascending=False)[:10].index.tolist()\n",
    "    \n",
    "topics"
   ]
  },
  {
   "cell_type": "markdown",
   "metadata": {},
   "source": [
    "# SVD"
   ]
  },
  {
   "cell_type": "code",
   "execution_count": 10,
   "metadata": {
    "ExecuteTime": {
     "end_time": "2021-03-25T19:29:42.975973Z",
     "start_time": "2021-03-25T19:29:42.698791Z"
    }
   },
   "outputs": [],
   "source": [
    "from sklearn.decomposition import TruncatedSVD\n",
    "\n",
    "svd_model = TruncatedSVD(n_components=6,         # num dimensions\n",
    "                         algorithm='randomized',\n",
    "                         n_iter=10)\n",
    "svd_matrix = svd_model.fit_transform(dense_corpus.T)"
   ]
  },
  {
   "cell_type": "code",
   "execution_count": 11,
   "metadata": {
    "ExecuteTime": {
     "end_time": "2021-03-25T19:29:43.177521Z",
     "start_time": "2021-03-25T19:29:42.976977Z"
    }
   },
   "outputs": [
    {
     "data": {
      "image/png": "[encoded data removed]",
      "text/plain": [
       "<Figure size 432x288 with 1 Axes>"
      ]
     },
     "metadata": {
      "needs_background": "light"
     },
     "output_type": "display_data"
    }
   ],
   "source": [
    "# display percent explained variance of the first ten components:\n",
    "fig = plt.figure()\n",
    "plt.bar(x=range(len(svd_model.explained_variance_ratio_)), height=np.cumsum(svd_model.explained_variance_ratio_)*100)\n",
    "plt.ylim([0, 100])\n",
    "plt.ylabel(\"Cumulative Percent of Variation Explained\")\n",
    "plt.xlabel(\"Cumulative Components Included in Model\")\n",
    "plt.title(\"Cumulative Explained Variance\");"
   ]
  },
  {
   "cell_type": "code",
   "execution_count": 12,
   "metadata": {
    "ExecuteTime": {
     "end_time": "2021-03-25T19:29:43.300069Z",
     "start_time": "2021-03-25T19:29:43.179613Z"
    }
   },
   "outputs": [
    {
     "data": {
      "text/html": [
       "<div>\n",
       "<style scoped>\n",
       "    .dataframe tbody tr th:only-of-type {\n",
       "        vertical-align: middle;\n",
       "    }\n",
       "\n",
       "    .dataframe tbody tr th {\n",
       "        vertical-align: top;\n",
       "    }\n",
       "\n",
       "    .dataframe thead th {\n",
       "        text-align: right;\n",
       "    }\n",
       "</style>\n",
       "<table border=\"1\" class=\"dataframe\">\n",
       "  <thead>\n",
       "    <tr style=\"text-align: right;\">\n",
       "      <th></th>\n",
       "      <th>0</th>\n",
       "      <th>1</th>\n",
       "      <th>2</th>\n",
       "      <th>3</th>\n",
       "      <th>4</th>\n",
       "      <th>5</th>\n",
       "    </tr>\n",
       "  </thead>\n",
       "  <tbody>\n",
       "    <tr>\n",
       "      <th>0</th>\n",
       "      <td>technology</td>\n",
       "      <td>learn</td>\n",
       "      <td>model</td>\n",
       "      <td>analysis</td>\n",
       "      <td>research</td>\n",
       "      <td>client</td>\n",
       "    </tr>\n",
       "    <tr>\n",
       "      <th>1</th>\n",
       "      <td>learn</td>\n",
       "      <td>machine</td>\n",
       "      <td>machine</td>\n",
       "      <td>analytical</td>\n",
       "      <td>analysis</td>\n",
       "      <td>solution</td>\n",
       "    </tr>\n",
       "    <tr>\n",
       "      <th>2</th>\n",
       "      <td>model</td>\n",
       "      <td>model</td>\n",
       "      <td>solution</td>\n",
       "      <td>model</td>\n",
       "      <td>client</td>\n",
       "      <td>product</td>\n",
       "    </tr>\n",
       "    <tr>\n",
       "      <th>3</th>\n",
       "      <td>skill</td>\n",
       "      <td>science</td>\n",
       "      <td>skill</td>\n",
       "      <td>product</td>\n",
       "      <td>health</td>\n",
       "      <td>ibm</td>\n",
       "    </tr>\n",
       "    <tr>\n",
       "      <th>4</th>\n",
       "      <td>information</td>\n",
       "      <td>build</td>\n",
       "      <td>develop</td>\n",
       "      <td>statistical</td>\n",
       "      <td>ability</td>\n",
       "      <td>analysis</td>\n",
       "    </tr>\n",
       "    <tr>\n",
       "      <th>5</th>\n",
       "      <td>use</td>\n",
       "      <td>engineering</td>\n",
       "      <td>learn</td>\n",
       "      <td>insight</td>\n",
       "      <td>skill</td>\n",
       "      <td>agoda</td>\n",
       "    </tr>\n",
       "    <tr>\n",
       "      <th>6</th>\n",
       "      <td>product</td>\n",
       "      <td>ml</td>\n",
       "      <td>service</td>\n",
       "      <td>skill</td>\n",
       "      <td>learn</td>\n",
       "      <td>use</td>\n",
       "    </tr>\n",
       "    <tr>\n",
       "      <th>7</th>\n",
       "      <td>service</td>\n",
       "      <td>scientist</td>\n",
       "      <td>management</td>\n",
       "      <td>stakeholder</td>\n",
       "      <td>science</td>\n",
       "      <td>drive</td>\n",
       "    </tr>\n",
       "    <tr>\n",
       "      <th>8</th>\n",
       "      <td>science</td>\n",
       "      <td>ai</td>\n",
       "      <td>knowledge</td>\n",
       "      <td>customer</td>\n",
       "      <td>project</td>\n",
       "      <td>market</td>\n",
       "    </tr>\n",
       "    <tr>\n",
       "      <th>9</th>\n",
       "      <td>solution</td>\n",
       "      <td>product</td>\n",
       "      <td>client</td>\n",
       "      <td>report</td>\n",
       "      <td>statistical</td>\n",
       "      <td>insight</td>\n",
       "    </tr>\n",
       "  </tbody>\n",
       "</table>\n",
       "</div>"
      ],
      "text/plain": [
       "             0            1           2            3            4         5\n",
       "0   technology        learn       model     analysis     research    client\n",
       "1        learn      machine     machine   analytical     analysis  solution\n",
       "2        model        model    solution        model       client   product\n",
       "3        skill      science       skill      product       health       ibm\n",
       "4  information        build     develop  statistical      ability  analysis\n",
       "5          use  engineering       learn      insight        skill     agoda\n",
       "6      product           ml     service        skill        learn       use\n",
       "7      service    scientist  management  stakeholder      science     drive\n",
       "8      science           ai   knowledge     customer      project    market\n",
       "9     solution      product      client       report  statistical   insight"
      ]
     },
     "execution_count": 12,
     "metadata": {},
     "output_type": "execute_result"
    }
   ],
   "source": [
    "loadings = pd.DataFrame(data=svd_model.components_, columns=id2word.values()).T\n",
    "\n",
    "topics = pd.DataFrame()\n",
    "\n",
    "for t in loadings.columns:\n",
    "    topics[str(t)] = loadings[t].sort_values(ascending=False)[:10].index.tolist()\n",
    "    \n",
    "topics"
   ]
  },
  {
   "cell_type": "markdown",
   "metadata": {},
   "source": [
    "# LDA"
   ]
  },
  {
   "cell_type": "code",
   "execution_count": 13,
   "metadata": {
    "ExecuteTime": {
     "end_time": "2021-03-25T19:29:43.394437Z",
     "start_time": "2021-03-25T19:29:43.302089Z"
    }
   },
   "outputs": [],
   "source": [
    "logging.getLogger().setLevel(logging.CRITICAL)"
   ]
  },
  {
   "cell_type": "code",
   "execution_count": 14,
   "metadata": {
    "ExecuteTime": {
     "end_time": "2021-03-25T19:30:49.782958Z",
     "start_time": "2021-03-25T19:29:43.397001Z"
    },
    "scrolled": true
   },
   "outputs": [
    {
     "data": {
      "text/plain": [
       "<matplotlib.legend.Legend at 0x1ac94ca2e80>"
      ]
     },
     "execution_count": 14,
     "metadata": {},
     "output_type": "execute_result"
    },
    {
     "data": {
      "image/png": "[encoded data removed]",
      "text/plain": [
       "<Figure size 432x288 with 1 Axes>"
      ]
     },
     "metadata": {
      "needs_background": "light"
     },
     "output_type": "display_data"
    }
   ],
   "source": [
    "from gensim import corpora\n",
    "# Create Dictionary\n",
    "id2word = corpora.Dictionary(data_lemmatized)\n",
    "\n",
    "# Create Corpus\n",
    "texts = data_lemmatized\n",
    "\n",
    "# Term Document Frequency\n",
    "corpus = [id2word.doc2bow(text) for text in texts]\n",
    "\n",
    "# determine optimal number of topics using coherence score:\n",
    "coherence_vals = []\n",
    "model_list =[]\n",
    "start = 2\n",
    "stop = 15\n",
    "step = 1\n",
    "\n",
    "for num_topics in range(start, stop, step):\n",
    "    # make LDa model and calc coherence:\n",
    "    model = LdaModel(corpus=corpus, id2word=id2word, num_topics=num_topics)\n",
    "    model_list.append(model)\n",
    "    coherence_model = CoherenceModel(model=model, texts=texts, dictionary=id2word, coherence='c_v', processes=1)\n",
    "    coherence_vals.append(coherence_model.get_coherence())\n",
    "    \n",
    "x = range(start, stop, step)\n",
    "plt.plot(x, coherence_vals)\n",
    "plt.xlabel(\"Number of Topics\")\n",
    "plt.ylabel(\"Coherence score\")\n",
    "plt.legend((\"coherence_values\"), loc='best')"
   ]
  },
  {
   "cell_type": "markdown",
   "metadata": {},
   "source": [
    "Not great results, but I guess there isn't that many different topics. Lets see the different topics."
   ]
  },
  {
   "cell_type": "code",
   "execution_count": 15,
   "metadata": {
    "ExecuteTime": {
     "end_time": "2021-03-25T19:30:49.876851Z",
     "start_time": "2021-03-25T19:30:49.784952Z"
    }
   },
   "outputs": [
    {
     "data": {
      "text/plain": [
       "[(0,\n",
       "  '0.008*\"technology\" + 0.006*\"information\" + 0.006*\"science\" + 0.006*\"industry\" + 0.006*\"skill\" + 0.005*\"job\" + 0.005*\"time\" + 0.005*\"learn\" + 0.005*\"model\" + 0.005*\"solution\"'),\n",
       " (1,\n",
       "  '0.007*\"learn\" + 0.007*\"technology\" + 0.007*\"skill\" + 0.006*\"use\" + 0.006*\"product\" + 0.006*\"model\" + 0.006*\"information\" + 0.005*\"analysis\" + 0.005*\"service\" + 0.005*\"process\"')]"
      ]
     },
     "execution_count": 15,
     "metadata": {},
     "output_type": "execute_result"
    }
   ],
   "source": [
    "best_model = model_list[coherence_vals.index(max(coherence_vals))]\n",
    "\n",
    "best_model.print_topics()"
   ]
  },
  {
   "cell_type": "code",
   "execution_count": 16,
   "metadata": {
    "ExecuteTime": {
     "end_time": "2021-03-25T19:30:50.562599Z",
     "start_time": "2021-03-25T19:30:49.877813Z"
    }
   },
   "outputs": [],
   "source": [
    "import pyLDAvis\n",
    "import pyLDAvis.gensim  # don't skip this"
   ]
  },
  {
   "cell_type": "code",
   "execution_count": 19,
   "metadata": {
    "ExecuteTime": {
     "end_time": "2021-03-25T19:31:58.891280Z",
     "start_time": "2021-03-25T19:31:58.023625Z"
    }
   },
   "outputs": [
    {
     "name": "stderr",
     "output_type": "stream",
     "text": [
      "c:\\users\\matan\\github\\linkedin-nlp\\venv\\lib\\site-packages\\ipykernel\\ipkernel.py:283: DeprecationWarning: `should_run_async` will not call `transform_cell` automatically in the future. Please pass the result to `transformed_cell` argument and any exception that happen during thetransform in `preprocessing_exc_tuple` in IPython 7.17 and above.\n",
      "  and should_run_async(code)\n"
     ]
    },
    {
     "data": {
      "text/html": [
       "\n",
       "<link rel=\"stylesheet\" type=\"text/css\" href=\"https://cdn.jsdelivr.net/gh/bmabey/pyLDAvis@3.2.2/pyLDAvis/js/ldavis.v1.0.0.css\">\n",
       "\n",
       "\n",
       "<div id=\"ldavis_el1285218407724063924814032498\"></div>\n",
       "<script type=\"text/javascript\">\n",
       "\n",
       "var ldavis_el1285218407724063924814032498_data = {\"mdsDat\": {\"x\": [0.004009527532323989, 0.002421422663504735, -0.007832089486889068, 0.0066281971676120125, -0.005227057876551676], \"y\": [-0.00709023515369669, -0.00011002382798542046, -0.002381125741938309, 0.005071857975513121, 0.0045095267481073025], \"topics\": [1, 2, 3, 4, 5], \"cluster\": [1, 1, 1, 1, 1], \"Freq\": [36.14280342491016, 23.867564146595562, 15.560659774645696, 12.698385741109316, 11.730586912739264]}, \"tinfo\": {\"Term\": [\"learn\", \"use\", \"product\", \"service\", \"company\", \"analyst\", \"model\", \"research\", \"technology\", \"machine\", \"new\", \"build\", \"skill\", \"include\", \"work\", \"employment_type_full\", \"management\", \"software\", \"science\", \"technical\", \"help\", \"report\", \"solution\", \"requirement\", \"opportunity\", \"need\", \"customer\", \"client\", \"one\", \"information\", \"laurentian_bank\", \"desjardins\", \"wysdom\", \"brp\", \"brookfield\", \"rotax\", \"everywhere\", \"tbsm\", \"predisposition_medical_condition\", \"ing\", \"proximity\", \"yelp\", \"angus_anywhere\", \"vacant\", \"pan\", \"powersports\", \"mozilla\", \"mozilla_mozilla_exists\", \"town\", \"lumino\", \"nv\", \"karts\", \"gender_expression\", \"lbcfg\", \"marche\", \"tds\", \"printouts\", \"textual\", \"unposting\", \"accessory\", \"tangerine\", \"stacer\", \"indigenous_persons_persons\", \"religious_grooming\", \"stored_procedures\", \"san_francisco_ca_portland\", \"nielseniq_precima\", \"entity\", \"well\", \"financial\", \"email\", \"catalogue\", \"science\", \"enable\", \"geotab\", \"soti\", \"revenue\", \"qualification\", \"management\", \"year\", \"excel\", \"insight\", \"information\", \"engineering\", \"sql\", \"analysis\", \"level\", \"development\", \"python\", \"job\", \"maintain\", \"statistic\", \"function\", \"customer\", \"knowledge\", \"tool\", \"time\", \"analyze\", \"skill\", \"develop\", \"employee\", \"product\", \"support\", \"model\", \"provide\", \"ability\", \"technology\", \"solution\", \"design\", \"industry\", \"environment\", \"learn\", \"process\", \"service\", \"help\", \"work\", \"machine\", \"use\", \"eigen\", \"oma\", \"digitalocean\", \"slq\", \"oxford\", \"stryker\", \"crimson\", \"hexagon\", \"pack\", \"ocean\", \"igloo\", \"hbc\", \"samantha\", \"inbound\", \"processor\", \"manages\", \"shair\", \"chapman\", \"canadian_tire\", \"tata\", \"gim\", \"fsoftware\", \"edc\", \"perceptive\", \"netreveal\", \"visier\", \"disconnect\", \"simulation_scenario\", \"hudson\", \"ari\", \"ey\", \"dq\", \"technology\", \"phsa\", \"edas\", \"work\", \"process\", \"industry\", \"agoda\", \"build\", \"responsible\", \"people\", \"stakeholder\", \"ability\", \"system\", \"machine\", \"cloud\", \"pipeline\", \"large\", \"community\", \"issue\", \"etc\", \"conduct\", \"test\", \"program\", \"use\", \"requirement\", \"role\", \"client\", \"learn\", \"time\", \"environment\", \"support\", \"strong\", \"research\", \"skill\", \"model\", \"application\", \"job\", \"apply\", \"project\", \"solution\", \"service\", \"help\", \"information\", \"analysis\", \"develop\", \"create\", \"product\", \"tool\", \"provide\", \"include\", \"super\", \"fraud_detection\", \"logikk\", \"stephenson\", \"vested\", \"iccv\", \"carlo\", \"agrawal\", \"realtor_com\", \"rationalize\", \"sanctuary\", \"technics\", \"askuity\", \"bdc\", \"gen\", \"gridos\", \"haptic\", \"clustering\", \"tinkerpop\", \"pca\", \"specifics\", \"cnns\", \"icra\", \"klue\", \"buying\", \"diana\", \"dispute\", \"obsi\", \"opus_one\", \"calibration\", \"proprioceptive\", \"tally\", \"experimentation\", \"telus\", \"toolkits\", \"panda\", \"rise\", \"vancity\", \"distribute\", \"every\", \"deep\", \"value\", \"partner\", \"ml\", \"learn\", \"software\", \"build\", \"model\", \"problem\", \"special\", \"challenge\", \"research\", \"science\", \"math\", \"solution\", \"employment_type_full\", \"use\", \"growth\", \"design\", \"ai\", \"computer\", \"service\", \"skill\", \"expertise\", \"help\", \"machine\", \"customer\", \"make\", \"include\", \"financial\", \"information\", \"analysis\", \"people\", \"product\", \"industry\", \"develop\", \"time\", \"technology\", \"opportunity\", \"provide\", \"work\", \"job\", \"knowledge\", \"killam\", \"cgi\", \"earth_rangers\", \"consumable\", \"kabam\", \"ged\", \"apartment\", \"reit\", \"earnings\", \"custodian\", \"inspection\", \"coca_cola\", \"ndt\", \"accretive\", \"atlantic\", \"flows\", \"cn\", \"conservation\", \"coke\", \"assume\", \"geographically\", \"spa\", \"bottle\", \"capreit\", \"angularjs\", \"talentneuron\", \"landlord\", \"codes\", \"shepell\", \"gastown\", \"un\", \"equifax\", \"kinaxis\", \"top_hat\", \"analyst\", \"drop\", \"assessment\", \"management\", \"report\", \"game\", \"need\", \"governance\", \"requirement\", \"company\", \"technical\", \"one\", \"visualization\", \"support\", \"train\", \"challenge\", \"include\", \"platform\", \"team\", \"employment_type_full\", \"user\", \"highly\", \"analysis\", \"role\", \"apply\", \"base\", \"year\", \"service\", \"client\", \"job\", \"information\", \"tool\", \"customer\", \"provide\", \"opportunity\", \"product\", \"technology\", \"use\", \"project\", \"system\", \"computer\", \"development\", \"science\", \"skill\", \"ability\", \"learn\", \"time\", \"industry\", \"solution\", \"meter\", \"rodan\", \"raster\", \"msp\", \"blueforce\", \"general_purpose_robots\", \"birkenstocks\", \"symon\", \"monte\", \"varicent\", \"ieso\", \"flow_cytometry\", \"economically_valuable\", \"graham\", \"jeff\", \"protocols\", \"robot\", \"sanctuary\", \"itron\", \"kyz\", \"drawing\", \"modbus\", \"unsolved\", \"clio\", \"commuter\", \"visualping\", \"hitachi_abb_power_grids\", \"mv\", \"firewall\", \"mtr\", \"norton\", \"sprout_therapy\", \"zynga\", \"gildert\", \"ajay\", \"gameloft\", \"game\", \"conference\", \"autonomously\", \"filing\", \"use\", \"new\", \"product\", \"power\", \"provider\", \"company\", \"learn\", \"ml\", \"require\", \"market\", \"service\", \"environment\", \"machine\", \"professional\", \"engineering\", \"analyst\", \"help\", \"research\", \"work\", \"level\", \"project\", \"one\", \"skill\", \"model\", \"test\", \"function\", \"strong\", \"opportunity\", \"solution\", \"team\", \"time\", \"develop\", \"u\", \"information\", \"technology\", \"industry\", \"knowledge\", \"include\", \"science\", \"customer\", \"job\", \"build\"], \"Freq\": [1236.0, 1045.0, 1077.0, 1028.0, 738.0, 571.0, 1189.0, 548.0, 1529.0, 864.0, 654.0, 921.0, 1269.0, 791.0, 956.0, 541.0, 728.0, 687.0, 1069.0, 582.0, 844.0, 607.0, 961.0, 510.0, 759.0, 651.0, 854.0, 721.0, 442.0, 1270.0, 9.414116404325627, 3.319876779894812, 21.263939866276615, 9.344425061012414, 14.682410958189422, 4.651656213800191, 9.915642781576668, 4.653029862281871, 5.235794041789647, 7.865965054714503, 1.919856530363071, 27.906149159675458, 5.18078208817813, 1.9335857260960132, 1.913107388834242, 2.571475458899513, 23.161427573592057, 5.107028112090706, 3.1734360596200273, 3.164894353582767, 1.255158922445143, 2.505493846678092, 6.218135895996064, 1.8390540101892874, 1.2370874956837599, 3.1166257652449505, 2.468311817351604, 1.8472705955807034, 1.2334221867445085, 2.4589383305757377, 6.882185738160216, 2.456675688923696, 4.846512404328935, 4.825650771280377, 5.921540048338645, 4.825064343854877, 4.249110369144439, 17.681365604539803, 237.2402910193386, 224.06203230014228, 32.27039047075646, 17.32730757085701, 484.1796207541039, 73.32829359037821, 32.73533829981213, 19.805652193248513, 49.03805593632815, 151.1100028686417, 328.14213118613435, 336.17440452817044, 88.6921288160409, 301.3881545833766, 533.131246309874, 340.5849020903261, 247.25137513947496, 449.67788383147627, 285.4364484185524, 338.6742533232287, 256.54938111403, 423.69643349185066, 156.11695323472233, 171.79421576536942, 310.0259290954677, 350.39745027035667, 331.48594256680644, 327.4156213219592, 413.8695557981434, 163.15329016857552, 487.2878225388923, 354.47027125837604, 197.89861121988235, 409.8883803238846, 325.82884773007606, 440.41316669029067, 307.2724795952166, 313.0991344758466, 520.241479077329, 348.8923936348462, 253.95374990629966, 366.920189315581, 286.4684550644793, 388.1511066063437, 306.3779236161053, 333.3826138967303, 299.70184896406323, 304.7613643520587, 296.40651851786987, 298.1346156181029, 1.7691238867847725, 2.277055963276983, 1.4866111850637096, 3.475889407249019, 8.814998251210246, 6.26144507442569, 1.41136867561767, 1.4143581194167973, 0.9550260290916982, 0.9456237578938473, 4.294595945388888, 12.79794804089436, 0.9345344980409719, 0.9344859999552769, 0.9291686480427934, 3.1634560204453606, 0.91965430448961, 0.9053233926279166, 4.542970081698061, 0.8844962802538892, 2.6203159685055715, 0.8714131496644102, 3.587828074974467, 0.8763279856297029, 2.1826461748167665, 1.3120627601915116, 1.7256345453334376, 2.9925607547473057, 1.7217748606033576, 0.8715464739898786, 3.8475569391224442, 5.7790943758317725, 529.7324695202926, 8.367325681936672, 2.5652595611548423, 313.3075322846114, 272.58700794018, 336.63797270928353, 49.39653616407854, 285.24115606909584, 85.60350533316934, 182.01600244331325, 146.0198818804946, 237.69098525792626, 175.41575228519363, 250.22718604243204, 75.15379609377972, 74.8538417911836, 126.13156021104005, 77.70184700834753, 64.69194453217087, 113.37376349915951, 43.430604638694405, 86.16113377951875, 115.2217331033526, 271.09554249634795, 145.0331394656642, 186.5132651681127, 193.0888354314775, 305.1081342214661, 263.16577489902625, 200.64796285712308, 214.11318788525918, 196.8866213463861, 151.2479973152995, 300.9531931456754, 281.72477675443696, 125.20153621660947, 245.25423956187515, 164.34620917466273, 183.70275641846254, 229.9828833380352, 241.07939647015402, 206.63277339761876, 274.8189632267315, 234.49094569647914, 206.73928173287254, 172.97593020725677, 216.56636709888767, 180.84135337807442, 175.53025862684936, 175.56662165595586, 1.3532256529401956, 19.237468079687762, 1.3441886155377718, 0.7903738414248495, 0.7785799936621975, 0.7721688508420327, 1.4521467042582015, 1.4335853219668384, 8.707658752476197, 0.7444918579970178, 6.519453688715741, 1.5284236483990339, 2.196646437333677, 3.278674638393705, 1.8438245669843427, 1.0435612257168065, 1.3476122022777874, 0.701587779237391, 0.703122827425473, 0.7022241211034399, 1.4558257277536033, 1.4302729337030897, 0.6965973479398815, 1.7948190787535137, 1.7758400212483134, 0.6860989801890733, 0.70895577369572, 0.7107626009072657, 3.2911068412003575, 1.0369106331426357, 1.295219246087839, 2.647177662718629, 21.552569670848122, 6.915319790536802, 6.087868599455369, 10.735952117808651, 3.408246324024563, 2.0838433398171814, 15.143463713081339, 33.27495340573025, 66.58738507958503, 115.31537117730066, 90.02904514996992, 72.02929024344972, 247.9126425303464, 146.91562958262594, 190.50359057667268, 238.72231939024442, 103.66654185943543, 10.984949545883318, 63.3310654796991, 113.67711990839757, 200.32859625050253, 17.411211569309025, 176.86665471490002, 107.73674240994234, 187.20792826903457, 68.97233684033138, 120.11296844838425, 75.83702923174177, 134.35749183710112, 178.70059635447558, 209.84739424207413, 50.721375220568, 146.75281701319193, 148.82404270098647, 147.40782648627473, 114.65992212089105, 134.18412926782295, 86.35337821432458, 185.47680365380228, 160.73970667726633, 102.93888745208093, 156.81656190763306, 151.65317067643576, 134.06947380974654, 148.7765828597335, 183.72983888075797, 119.30072456670462, 120.10863324729887, 129.1202657650405, 129.38074162326168, 118.70363398644442, 7.840134157329385, 4.866772283398267, 3.13354459759187, 1.0079026180290716, 5.479825683998056, 0.6384003897282037, 1.9206557325838227, 1.2659546614782224, 1.5501665754843643, 0.9325327622268711, 1.5628650754661122, 2.4718959343013713, 0.6022309592488413, 0.8924448499398366, 1.7603411929249047, 0.8759376987090065, 2.3552049521706366, 0.5781048143321869, 1.438072241412867, 0.8695667531964403, 0.8518783798647365, 1.1277478101042073, 1.996890993271348, 0.8452443821916058, 0.5474894374060776, 0.8315417032971378, 0.8294991351613229, 0.5561992954520968, 0.5504100701748417, 0.5460200852476276, 2.187697356517918, 4.875863721699976, 3.2990011208508276, 2.899762160092569, 117.46227039336817, 6.630009176153866, 8.58156397031381, 137.95102551336194, 111.693093131107, 38.886022520008375, 115.80331541744961, 30.999801469525238, 90.71617505025449, 123.35200401627522, 100.16026173556358, 77.85654334697058, 57.68897085617551, 126.94990506427689, 21.33807381485598, 49.63847846674538, 119.6070751719841, 73.83110387366582, 84.31314297245703, 84.95332495590533, 57.79218471552594, 33.7569035428981, 145.89718148139272, 100.69483011269189, 92.65255438266655, 71.38581737592106, 107.53302043091226, 136.023583382937, 102.15981997337262, 133.30589467957319, 158.07844553682102, 108.30314129086423, 112.27870561065735, 104.12801450787592, 102.03881829885609, 129.7700778070365, 166.3359748590667, 124.12990549913363, 96.42405980615402, 83.6343238258159, 96.21089671515973, 99.32369015024842, 116.27762416899958, 125.49767468297296, 100.16293980370229, 118.64905659828177, 105.11672262916315, 104.14381078045388, 97.24184162009415, 11.499902024405813, 2.538107756938856, 1.2915545858836397, 1.1220555832471482, 0.7228499447317632, 3.42143628112776, 0.6690334369165081, 3.0506503052849365, 1.3194611016228968, 3.360477139380739, 1.3062810458390977, 2.3844870273638574, 2.279837191608658, 0.6600507766377813, 0.6543491589245135, 0.6350794113635854, 4.115966907159306, 6.011079595264976, 0.6276539127731252, 0.6161256491141447, 0.6122457565785042, 0.6116903830447387, 1.2238706125096304, 4.779946186023957, 0.9183020587846821, 2.416429084852084, 5.871191527513642, 0.9065800259157613, 0.5989279956547221, 0.5995634926005685, 1.1789268686831058, 2.010844997817091, 3.247123803134642, 1.1745273568493972, 1.1710291552868504, 3.288456592340728, 44.029280995969934, 8.590676013808238, 7.281526415905653, 2.616036992727591, 165.22295388351677, 107.75275991363559, 164.12549792862134, 28.43289379307102, 14.896357655763715, 114.91954496119372, 176.78287660141578, 53.04095246687167, 74.59155815683523, 59.320425405958034, 138.9251141425134, 108.29076929793781, 119.49812114919436, 47.380938221568016, 107.05593708846355, 83.265905331355, 113.07293019327308, 80.09347029647516, 121.81821662818426, 89.89388109960005, 95.74502740098002, 66.10696893303384, 145.79027020854906, 137.79464537781277, 46.200476018688846, 94.33051020438839, 94.89307636552391, 94.97833946014545, 108.56799005455758, 71.26194946585784, 110.9726458632666, 98.6214898547713, 78.64730582513256, 118.68491359994269, 129.07878365222953, 105.71843264081005, 90.47163955240606, 88.00814003857694, 101.57784467953978, 88.72054367585329, 91.86665073780438, 88.46478867320344], \"Total\": [1236.0, 1045.0, 1077.0, 1028.0, 738.0, 571.0, 1189.0, 548.0, 1529.0, 864.0, 654.0, 921.0, 1269.0, 791.0, 956.0, 541.0, 728.0, 687.0, 1069.0, 582.0, 844.0, 607.0, 961.0, 510.0, 759.0, 651.0, 854.0, 721.0, 442.0, 1270.0, 11.921972615197683, 4.36290050097565, 28.780267049633963, 13.877553185240066, 22.375529650859626, 7.324053387312384, 15.616980441678658, 7.390066691316736, 8.315827476938866, 12.500475269490032, 3.0782596464913023, 44.786725901673094, 8.333075448837082, 3.1125113019207724, 3.088976706872062, 4.152099677581641, 37.4363423549057, 8.262861813650607, 5.167816301633772, 5.192274891418832, 2.0688276790291567, 4.148132653359266, 10.31506563805177, 3.064051748935428, 2.0624677572004115, 5.202147063718376, 4.124685066497141, 3.0873778479103224, 2.0634473266594684, 4.1197892199391415, 11.664750324020886, 4.1232770890671215, 8.22969729024755, 8.226397976263591, 10.159070971433378, 8.228831062637354, 7.2323681291083135, 31.707245457333407, 476.8172719929036, 453.3658346308501, 59.8959013666973, 31.51173750086735, 1069.3348802539579, 144.51911342558853, 61.9609703449468, 36.41723732169156, 95.84862130561109, 318.0625356156715, 728.8235338677226, 759.7140032286391, 181.92269006771357, 680.414693816058, 1270.1903723271714, 781.2932939972527, 553.0556452397396, 1063.9463177155778, 652.9776953204469, 792.43022606425, 587.3583840534335, 1023.5039600943651, 342.16188304522626, 380.59942555439375, 737.115985675739, 854.7972011562824, 803.9575378056721, 793.1172101314796, 1041.9012820493328, 363.65116195905955, 1269.376354818164, 883.2203172909079, 456.40844808404705, 1077.166885066063, 824.3939997759304, 1189.6137793225378, 780.6942213680765, 807.7055269737934, 1529.1185459896758, 961.5517633624333, 637.9504244843189, 1065.0735761225642, 760.1758700610559, 1236.6038165578539, 847.2291822511075, 1028.1113042468103, 844.9308206759672, 956.9729245201879, 864.3582222897791, 1045.7909457661358, 2.800730526971113, 3.7909366614435833, 2.755061621374282, 6.444805276077265, 16.688677058675697, 11.907048606073573, 2.7512621095910457, 2.7636646494228847, 1.8778132200262703, 1.883576202048781, 8.56153195397018, 25.653137422585793, 1.8879275749762487, 1.8887711226575363, 1.8962025933859734, 6.497422940819424, 1.8908212253541015, 1.8616165477240978, 9.393183113567753, 1.8475465065951635, 5.510032107600729, 1.8453946128309626, 7.628036702096392, 1.863712434150532, 4.655059956442808, 2.811056554103538, 3.729379225106829, 6.565514265291092, 3.777481454272345, 1.916570778366707, 8.620264446484658, 13.211533096427104, 1529.1185459896758, 19.760544766120365, 5.711333187949354, 956.9729245201879, 847.2291822511075, 1065.0735761225642, 135.42611314565144, 921.5472123827865, 256.77308989200014, 584.6008478500316, 462.41015733393994, 807.7055269737934, 581.6363619429021, 864.3582222897791, 231.57092286500767, 231.48383679174614, 414.21936806830473, 241.69446875301404, 199.2267729274932, 376.04925129275387, 128.0102862361339, 279.5234095908127, 388.93418816683413, 1045.7909457661358, 510.8955026841737, 682.7941282485434, 721.0717191478104, 1236.6038165578539, 1041.9012820493328, 760.1758700610559, 824.3939997759304, 747.7363166677222, 548.8040285082276, 1269.376354818164, 1189.6137793225378, 440.1743677849554, 1023.5039600943651, 618.5842096029768, 717.2984473234301, 961.5517633624333, 1028.1113042468103, 844.9308206759672, 1270.1903723271714, 1063.9463177155778, 883.2203172909079, 674.4139910940733, 1077.166885066063, 793.1172101314796, 780.6942213680765, 791.6342134014476, 2.8037394244365803, 40.000696251018844, 2.805522834540755, 1.8732705067514588, 1.8682595966408941, 1.8561383706074295, 3.5602092769532616, 3.5921710922340226, 21.95176541785324, 1.8794114918142317, 16.521864189221297, 3.8989986742787455, 5.63472748125121, 8.471366649488347, 4.782042770672404, 2.7507382541450065, 3.5646765321723373, 1.8646743744566892, 1.8726134119689954, 1.871784979714293, 3.9012017816795197, 3.8487933655496, 1.8770537616752463, 4.859023735331385, 4.85837348024021, 1.8880811004536227, 1.9559203140133679, 1.9632168822939398, 9.098766873622505, 2.8713732319956633, 3.587910531659441, 7.534393410308646, 67.03939202084558, 20.792413158139116, 18.43698137262137, 34.33781198687274, 10.089475837941002, 5.982399614761649, 51.100854474912495, 125.51013385638217, 270.18041696305346, 501.27369992877396, 381.2256161469111, 300.9621593376475, 1236.6038165578539, 687.9539462929021, 921.5472123827865, 1189.6137793225378, 481.94841951296644, 37.730193329051595, 279.37369256655046, 548.8040285082276, 1069.3348802539579, 64.6608186864624, 961.5517633624333, 541.7231267141428, 1045.7909457661358, 323.55401301648834, 637.9504244843189, 369.1605594933681, 731.1806431077152, 1028.1113042468103, 1269.376354818164, 231.0600400559634, 844.9308206759672, 864.3582222897791, 854.7972011562824, 627.5419434147717, 791.6342134014476, 453.3658346308501, 1270.1903723271714, 1063.9463177155778, 584.6008478500316, 1077.166885066063, 1065.0735761225642, 883.2203172909079, 1041.9012820493328, 1529.1185459896758, 759.8279753526997, 780.6942213680765, 956.9729245201879, 1023.5039600943651, 803.9575378056721, 16.568963317179975, 12.84055343283294, 8.269562469177902, 2.695940512233987, 14.857502351537612, 1.7991572815700363, 5.43639739276847, 3.6088810852334574, 4.436334920878524, 2.6894604321480027, 4.553558200266592, 7.243457652011745, 1.8047471201829846, 2.694394685483801, 5.357530890875282, 2.7055674410111443, 7.396693446325703, 1.8170782804973007, 4.5290582351357624, 2.745529449873948, 2.707377268107246, 3.604648503125305, 6.395886400233945, 2.7169107911979347, 1.7842141023333313, 2.7189622343370385, 2.714136901918825, 1.8205755888785502, 1.8027209691237385, 1.7892367790388903, 7.24014700567064, 16.495180179854266, 11.183432563666338, 9.962930044053252, 571.4662805955693, 25.612691316622556, 34.26364143144746, 728.8235338677226, 607.9464999301437, 188.98875625986517, 651.7526196722728, 150.2619036011469, 510.8955026841737, 738.7692826545796, 582.0997551496683, 442.9854459901083, 321.4166512931296, 824.3939997759304, 102.41318266036741, 279.37369256655046, 791.6342134014476, 452.90001715081314, 532.8497128764766, 541.7231267141428, 347.30281026530446, 182.3924550257597, 1063.9463177155778, 682.7941282485434, 618.5842096029768, 452.60863580716887, 759.7140032286391, 1028.1113042468103, 721.0717191478104, 1023.5039600943651, 1270.1903723271714, 793.1172101314796, 854.7972011562824, 780.6942213680765, 759.8279753526997, 1077.166885066063, 1529.1185459896758, 1045.7909457661358, 717.2984473234301, 581.6363619429021, 731.1806431077152, 792.43022606425, 1069.3348802539579, 1269.376354818164, 807.7055269737934, 1236.6038165578539, 1041.9012820493328, 1065.0735761225642, 961.5517633624333, 20.424576247516384, 4.961329555134194, 2.5341149745586202, 2.551597275662351, 1.7253804790699676, 8.589763972230134, 1.7487534477699431, 7.981303234182551, 3.455614668986673, 8.85402599852673, 3.442961438967235, 6.2929019230629955, 6.068109665077269, 1.7612233239303703, 1.7604629926993858, 1.7323962924461274, 11.286613961054819, 16.521864189221297, 1.7375394592092355, 1.7470026227499003, 1.7379123005639368, 1.7405756491132272, 3.4929945910225215, 13.845059202082432, 2.6604048238993703, 7.005704435248502, 17.025784458817075, 2.630725367663996, 1.7405284414562154, 1.7482159679158373, 3.50282208645174, 6.118096406042585, 10.356346920872845, 3.496032451786461, 3.5048623462718864, 10.79865911201029, 188.98875625986517, 31.639416518456546, 27.105289949706137, 8.745863903946017, 1045.7909457661358, 654.8729486766364, 1077.166885066063, 141.45710536467746, 66.41253505723718, 738.7692826545796, 1236.6038165578539, 300.9621593376475, 459.6163869050997, 351.94986221535237, 1028.1113042468103, 760.1758700610559, 864.3582222897791, 275.955000870826, 781.2932939972527, 571.4662805955693, 844.9308206759672, 548.8040285082276, 956.9729245201879, 652.9776953204469, 717.2984473234301, 442.9854459901083, 1269.376354818164, 1189.6137793225378, 279.5234095908127, 737.115985675739, 747.7363166677222, 759.8279753526997, 961.5517633624333, 532.8497128764766, 1041.9012820493328, 883.2203172909079, 623.1462491768511, 1270.1903723271714, 1529.1185459896758, 1065.0735761225642, 803.9575378056721, 791.6342134014476, 1069.3348802539579, 854.7972011562824, 1023.5039600943651, 921.5472123827865], \"Category\": [\"Default\", \"Default\", \"Default\", \"Default\", \"Default\", \"Default\", \"Default\", \"Default\", \"Default\", \"Default\", \"Default\", \"Default\", \"Default\", \"Default\", \"Default\", \"Default\", \"Default\", \"Default\", \"Default\", \"Default\", \"Default\", \"Default\", \"Default\", \"Default\", \"Default\", \"Default\", \"Default\", \"Default\", \"Default\", \"Default\", \"Topic1\", \"Topic1\", \"Topic1\", \"Topic1\", \"Topic1\", \"Topic1\", \"Topic1\", \"Topic1\", \"Topic1\", \"Topic1\", \"Topic1\", \"Topic1\", \"Topic1\", \"Topic1\", \"Topic1\", \"Topic1\", \"Topic1\", \"Topic1\", \"Topic1\", \"Topic1\", \"Topic1\", \"Topic1\", \"Topic1\", \"Topic1\", \"Topic1\", \"Topic1\", \"Topic1\", \"Topic1\", \"Topic1\", \"Topic1\", \"Topic1\", \"Topic1\", \"Topic1\", \"Topic1\", \"Topic1\", \"Topic1\", \"Topic1\", \"Topic1\", \"Topic1\", \"Topic1\", \"Topic1\", \"Topic1\", \"Topic1\", \"Topic1\", \"Topic1\", \"Topic1\", \"Topic1\", \"Topic1\", \"Topic1\", \"Topic1\", \"Topic1\", \"Topic1\", \"Topic1\", \"Topic1\", \"Topic1\", \"Topic1\", \"Topic1\", \"Topic1\", \"Topic1\", \"Topic1\", \"Topic1\", \"Topic1\", \"Topic1\", \"Topic1\", \"Topic1\", \"Topic1\", \"Topic1\", \"Topic1\", \"Topic1\", \"Topic1\", \"Topic1\", \"Topic1\", \"Topic1\", \"Topic1\", \"Topic1\", \"Topic1\", \"Topic1\", \"Topic1\", \"Topic1\", \"Topic1\", \"Topic1\", \"Topic1\", \"Topic1\", \"Topic1\", \"Topic1\", \"Topic1\", \"Topic1\", \"Topic1\", \"Topic2\", \"Topic2\", \"Topic2\", \"Topic2\", \"Topic2\", \"Topic2\", \"Topic2\", \"Topic2\", \"Topic2\", \"Topic2\", \"Topic2\", \"Topic2\", \"Topic2\", \"Topic2\", \"Topic2\", \"Topic2\", \"Topic2\", \"Topic2\", \"Topic2\", \"Topic2\", \"Topic2\", \"Topic2\", \"Topic2\", \"Topic2\", \"Topic2\", \"Topic2\", \"Topic2\", \"Topic2\", \"Topic2\", \"Topic2\", \"Topic2\", \"Topic2\", \"Topic2\", \"Topic2\", \"Topic2\", \"Topic2\", \"Topic2\", \"Topic2\", \"Topic2\", \"Topic2\", \"Topic2\", \"Topic2\", \"Topic2\", \"Topic2\", \"Topic2\", \"Topic2\", \"Topic2\", \"Topic2\", \"Topic2\", \"Topic2\", \"Topic2\", \"Topic2\", \"Topic2\", \"Topic2\", \"Topic2\", \"Topic2\", \"Topic2\", \"Topic2\", \"Topic2\", \"Topic2\", \"Topic2\", \"Topic2\", \"Topic2\", \"Topic2\", \"Topic2\", \"Topic2\", \"Topic2\", \"Topic2\", \"Topic2\", \"Topic2\", \"Topic2\", \"Topic2\", \"Topic2\", \"Topic2\", \"Topic2\", \"Topic2\", \"Topic2\", \"Topic2\", \"Topic2\", \"Topic2\", \"Topic2\", \"Topic2\", \"Topic3\", \"Topic3\", \"Topic3\", \"Topic3\", \"Topic3\", \"Topic3\", \"Topic3\", \"Topic3\", \"Topic3\", \"Topic3\", \"Topic3\", \"Topic3\", \"Topic3\", \"Topic3\", \"Topic3\", \"Topic3\", \"Topic3\", \"Topic3\", \"Topic3\", \"Topic3\", \"Topic3\", \"Topic3\", \"Topic3\", \"Topic3\", \"Topic3\", \"Topic3\", \"Topic3\", \"Topic3\", \"Topic3\", \"Topic3\", \"Topic3\", \"Topic3\", \"Topic3\", \"Topic3\", \"Topic3\", \"Topic3\", \"Topic3\", \"Topic3\", \"Topic3\", \"Topic3\", \"Topic3\", \"Topic3\", \"Topic3\", \"Topic3\", \"Topic3\", \"Topic3\", \"Topic3\", \"Topic3\", \"Topic3\", \"Topic3\", \"Topic3\", \"Topic3\", \"Topic3\", \"Topic3\", \"Topic3\", \"Topic3\", \"Topic3\", \"Topic3\", \"Topic3\", \"Topic3\", \"Topic3\", \"Topic3\", \"Topic3\", \"Topic3\", \"Topic3\", \"Topic3\", \"Topic3\", \"Topic3\", \"Topic3\", \"Topic3\", \"Topic3\", \"Topic3\", \"Topic3\", \"Topic3\", \"Topic3\", \"Topic3\", \"Topic3\", \"Topic3\", \"Topic3\", \"Topic3\", \"Topic3\", \"Topic3\", \"Topic3\", \"Topic4\", \"Topic4\", \"Topic4\", \"Topic4\", \"Topic4\", \"Topic4\", \"Topic4\", \"Topic4\", \"Topic4\", \"Topic4\", \"Topic4\", \"Topic4\", \"Topic4\", \"Topic4\", \"Topic4\", \"Topic4\", \"Topic4\", \"Topic4\", \"Topic4\", \"Topic4\", \"Topic4\", \"Topic4\", \"Topic4\", \"Topic4\", \"Topic4\", \"Topic4\", \"Topic4\", \"Topic4\", \"Topic4\", \"Topic4\", \"Topic4\", \"Topic4\", \"Topic4\", \"Topic4\", \"Topic4\", \"Topic4\", \"Topic4\", \"Topic4\", \"Topic4\", \"Topic4\", \"Topic4\", \"Topic4\", \"Topic4\", \"Topic4\", \"Topic4\", \"Topic4\", \"Topic4\", \"Topic4\", \"Topic4\", \"Topic4\", \"Topic4\", \"Topic4\", \"Topic4\", \"Topic4\", \"Topic4\", \"Topic4\", \"Topic4\", \"Topic4\", \"Topic4\", \"Topic4\", \"Topic4\", \"Topic4\", \"Topic4\", \"Topic4\", \"Topic4\", \"Topic4\", \"Topic4\", \"Topic4\", \"Topic4\", \"Topic4\", \"Topic4\", \"Topic4\", \"Topic4\", \"Topic4\", \"Topic4\", \"Topic4\", \"Topic4\", \"Topic4\", \"Topic4\", \"Topic4\", \"Topic4\", \"Topic4\", \"Topic4\", \"Topic5\", \"Topic5\", \"Topic5\", \"Topic5\", \"Topic5\", \"Topic5\", \"Topic5\", \"Topic5\", \"Topic5\", \"Topic5\", \"Topic5\", \"Topic5\", \"Topic5\", \"Topic5\", \"Topic5\", \"Topic5\", \"Topic5\", \"Topic5\", \"Topic5\", \"Topic5\", \"Topic5\", \"Topic5\", \"Topic5\", \"Topic5\", \"Topic5\", \"Topic5\", \"Topic5\", \"Topic5\", \"Topic5\", \"Topic5\", \"Topic5\", \"Topic5\", \"Topic5\", \"Topic5\", \"Topic5\", \"Topic5\", \"Topic5\", \"Topic5\", \"Topic5\", \"Topic5\", \"Topic5\", \"Topic5\", \"Topic5\", \"Topic5\", \"Topic5\", \"Topic5\", \"Topic5\", \"Topic5\", \"Topic5\", \"Topic5\", \"Topic5\", \"Topic5\", \"Topic5\", \"Topic5\", \"Topic5\", \"Topic5\", \"Topic5\", \"Topic5\", \"Topic5\", \"Topic5\", \"Topic5\", \"Topic5\", \"Topic5\", \"Topic5\", \"Topic5\", \"Topic5\", \"Topic5\", \"Topic5\", \"Topic5\", \"Topic5\", \"Topic5\", \"Topic5\", \"Topic5\", \"Topic5\", \"Topic5\", \"Topic5\", \"Topic5\", \"Topic5\", \"Topic5\", \"Topic5\", \"Topic5\", \"Topic5\"], \"logprob\": [30.0, 29.0, 28.0, 27.0, 26.0, 25.0, 24.0, 23.0, 22.0, 21.0, 20.0, 19.0, 18.0, 17.0, 16.0, 15.0, 14.0, 13.0, 12.0, 11.0, 10.0, 9.0, 8.0, 7.0, 6.0, 5.0, 4.0, 3.0, 2.0, 1.0, -8.9911, -10.0334, -8.1763, -8.9985, -8.5467, -9.6961, -8.9392, -9.6958, -9.5778, -9.1708, -10.5811, -7.9045, -9.5884, -10.5739, -10.5846, -10.2888, -8.0908, -9.6027, -10.0785, -10.0812, -11.0061, -10.3148, -9.4058, -10.6241, -11.0206, -10.0966, -10.3298, -10.6196, -11.0235, -10.3336, -9.3044, -10.3345, -9.6551, -9.6594, -9.4547, -9.6595, -9.7866, -8.3608, -5.7642, -5.8214, -7.7592, -8.381, -5.0509, -6.9384, -7.7449, -8.2473, -7.3407, -6.2153, -5.4399, -5.4157, -6.7481, -5.5249, -4.9545, -5.4027, -5.7229, -5.1248, -5.5793, -5.4083, -5.686, -5.1843, -6.1827, -6.087, -5.4967, -5.3742, -5.4297, -5.4421, -5.2078, -6.1386, -5.0445, -5.3627, -5.9456, -5.2174, -5.4469, -5.1456, -5.5056, -5.4868, -4.979, -5.3786, -5.6962, -5.3282, -5.5757, -5.2719, -5.5085, -5.424, -5.5305, -5.5138, -5.5416, -5.5358, -10.2479, -9.9955, -10.4219, -9.5725, -8.6419, -8.9839, -10.4738, -10.4717, -10.8644, -10.8743, -9.361, -8.2691, -10.8861, -10.8861, -10.8918, -9.6667, -10.9021, -10.9178, -9.3048, -10.9411, -9.8551, -10.956, -9.5408, -10.9504, -10.0378, -10.5468, -10.2728, -9.7222, -10.275, -10.9558, -9.4709, -9.0641, -4.546, -8.694, -9.8763, -5.0712, -5.2104, -4.9993, -6.9185, -5.165, -6.3686, -5.6143, -5.8346, -5.3474, -5.6512, -5.296, -6.4988, -6.5028, -5.981, -6.4655, -6.6487, -6.0877, -7.0472, -6.3621, -6.0715, -5.2159, -5.8414, -5.5899, -5.5552, -5.0977, -5.2456, -5.5168, -5.4519, -5.5357, -5.7994, -5.1114, -5.1774, -5.9884, -5.3161, -5.7164, -5.605, -5.3804, -5.3332, -5.4874, -5.2022, -5.3609, -5.4869, -5.6652, -5.4405, -5.6207, -5.6505, -5.6503, -10.0881, -7.4337, -10.0948, -10.6258, -10.6409, -10.6491, -10.0175, -10.0304, -8.2264, -10.6856, -8.5158, -9.9663, -9.6037, -9.2031, -9.7787, -10.3479, -10.0922, -10.745, -10.7428, -10.7441, -10.015, -10.0327, -10.7521, -9.8057, -9.8163, -10.7673, -10.7345, -10.732, -9.1994, -10.3543, -10.1319, -9.4171, -7.3201, -8.4568, -8.5843, -8.017, -9.1644, -9.6564, -7.673, -6.8858, -6.1921, -5.6429, -5.8905, -6.1135, -4.8775, -5.4007, -5.1409, -4.9153, -5.7494, -7.9941, -6.2422, -5.6572, -5.0906, -7.5335, -5.2152, -5.7109, -5.1584, -6.1569, -5.6022, -6.062, -5.4901, -5.2049, -5.0442, -6.4642, -5.4018, -5.3878, -5.3974, -5.6486, -5.4914, -5.9321, -5.1677, -5.3108, -5.7564, -5.3355, -5.369, -5.4922, -5.3881, -5.1771, -5.6089, -5.6022, -5.5298, -5.5278, -5.614, -8.1281, -8.6049, -9.0451, -10.1794, -8.4862, -10.6361, -9.5346, -9.9515, -9.749, -10.2572, -9.7408, -9.2823, -10.6944, -10.3011, -9.6218, -10.3198, -9.3307, -10.7353, -9.824, -10.3271, -10.3476, -10.0671, -9.4957, -10.3554, -10.7897, -10.3718, -10.3742, -10.7739, -10.7844, -10.7924, -9.4045, -8.603, -8.9937, -9.1227, -5.4212, -8.2957, -8.0377, -5.2604, -5.4716, -6.5267, -5.4354, -6.7533, -5.6796, -5.3723, -5.5805, -5.8324, -6.1322, -5.3435, -7.1268, -6.2825, -5.4031, -5.8855, -5.7528, -5.7452, -6.1305, -6.6681, -5.2044, -5.5752, -5.6585, -5.9192, -5.5095, -5.2745, -5.5608, -5.2947, -5.1242, -5.5024, -5.4663, -5.5417, -5.562, -5.3215, -5.0733, -5.366, -5.6186, -5.7609, -5.6208, -5.5889, -5.4313, -5.355, -5.5805, -5.4111, -5.5322, -5.5415, -5.6101, -7.6657, -9.1766, -9.8522, -9.9929, -10.4326, -8.878, -10.51, -8.9927, -9.8308, -8.896, -9.8409, -9.2391, -9.2839, -10.5235, -10.5322, -10.562, -8.6932, -8.3144, -10.5738, -10.5923, -10.5987, -10.5996, -9.906, -8.5436, -10.1933, -9.2257, -8.338, -10.2061, -10.6207, -10.6196, -9.9434, -9.4095, -8.9303, -9.9472, -9.9502, -8.9176, -6.3232, -7.9574, -8.1227, -9.1464, -5.0007, -5.4282, -5.0074, -6.7605, -7.4069, -5.3638, -4.9331, -6.137, -5.796, -6.0251, -5.1741, -5.4232, -5.3247, -6.2498, -5.4347, -5.686, -5.38, -5.7248, -5.3055, -5.6094, -5.5463, -5.9168, -5.1259, -5.1823, -6.275, -5.5612, -5.5553, -5.5544, -5.4207, -5.8417, -5.3988, -5.5167, -5.7431, -5.3316, -5.2476, -5.4473, -5.603, -5.6306, -5.4872, -5.6225, -5.5877, -5.6254], \"loglift\": [30.0, 29.0, 28.0, 27.0, 26.0, 25.0, 24.0, 23.0, 22.0, 21.0, 20.0, 19.0, 18.0, 17.0, 16.0, 15.0, 14.0, 13.0, 12.0, 11.0, 10.0, 9.0, 8.0, 7.0, 6.0, 5.0, 4.0, 3.0, 2.0, 1.0, 0.7815, 0.7445, 0.715, 0.6222, 0.5964, 0.5638, 0.5634, 0.5551, 0.5551, 0.5545, 0.5456, 0.5446, 0.5424, 0.5416, 0.5386, 0.5386, 0.5375, 0.5365, 0.5301, 0.5226, 0.518, 0.5135, 0.5116, 0.5072, 0.5065, 0.5054, 0.5042, 0.5041, 0.5031, 0.5016, 0.4901, 0.4999, 0.4882, 0.4843, 0.4779, 0.4839, 0.4858, 0.4337, 0.3196, 0.3129, 0.3992, 0.4196, 0.2254, 0.3392, 0.3796, 0.4086, 0.3475, 0.2735, 0.2197, 0.2024, 0.2993, 0.2034, 0.1495, 0.1874, 0.2126, 0.1565, 0.1902, 0.1676, 0.1894, 0.1357, 0.233, 0.2222, 0.1516, 0.1259, 0.1317, 0.133, 0.0944, 0.2162, 0.0603, 0.1047, 0.1821, 0.0515, 0.0894, 0.024, 0.0852, 0.07, -0.0605, 0.0039, 0.0966, -0.048, 0.0418, -0.141, 0.0005, -0.1085, -0.0188, -0.1266, -0.0526, -0.2373, 0.9733, 0.9229, 0.8157, 0.8152, 0.7944, 0.7899, 0.7651, 0.7628, 0.7565, 0.7436, 0.7427, 0.7373, 0.7295, 0.729, 0.7193, 0.7129, 0.7119, 0.7117, 0.7062, 0.6961, 0.6894, 0.6823, 0.6784, 0.6781, 0.6752, 0.6707, 0.662, 0.6469, 0.6469, 0.6446, 0.626, 0.6058, 0.3726, 0.5733, 0.6323, 0.3161, 0.2986, 0.2809, 0.4241, 0.2599, 0.3342, 0.2658, 0.2799, 0.2094, 0.234, 0.193, 0.3073, 0.3037, 0.2436, 0.2979, 0.3078, 0.2336, 0.3517, 0.2558, 0.2161, 0.0826, 0.1734, 0.135, 0.1151, 0.0332, 0.0566, 0.1007, 0.0845, 0.0982, 0.1438, -0.0067, -0.0078, 0.1754, 0.004, 0.1072, 0.0705, 0.0021, -0.0177, 0.0243, -0.0982, -0.0797, -0.0195, 0.072, -0.1715, -0.0457, -0.0597, -0.0734, 1.132, 1.1284, 1.1246, 0.9975, 0.9851, 0.9834, 0.9636, 0.9418, 0.9358, 0.9344, 0.9305, 0.9239, 0.9184, 0.9112, 0.9074, 0.8912, 0.8877, 0.8829, 0.8809, 0.88, 0.8747, 0.8705, 0.8692, 0.8645, 0.854, 0.8481, 0.8456, 0.8444, 0.8435, 0.8419, 0.8415, 0.8144, 0.7256, 0.7596, 0.7524, 0.6978, 0.7751, 0.8058, 0.6442, 0.5328, 0.4598, 0.3909, 0.4172, 0.4305, 0.2534, 0.3166, 0.284, 0.2543, 0.3238, 0.6265, 0.3762, 0.286, 0.1856, 0.5484, 0.1673, 0.2454, 0.1401, 0.3148, 0.1906, 0.2778, 0.1663, 0.1107, 0.0605, 0.3441, 0.1099, 0.1012, 0.1028, 0.1606, 0.0855, 0.2022, -0.0636, -0.0295, 0.1236, -0.0666, -0.0888, -0.0248, -0.0859, -0.2586, 0.009, -0.0114, -0.1426, -0.2078, -0.0525, 1.3154, 1.0935, 1.0933, 1.0798, 1.0663, 1.0276, 1.0232, 1.0161, 1.0122, 1.0045, 0.9943, 0.9886, 0.9662, 0.9587, 0.9507, 0.9359, 0.9193, 0.9185, 0.9165, 0.914, 0.9074, 0.9017, 0.8996, 0.8961, 0.8823, 0.879, 0.8783, 0.8779, 0.8773, 0.8768, 0.8669, 0.8449, 0.8429, 0.8295, 0.4816, 0.7122, 0.6792, 0.3992, 0.3694, 0.4826, 0.3359, 0.4853, 0.3353, 0.2738, 0.3038, 0.325, 0.346, 0.1928, 0.4952, 0.3359, 0.1738, 0.2498, 0.22, 0.211, 0.2704, 0.3767, 0.0769, 0.1496, 0.1651, 0.2168, 0.1086, 0.041, 0.1095, 0.0254, -0.0201, 0.0727, 0.0338, 0.0491, 0.056, -0.0526, -0.1547, -0.0675, 0.057, 0.1243, 0.0356, -0.013, -0.1551, -0.2503, -0.0237, -0.2803, -0.23, -0.2613, -0.2277, 1.5686, 1.4727, 1.469, 1.3214, 1.273, 1.2225, 1.1821, 1.1812, 1.1802, 1.1742, 1.1738, 1.1725, 1.164, 1.1615, 1.1533, 1.1395, 1.1342, 1.1319, 1.1247, 1.1008, 1.0997, 1.0972, 1.0942, 1.0795, 1.0793, 1.0785, 1.0783, 1.0776, 1.0762, 1.0728, 1.054, 1.0303, 0.9831, 1.0522, 1.0467, 0.954, 0.6861, 0.8392, 0.8286, 0.9361, 0.2977, 0.3384, 0.2615, 0.5385, 0.6482, 0.2822, 0.1978, 0.4071, 0.3246, 0.3624, 0.1414, 0.1942, 0.1643, 0.381, 0.1554, 0.2168, 0.1317, 0.2184, 0.0817, 0.1601, 0.1292, 0.2407, -0.0211, -0.0126, 0.3429, 0.087, 0.0787, 0.0635, -0.0382, 0.1311, -0.0965, -0.0493, 0.0732, -0.2275, -0.3291, -0.167, -0.0415, -0.0537, -0.211, -0.1224, -0.2677, -0.2005]}, \"token.table\": {\"Topic\": [1, 2, 3, 4, 5, 1, 3, 1, 2, 4, 1, 2, 3, 4, 5, 1, 3, 5, 1, 2, 3, 4, 5, 3, 5, 1, 2, 3, 4, 5, 1, 2, 3, 4, 5, 1, 2, 3, 4, 5, 4, 1, 2, 3, 4, 5, 1, 2, 3, 4, 1, 2, 3, 4, 5, 1, 2, 3, 4, 5, 1, 2, 1, 2, 3, 5, 1, 2, 3, 4, 5, 1, 2, 4, 1, 2, 3, 4, 5, 1, 2, 3, 4, 5, 1, 2, 3, 4, 5, 1, 2, 3, 4, 5, 5, 5, 1, 2, 3, 4, 5, 1, 2, 3, 4, 5, 1, 2, 3, 4, 5, 1, 2, 3, 4, 5, 1, 2, 3, 1, 2, 3, 1, 2, 3, 4, 5, 2, 4, 3, 5, 1, 2, 3, 4, 5, 1, 2, 3, 4, 5, 1, 2, 3, 4, 5, 2, 1, 2, 3, 4, 5, 1, 2, 3, 4, 5, 1, 2, 3, 4, 5, 3, 1, 2, 4, 5, 1, 2, 3, 1, 2, 3, 4, 5, 4, 1, 3, 4, 1, 2, 3, 4, 5, 1, 2, 5, 1, 2, 3, 4, 5, 1, 2, 3, 4, 5, 1, 2, 3, 4, 5, 1, 2, 3, 4, 5, 4, 1, 2, 4, 1, 2, 3, 4, 5, 2, 2, 4, 1, 2, 3, 4, 5, 1, 2, 3, 4, 5, 1, 2, 3, 4, 5, 1, 1, 2, 3, 4, 5, 1, 2, 3, 4, 5, 3, 2, 1, 2, 4, 1, 3, 1, 2, 3, 4, 5, 1, 2, 3, 4, 5, 5, 1, 2, 3, 4, 5, 1, 2, 3, 4, 5, 1, 2, 3, 4, 1, 2, 3, 5, 1, 2, 3, 4, 1, 2, 3, 4, 5, 2, 1, 2, 3, 4, 5, 1, 2, 3, 4, 5, 1, 2, 3, 4, 5, 1, 2, 3, 4, 5, 1, 2, 3, 4, 5, 1, 2, 3, 4, 5, 1, 2, 3, 4, 5, 1, 2, 3, 4, 5, 1, 2, 3, 4, 5, 1, 2, 3, 4, 5, 1, 2, 3, 4, 5, 1, 2, 3, 4, 5, 1, 2, 3, 4, 5, 1, 2, 3, 4, 5, 1, 2, 3, 4, 5, 1, 2, 3, 4, 5, 1, 2, 3, 4, 5, 5, 1, 2, 4, 5, 2, 4, 1, 2, 3, 4, 5, 2, 1, 2, 3, 4, 5, 1, 2, 3, 4, 5, 1, 2, 3, 4, 5, 4, 4, 1, 2, 3, 5, 1, 2, 3, 4, 5, 1, 2, 3, 5, 1, 2, 4, 1, 2, 3, 4, 5, 2, 3, 5, 1, 2, 4, 5, 1, 2, 3, 4, 5, 5, 3, 1, 2, 3, 4, 5, 1, 3, 5, 1, 2, 3, 4, 5, 1, 2, 3, 4, 5, 2, 1, 2, 3, 4, 5, 1, 2, 3, 4, 5, 1, 2, 3, 3, 1, 3, 5, 1, 2, 3, 4, 5, 2, 1, 2, 3, 4, 5, 1, 2, 3, 4, 5, 1, 2, 3, 4, 5, 1, 2, 3, 4, 5, 1, 2, 3, 4, 5, 1, 2, 3, 4, 5, 1, 2, 3, 4, 1, 2, 3, 4, 5, 5, 5, 1, 2, 3, 4, 5, 1, 2, 3, 4, 5, 1, 3, 1, 2, 3, 4, 5, 1, 2, 3, 4, 5, 1, 2, 3, 1, 2, 3, 4, 5, 5, 1, 2, 4, 1, 2, 3, 4, 5, 1, 3, 5, 1, 1, 2, 3, 4, 5, 1, 2, 3, 4, 5, 3, 1, 2, 3, 4, 1, 2, 3, 4, 5, 1, 2, 3, 4, 5, 1, 2, 3, 4, 5, 1, 2, 3, 4, 5, 1, 2, 3, 4, 1, 1, 2, 3, 4, 5, 1, 2, 3, 4, 5, 1, 3, 4, 5, 1, 2, 3, 4, 5, 5, 1, 2, 3, 4, 5, 3, 5, 1, 2, 3, 4, 5, 1, 2, 3, 4, 5, 3, 5, 5, 1, 3, 5, 4, 1, 2, 3, 4, 5, 1, 2, 3, 4, 1, 2, 3, 4, 5, 1, 2, 3, 4, 3, 5, 1, 1, 3, 2, 1, 2, 1, 2, 3, 4, 5, 1, 2, 3, 4, 5, 1, 2, 3, 4, 5, 1, 2, 3, 4, 5, 2, 1, 1, 2, 3, 4, 5, 1, 2, 3, 4, 5, 3, 1, 2, 3, 4, 5, 2, 1, 2, 3, 4, 5, 1, 2, 3, 4, 5, 1, 2, 3, 4, 5, 1, 2, 3, 4, 5, 1, 3, 1, 2, 3, 4, 5, 1, 3, 4, 1, 2, 3, 4, 5, 1, 2, 3, 4, 5, 2, 1, 2, 3, 4, 5, 1, 2, 3, 4, 5, 1, 2, 3, 4, 5, 1, 2, 3, 4, 5, 1, 3, 5, 5, 1, 2, 3, 4, 5, 1, 2, 3, 4, 5, 1, 1, 2, 3, 4, 5, 1, 2, 3, 4, 5, 1, 5, 3, 1, 2, 3, 4, 5, 1, 2, 4, 1, 2, 3, 4, 5, 1, 2, 3, 4, 5, 1, 2, 3, 4, 5, 1, 2, 3, 4, 5, 1, 2, 3, 4, 5, 1, 2, 3, 4, 5, 1, 2, 3, 4, 5, 1, 2, 3, 4, 5, 1, 2, 3, 4, 5, 1, 3, 5, 1, 2, 3, 4, 5, 1, 2, 3, 4, 2, 1, 2, 3, 4, 5, 1, 2, 3, 4, 5, 1, 2, 3, 4, 5, 1, 2, 3, 4, 5, 2, 4, 1, 2, 3, 5, 1, 2, 3, 4, 5, 1, 2, 3, 5, 1, 2, 3, 4, 5, 1, 2, 3, 4, 5, 1, 2, 3, 4, 5, 1, 2, 4, 1, 2, 3, 4, 5, 1, 3, 1, 2, 3, 4, 5, 1, 2, 3, 4, 5, 1, 3, 1, 2, 3, 4, 5, 1, 2, 3, 4, 5, 3, 1, 2, 3, 4, 5, 1, 2, 3, 4, 5, 1, 2, 3, 4, 5, 3, 1, 2, 3, 4, 5, 1, 2, 3, 5, 1, 2, 3, 4, 5, 1, 3, 4, 1, 2, 3, 4, 5, 1, 2, 3, 2, 1, 2, 3, 1, 2, 1, 2, 3, 4, 5, 1, 2, 3, 4, 5, 1, 3, 1, 2, 3, 4, 5, 1, 2, 3, 4, 5, 1, 2, 3, 4, 5, 1, 1, 2, 3, 4, 5, 3, 1, 2, 3, 4, 5, 1, 2, 3, 4, 5, 1, 2, 3, 4, 5, 1, 3, 1, 2, 3, 4, 5, 1, 2, 3, 4, 5, 1, 2, 3, 4, 5, 1, 3, 5, 1, 2, 3, 4, 5, 1, 2, 3, 4, 5, 1, 1, 2, 3, 4, 5, 1, 3, 5, 1, 2, 3, 5, 3, 1, 2, 1, 2, 3, 4, 5, 1, 2, 3, 5, 1, 2, 3, 4, 5, 1, 2, 3, 4, 5, 1, 2, 3, 4, 5, 1, 2, 3, 4, 5, 1, 2, 3, 4, 5, 1, 2, 3, 4, 5], \"Freq\": [0.3875174671302645, 0.2946618440159839, 0.09780792301370894, 0.12380749748570752, 0.09656984803885187, 0.4854617295274015, 0.24273086476370076, 0.37114087456732114, 0.37114087456732114, 0.37114087456732114, 0.1772184067203338, 0.3618209137206815, 0.22890710868043115, 0.10337740392019472, 0.12552970476023645, 0.2783831767261636, 0.2783831767261636, 0.2783831767261636, 0.35485914361973814, 0.19503708656962707, 0.2058724802679397, 0.11377163383228246, 0.13273357280432954, 0.2853179101495092, 0.2853179101495092, 0.4229536702248331, 0.21993590851691322, 0.15132342423599585, 0.13722496856183475, 0.06861248428091737, 0.281731408250736, 0.19423718208591118, 0.17323856780635322, 0.20473648922569015, 0.14524041543360927, 0.4482317590349149, 0.23924026402477055, 0.12649485224298213, 0.10999552368954968, 0.07424697849044604, 0.5604708530732022, 0.600018568258346, 0.1200037136516692, 0.1200037136516692, 0.1200037136516692, 0.1200037136516692, 0.18394534610920946, 0.18394534610920946, 0.18394534610920946, 0.3678906922184189, 0.37030779602239966, 0.2839783711828218, 0.14994057998452992, 0.07497028999226496, 0.11813500241205388, 0.3540342553208072, 0.2651215427973168, 0.13579396094496715, 0.15034331390335648, 0.0937624968429535, 0.5217652336597741, 0.5217652336597741, 0.17747087207453494, 0.17747087207453494, 0.35494174414906987, 0.17747087207453494, 0.2626691041583141, 0.2626691041583141, 0.14592728008795228, 0.2626691041583141, 0.08755636805277137, 0.36422847332630565, 0.36422847332630565, 0.36422847332630565, 0.18665314682611675, 0.18665314682611675, 0.18665314682611675, 0.3733062936522335, 0.18665314682611675, 0.2582521719187841, 0.1844658370848458, 0.1844658370848458, 0.11067950225090747, 0.2582521719187841, 0.3203650759809549, 0.23861674624788365, 0.14803075924637227, 0.1568684165148124, 0.13477427334371206, 0.23608941540982598, 0.23608941540982598, 0.35413412311473896, 0.11804470770491299, 0.11804470770491299, 0.5718358990372409, 0.579582307862339, 0.31270098854895945, 0.15635049427447972, 0.15635049427447972, 0.31270098854895945, 0.15635049427447972, 0.6703751926347686, 0.17876671803593833, 0.04469167950898458, 0.04469167950898458, 0.04469167950898458, 0.6485293105972204, 0.07205881228858005, 0.1441176245771601, 0.07205881228858005, 0.07205881228858005, 0.31251790047233347, 0.30926250567574665, 0.20726013538269336, 0.07487408032149656, 0.09549158069987966, 0.20583020306428926, 0.20583020306428926, 0.4116604061285785, 0.34826541839180536, 0.34826541839180536, 0.34826541839180536, 0.21292036744297566, 0.5323009186074391, 0.10646018372148783, 0.10646018372148783, 0.10646018372148783, 0.3680650845216313, 0.3680650845216313, 0.2808823645490231, 0.2808823645490231, 0.5394815185780245, 0.19040524185106747, 0.06346841395035582, 0.12693682790071165, 0.06346841395035582, 0.31151305283868147, 0.2336347896290111, 0.07787826320967037, 0.3893913160483518, 0.07787826320967037, 0.27203706727646093, 0.2076072355530886, 0.22550441103180313, 0.17897175478714536, 0.11812135815951592, 0.5371675500105222, 0.3245169568937608, 0.2676571482072472, 0.1511638816299997, 0.14145610941522907, 0.1137196173730273, 0.14445586478237527, 0.14445586478237527, 0.21668379717356287, 0.14445586478237527, 0.36113966195593816, 0.3238748590371194, 0.3238748590371194, 0.14682326943016077, 0.10363995489187819, 0.10363995489187819, 0.5362866641481949, 0.4055866343210757, 0.13519554477369192, 0.27039108954738383, 0.13519554477369192, 0.25982169085796114, 0.25982169085796114, 0.25982169085796114, 0.27611122975841995, 0.13805561487920998, 0.27611122975841995, 0.27611122975841995, 0.13805561487920998, 0.5492768364624654, 0.22079645438032752, 0.22079645438032752, 0.22079645438032752, 0.40547059477867303, 0.3227214938034336, 0.10757383126781121, 0.07861164592647742, 0.08688655602400136, 0.37588264425648366, 0.37588264425648366, 0.37588264425648366, 0.3032069757896714, 0.23417324469470155, 0.13942106476042926, 0.16649311617022133, 0.15566429560630451, 0.3624275375694827, 0.2188241736268575, 0.18326524541249314, 0.1312945041761145, 0.10257383138758945, 0.3124748891367533, 0.3359105058220098, 0.14061370011153898, 0.14061370011153898, 0.06249497782735066, 0.2528491634898917, 0.12642458174494586, 0.22124301805365526, 0.0948184363087094, 0.2844553089261282, 0.5503340228833281, 0.3709280659057835, 0.3709280659057835, 0.3709280659057835, 0.38848541616844057, 0.2565189961722909, 0.13344918876015133, 0.12455257617614124, 0.0963799696601093, 0.3634695496710208, 0.37182179296883194, 0.37182179296883194, 0.4094538441709399, 0.1824994276876189, 0.17197061455179474, 0.13102523013470074, 0.10411826323203899, 0.29609844006917724, 0.2442812130570712, 0.24798244355793592, 0.09253076252161789, 0.1221406065285356, 0.39815006033630035, 0.2445331079230821, 0.18810239071006316, 0.10659135473570246, 0.0627007969033544, 0.6876159562495472, 0.4008059971783941, 0.23436960851956945, 0.1517175243556633, 0.10076760946010474, 0.11208981277022886, 0.42779791690141056, 0.21200604731397338, 0.13881348336033972, 0.12493213502430574, 0.0971694383522378, 0.5296382659408773, 0.3629682879837654, 0.26814114082789603, 0.5362822816557921, 0.26814114082789603, 0.5112682724523129, 0.5112682724523129, 0.25439887715345805, 0.2348297327570382, 0.29353716594629775, 0.0782765775856794, 0.13698401077493894, 0.22707432802112218, 0.45414865604224436, 0.1513828853474148, 0.1513828853474148, 0.0756914426737074, 0.5754030279177546, 0.2733020092838515, 0.19521572091703676, 0.15617257673362941, 0.2733020092838515, 0.11712943255022207, 0.2254112950971634, 0.2254112950971634, 0.2254112950971634, 0.4508225901943268, 0.2254112950971634, 0.24185076386499865, 0.24185076386499865, 0.12092538193249933, 0.36277614579749795, 0.16479596698047916, 0.16479596698047916, 0.3295919339609583, 0.3295919339609583, 0.175090467863082, 0.5252714035892461, 0.175090467863082, 0.175090467863082, 0.2621906629592311, 0.5243813259184622, 0.13109533147961555, 0.13109533147961555, 0.13109533147961555, 0.7140994039733363, 0.5342602627196176, 0.16695633209988048, 0.11686943246991634, 0.11686943246991634, 0.0667825328399522, 0.4338219435489909, 0.184045673020784, 0.13365221493175983, 0.1511803742670726, 0.0964048763442202, 0.2750482537154529, 0.23997498646314683, 0.19936383490784507, 0.1569067219182114, 0.1292173004032329, 0.5051234972984178, 0.2214239988157448, 0.08995349951889632, 0.08303399955590429, 0.09687299948188834, 0.4364558132265232, 0.19966893508310152, 0.13311262338873434, 0.09471475125736867, 0.1369524106018709, 0.5676935899153256, 0.1576926638653682, 0.12615413109229456, 0.09461559831922092, 0.06307706554614728, 0.37622872714577094, 0.26441249704999986, 0.11970914045547257, 0.09734589443631834, 0.14207238647462678, 0.3031188471712817, 0.24249507773702533, 0.12124753886851267, 0.3031188471712817, 0.12124753886851267, 0.31910713713023764, 0.30049255413097375, 0.14625743785135892, 0.13030208099484702, 0.10636904571007921, 0.2151220715842385, 0.20715458745148893, 0.2629269763807359, 0.1513821985222419, 0.16731716678774106, 0.6403286497889158, 0.12806572995778315, 0.06403286497889157, 0.06403286497889157, 0.06403286497889157, 0.48921879929806034, 0.17589889412963966, 0.10443996838947356, 0.1264273301556785, 0.10993680883102479, 0.23866564892212738, 0.22374904586449443, 0.32816526726792516, 0.08949961834579777, 0.13424942751869665, 0.37219763304451325, 0.17311517816023872, 0.22072185215430437, 0.11252486580415516, 0.11685274525816114, 0.2320114437806603, 0.4640228875613206, 0.11600572189033015, 0.11600572189033015, 0.11600572189033015, 0.11433976231311048, 0.3430192869393314, 0.11433976231311048, 0.11433976231311048, 0.3430192869393314, 0.49408222430874266, 0.13675490137116983, 0.18969228254710654, 0.074994623332577, 0.1036690381362094, 0.5745381552991737, 0.3178183967352416, 0.1589091983676208, 0.1589091983676208, 0.3178183967352416, 0.369608232580694, 0.369608232580694, 0.27499521335756305, 0.0999982594027502, 0.47499173216306345, 0.0499991297013751, 0.0999982594027502, 0.5418895194811103, 0.42055796648584765, 0.21434889904762558, 0.1478736075708303, 0.08818150910187128, 0.12752402854732153, 0.28573128406511333, 0.16403092233367617, 0.1111177215808774, 0.2063614829359152, 0.23281808331231457, 0.277812269920012, 0.09260408997333734, 0.277812269920012, 0.09260408997333734, 0.277812269920012, 0.5588975208396744, 0.5558157756654544, 0.20911565369780033, 0.20911565369780033, 0.41823130739560066, 0.20911565369780033, 0.581673467773806, 0.193891155924602, 0.096945577962301, 0.096945577962301, 0.096945577962301, 0.11641763420192942, 0.11641763420192942, 0.3492529026057883, 0.3492529026057883, 0.3693611569321884, 0.3693611569321884, 0.3693611569321884, 0.5325933376492271, 0.17753111254974238, 0.08069596024988289, 0.08069596024988289, 0.12911353639981263, 0.2860385347650315, 0.2860385347650315, 0.2860385347650315, 0.1814871457138272, 0.5444614371414817, 0.1814871457138272, 0.1814871457138272, 0.3527174801450836, 0.3327523397595128, 0.07320551474709282, 0.20630645065089795, 0.03993028077114154, 0.5677871661206406, 0.363538769453302, 0.35851819273862207, 0.19471246674597578, 0.21325651119797348, 0.11744561486265205, 0.11744561486265205, 0.2805303625657707, 0.2805303625657707, 0.2805303625657707, 0.2338895200677255, 0.5067606268134053, 0.07796317335590851, 0.07796317335590851, 0.07796317335590851, 0.35505865410376675, 0.24499047133159904, 0.1739787405108457, 0.09349877891399191, 0.1337387597124188, 0.36183840185126026, 0.36733975640898875, 0.1864112196702331, 0.15899780501284588, 0.1864112196702331, 0.098688292766594, 0.23493777979366678, 0.17620333484525008, 0.17620333484525008, 0.058734444948416696, 0.35240666969050016, 0.26472664713389826, 0.5294532942677965, 0.5387529377310085, 0.532749791411149, 0.29044763286688574, 0.29044763286688574, 0.29044763286688574, 0.23360305267243134, 0.4672061053448627, 0.11680152633621567, 0.11680152633621567, 0.11680152633621567, 0.529444773908329, 0.3461194518396228, 0.22232490337143654, 0.169270096885071, 0.1515851613896158, 0.11116245168571827, 0.6075557610029176, 0.12151115220058353, 0.12151115220058353, 0.12151115220058353, 0.12151115220058353, 0.3445771336625172, 0.31641006551571743, 0.14271314527711884, 0.09764583624223921, 0.09952364078535919, 0.4196221382338675, 0.21650297938895605, 0.14564745886166133, 0.12439080270347293, 0.09368674380831189, 0.6399756671272842, 0.15999391678182104, 0.07999695839091052, 0.07999695839091052, 0.07999695839091052, 0.4423772777625695, 0.19105995385094365, 0.132272275742961, 0.12345412402676359, 0.11022689645246748, 0.21960848110856562, 0.21960848110856562, 0.21960848110856562, 0.43921696221713125, 0.2810867193054455, 0.3262613706223921, 0.16062098246025455, 0.13552395395083977, 0.1003881140376591, 0.5755264979450343, 0.5680323892901954, 0.4142631748693068, 0.23937376849759476, 0.12603761688240703, 0.12994576004155142, 0.08988729266032129, 0.26922425488198143, 0.06730606372049536, 0.06730606372049536, 0.33653031860247673, 0.20191819116148604, 0.7232169871835034, 0.2410723290611678, 0.18106141842256174, 0.18106141842256174, 0.060353806140853915, 0.4828304491268313, 0.060353806140853915, 0.26825395359799, 0.17883596906532664, 0.17883596906532664, 0.26825395359799, 0.08941798453266332, 0.205802657996648, 0.205802657996648, 0.411605315993296, 0.4117132863800667, 0.2139416473032371, 0.14801776761096053, 0.1144339043714989, 0.11194621079820545, 0.5724089860986771, 0.36844125264758226, 0.36844125264758226, 0.36844125264758226, 0.32832844256952665, 0.3041866453217673, 0.08932464981670944, 0.140022424037004, 0.13760824431222807, 0.7549086288394202, 0.08387873653771336, 0.08387873653771336, 0.6527304901736332, 0.3137625768291874, 0.24664326271366535, 0.20054927591143937, 0.09623130578008583, 0.14313395901743858, 0.43646207526297987, 0.196025072398812, 0.09954398207752171, 0.13017289963983608, 0.1378301290304147, 0.3564398006989286, 0.5777814277433653, 0.19259380924778843, 0.19259380924778843, 0.19259380924778843, 0.34245060944276523, 0.28923193365098415, 0.17238223245598655, 0.0566894589955929, 0.13767440041786846, 0.45592454253409703, 0.18120077972508986, 0.14612966106862085, 0.11105854241215185, 0.10521335596940701, 0.3824445561264625, 0.21831210078885566, 0.18325468314392993, 0.12110744277337979, 0.09401762004775537, 0.45004035237359685, 0.19483454279588644, 0.09055690017273596, 0.18934624581572063, 0.07546408347727997, 0.153907173522228, 0.461721520566684, 0.153907173522228, 0.153907173522228, 0.4848560645415361, 0.3523229110518203, 0.2244637901055952, 0.15343094513547012, 0.10228729675698009, 0.16763751412949515, 0.37116758629944036, 0.17011847705391017, 0.26291037362877023, 0.1082572126706701, 0.07732658047905007, 0.0979212481944735, 0.24480312048618375, 0.0979212481944735, 0.5385668650696043, 0.30236359348388275, 0.1860699036823894, 0.23923273330592923, 0.0930349518411947, 0.17610187312797568, 0.5745225727531412, 0.36986794172018717, 0.23705172628430177, 0.20090554107073802, 0.07649541521940234, 0.11600403626678597, 0.2893841170934839, 0.2893841170934839, 0.6143762598908399, 0.1602720677976104, 0.0801360338988052, 0.0801360338988052, 0.0801360338988052, 0.6051172236403352, 0.12102344472806703, 0.12102344472806703, 0.12102344472806703, 0.12102344472806703, 0.39191137627328637, 0.39191137627328637, 0.5720117069930242, 0.3801232969019375, 0.3801232969019375, 0.3801232969019375, 0.554094248893224, 0.36210057754531194, 0.22401137424413364, 0.13808920330117827, 0.17798163981040757, 0.098196766791949, 0.21482000433011736, 0.4296400086602347, 0.21482000433011736, 0.21482000433011736, 0.35121316350718523, 0.21378192561306925, 0.1527013754379066, 0.11910707284156716, 0.16491748547293913, 0.5530691923577685, 0.13826729808944213, 0.13826729808944213, 0.13826729808944213, 0.2854840969136893, 0.2854840969136893, 0.48336553601664506, 0.5093680728904186, 0.5093680728904186, 0.5309049874978734, 0.26378705035372485, 0.5275741007074497, 0.31378006040203815, 0.2302558716619273, 0.13092980937639004, 0.17607801950617968, 0.14898909342830588, 0.375084899799468, 0.20794180409935417, 0.15661439675837435, 0.134240911507178, 0.125028299933156, 0.21981000588091087, 0.10990500294045544, 0.32971500882136634, 0.10990500294045544, 0.21981000588091087, 0.179762601280635, 0.539287803841905, 0.11984173418709, 0.059920867093545, 0.11984173418709, 0.5325343273416778, 0.6474636068153541, 0.2912241468333211, 0.17473448809999267, 0.32034656151665325, 0.11648965873332845, 0.11648965873332845, 0.3357591792852484, 0.20722636846511425, 0.23608067293494028, 0.11279409929113814, 0.10754786211480613, 0.5342493987491228, 0.2925072733453627, 0.3113235306950644, 0.17618859154720679, 0.10263413099837287, 0.11631868179815594, 0.5365634642319664, 0.2024235691547349, 0.4048471383094698, 0.15181767686605116, 0.10121178457736744, 0.10121178457736744, 0.2980769670846422, 0.32399670335287195, 0.17711819783290333, 0.12095876925173886, 0.07775920880468927, 0.28924706345590123, 0.2561271706937751, 0.16118347810901365, 0.16339147095982207, 0.13027157819769597, 0.3322561979395355, 0.21207842421672476, 0.16259345856615565, 0.09896993130113822, 0.19793986260227645, 0.7225260068292308, 0.24084200227641028, 0.6012630750055612, 0.12025261500111224, 0.12025261500111224, 0.12025261500111224, 0.12025261500111224, 0.4848855046522341, 0.24244275232611706, 0.24244275232611706, 0.3195362693701224, 0.24068965744762466, 0.2157907273668359, 0.13486920460427243, 0.08922116612282638, 0.36117736075491513, 0.32222686106565956, 0.10504831734374982, 0.11094990820575824, 0.10032704465414309, 0.5273698092640723, 0.3806281140687448, 0.2014543920802869, 0.14575271685071448, 0.1206869629974069, 0.15225124562749792, 0.3442590266536584, 0.20293163676426176, 0.15582250680112958, 0.1268322729776636, 0.17031762371286255, 0.3291045217786155, 0.29567984378547485, 0.12341419566698081, 0.14912548643093515, 0.10284516305581734, 0.3582888000928833, 0.2565180514283678, 0.11710606695642878, 0.13383550509306144, 0.13383550509306144, 0.2787137502945178, 0.2787137502945178, 0.2787137502945178, 0.5772351305300991, 0.393239749439951, 0.2254403775290924, 0.1537093483152903, 0.13321476853991823, 0.09478743146109567, 0.36137756192134163, 0.19574617937406005, 0.10540178889372465, 0.10540178889372465, 0.2258609762008385, 0.649717772274234, 0.4375522797962139, 0.2264375611396749, 0.131095430133496, 0.1004497451672242, 0.1055573593282695, 0.47474940645779085, 0.18235407665266137, 0.1414816111960304, 0.10375318154375561, 0.09746510993504315, 0.3946150865448302, 0.3946150865448302, 0.5320814544103276, 0.2733265359659973, 0.13666326798299866, 0.409989803948996, 0.04555442266099955, 0.1822176906439982, 0.27709419523179174, 0.27709419523179174, 0.27709419523179174, 0.6077994298874155, 0.12155988597748311, 0.12155988597748311, 0.12155988597748311, 0.12155988597748311, 0.3322660793724627, 0.23686294767145855, 0.1480393422946616, 0.1842267370778011, 0.10033777644415953, 0.4112124923844897, 0.19799120003697654, 0.10008346375495517, 0.12836792090309468, 0.1631795604700356, 0.3112182416260002, 0.28381537758345926, 0.09591002414889313, 0.17811861627651582, 0.13114227791787428, 0.2295901514106889, 0.2751437528810637, 0.207724422704909, 0.14030509252875434, 0.1457715247051993, 0.2726142370660504, 0.33492606268114766, 0.16746303134057383, 0.11294018392736374, 0.11294018392736374, 0.5112227941575147, 0.1773630102179133, 0.12519741897735054, 0.114764300729238, 0.07303182773678782, 0.1982263530954793, 0.1982263530954793, 0.29733952964321897, 0.09911317654773966, 0.1982263530954793, 0.08860053187347097, 0.08860053187347097, 0.3544021274938839, 0.08860053187347097, 0.3544021274938839, 0.2015588742669105, 0.2015588742669105, 0.6046766228007315, 0.37346542603421107, 0.2738746457584214, 0.11570105355569675, 0.14792160011551103, 0.08933878818857598, 0.6826820799342627, 0.13653641598685254, 0.13653641598685254, 0.13653641598685254, 0.5296813359021892, 0.6076197168152205, 0.12152394336304412, 0.12152394336304412, 0.12152394336304412, 0.12152394336304412, 0.12105171529643613, 0.12105171529643613, 0.42368100353752647, 0.060525857648218065, 0.36315514588930836, 0.4526177990986829, 0.1561718439038844, 0.18703214838788548, 0.10847864606497358, 0.09538639567782159, 0.32389489214298084, 0.23441041743681199, 0.17410566274352424, 0.13228139739172792, 0.13519936939301605, 0.5288707290731445, 0.5547170178455721, 0.15231099341091198, 0.45693298023273593, 0.15231099341091198, 0.15231099341091198, 0.3836529632456892, 0.23712431609230483, 0.1654355693667243, 0.09847355319447876, 0.11501711013115118, 0.1551637260030091, 0.46549117800902723, 0.1551637260030091, 0.1551637260030091, 0.33287111911194905, 0.21222350825477973, 0.2136770939277577, 0.1235547822031252, 0.11774043951121342, 0.36295497891823114, 0.23919669097763085, 0.18407745349148114, 0.10087860445578345, 0.1133584318111381, 0.5491904787650436, 0.1372976196912609, 0.1372976196912609, 0.054919047876504354, 0.10983809575300871, 0.2774195595306947, 0.2774195595306947, 0.2774195595306947, 0.2915436956303691, 0.1590238339802013, 0.2915436956303691, 0.13251986165016777, 0.13251986165016777, 0.2563312681482183, 0.2563312681482183, 0.16344953293190057, 0.16344953293190057, 0.16344953293190057, 0.16344953293190057, 0.32689906586380113, 0.4466096714245272, 0.21697635858681483, 0.10668004297185063, 0.12295326986586173, 0.10487190665029383, 0.485051078740986, 0.242525539370493, 0.3157370089830505, 0.3157370089830505, 0.149218175478291, 0.1362426819584396, 0.08217812562572548, 0.45191870626041825, 0.18917527238808207, 0.16290092900084846, 0.09984250487148776, 0.09458763619404104, 0.533825732266588, 0.5906051859339889, 0.09843419765566483, 0.09843419765566483, 0.09843419765566483, 0.09843419765566483, 0.3570777479284171, 0.2634618589584201, 0.13908646361256696, 0.11367643660642493, 0.12705013503071022, 0.1679677362684012, 0.5039032088052036, 0.0839838681342006, 0.0839838681342006, 0.1679677362684012, 0.35666652588478437, 0.3954419853718083, 0.2595846161643159, 0.1091711002560207, 0.15405255258349587, 0.08127181907948207, 0.25058564263469446, 0.12529282131734723, 0.12529282131734723, 0.3758784639520417, 0.3318224454800272, 0.30087527439898837, 0.12035010975959536, 0.14442013171151444, 0.10143794965451608, 0.3677873812924911, 0.3677873812924911, 0.3677873812924911, 0.2654493721105108, 0.1327246860552554, 0.3981740581657661, 0.1327246860552554, 0.1327246860552554, 0.6000985709557024, 0.08572836727938606, 0.2571851018381582, 0.5412583642307853, 0.6765838806130067, 0.13531677612260135, 0.13531677612260135, 0.5766849655064669, 0.19222832183548896, 0.3528199330072296, 0.19893038775939542, 0.15576624701914923, 0.15764294879046428, 0.13324582576336863, 0.31266118631711937, 0.2336369304347705, 0.15289475594628363, 0.17179186061380183, 0.12884389546035138, 0.2564761066980831, 0.5129522133961661, 0.34006519727575846, 0.34660491260798454, 0.12033076211296068, 0.10855927451495366, 0.08436232778571699, 0.3847557250404304, 0.0961889312601076, 0.33666125941037656, 0.1442833968901614, 0.0480944656300538, 0.2575812884702537, 0.30766653900613633, 0.19676348424811044, 0.07155035790840379, 0.16456582318932872, 0.6477989084989033, 0.3973505044409741, 0.2524231465410053, 0.14300779024566457, 0.10077730185097168, 0.10653600481388435, 0.5340130502154904, 0.4122971936843879, 0.22821343136658778, 0.1412149409561206, 0.13617155020768773, 0.08195509966203428, 0.32543288289643263, 0.1084776276321442, 0.32543288289643263, 0.1084776276321442, 0.1084776276321442, 0.2007441577082813, 0.2007441577082813, 0.301116236562422, 0.301116236562422, 0.10037207885414065, 0.5805159906809321, 0.19350533022697736, 0.27340230303022933, 0.27340230303022933, 0.087879311688288, 0.205051727272672, 0.16599425541121068, 0.3610709368743134, 0.24392347735509173, 0.15566169278581513, 0.1139379400803389, 0.12677601783587006, 0.2762374850170247, 0.2762374850170247, 0.13811874250851236, 0.2762374850170247, 0.13811874250851236, 0.48462589138095813, 0.2862873027545299, 0.2862873027545299, 0.2849517881240483, 0.25913400866314457, 0.17881202811811084, 0.11857054270933554, 0.15777531892774485, 0.3167264898201401, 0.1929152256177217, 0.1929152256177217, 0.16700124008698297, 0.1324492593793313, 0.6425679478708313, 0.38701412028511667, 0.1755527968303622, 0.2294155867669506, 0.09974590728997852, 0.1077255798731768, 0.5014710138382366, 0.33431400922549104, 0.16715700461274552, 0.22588594164200457, 0.22588594164200457, 0.11294297082100228, 0.33882891246300684, 0.5352575208488085, 0.35573812933084364, 0.35573812933084364, 0.345346140448613, 0.2520093457327717, 0.12756028611164985, 0.18045113645062663, 0.09955924769689745, 0.1427408206045062, 0.2854816412090124, 0.1427408206045062, 0.2854816412090124, 0.4970457529976541, 0.1656819176658847, 0.12163988891925712, 0.09647301534975564, 0.11744540999100686, 0.3187133012701718, 0.32707299441824184, 0.13480005201263004, 0.09195662462877087, 0.1274853205080687, 0.7296666137177864, 0.06949205844931299, 0.03474602922465649, 0.10423808767396948, 0.03474602922465649, 0.44227169510113584, 0.20665671467523314, 0.1053027845478895, 0.14215875913965081, 0.10267021493419225, 0.6251852404096815, 0.08931217720138307, 0.1339682658020746, 0.0669841329010373, 0.0669841329010373, 0.19311828922697363, 0.19311828922697363, 0.19311828922697363, 0.19311828922697363, 0.28967743384046046], \"Term\": [\"ability\", \"ability\", \"ability\", \"ability\", \"ability\", \"accessory\", \"accessory\", \"accretive\", \"accretive\", \"accretive\", \"agoda\", \"agoda\", \"agoda\", \"agoda\", \"agoda\", \"agrawal\", \"agrawal\", \"agrawal\", \"ai\", \"ai\", \"ai\", \"ai\", \"ai\", \"ajay\", \"ajay\", \"analysis\", \"analysis\", \"analysis\", \"analysis\", \"analysis\", \"analyst\", \"analyst\", \"analyst\", \"analyst\", \"analyst\", \"analyze\", \"analyze\", \"analyze\", \"analyze\", \"analyze\", \"angularjs\", \"angus_anywhere\", \"angus_anywhere\", \"angus_anywhere\", \"angus_anywhere\", \"angus_anywhere\", \"apartment\", \"apartment\", \"apartment\", \"apartment\", \"application\", \"application\", \"application\", \"application\", \"application\", \"apply\", \"apply\", \"apply\", \"apply\", \"apply\", \"ari\", \"ari\", \"askuity\", \"askuity\", \"askuity\", \"askuity\", \"assessment\", \"assessment\", \"assessment\", \"assessment\", \"assessment\", \"assume\", \"assume\", \"assume\", \"atlantic\", \"atlantic\", \"atlantic\", \"atlantic\", \"atlantic\", \"autonomously\", \"autonomously\", \"autonomously\", \"autonomously\", \"autonomously\", \"base\", \"base\", \"base\", \"base\", \"base\", \"bdc\", \"bdc\", \"bdc\", \"bdc\", \"bdc\", \"birkenstocks\", \"blueforce\", \"bottle\", \"bottle\", \"bottle\", \"bottle\", \"bottle\", \"brookfield\", \"brookfield\", \"brookfield\", \"brookfield\", \"brookfield\", \"brp\", \"brp\", \"brp\", \"brp\", \"brp\", \"build\", \"build\", \"build\", \"build\", \"build\", \"buying\", \"buying\", \"buying\", \"calibration\", \"calibration\", \"calibration\", \"canadian_tire\", \"canadian_tire\", \"canadian_tire\", \"canadian_tire\", \"canadian_tire\", \"capreit\", \"capreit\", \"carlo\", \"carlo\", \"catalogue\", \"catalogue\", \"catalogue\", \"catalogue\", \"catalogue\", \"cgi\", \"cgi\", \"cgi\", \"cgi\", \"cgi\", \"challenge\", \"challenge\", \"challenge\", \"challenge\", \"challenge\", \"chapman\", \"client\", \"client\", \"client\", \"client\", \"client\", \"clio\", \"clio\", \"clio\", \"clio\", \"clio\", \"cloud\", \"cloud\", \"cloud\", \"cloud\", \"cloud\", \"clustering\", \"cn\", \"cn\", \"cn\", \"cn\", \"cnns\", \"cnns\", \"cnns\", \"coca_cola\", \"coca_cola\", \"coca_cola\", \"coca_cola\", \"coca_cola\", \"codes\", \"coke\", \"coke\", \"coke\", \"community\", \"community\", \"community\", \"community\", \"community\", \"commuter\", \"commuter\", \"commuter\", \"company\", \"company\", \"company\", \"company\", \"company\", \"computer\", \"computer\", \"computer\", \"computer\", \"computer\", \"conduct\", \"conduct\", \"conduct\", \"conduct\", \"conduct\", \"conference\", \"conference\", \"conference\", \"conference\", \"conference\", \"conservation\", \"consumable\", \"consumable\", \"consumable\", \"create\", \"create\", \"create\", \"create\", \"create\", \"crimson\", \"custodian\", \"custodian\", \"customer\", \"customer\", \"customer\", \"customer\", \"customer\", \"deep\", \"deep\", \"deep\", \"deep\", \"deep\", \"design\", \"design\", \"design\", \"design\", \"design\", \"desjardins\", \"develop\", \"develop\", \"develop\", \"develop\", \"develop\", \"development\", \"development\", \"development\", \"development\", \"development\", \"diana\", \"digitalocean\", \"disconnect\", \"disconnect\", \"disconnect\", \"dispute\", \"dispute\", \"distribute\", \"distribute\", \"distribute\", \"distribute\", \"distribute\", \"dq\", \"dq\", \"dq\", \"dq\", \"dq\", \"drawing\", \"drop\", \"drop\", \"drop\", \"drop\", \"drop\", \"earnings\", \"earnings\", \"earnings\", \"earnings\", \"earnings\", \"earth_rangers\", \"earth_rangers\", \"earth_rangers\", \"earth_rangers\", \"economically_valuable\", \"economically_valuable\", \"economically_valuable\", \"economically_valuable\", \"edas\", \"edas\", \"edas\", \"edas\", \"edc\", \"edc\", \"edc\", \"edc\", \"edc\", \"eigen\", \"email\", \"email\", \"email\", \"email\", \"email\", \"employee\", \"employee\", \"employee\", \"employee\", \"employee\", \"employment_type_full\", \"employment_type_full\", \"employment_type_full\", \"employment_type_full\", \"employment_type_full\", \"enable\", \"enable\", \"enable\", \"enable\", \"enable\", \"engineering\", \"engineering\", \"engineering\", \"engineering\", \"engineering\", \"entity\", \"entity\", \"entity\", \"entity\", \"entity\", \"environment\", \"environment\", \"environment\", \"environment\", \"environment\", \"equifax\", \"equifax\", \"equifax\", \"equifax\", \"equifax\", \"etc\", \"etc\", \"etc\", \"etc\", \"etc\", \"every\", \"every\", \"every\", \"every\", \"every\", \"everywhere\", \"everywhere\", \"everywhere\", \"everywhere\", \"everywhere\", \"excel\", \"excel\", \"excel\", \"excel\", \"excel\", \"experimentation\", \"experimentation\", \"experimentation\", \"experimentation\", \"experimentation\", \"expertise\", \"expertise\", \"expertise\", \"expertise\", \"expertise\", \"ey\", \"ey\", \"ey\", \"ey\", \"ey\", \"filing\", \"filing\", \"filing\", \"filing\", \"filing\", \"financial\", \"financial\", \"financial\", \"financial\", \"financial\", \"firewall\", \"flow_cytometry\", \"flow_cytometry\", \"flow_cytometry\", \"flow_cytometry\", \"flows\", \"flows\", \"fraud_detection\", \"fraud_detection\", \"fraud_detection\", \"fraud_detection\", \"fraud_detection\", \"fsoftware\", \"function\", \"function\", \"function\", \"function\", \"function\", \"game\", \"game\", \"game\", \"game\", \"game\", \"gameloft\", \"gameloft\", \"gameloft\", \"gameloft\", \"gameloft\", \"gastown\", \"ged\", \"gen\", \"gen\", \"gen\", \"gen\", \"gender_expression\", \"gender_expression\", \"gender_expression\", \"gender_expression\", \"gender_expression\", \"general_purpose_robots\", \"general_purpose_robots\", \"general_purpose_robots\", \"general_purpose_robots\", \"geographically\", \"geographically\", \"geographically\", \"geotab\", \"geotab\", \"geotab\", \"geotab\", \"geotab\", \"gildert\", \"gildert\", \"gildert\", \"gim\", \"gim\", \"gim\", \"gim\", \"governance\", \"governance\", \"governance\", \"governance\", \"governance\", \"graham\", \"gridos\", \"growth\", \"growth\", \"growth\", \"growth\", \"growth\", \"haptic\", \"haptic\", \"haptic\", \"hbc\", \"hbc\", \"hbc\", \"hbc\", \"hbc\", \"help\", \"help\", \"help\", \"help\", \"help\", \"hexagon\", \"highly\", \"highly\", \"highly\", \"highly\", \"highly\", \"hitachi_abb_power_grids\", \"hitachi_abb_power_grids\", \"hitachi_abb_power_grids\", \"hitachi_abb_power_grids\", \"hitachi_abb_power_grids\", \"hudson\", \"hudson\", \"iccv\", \"icra\", \"ieso\", \"ieso\", \"ieso\", \"igloo\", \"igloo\", \"igloo\", \"igloo\", \"igloo\", \"inbound\", \"include\", \"include\", \"include\", \"include\", \"include\", \"indigenous_persons_persons\", \"indigenous_persons_persons\", \"indigenous_persons_persons\", \"indigenous_persons_persons\", \"indigenous_persons_persons\", \"industry\", \"industry\", \"industry\", \"industry\", \"industry\", \"information\", \"information\", \"information\", \"information\", \"information\", \"ing\", \"ing\", \"ing\", \"ing\", \"ing\", \"insight\", \"insight\", \"insight\", \"insight\", \"insight\", \"inspection\", \"inspection\", \"inspection\", \"inspection\", \"issue\", \"issue\", \"issue\", \"issue\", \"issue\", \"itron\", \"jeff\", \"job\", \"job\", \"job\", \"job\", \"job\", \"kabam\", \"kabam\", \"kabam\", \"kabam\", \"kabam\", \"karts\", \"karts\", \"killam\", \"killam\", \"killam\", \"killam\", \"killam\", \"kinaxis\", \"kinaxis\", \"kinaxis\", \"kinaxis\", \"kinaxis\", \"klue\", \"klue\", \"klue\", \"knowledge\", \"knowledge\", \"knowledge\", \"knowledge\", \"knowledge\", \"kyz\", \"landlord\", \"landlord\", \"landlord\", \"large\", \"large\", \"large\", \"large\", \"large\", \"laurentian_bank\", \"laurentian_bank\", \"laurentian_bank\", \"lbcfg\", \"learn\", \"learn\", \"learn\", \"learn\", \"learn\", \"level\", \"level\", \"level\", \"level\", \"level\", \"logikk\", \"lumino\", \"lumino\", \"lumino\", \"lumino\", \"machine\", \"machine\", \"machine\", \"machine\", \"machine\", \"maintain\", \"maintain\", \"maintain\", \"maintain\", \"maintain\", \"make\", \"make\", \"make\", \"make\", \"make\", \"management\", \"management\", \"management\", \"management\", \"management\", \"manages\", \"manages\", \"manages\", \"manages\", \"marche\", \"market\", \"market\", \"market\", \"market\", \"market\", \"math\", \"math\", \"math\", \"math\", \"math\", \"meter\", \"meter\", \"meter\", \"meter\", \"ml\", \"ml\", \"ml\", \"ml\", \"ml\", \"modbus\", \"model\", \"model\", \"model\", \"model\", \"model\", \"monte\", \"monte\", \"mozilla\", \"mozilla\", \"mozilla\", \"mozilla\", \"mozilla\", \"mozilla_mozilla_exists\", \"mozilla_mozilla_exists\", \"mozilla_mozilla_exists\", \"mozilla_mozilla_exists\", \"mozilla_mozilla_exists\", \"msp\", \"msp\", \"mtr\", \"mv\", \"mv\", \"mv\", \"ndt\", \"need\", \"need\", \"need\", \"need\", \"need\", \"netreveal\", \"netreveal\", \"netreveal\", \"netreveal\", \"new\", \"new\", \"new\", \"new\", \"new\", \"nielseniq_precima\", \"nielseniq_precima\", \"nielseniq_precima\", \"nielseniq_precima\", \"norton\", \"norton\", \"nv\", \"obsi\", \"obsi\", \"ocean\", \"oma\", \"oma\", \"one\", \"one\", \"one\", \"one\", \"one\", \"opportunity\", \"opportunity\", \"opportunity\", \"opportunity\", \"opportunity\", \"opus_one\", \"opus_one\", \"opus_one\", \"opus_one\", \"opus_one\", \"oxford\", \"oxford\", \"oxford\", \"oxford\", \"oxford\", \"pack\", \"pan\", \"panda\", \"panda\", \"panda\", \"panda\", \"panda\", \"partner\", \"partner\", \"partner\", \"partner\", \"partner\", \"pca\", \"people\", \"people\", \"people\", \"people\", \"people\", \"perceptive\", \"phsa\", \"phsa\", \"phsa\", \"phsa\", \"phsa\", \"pipeline\", \"pipeline\", \"pipeline\", \"pipeline\", \"pipeline\", \"platform\", \"platform\", \"platform\", \"platform\", \"platform\", \"power\", \"power\", \"power\", \"power\", \"power\", \"powersports\", \"powersports\", \"predisposition_medical_condition\", \"predisposition_medical_condition\", \"predisposition_medical_condition\", \"predisposition_medical_condition\", \"predisposition_medical_condition\", \"printouts\", \"printouts\", \"printouts\", \"problem\", \"problem\", \"problem\", \"problem\", \"problem\", \"process\", \"process\", \"process\", \"process\", \"process\", \"processor\", \"product\", \"product\", \"product\", \"product\", \"product\", \"professional\", \"professional\", \"professional\", \"professional\", \"professional\", \"program\", \"program\", \"program\", \"program\", \"program\", \"project\", \"project\", \"project\", \"project\", \"project\", \"proprioceptive\", \"proprioceptive\", \"proprioceptive\", \"protocols\", \"provide\", \"provide\", \"provide\", \"provide\", \"provide\", \"provider\", \"provider\", \"provider\", \"provider\", \"provider\", \"proximity\", \"python\", \"python\", \"python\", \"python\", \"python\", \"qualification\", \"qualification\", \"qualification\", \"qualification\", \"qualification\", \"raster\", \"raster\", \"rationalize\", \"realtor_com\", \"realtor_com\", \"realtor_com\", \"realtor_com\", \"realtor_com\", \"reit\", \"reit\", \"reit\", \"religious_grooming\", \"religious_grooming\", \"religious_grooming\", \"religious_grooming\", \"religious_grooming\", \"report\", \"report\", \"report\", \"report\", \"report\", \"require\", \"require\", \"require\", \"require\", \"require\", \"requirement\", \"requirement\", \"requirement\", \"requirement\", \"requirement\", \"research\", \"research\", \"research\", \"research\", \"research\", \"responsible\", \"responsible\", \"responsible\", \"responsible\", \"responsible\", \"revenue\", \"revenue\", \"revenue\", \"revenue\", \"revenue\", \"rise\", \"rise\", \"rise\", \"rise\", \"rise\", \"robot\", \"robot\", \"robot\", \"robot\", \"robot\", \"rodan\", \"rodan\", \"rodan\", \"role\", \"role\", \"role\", \"role\", \"role\", \"rotax\", \"rotax\", \"rotax\", \"rotax\", \"samantha\", \"san_francisco_ca_portland\", \"san_francisco_ca_portland\", \"san_francisco_ca_portland\", \"san_francisco_ca_portland\", \"san_francisco_ca_portland\", \"sanctuary\", \"sanctuary\", \"sanctuary\", \"sanctuary\", \"sanctuary\", \"science\", \"science\", \"science\", \"science\", \"science\", \"service\", \"service\", \"service\", \"service\", \"service\", \"shair\", \"shepell\", \"simulation_scenario\", \"simulation_scenario\", \"simulation_scenario\", \"simulation_scenario\", \"skill\", \"skill\", \"skill\", \"skill\", \"skill\", \"slq\", \"slq\", \"slq\", \"slq\", \"software\", \"software\", \"software\", \"software\", \"software\", \"solution\", \"solution\", \"solution\", \"solution\", \"solution\", \"soti\", \"soti\", \"soti\", \"soti\", \"soti\", \"spa\", \"spa\", \"spa\", \"special\", \"special\", \"special\", \"special\", \"special\", \"specifics\", \"specifics\", \"sprout_therapy\", \"sprout_therapy\", \"sprout_therapy\", \"sprout_therapy\", \"sprout_therapy\", \"sql\", \"sql\", \"sql\", \"sql\", \"sql\", \"stacer\", \"stacer\", \"stakeholder\", \"stakeholder\", \"stakeholder\", \"stakeholder\", \"stakeholder\", \"statistic\", \"statistic\", \"statistic\", \"statistic\", \"statistic\", \"stephenson\", \"stored_procedures\", \"stored_procedures\", \"stored_procedures\", \"stored_procedures\", \"stored_procedures\", \"strong\", \"strong\", \"strong\", \"strong\", \"strong\", \"stryker\", \"stryker\", \"stryker\", \"stryker\", \"stryker\", \"super\", \"support\", \"support\", \"support\", \"support\", \"support\", \"symon\", \"symon\", \"symon\", \"symon\", \"system\", \"system\", \"system\", \"system\", \"system\", \"talentneuron\", \"talentneuron\", \"talentneuron\", \"tally\", \"tally\", \"tally\", \"tally\", \"tally\", \"tangerine\", \"tangerine\", \"tangerine\", \"tata\", \"tbsm\", \"tbsm\", \"tbsm\", \"tds\", \"tds\", \"team\", \"team\", \"team\", \"team\", \"team\", \"technical\", \"technical\", \"technical\", \"technical\", \"technical\", \"technics\", \"technics\", \"technology\", \"technology\", \"technology\", \"technology\", \"technology\", \"telus\", \"telus\", \"telus\", \"telus\", \"telus\", \"test\", \"test\", \"test\", \"test\", \"test\", \"textual\", \"time\", \"time\", \"time\", \"time\", \"time\", \"tinkerpop\", \"tool\", \"tool\", \"tool\", \"tool\", \"tool\", \"toolkits\", \"toolkits\", \"toolkits\", \"toolkits\", \"toolkits\", \"top_hat\", \"top_hat\", \"top_hat\", \"top_hat\", \"top_hat\", \"town\", \"town\", \"train\", \"train\", \"train\", \"train\", \"train\", \"u\", \"u\", \"u\", \"u\", \"u\", \"un\", \"un\", \"un\", \"un\", \"un\", \"unposting\", \"unsolved\", \"unsolved\", \"use\", \"use\", \"use\", \"use\", \"use\", \"user\", \"user\", \"user\", \"user\", \"user\", \"vacant\", \"value\", \"value\", \"value\", \"value\", \"value\", \"vancity\", \"vancity\", \"vancity\", \"varicent\", \"varicent\", \"varicent\", \"varicent\", \"vested\", \"visier\", \"visier\", \"visualization\", \"visualization\", \"visualization\", \"visualization\", \"visualization\", \"visualping\", \"visualping\", \"visualping\", \"visualping\", \"well\", \"well\", \"well\", \"well\", \"well\", \"work\", \"work\", \"work\", \"work\", \"work\", \"wysdom\", \"wysdom\", \"wysdom\", \"wysdom\", \"wysdom\", \"year\", \"year\", \"year\", \"year\", \"year\", \"yelp\", \"yelp\", \"yelp\", \"yelp\", \"yelp\", \"zynga\", \"zynga\", \"zynga\", \"zynga\", \"zynga\"]}, \"R\": 30, \"lambda.step\": 0.01, \"plot.opts\": {\"xlab\": \"PC1\", \"ylab\": \"PC2\"}, \"topic.order\": [4, 2, 5, 1, 3]};\n",
       "\n",
       "function LDAvis_load_lib(url, callback){\n",
       "  var s = document.createElement('script');\n",
       "  s.src = url;\n",
       "  s.async = true;\n",
       "  s.onreadystatechange = s.onload = callback;\n",
       "  s.onerror = function(){console.warn(\"failed to load library \" + url);};\n",
       "  document.getElementsByTagName(\"head\")[0].appendChild(s);\n",
       "}\n",
       "\n",
       "if(typeof(LDAvis) !== \"undefined\"){\n",
       "   // already loaded: just create the visualization\n",
       "   !function(LDAvis){\n",
       "       new LDAvis(\"#\" + \"ldavis_el1285218407724063924814032498\", ldavis_el1285218407724063924814032498_data);\n",
       "   }(LDAvis);\n",
       "}else if(typeof define === \"function\" && define.amd){\n",
       "   // require.js is available: use it to load d3/LDAvis\n",
       "   require.config({paths: {d3: \"https://d3js.org/d3.v5\"}});\n",
       "   require([\"d3\"], function(d3){\n",
       "      window.d3 = d3;\n",
       "      LDAvis_load_lib(\"https://cdn.jsdelivr.net/gh/bmabey/pyLDAvis@3.2.2/pyLDAvis/js/ldavis.v3.0.0.js\", function(){\n",
       "        new LDAvis(\"#\" + \"ldavis_el1285218407724063924814032498\", ldavis_el1285218407724063924814032498_data);\n",
       "      });\n",
       "    });\n",
       "}else{\n",
       "    // require.js not available: dynamically load d3 & LDAvis\n",
       "    LDAvis_load_lib(\"https://d3js.org/d3.v5.js\", function(){\n",
       "         LDAvis_load_lib(\"https://cdn.jsdelivr.net/gh/bmabey/pyLDAvis@3.2.2/pyLDAvis/js/ldavis.v3.0.0.js\", function(){\n",
       "                 new LDAvis(\"#\" + \"ldavis_el1285218407724063924814032498\", ldavis_el1285218407724063924814032498_data);\n",
       "            })\n",
       "         });\n",
       "}\n",
       "</script>"
      ],
      "text/plain": [
       "PreparedData(topic_coordinates=              x         y  topics  cluster       Freq\n",
       "topic                                                \n",
       "3      0.004010 -0.007090       1        1  36.142803\n",
       "1      0.002421 -0.000110       2        1  23.867564\n",
       "4     -0.007832 -0.002381       3        1  15.560660\n",
       "0      0.006628  0.005072       4        1  12.698386\n",
       "2     -0.005227  0.004510       5        1  11.730587, topic_info=         Term         Freq        Total Category  logprob  loglift\n",
       "113     learn  1236.000000  1236.000000  Default  30.0000  30.0000\n",
       "217       use  1045.000000  1045.000000  Default  29.0000  29.0000\n",
       "165   product  1077.000000  1077.000000  Default  28.0000  28.0000\n",
       "342   service  1028.000000  1028.000000  Default  27.0000  27.0000\n",
       "251   company   738.000000   738.000000  Default  26.0000  26.0000\n",
       "..        ...          ...          ...      ...      ...      ...\n",
       "292   include    88.008140   791.634213   Topic5  -5.6306  -0.0537\n",
       "183   science   101.577845  1069.334880   Topic5  -5.4872  -0.2110\n",
       "638  customer    88.720544   854.797201   Topic5  -5.6225  -0.1224\n",
       "109       job    91.866651  1023.503960   Topic5  -5.5877  -0.2677\n",
       "496     build    88.464789   921.547212   Topic5  -5.6254  -0.2005\n",
       "\n",
       "[448 rows x 6 columns], token_table=      Topic      Freq     Term\n",
       "term                          \n",
       "0         1  0.387517  ability\n",
       "0         2  0.294662  ability\n",
       "0         3  0.097808  ability\n",
       "0         4  0.123807  ability\n",
       "0         5  0.096570  ability\n",
       "...     ...       ...      ...\n",
       "3496      1  0.193118    zynga\n",
       "3496      2  0.193118    zynga\n",
       "3496      3  0.193118    zynga\n",
       "3496      4  0.193118    zynga\n",
       "3496      5  0.289677    zynga\n",
       "\n",
       "[1135 rows x 3 columns], R=30, lambda_step=0.01, plot_opts={'xlab': 'PC1', 'ylab': 'PC2'}, topic_order=[4, 2, 5, 1, 3])"
      ]
     },
     "execution_count": 19,
     "metadata": {},
     "output_type": "execute_result"
    }
   ],
   "source": [
    "pyLDAvis.enable_notebook()\n",
    "vis = pyLDAvis.gensim.prepare(model_list[3], corpus, id2word)\n",
    "vis"
   ]
  },
  {
   "cell_type": "code",
   "execution_count": 20,
   "metadata": {
    "ExecuteTime": {
     "end_time": "2021-03-25T19:32:12.061191Z",
     "start_time": "2021-03-25T19:32:11.963305Z"
    }
   },
   "outputs": [
    {
     "name": "stderr",
     "output_type": "stream",
     "text": [
      "c:\\users\\matan\\github\\linkedin-nlp\\venv\\lib\\site-packages\\ipykernel\\ipkernel.py:283: DeprecationWarning: `should_run_async` will not call `transform_cell` automatically in the future. Please pass the result to `transformed_cell` argument and any exception that happen during thetransform in `preprocessing_exc_tuple` in IPython 7.17 and above.\n",
      "  and should_run_async(code)\n"
     ]
    },
    {
     "data": {
      "text/plain": [
       "(8636, 630)"
      ]
     },
     "execution_count": 20,
     "metadata": {},
     "output_type": "execute_result"
    }
   ],
   "source": [
    "dense_corpus.shape"
   ]
  },
  {
   "cell_type": "code",
   "execution_count": null,
   "metadata": {},
   "outputs": [],
   "source": []
  }
 ],
 "metadata": {
  "kernelspec": {
   "display_name": "Python 3",
   "language": "python",
   "name": "python3"
  },
  "language_info": {
   "codemirror_mode": {
    "name": "ipython",
    "version": 3
   },
   "file_extension": ".py",
   "mimetype": "text/x-python",
   "name": "python",
   "nbconvert_exporter": "python",
   "pygments_lexer": "ipython3",
   "version": "3.7.0"
  },
  "toc": {
   "base_numbering": 1,
   "nav_menu": {},
   "number_sections": true,
   "sideBar": true,
   "skip_h1_title": false,
   "title_cell": "Table of Contents",
   "title_sidebar": "Contents",
   "toc_cell": false,
   "toc_position": {},
   "toc_section_display": true,
   "toc_window_display": false
  }
 },
 "nbformat": 4,
 "nbformat_minor": 2
}
